{
 "cells": [
  {
   "cell_type": "markdown",
   "metadata": {
    "collapsed": true
   },
   "source": [
    "# SLO Twitter Data Analysis"
   ]
  },
  {
   "cell_type": "markdown",
   "metadata": {},
   "source": [
    "### Joseph Jinn and Keith VanderLinden"
   ]
  },
  {
   "cell_type": "markdown",
   "metadata": {},
   "source": [
    "<span style=\"font-family:Papyrus; font-size:1.25em;\">\n",
    "    \n",
    "</p>This Jupyter Notebook provides an analysis of Twitter data obtained by CSIRO Data61 from a period of time covering 2012 through 2018.  The Twitter API was utilized to extract the raw Tweet data.  The first sections below cover the structure of the raw Tweet data with explanations of the various attributes (fields) and their associated values.  The latter sections showcase our analysis of the raw Tweet dataset as well as one of our preprocessed dataset in CSV format.<br>\n",
    "\n",
    "\n",
    "TODO - text length statistics, whether user has description or not; is null equal = to empty string or not?\n",
    "\n",
    "JSON --> CSV --> plot/describe data\n",
    "\n",
    "fields: timestamp, tweet text, \"retweet\", in_reply_to, numeric value/remove string representation., CSV new derived column - Twitter URL that takes you directly to the Tweet:\n",
    "\n",
    "flatten out the \"user\" data structure.\n",
    "\n",
    "how long the tweet\n",
    "whose tweeting them.\n",
    "\n",
    "</span>"
   ]
  },
  {
   "cell_type": "markdown",
   "metadata": {},
   "source": [
    "## Raw Json Twitter Dataset Tweet Structure:"
   ]
  },
  {
   "cell_type": "markdown",
   "metadata": {},
   "source": [
    "<span style=\"font-family:Papyrus; font-size:1.25em;\">\n",
    "\n",
    "We utilize a single sample from the raw Twitter JSON dataset file in order to provide example values in the tables below.  Every Tweet in our raw dataset contains three JSON objects: the \"tweet\"; the \"user\"; and the \"entities\" object.  The \"tweet\" object encapsulates the other objects.  There may also be a \"extended_entities\" and \"geo\" object present in some Tweets depending on whether the Tweet contains native media such as photos, videos, etc., and whether they are geo-tagged.According to the Twitter API Documentation:\n",
    "\n",
    "\"Tweets are the basic atomic building block of all things Twitter. Tweets are also known as “status updates.” The Tweet object has a long list of ‘root-level’ attributes, including fundamental attributes such as id, created_at, and text. Tweet objects are also the ‘parent’ object to several child objects. Tweet child objects include user, entities, and extended_entities. Tweets that are geo-tagged will have a place child object.\" (\"Tweet object - Twitter Developers\")  Refer to the link below for further introductory information.<br>\n",
    "\n",
    "https://developer.twitter.com/en/docs/tweets/data-dictionary/overview/tweet-object\n",
    "\n",
    "</span>"
   ]
  },
  {
   "cell_type": "markdown",
   "metadata": {},
   "source": [
    "### Main Tweet Object:"
   ]
  },
  {
   "cell_type": "markdown",
   "metadata": {},
   "source": [
    "<span style=\"font-family:Papyrus; font-size:1.25em;\">\n",
    "\n",
    "The main Tweet object.  This contains all other sub-objects.  Any attribute without an example value indicates that the field was not present in the sample we are utilizing.  There are also some attributes present in our sample in the main Tweet object that are no longer present in the current up-to-date Tweet object from the Twitter API Documentation.  We will create a separate table for them.<br>\n",
    "\n",
    "Use N/A instead of blank.\n",
    "\n",
    "</span>"
   ]
  },
  {
   "cell_type": "markdown",
   "metadata": {},
   "source": [
    "<style type=\"text/css\">\n",
    ".tg  {border-collapse:collapse;border-spacing:0;}\n",
    ".tg td{font-family:Arial, sans-serif;font-size:14px;padding:10px 5px;border-style:solid;border-width:1px;overflow:hidden;word-break:normal;border-color:black;}\n",
    ".tg th{font-family:Arial, sans-serif;font-size:14px;font-weight:normal;padding:10px 5px;border-style:solid;border-width:1px;overflow:hidden;word-break:normal;border-color:black;}\n",
    ".tg .tg-xldj{border-color:inherit;text-align:left}\n",
    ".tg .tg-0pky{border-color:inherit;text-align:left;vertical-align:top}\n",
    "</style>\n",
    "<table class=\"tg\">\n",
    "  <tr>\n",
    "    <th class=\"tg-xldj\">Attribute</th>\n",
    "    <th class=\"tg-xldj\">Value</th>\n",
    "    <th class=\"tg-xldj\">Description</th>\n",
    "  </tr>\n",
    "  <tr>\n",
    "    <td class=\"tg-xldj\">created_at</td>\n",
    "    <td class=\"tg-xldj\">\"Sat Feb 23 03:40:21 +0000 2013\"</td>\n",
    "    <td class=\"tg-xldj\">UTC time when this Tweet was created.</td>\n",
    "  </tr>\n",
    "  <tr>\n",
    "    <td class=\"tg-xldj\">id</td>\n",
    "    <td class=\"tg-xldj\">305160140833816576</td>\n",
    "    <td class=\"tg-xldj\">The integer representation of the unique identifier for this Tweet.</td>\n",
    "  </tr>\n",
    "  <tr>\n",
    "    <td class=\"tg-xldj\">id_str</td>\n",
    "    <td class=\"tg-xldj\">\"305160140833816576\"</td>\n",
    "    <td class=\"tg-xldj\">The string representation of the unique identifier for this Tweet.</td>\n",
    "  </tr>\n",
    "  <tr>\n",
    "    <td class=\"tg-xldj\">text</td>\n",
    "    <td class=\"tg-xldj\"></td>\n",
    "    <td class=\"tg-xldj\">The actual UTF-8 text of the status update.</td>\n",
    "  </tr>\n",
    "  <tr>\n",
    "    <td class=\"tg-xldj\">source</td>\n",
    "    <td class=\"tg-xldj\">\"&lt;a href=\\\"http:\\/\\/twitter.com\\/download\\/iphone\\\" rel=\\\"nofollow\\\"&gt;Twitter for iPhone&lt;\\/a&gt;\"</td>\n",
    "    <td class=\"tg-xldj\">Utility used to post the Tweet, as an HTML-formatted string.</td>\n",
    "  </tr>\n",
    "  <tr>\n",
    "    <td class=\"tg-xldj\">truncated</td>\n",
    "    <td class=\"tg-xldj\">false</td>\n",
    "    <td class=\"tg-xldj\">Indicates whether the value of the text parameter was truncated, for example, as a result of a retweet exceeding the original Tweet text length limit of 140 characters. <br><br>Truncated text will end in ellipsis, like this ...<br><br>Since Twitter now rejects long Tweets vs truncating them, the large majority of Tweets will have this set to false. <br><br>Note that while native retweets may have their toplevel text property shortened, the original text will be available under the retweeted_status object <br>and the truncated parameter will be set to the value of the original status (in most cases, false).</td>\n",
    "  </tr>\n",
    "  <tr>\n",
    "    <td class=\"tg-xldj\">in_reply_to_status_id</td>\n",
    "    <td class=\"tg-xldj\">305159434462691328</td>\n",
    "    <td class=\"tg-xldj\">Nullable. If the represented Tweet is a reply, this field will contain the integer representation of the original Tweet’s ID.</td>\n",
    "  </tr>\n",
    "  <tr>\n",
    "    <td class=\"tg-xldj\">in_reply_to_status_id_str</td>\n",
    "    <td class=\"tg-xldj\">\"305159434462691328\"</td>\n",
    "    <td class=\"tg-xldj\">Nullable. If the represented Tweet is a reply, this field will contain the string representation of the original Tweet’s ID.</td>\n",
    "  </tr>\n",
    "  <tr>\n",
    "    <td class=\"tg-xldj\">in_reply_to_user_id</td>\n",
    "    <td class=\"tg-xldj\">2768501</td>\n",
    "    <td class=\"tg-xldj\">Nullable. If the represented Tweet is a reply, this field will contain the integer representation of the original Tweet’s author ID. This will not necessarily always be the user directly mentioned in the Tweet.</td>\n",
    "  </tr>\n",
    "  <tr>\n",
    "    <td class=\"tg-xldj\">in_reply_to_user_id_str</td>\n",
    "    <td class=\"tg-xldj\">\"2768501\"</td>\n",
    "    <td class=\"tg-xldj\">Nullable. If the represented Tweet is a reply, this field will contain the string representation of the original Tweet’s author ID. This will not necessarily always be the user directly mentioned in the Tweet.</td>\n",
    "  </tr>\n",
    "  <tr>\n",
    "    <td class=\"tg-xldj\">in_reply_to_screen_name</td>\n",
    "    <td class=\"tg-xldj\">\"abcnews\"</td>\n",
    "    <td class=\"tg-xldj\">Nullable. If the represented Tweet is a reply, this field will contain the screen name of the original Tweet’s author.</td>\n",
    "  </tr>\n",
    "  <tr>\n",
    "    <td class=\"tg-xldj\">user</td>\n",
    "    <td class=\"tg-xldj\">Object containing a multitude of attributes.</td>\n",
    "    <td class=\"tg-xldj\">The user who posted this Tweet. See User data dictionary for complete list of attributes.</td>\n",
    "  </tr>\n",
    "  <tr>\n",
    "    <td class=\"tg-xldj\">coordinates</td>\n",
    "    <td class=\"tg-xldj\">Object containing a multitude of attributes.</td>\n",
    "    <td class=\"tg-xldj\">Nullable. Represents the geographic location of this Tweet as reported by the user or client application. The inner coordinates array is formatted as <br><a href=\"http://www.geojson.org/\">geoJSON </a>(longitude first, then latitude).</td>\n",
    "  </tr>\n",
    "  <tr>\n",
    "    <td class=\"tg-xldj\">place</td>\n",
    "    <td class=\"tg-xldj\">Object containing a multitude of attributes.</td>\n",
    "    <td class=\"tg-xldj\">Nullable When present, indicates that the tweet is associated (but not necessarily originating from) a <br><a href=\"https://developer.twitter.com/overview/api/places\">Place </a>.</td>\n",
    "  </tr>\n",
    "  <tr>\n",
    "    <td class=\"tg-xldj\">quoted_status_id</td>\n",
    "    <td class=\"tg-xldj\"></td>\n",
    "    <td class=\"tg-xldj\">This field only surfaces when the Tweet is a quote Tweet. This field contains the integer value Tweet ID of the quoted Tweet.</td>\n",
    "  </tr>\n",
    "  <tr>\n",
    "    <td class=\"tg-xldj\">quoted_status_id_str</td>\n",
    "    <td class=\"tg-xldj\"></td>\n",
    "    <td class=\"tg-xldj\">This field only surfaces when the Tweet is a quote Tweet. This is the string representation Tweet ID of the quoted Tweet.</td>\n",
    "  </tr>\n",
    "  <tr>\n",
    "    <td class=\"tg-xldj\">is_quote_status</td>\n",
    "    <td class=\"tg-xldj\">false</td>\n",
    "    <td class=\"tg-xldj\">Indicates whether this is a Quoted Tweet.</td>\n",
    "  </tr>\n",
    "  <tr>\n",
    "    <td class=\"tg-xldj\">quoted_status</td>\n",
    "    <td class=\"tg-xldj\"></td>\n",
    "    <td class=\"tg-xldj\">This field only surfaces when the Tweet is a quote Tweet. This attribute contains the Tweet object of the original Tweet that was quoted.</td>\n",
    "  </tr>\n",
    "  <tr>\n",
    "    <td class=\"tg-xldj\">retweeted_status</td>\n",
    "    <td class=\"tg-xldj\"></td>\n",
    "    <td class=\"tg-xldj\">Users can amplify the broadcast of Tweets authored by other users by <a href=\"https://developer.twitter.com/rest/reference/post/statuses/retweet/%3Aid\">retweeting</a>. <br><br>Retweets can be distinguished from typical Tweets by the existence of a retweeted_status attribute. <br><br>This attribute contains a representation of the original Tweet that was retweeted. <br><br>Note that retweets of retweets do not show representations of the intermediary retweet, but only the original Tweet. <br>(Users can also <a href=\"https://developer.twitter.com/rest/reference/post/statuses/destroy/%3Aid\">unretweet </a>a retweet they created by deleting their retweet.)</td>\n",
    "  </tr>\n",
    "  <tr>\n",
    "    <td class=\"tg-xldj\">quote_count</td>\n",
    "    <td class=\"tg-xldj\"></td>\n",
    "    <td class=\"tg-xldj\">Nullable. Indicates approximately how many times this Tweet has been quoted by Twitter users.</td>\n",
    "  </tr>\n",
    "  <tr>\n",
    "    <td class=\"tg-xldj\">reply_count</td>\n",
    "    <td class=\"tg-xldj\"></td>\n",
    "    <td class=\"tg-xldj\">Number of times this Tweet has been replied to.</td>\n",
    "  </tr>\n",
    "  <tr>\n",
    "    <td class=\"tg-xldj\">retweet_count</td>\n",
    "    <td class=\"tg-xldj\">0</td>\n",
    "    <td class=\"tg-xldj\">Number of times this Tweet has been retweeted.</td>\n",
    "  </tr>\n",
    "  <tr>\n",
    "    <td class=\"tg-xldj\">favorite_count</td>\n",
    "    <td class=\"tg-xldj\">0</td>\n",
    "    <td class=\"tg-xldj\">Nullable. Indicates approximately how many times this Tweet has been <br><a href=\"https://developer.twitter.com/rest/reference/post/favorites/create\">liked </a>by Twitter users.</td>\n",
    "  </tr>\n",
    "  <tr>\n",
    "    <td class=\"tg-0pky\">entities</td>\n",
    "    <td class=\"tg-0pky\">Object containing a multitude of attributes.</td>\n",
    "    <td class=\"tg-0pky\">Entities which have been parsed out of the text of the Tweet. Additionally see <br><a href=\"https://developer.twitter.com/overview/api/entities-in-twitter-objects\">Entities in Twitter Objects </a>.</td>\n",
    "  </tr>\n",
    "  <tr>\n",
    "    <td class=\"tg-0pky\">extended_entities</td>\n",
    "    <td class=\"tg-0pky\">Object containing a multitude of attributes.</td>\n",
    "    <td class=\"tg-0pky\">When between one and four native photos or one video or one animated GIF are in Tweet, contains an array 'media' metadata. <br><br>This is also available in Quote Tweets. Additionally see <a href=\"https://developer.twitter.com/overview/api/entities-in-twitter-objects\">Entities in Twitter Objects </a>.</td>\n",
    "  </tr>\n",
    "  <tr>\n",
    "    <td class=\"tg-0pky\">favorited</td>\n",
    "    <td class=\"tg-0pky\">false</td>\n",
    "    <td class=\"tg-0pky\">Nullable. Indicates whether this Tweet has been liked by the authenticating user.</td>\n",
    "  </tr>\n",
    "  <tr>\n",
    "    <td class=\"tg-0pky\">retweeted</td>\n",
    "    <td class=\"tg-0pky\">false</td>\n",
    "    <td class=\"tg-0pky\">Indicates whether this Tweet has been Retweeted by the authenticating user.</td>\n",
    "  </tr>\n",
    "  <tr>\n",
    "    <td class=\"tg-0pky\">possibly_sensitive</td>\n",
    "    <td class=\"tg-0pky\"></td>\n",
    "    <td class=\"tg-0pky\">Nullable. This field only surfaces when a Tweet contains a link. <br><br>The meaning of the field doesn’t pertain to the Tweet content itself, <br>but instead it is an indicator that the URL contained in the Tweet may contain content or media identified as sensitive content.</td>\n",
    "  </tr>\n",
    "  <tr>\n",
    "    <td class=\"tg-0pky\">filter_level</td>\n",
    "    <td class=\"tg-0pky\"></td>\n",
    "    <td class=\"tg-0pky\">Indicates the maximum value of the <a href=\"https://developer.twitter.com/streaming/overview/request-parameters#filter_level\">filter_level </a>parameter which may be used and still stream this Tweet. <br><br>So a value of medium will be streamed on none, low, and medium streams.</td>\n",
    "  </tr>\n",
    "  <tr>\n",
    "    <td class=\"tg-0pky\">lang</td>\n",
    "    <td class=\"tg-0pky\">\"en\"</td>\n",
    "    <td class=\"tg-0pky\">Nullable. When present, indicates a <a href=\"http://tools.ietf.org/html/bcp47\">BCP 47 </a>language identifier corresponding to the machine-detected language of the Tweet text, <br>or und if no language could be detected. See more documentation <a href=\"http://support.gnip.com/apis/powertrack2.0/rules.html#Operators\">HERE</a>.</td>\n",
    "  </tr>\n",
    "  <tr>\n",
    "    <td class=\"tg-0pky\">matching_rules</td>\n",
    "    <td class=\"tg-0pky\"></td>\n",
    "    <td class=\"tg-0pky\">Present in filtered products such as Twitter Search and PowerTrack. <br><br>Provides the id and tag associated with the rule that matched the Tweet. <br><br>With PowerTrack, more than one rule can match a Tweet. See more documentation <a href=\"http://support.gnip.com/enrichments/matching_rules.html\">HERE</a>.</td>\n",
    "  </tr>\n",
    "</table>"
   ]
  },
  {
   "cell_type": "markdown",
   "metadata": {},
   "source": [
    "<span style=\"font-family:Papyrus; font-size:1.25em;\">\n",
    "\n",
    "The \"text\" attribute should contain the full raw text of the Tweet but in our sample Tweet from our dataset it is instead contained in the \"full_text\" field.<br>\n",
    "\n",
    "</span>"
   ]
  },
  {
   "cell_type": "markdown",
   "metadata": {},
   "source": [
    "### Main Tweet Object - Attributes present in our Sample but not in Twitter API Docs for the Main Tweet Object:"
   ]
  },
  {
   "cell_type": "markdown",
   "metadata": {
    "scrolled": false
   },
   "source": [
    "<span style=\"font-family:Papyrus; font-size:1.25em;\">\n",
    "\n",
    "These are the attributes we noticed that are present in our sample in the main Tweet object but are not listed as being part of the main Tweet object in the current Twitter API Documentation.<br>\n",
    "\n",
    "</span>"
   ]
  },
  {
   "cell_type": "markdown",
   "metadata": {},
   "source": [
    "<style type=\"text/css\">\n",
    ".tg  {border-collapse:collapse;border-spacing:0;}\n",
    ".tg td{font-family:Arial, sans-serif;font-size:14px;padding:10px 5px;border-style:solid;border-width:1px;overflow:hidden;word-break:normal;border-color:black;}\n",
    ".tg th{font-family:Arial, sans-serif;font-size:14px;font-weight:normal;padding:10px 5px;border-style:solid;border-width:1px;overflow:hidden;word-break:normal;border-color:black;}\n",
    ".tg .tg-s268{text-align:left}\n",
    "</style>\n",
    "<table class=\"tg\">\n",
    "  <tr>\n",
    "    <th class=\"tg-s268\">Attribute</th>\n",
    "    <th class=\"tg-s268\">Value</th>\n",
    "    <th class=\"tg-s268\">Description</th>\n",
    "  </tr>\n",
    "  <tr>\n",
    "    <td class=\"tg-s268\">\"full_text\":</td>\n",
    "    <td class=\"tg-s268\">\"@abcnews About bloody time. Adani only wants FIFO Indian workers for his Bowen basin mines.\"</td>\n",
    "    <td class=\"tg-s268\">Replaces \"text\" in the Extended Mode of&nbsp;&nbsp;REST API endpoints.</td>\n",
    "  </tr>\n",
    "  <tr>\n",
    "    <td class=\"tg-s268\">\"display_text_range\":</td>\n",
    "    <td class=\"tg-s268\">[0,91]</td>\n",
    "    <td class=\"tg-s268\">Part of the \"extended_tweet\" attribute for streaming API's.</td>\n",
    "  </tr>\n",
    "  <tr>\n",
    "    <td class=\"tg-s268\">\"contributors\":</td>\n",
    "    <td class=\"tg-s268\">null</td>\n",
    "    <td class=\"tg-s268\">Can't find description for this exact field in the documentation.</td>\n",
    "  </tr>\n",
    "</table>"
   ]
  },
  {
   "cell_type": "markdown",
   "metadata": {},
   "source": [
    "<span style=\"font-family:Papyrus; font-size:1.25em;\">\n",
    "\n",
    "Refer to the link below for more information on these fields.  We couldn't find any information on the \"contributors\" field however.  It maybe have been removed and is no longer listed in the Twitter API Documentation.<br>\n",
    "\n",
    "https://developer.twitter.com/en/docs/tweets/tweet-updates.html\n",
    "\n",
    "</span>"
   ]
  },
  {
   "cell_type": "markdown",
   "metadata": {},
   "source": [
    "### Main Tweet Object - Additional Attributes"
   ]
  },
  {
   "cell_type": "markdown",
   "metadata": {},
   "source": [
    "<span style=\"font-family:Papyrus; font-size:1.25em;\">\n",
    "\n",
    "These are additional attributes listed in the Twitter API Documentation for the main Tweet object.  They are not present in the sample we use from our raw Twitter dataset.<br>\n",
    "\n",
    "</span>"
   ]
  },
  {
   "cell_type": "markdown",
   "metadata": {},
   "source": [
    "<style type=\"text/css\">\n",
    ".tg  {border-collapse:collapse;border-spacing:0;}\n",
    ".tg td{font-family:Arial, sans-serif;font-size:14px;padding:10px 5px;border-style:solid;border-width:1px;overflow:hidden;word-break:normal;border-color:black;}\n",
    ".tg th{font-family:Arial, sans-serif;font-size:14px;font-weight:normal;padding:10px 5px;border-style:solid;border-width:1px;overflow:hidden;word-break:normal;border-color:black;}\n",
    ".tg .tg-s268{text-align:left}\n",
    ".tg .tg-0lax{text-align:left;vertical-align:top}\n",
    "</style>\n",
    "<table class=\"tg\">\n",
    "  <tr>\n",
    "    <th class=\"tg-s268\">Attribute</th>\n",
    "    <th class=\"tg-s268\">Value</th>\n",
    "    <th class=\"tg-s268\">Description</th>\n",
    "  </tr>\n",
    "  <tr>\n",
    "    <td class=\"tg-s268\">current_user_retweet</td>\n",
    "    <td class=\"tg-s268\"></td>\n",
    "    <td class=\"tg-s268\">Perspectival Only surfaces on methods supporting the include_my_retweet parameter, when set to true. Details the Tweet ID of the user’s own retweet (if existent) of this Tweet.</td>\n",
    "  </tr>\n",
    "  <tr>\n",
    "    <td class=\"tg-s268\">scopes</td>\n",
    "    <td class=\"tg-s268\"></td>\n",
    "    <td class=\"tg-s268\">A set of key-value pairs indicating the intended contextual delivery of the containing Tweet. Currently used by Twitter’s Promoted Products.</td>\n",
    "  </tr>\n",
    "  <tr>\n",
    "    <td class=\"tg-s268\">withheld_copyright</td>\n",
    "    <td class=\"tg-s268\"></td>\n",
    "    <td class=\"tg-s268\">When present and set to “true”, it indicates that this piece of content has been withheld due to a <br><a href=\"http://en.wikipedia.org/wiki/Digital_Millennium_Copyright_Act\">DMCA complaint </a>.</td>\n",
    "  </tr>\n",
    "  <tr>\n",
    "    <td class=\"tg-0lax\">withheld_in_countries</td>\n",
    "    <td class=\"tg-0lax\"></td>\n",
    "    <td class=\"tg-0lax\">When present, indicates a list of uppercase <a href=\"http://en.wikipedia.org/wiki/ISO_3166-1_alpha-2\">two-letter country codes </a>this content is withheld from.</td>\n",
    "  </tr>\n",
    "  <tr>\n",
    "    <td class=\"tg-0lax\">withheld_scope</td>\n",
    "    <td class=\"tg-0lax\"></td>\n",
    "    <td class=\"tg-0lax\">When present, indicates whether the content being withheld is the “status” or a “user.”</td>\n",
    "  </tr>\n",
    "  <tr>\n",
    "    <td class=\"tg-0lax\">geo</td>\n",
    "    <td class=\"tg-0lax\"></td>\n",
    "    <td class=\"tg-0lax\"><span style=\"font-weight:700\">Deprecated.</span><br><span style=\"font-weight:700\"> </span><br>Nullable. Use the coordinates field instead. This deprecated attribute has its coordinates formatted as [lat, long], while all other Tweet geo is formatted as [long, lat].</td>\n",
    "  </tr>\n",
    "</table>"
   ]
  },
  {
   "cell_type": "markdown",
   "metadata": {},
   "source": [
    "<span style=\"font-family:Papyrus; font-size:1.25em;\">\n",
    "\n",
    "It appears the \"geo\" object is now deprecated.  However, our raw Twitter dataset does contain the \"geo\" field for some Tweets so apparently it was not outdated at the time CSIRO was still collecting this data.<br>\n",
    "\n",
    "</span>"
   ]
  },
  {
   "cell_type": "markdown",
   "metadata": {},
   "source": [
    "### User Object within the Main Tweet Object:"
   ]
  },
  {
   "cell_type": "markdown",
   "metadata": {},
   "source": [
    "<span style=\"font-family:Papyrus; font-size:1.25em;\">\n",
    "\n",
    "This is the \"user\" object nested within the main Tweet object.  It is a large data structure containing a multitude of attributes and their corresponding values.  Extraction of just the \"user\" object resulted in a CSV file over 1.0 GBS in file size.  Refer to the link below for more in-depth information concerning \"user\".<br>\n",
    "\n",
    "https://developer.twitter.com/en/docs/tweets/data-dictionary/overview/user-object\n",
    "\n",
    "</span>"
   ]
  },
  {
   "cell_type": "markdown",
   "metadata": {},
   "source": [
    "#### Non-Deprecated Fields within the User Object:"
   ]
  },
  {
   "cell_type": "markdown",
   "metadata": {},
   "source": [
    "<span style=\"font-family:Papyrus; font-size:1.25em;\">\n",
    "\n",
    "These are the non-deprecated attributes currently in use as of June 14, 2019.  Any attribute without a sample value indicates that the attribute was not present in the sample we extracted from our raw Tweet dataset.<br>\n",
    "\n",
    "</span>"
   ]
  },
  {
   "cell_type": "markdown",
   "metadata": {},
   "source": [
    "<style type=\"text/css\">\n",
    ".tg  {border-collapse:collapse;border-spacing:0;}\n",
    ".tg td{font-family:Arial, sans-serif;font-size:14px;padding:10px 5px;border-style:solid;border-width:1px;overflow:hidden;word-break:normal;border-color:black;}\n",
    ".tg th{font-family:Arial, sans-serif;font-size:14px;font-weight:normal;padding:10px 5px;border-style:solid;border-width:1px;overflow:hidden;word-break:normal;border-color:black;}\n",
    ".tg .tg-xldj{border-color:inherit;text-align:left}\n",
    "</style>\n",
    "<table class=\"tg\">\n",
    "  <tr>\n",
    "    <th class=\"tg-xldj\">Attribute</th>\n",
    "    <th class=\"tg-xldj\">Value</th>\n",
    "    <th class=\"tg-xldj\">Description</th>\n",
    "  </tr>\n",
    "  <tr>\n",
    "    <td class=\"tg-xldj\">id</td>\n",
    "    <td class=\"tg-xldj\">772466924</td>\n",
    "    <td class=\"tg-xldj\">The integer representation of the unique identifier for this User.</td>\n",
    "  </tr>\n",
    "  <tr>\n",
    "    <td class=\"tg-xldj\">id_str</td>\n",
    "    <td class=\"tg-xldj\">\"772466924\"</td>\n",
    "    <td class=\"tg-xldj\">The string representation of the unique identifier for this User.</td>\n",
    "  </tr>\n",
    "  <tr>\n",
    "    <td class=\"tg-xldj\">name</td>\n",
    "    <td class=\"tg-xldj\">\"Daryl Dickson\"</td>\n",
    "    <td class=\"tg-xldj\">The name of the user, as they’ve defined it. Not necessarily a person’s name. Typically capped at 50 characters, but subject to change.</td>\n",
    "  </tr>\n",
    "  <tr>\n",
    "    <td class=\"tg-xldj\">screen_name</td>\n",
    "    <td class=\"tg-xldj\">\"DazzDicko\"</td>\n",
    "    <td class=\"tg-xldj\">The screen name, handle, or alias that this user identifies themselves with. screen_names are unique but subject to change. Typically a maximum of 15 characters long, but some historical accounts may exist with longer names.</td>\n",
    "  </tr>\n",
    "  <tr>\n",
    "    <td class=\"tg-xldj\">location</td>\n",
    "    <td class=\"tg-xldj\">\"Far North Queensland\"</td>\n",
    "    <td class=\"tg-xldj\">Nullable . The user-defined location for this account’s profile. Not necessarily a location, nor machine-parseable.</td>\n",
    "  </tr>\n",
    "  <tr>\n",
    "    <td class=\"tg-xldj\">derived</td>\n",
    "    <td class=\"tg-xldj\"></td>\n",
    "    <td class=\"tg-xldj\">Enterprise APIs only Collection of Enrichment metadata derived for user. Provides the <br><a href=\"https://developer.twitter.com/en/docs/tweets/enrichments/overview/profile-geo\">Profile Geo </a>Enrichment metadata.</td>\n",
    "  </tr>\n",
    "  <tr>\n",
    "    <td class=\"tg-xldj\">url</td>\n",
    "    <td class=\"tg-xldj\">null</td>\n",
    "    <td class=\"tg-xldj\">Nullable . A URL provided by the user in association with their profile.</td>\n",
    "  </tr>\n",
    "  <tr>\n",
    "    <td class=\"tg-xldj\">description</td>\n",
    "    <td class=\"tg-xldj\">\"Train Driver extraordinaire, proud Union Leftie and Labor supporter. Cant stand the LNP and their regressive ideas. Mainly political but I do enjoy a laugh.\"</td>\n",
    "    <td class=\"tg-xldj\">Nullable . The user-defined UTF-8 string describing their account.</td>\n",
    "  </tr>\n",
    "  <tr>\n",
    "    <td class=\"tg-xldj\">protected</td>\n",
    "    <td class=\"tg-xldj\">false</td>\n",
    "    <td class=\"tg-xldj\">When true, indicates that this user has chosen to protect their Tweets.</td>\n",
    "  </tr>\n",
    "  <tr>\n",
    "    <td class=\"tg-xldj\">verified</td>\n",
    "    <td class=\"tg-xldj\">false</td>\n",
    "    <td class=\"tg-xldj\">When true, indicates that the user has a verified account. See <br><a href=\"https://support.twitter.com/articles/119135-faqs-about-verified-accounts\">Verified Accounts </a>.</td>\n",
    "  </tr>\n",
    "  <tr>\n",
    "    <td class=\"tg-xldj\">followers_count</td>\n",
    "    <td class=\"tg-xldj\">945</td>\n",
    "    <td class=\"tg-xldj\">The number of followers this account currently has. Under certain conditions of duress, this field will temporarily indicate “0”.</td>\n",
    "  </tr>\n",
    "  <tr>\n",
    "    <td class=\"tg-xldj\">friends_count</td>\n",
    "    <td class=\"tg-xldj\">1385</td>\n",
    "    <td class=\"tg-xldj\">The number of users this account is following (AKA their “followings”). Under certain conditions of duress, this field will temporarily indicate “0”.</td>\n",
    "  </tr>\n",
    "  <tr>\n",
    "    <td class=\"tg-xldj\">listed_count</td>\n",
    "    <td class=\"tg-xldj\">3</td>\n",
    "    <td class=\"tg-xldj\">The number of public lists that this user is a member of.</td>\n",
    "  </tr>\n",
    "  <tr>\n",
    "    <td class=\"tg-xldj\">favourites_count</td>\n",
    "    <td class=\"tg-xldj\">533</td>\n",
    "    <td class=\"tg-xldj\">The number of Tweets this user has liked in the account’s lifetime.</td>\n",
    "  </tr>\n",
    "  <tr>\n",
    "    <td class=\"tg-xldj\">statuses_count</td>\n",
    "    <td class=\"tg-xldj\">5176</td>\n",
    "    <td class=\"tg-xldj\">The number of Tweets (including retweets) issued by the user.</td>\n",
    "  </tr>\n",
    "  <tr>\n",
    "    <td class=\"tg-xldj\">created_at</td>\n",
    "    <td class=\"tg-xldj\">\"Tue Aug 21 23:23:52 +0000 2012\"</td>\n",
    "    <td class=\"tg-xldj\">The UTC datetime that the user account was created on Twitter.</td>\n",
    "  </tr>\n",
    "  <tr>\n",
    "    <td class=\"tg-xldj\">profile_banner_url</td>\n",
    "    <td class=\"tg-xldj\"></td>\n",
    "    <td class=\"tg-xldj\">The HTTPS-based URL pointing to the standard web representation of the user’s uploaded profile banner.</td>\n",
    "  </tr>\n",
    "  <tr>\n",
    "    <td class=\"tg-xldj\">profile_image_url_https</td>\n",
    "    <td class=\"tg-xldj\">\"https://pbs.twimg.com/profile_images/698290934618787840/SIpBKnWE_normal.jpg\"</td>\n",
    "    <td class=\"tg-xldj\">A HTTPS-based URL pointing to the user’s profile image.</td>\n",
    "  </tr>\n",
    "  <tr>\n",
    "    <td class=\"tg-xldj\">default_profile</td>\n",
    "    <td class=\"tg-xldj\">true</td>\n",
    "    <td class=\"tg-xldj\">When true, indicates that the user has not altered the theme or background of their user profile.</td>\n",
    "  </tr>\n",
    "  <tr>\n",
    "    <td class=\"tg-xldj\">default_profile_image</td>\n",
    "    <td class=\"tg-xldj\">false</td>\n",
    "    <td class=\"tg-xldj\">When true, indicates that the user has not uploaded their own profile image and a default image is used instead.</td>\n",
    "  </tr>\n",
    "  <tr>\n",
    "    <td class=\"tg-xldj\">withheld_in_countries</td>\n",
    "    <td class=\"tg-xldj\"></td>\n",
    "    <td class=\"tg-xldj\">When present, indicates a list of uppercase <br><a href=\"http://en.wikipedia.org/wiki/ISO_3166-1_alpha-2\">two-letter country codes </a>this content is withheld from.</td>\n",
    "  </tr>\n",
    "  <tr>\n",
    "    <td class=\"tg-xldj\">withheld_scope</td>\n",
    "    <td class=\"tg-xldj\"></td>\n",
    "    <td class=\"tg-xldj\">When present, indicates that the content being withheld is a “user.”</td>\n",
    "  </tr>\n",
    "</table>"
   ]
  },
  {
   "cell_type": "markdown",
   "metadata": {},
   "source": [
    "#### Deprecated Fields within the User Object:"
   ]
  },
  {
   "cell_type": "markdown",
   "metadata": {},
   "source": [
    "<span style=\"font-family:Papyrus; font-size:1.25em;\">\n",
    " \n",
    "These are the deprecated attributes that are no longer in use.  Any attribute without a sample value indicates that the attribute was not present in the sample we extracted from our raw Tweet dataset.<br>\n",
    " \n",
    "<span>"
   ]
  },
  {
   "cell_type": "markdown",
   "metadata": {},
   "source": [
    "<style type=\"text/css\">\n",
    ".tg  {border-collapse:collapse;border-spacing:0;}\n",
    ".tg td{font-family:Arial, sans-serif;font-size:14px;padding:10px 5px;border-style:solid;border-width:1px;overflow:hidden;word-break:normal;border-color:black;}\n",
    ".tg th{font-family:Arial, sans-serif;font-size:14px;font-weight:normal;padding:10px 5px;border-style:solid;border-width:1px;overflow:hidden;word-break:normal;border-color:black;}\n",
    ".tg .tg-s268{text-align:left}\n",
    ".tg .tg-0lax{text-align:left;vertical-align:top}\n",
    "</style>\n",
    "<table class=\"tg\">\n",
    "  <tr>\n",
    "    <th class=\"tg-s268\">Attribute</th>\n",
    "    <th class=\"tg-s268\">Value</th>\n",
    "    <th class=\"tg-s268\">Description</th>\n",
    "  </tr>\n",
    "  <tr>\n",
    "    <td class=\"tg-s268\">utc_offset</td>\n",
    "    <td class=\"tg-s268\">36000</td>\n",
    "    <td class=\"tg-s268\">Value will be set to null. Still available via <br><a href=\"https://developer.twitter.com/en/docs/tweets/data-dictionary/overview/en/docs/accounts-and-users/manage-account-settings/api-reference/get-account-settings\">GET account/settings</a></td>\n",
    "  </tr>\n",
    "  <tr>\n",
    "    <td class=\"tg-s268\">time_zone</td>\n",
    "    <td class=\"tg-s268\">\"Australia/Brisbane\"</td>\n",
    "    <td class=\"tg-s268\">Value will be set to null. Still available via <br><a href=\"https://developer.twitter.com/en/docs/tweets/data-dictionary/overview/en/docs/accounts-and-users/manage-account-settings/api-reference/get-account-settings\">GET account/settings </a>as tzinfo_name</td>\n",
    "  </tr>\n",
    "  <tr>\n",
    "    <td class=\"tg-s268\">lang</td>\n",
    "    <td class=\"tg-s268\">\"en\"</td>\n",
    "    <td class=\"tg-s268\">Value will be set to null. Still available via <br><a href=\"https://developer.twitter.com/en/docs/tweets/data-dictionary/overview/en/docs/accounts-and-users/manage-account-settings/api-reference/get-account-settings\">GET account/settings </a>as language</td>\n",
    "  </tr>\n",
    "  <tr>\n",
    "    <td class=\"tg-s268\">geo_enabled</td>\n",
    "    <td class=\"tg-s268\">true</td>\n",
    "    <td class=\"tg-s268\">Value will be set to null.  Still available via <br><a href=\"https://developer.twitter.com/en/docs/tweets/data-dictionary/overview/en/docs/accounts-and-users/manage-account-settings/api-reference/get-account-settings\">GET account/settings</a>. This field must be true for the current user to attach geographic data when using <br><a href=\"https://developer.twitter.com/en/docs/tweets/post-and-engage/guides/post-tweet-geo-guide\">POST statuses / update</a></td>\n",
    "  </tr>\n",
    "  <tr>\n",
    "    <td class=\"tg-s268\">following</td>\n",
    "    <td class=\"tg-s268\">false</td>\n",
    "    <td class=\"tg-s268\">Value will be set to null. Still available via <br><a href=\"https://developer.twitter.com/en/docs/tweets/data-dictionary/overview/en/docs/accounts-and-users/follow-search-get-users/api-reference/get-friendships-lookup\">GET friendships/lookup</a></td>\n",
    "  </tr>\n",
    "  <tr>\n",
    "    <td class=\"tg-s268\">follow_request_sent</td>\n",
    "    <td class=\"tg-s268\">false</td>\n",
    "    <td class=\"tg-s268\">Value will be set to null. Still available via <br><a href=\"https://developer.twitter.com/en/docs/tweets/data-dictionary/overview/en/docs/accounts-and-users/follow-search-get-users/api-reference/get-friendships-lookup\">GET friendships/lookup</a></td>\n",
    "  </tr>\n",
    "  <tr>\n",
    "    <td class=\"tg-s268\">has_extended_profile</td>\n",
    "    <td class=\"tg-s268\"></td>\n",
    "    <td class=\"tg-s268\"><span style=\"font-weight:700\">Deprecated</span><br>. Value will be set to null.</td>\n",
    "  </tr>\n",
    "  <tr>\n",
    "    <td class=\"tg-s268\">notifications</td>\n",
    "    <td class=\"tg-s268\">false</td>\n",
    "    <td class=\"tg-s268\"><span style=\"font-weight:700\">Deprecated</span><br>. Value will be set to null.</td>\n",
    "  </tr>\n",
    "  <tr>\n",
    "    <td class=\"tg-s268\">profile_location</td>\n",
    "    <td class=\"tg-s268\"></td>\n",
    "    <td class=\"tg-s268\"><span style=\"font-weight:700\">Deprecated</span><br>. Value will be set to null.</td>\n",
    "  </tr>\n",
    "  <tr>\n",
    "    <td class=\"tg-s268\">contributors_enabled</td>\n",
    "    <td class=\"tg-s268\">false</td>\n",
    "    <td class=\"tg-s268\"><span style=\"font-weight:700\">Deprecated</span><br>. Value will be set to null.</td>\n",
    "  </tr>\n",
    "  <tr>\n",
    "    <td class=\"tg-s268\">profile_image_url</td>\n",
    "    <td class=\"tg-s268\">\"http://pbs.twimg.com/profile_images/698290934618787840/SIpBKnWE_normal.jpg\"</td>\n",
    "    <td class=\"tg-s268\"><span style=\"font-weight:700\">Deprecated</span><br>. Value will be set to null. NOTE: Profile images are only available using the profile_image_url_https field.</td>\n",
    "  </tr>\n",
    "  <tr>\n",
    "    <td class=\"tg-s268\">profile_background_color</td>\n",
    "    <td class=\"tg-s268\"></td>\n",
    "    <td class=\"tg-s268\"><span style=\"font-weight:700\">Deprecated</span><br>. Value will be set to null.</td>\n",
    "  </tr>\n",
    "  <tr>\n",
    "    <td class=\"tg-s268\">profile_background_image_url</td>\n",
    "    <td class=\"tg-s268\">\"http://abs.twimg.com/images/themes/theme1/bg.png\"</td>\n",
    "    <td class=\"tg-s268\"><span style=\"font-weight:700\">Deprecated</span><br>. Value will be set to null.</td>\n",
    "  </tr>\n",
    "  <tr>\n",
    "    <td class=\"tg-s268\">profile_background_image_url_https</td>\n",
    "    <td class=\"tg-s268\">\"https://abs.twimg.com/images/themes/theme1/bg.png\"</td>\n",
    "    <td class=\"tg-s268\"><span style=\"font-weight:700\">Deprecated</span><br>. Value will be set to null.</td>\n",
    "  </tr>\n",
    "  <tr>\n",
    "    <td class=\"tg-s268\">profile_background_tile</td>\n",
    "    <td class=\"tg-s268\">false</td>\n",
    "    <td class=\"tg-s268\"><span style=\"font-weight:700\">Deprecated</span><br>. Value will be set to null.</td>\n",
    "  </tr>\n",
    "  <tr>\n",
    "    <td class=\"tg-s268\">profile_link_color</td>\n",
    "    <td class=\"tg-s268\">\"1DA1F2\"</td>\n",
    "    <td class=\"tg-s268\"><span style=\"font-weight:700\">Deprecated</span><br>. Value will be set to null.</td>\n",
    "  </tr>\n",
    "  <tr>\n",
    "    <td class=\"tg-s268\">profile_sidebar_border_color</td>\n",
    "    <td class=\"tg-s268\">\"C0DEED\"</td>\n",
    "    <td class=\"tg-s268\"><span style=\"font-weight:700\">Deprecated</span><br>. Value will be set to null.</td>\n",
    "  </tr>\n",
    "  <tr>\n",
    "    <td class=\"tg-s268\">profile_sidebar_fill_color</td>\n",
    "    <td class=\"tg-s268\">\"DDEEF6\"</td>\n",
    "    <td class=\"tg-s268\"><span style=\"font-weight:700\">Deprecated</span><br>. Value will be set to null.</td>\n",
    "  </tr>\n",
    "  <tr>\n",
    "    <td class=\"tg-s268\">profile_text_color</td>\n",
    "    <td class=\"tg-s268\">\"333333\"</td>\n",
    "    <td class=\"tg-s268\"><span style=\"font-weight:700\">Deprecated</span><br>. Value will be set to null.</td>\n",
    "  </tr>\n",
    "  <tr>\n",
    "    <td class=\"tg-s268\">profile_use_background_image</td>\n",
    "    <td class=\"tg-s268\">true</td>\n",
    "    <td class=\"tg-s268\"><span style=\"font-weight:700\">Deprecated</span><br>. Value will be set to null.</td>\n",
    "  </tr>\n",
    "  <tr>\n",
    "    <td class=\"tg-s268\">is_translator</td>\n",
    "    <td class=\"tg-s268\">false</td>\n",
    "    <td class=\"tg-s268\"><span style=\"font-weight:700\">Deprecated</span><br>. Value will be set to null.</td>\n",
    "  </tr>\n",
    "  <tr>\n",
    "    <td class=\"tg-s268\">is_translation_enabled</td>\n",
    "    <td class=\"tg-s268\">false</td>\n",
    "    <td class=\"tg-s268\"><span style=\"font-weight:700\">Deprecated</span><br>. Value will be set to null.</td>\n",
    "  </tr>\n",
    "  <tr>\n",
    "    <td class=\"tg-0lax\">translator_type</td>\n",
    "    <td class=\"tg-0lax\">\"none\"</td>\n",
    "    <td class=\"tg-0lax\"><span style=\"font-weight:700\">Deprecated</span><br>. Value will be set to null.</td>\n",
    "  </tr>\n",
    "</table>"
   ]
  },
  {
   "cell_type": "markdown",
   "metadata": {},
   "source": [
    "<span style=\"font-family:Papyrus; font-size:1.25em;\">\n",
    "\n",
    "Our dataset was gathered over the course of 10 years so it stands to reason that Twiter has deprecated some of the fields that were used, added fields, and changed other fields.  The Twitter API Documentation do not give a description of the former purpose of these deprecated fields.<br>\n",
    "\n",
    "</span>"
   ]
  },
  {
   "cell_type": "markdown",
   "metadata": {},
   "source": [
    "### Entities Object within the Main Tweet Object:"
   ]
  },
  {
   "cell_type": "markdown",
   "metadata": {},
   "source": [
    "<span style=\"font-family:Papyrus; font-size:1.25em;\">\n",
    "\n",
    "This is the \"entities\" object for a Tweet within our dataset.  All the Lists are empty except for \"user_mentions\" which is a List containing a Dictionary of key-value pairs of various attributes.  It should be noted that each of these attributes are actually Objects themselves with multiple key (attribute)-value pairs within.  For a more in-depth listing of the attributes and format, please refer to the link below.<br>\n",
    "\n",
    "https://developer.twitter.com/en/docs/tweets/data-dictionary/overview/entities-object\n",
    "\n",
    "</span>"
   ]
  },
  {
   "cell_type": "markdown",
   "metadata": {},
   "source": [
    "<style type=\"text/css\">\n",
    ".tg  {border-collapse:collapse;border-spacing:0;}\n",
    ".tg td{font-family:Arial, sans-serif;font-size:14px;padding:10px 5px;border-style:solid;border-width:1px;overflow:hidden;word-break:normal;border-color:black;}\n",
    ".tg th{font-family:Arial, sans-serif;font-size:14px;font-weight:normal;padding:10px 5px;border-style:solid;border-width:1px;overflow:hidden;word-break:normal;border-color:black;}\n",
    ".tg .tg-xldj{border-color:inherit;text-align:left}\n",
    ".tg .tg-0pky{border-color:inherit;text-align:left;vertical-align:top}\n",
    "</style>\n",
    "<table class=\"tg\">\n",
    "  <tr>\n",
    "    <th class=\"tg-xldj\">Attribute</th>\n",
    "    <th class=\"tg-xldj\">Value</th>\n",
    "    <th class=\"tg-xldj\">Description</th>\n",
    "  </tr>\n",
    "  <tr>\n",
    "    <td class=\"tg-xldj\">urls</td>\n",
    "    <td class=\"tg-xldj\">[]</td>\n",
    "    <td class=\"tg-xldj\">Represents URLs included in the text of a Tweet.</td>\n",
    "  </tr>\n",
    "  <tr>\n",
    "    <td class=\"tg-xldj\">hashtags</td>\n",
    "    <td class=\"tg-xldj\">[]</td>\n",
    "    <td class=\"tg-xldj\">Represents hashtags which have been parsed out of the Tweet text.</td>\n",
    "  </tr>\n",
    "  <tr>\n",
    "    <td class=\"tg-xldj\">user_mentions</td>\n",
    "    <td class=\"tg-xldj\">[{\"indices\":[0,8],\"screen_name\":\"abcnews\",\"id_str\":\"2768501\", \"name\":\"ABC News\",\"id\":2768501}]</td>\n",
    "    <td class=\"tg-xldj\">Represents other Twitter users mentioned in the text of the Tweet.</td>\n",
    "  </tr>\n",
    "  <tr>\n",
    "    <td class=\"tg-xldj\">symbols</td>\n",
    "    <td class=\"tg-xldj\">[]</td>\n",
    "    <td class=\"tg-xldj\">Represents symbols, i.e. $cashtags, included in the text of the Tweet.</td>\n",
    "  </tr>\n",
    "  <tr>\n",
    "    <td class=\"tg-0pky\">media</td>\n",
    "    <td class=\"tg-0pky\">[]</td>\n",
    "    <td class=\"tg-0pky\">Represents media elements uploaded with the Tweet.</td>\n",
    "  </tr>\n",
    "  <tr>\n",
    "    <td class=\"tg-0pky\">polls</td>\n",
    "    <td class=\"tg-0pky\">[]</td>\n",
    "    <td class=\"tg-0pky\">Represents Twitter Polls included in the Tweet.</td>\n",
    "  </tr>\n",
    "</table>"
   ]
  },
  {
   "cell_type": "markdown",
   "metadata": {},
   "source": [
    "<span style=\"font-family:Papyrus; font-size:1.25em;\">\n",
    "\n",
    "For the sample we have chosen, only the \"url\", \"hashtags\", \"user_mentions\", and \"symbols\" fields were present, even though most are empty.  The other fields in the table were not present in the \"entities\" object for this particular Tweet.<br>\n",
    "\n",
    "</span>"
   ]
  },
  {
   "cell_type": "markdown",
   "metadata": {},
   "source": [
    "### Extended Entities Object within the Main Tweet Object:"
   ]
  },
  {
   "cell_type": "markdown",
   "metadata": {},
   "source": [
    "<span style=\"font-family:Papyrus; font-size:1.25em;\">\n",
    "    \n",
    "This element is present in any Tweet that contains \"native media\" such as photos, videos, images, etc.  It is an object type that contains all the metadata for each of the native media elemnts present in the Tweet.<br>\n",
    "\n",
    "Refer to the link below for all the particulars on the \"extended_entities\" object.<br>\n",
    "\n",
    "https://developer.twitter.com/en/docs/tweets/data-dictionary/overview/extended-entities-object\n",
    "\n",
    "</span>"
   ]
  },
  {
   "cell_type": "markdown",
   "metadata": {},
   "source": [
    "<span style=\"font-family:Papyrus; font-size:1.25em;\">\n",
    "    \n",
    "{\"extended_entities\":{\"media\":[{\"display_url\":\"pic.twitter.com\\/NcnlVdBAxt\",\"indices\":[110,132],\"sizes\":{\"small\":{\"w\":406,\"h\":680,\"resize\":\"fit\"},\"large\":{\"w\":448,\"h\":750,\"resize\":\"fit\"},\"thumb\":{\"w\":150,\"h\":150,\"resize\":\"crop\"},\"medium\":{\"w\":448,\"h\":750,\"resize\":\"fit\"}},\"id_str\":\"394955471976538112\",\"expanded_url\":\"https:\\/\\/twitter.com\\/fightforthereef\\/status\\/394955472064622593\\/photo\\/1\",\"media_url_https\":\"https:\\/\\/pbs.twimg.com\\/media\\/BXsp6MFCIAA4Zet.png\",\"id\":394955471976538112,\"type\":\"photo\",\"media_url\":\"http:\\/\\/pbs.twimg.com\\/media\\/BXsp6MFCIAA4Zet.png\",\"url\":\"http:\\/\\/t.co\\/NcnlVdBAxt\"}]}\n",
    "\n",
    "</span>"
   ]
  },
  {
   "cell_type": "markdown",
   "metadata": {},
   "source": [
    "<span style=\"font-family:Papyrus; font-size:1.25em;\">\n",
    "    \n",
    "The above is a sample of an \"extended_entities\" object from a Tweet in our dataset.  Ths object was found as the value for the \"retweeted_status\" key.  We forgot building a table for all the attributes in this object as the Twitter API Documentation does not itself have a table listing each attribute, example values, and a description explaining each.<br>\n",
    "    \n",
    "</span>"
   ]
  },
  {
   "cell_type": "markdown",
   "metadata": {},
   "source": [
    "<span style=\"font-family:Papyrus; font-size:1.25em;\">\n",
    "    \n",
    "</span>"
   ]
  },
  {
   "cell_type": "markdown",
   "metadata": {},
   "source": [
    "### Geo Object within the Main Tweet Object:"
   ]
  },
  {
   "cell_type": "markdown",
   "metadata": {},
   "source": [
    "<span style=\"font-family:Papyrus; font-size:1.25em;\">\n",
    "\n",
    "The \"geo\" sub-object within the main Tweet object is comprised of the \"coordinates\" and \"place\" objects.  According to the Twitter API documentation,<br>\n",
    "\n",
    "\"The place object is always present when a Tweet is geo-tagged, while the coordinates object is only present (non-null) when the Tweet is assigned an exact location. If an exact location is provided, the coordinates object will provide a [long, lat] array with the geographical coordinates, and a Twitter Place that corresponds to that location will be assigned.\" (\"Geo objects - Twitter Developers\")<br>\n",
    "\n",
    "Therfore, not every Tweet will necessarily possess both or either objects.<br>\n",
    "\n",
    "</span>"
   ]
  },
  {
   "cell_type": "markdown",
   "metadata": {},
   "source": [
    "<style type=\"text/css\">\n",
    ".tg  {border-collapse:collapse;border-spacing:0;}\n",
    ".tg td{font-family:Arial, sans-serif;font-size:14px;padding:10px 5px;border-style:solid;border-width:1px;overflow:hidden;word-break:normal;border-color:black;}\n",
    ".tg th{font-family:Arial, sans-serif;font-size:14px;font-weight:normal;padding:10px 5px;border-style:solid;border-width:1px;overflow:hidden;word-break:normal;border-color:black;}\n",
    ".tg .tg-s268{text-align:left}\n",
    "</style>\n",
    "<table class=\"tg\">\n",
    "  <tr>\n",
    "    <th class=\"tg-s268\">Attribute</th>\n",
    "    <th class=\"tg-s268\">Value</th>\n",
    "    <th class=\"tg-s268\">Description</th>\n",
    "  </tr>\n",
    "  <tr>\n",
    "    <td class=\"tg-s268\">place</td>\n",
    "    <td class=\"tg-s268\">{}</td>\n",
    "    <td class=\"tg-s268\">Places are specific, named locations with corresponding geo coordinates.</td>\n",
    "  </tr>\n",
    "  <tr>\n",
    "    <td class=\"tg-s268\">coordinates</td>\n",
    "    <td class=\"tg-s268\">{}</td>\n",
    "    <td class=\"tg-s268\">An array of longitude and latitude coordinates.&nbsp;&nbsp;May also include a type attribute.</td>\n",
    "  </tr>\n",
    "</table>"
   ]
  },
  {
   "cell_type": "markdown",
   "metadata": {},
   "source": [
    "<span style=\"font-family:Papyrus; font-size:1.25em;\">\n",
    "\n",
    "Refer to the link below for a specific explanation of how \"place\" and \"coordinates\" are utilized together for geo-tagged Tweet objects.<br>\n",
    "\n",
    "https://developer.twitter.com/en/docs/tweets/data-dictionary/overview/geo-objects\n",
    "\n",
    "</span>"
   ]
  },
  {
   "cell_type": "markdown",
   "metadata": {},
   "source": [
    "#### Coordinates Object within the Geo Object:"
   ]
  },
  {
   "cell_type": "markdown",
   "metadata": {},
   "source": [
    "<span style=\"font-family:Papyrus; font-size:1.25em;\">\n",
    "\n",
    "The \"coordinates\" object for geo-tagged Tweets contains the two attributes as described below.<br>\n",
    "\n",
    "</span>"
   ]
  },
  {
   "cell_type": "markdown",
   "metadata": {},
   "source": [
    "<style type=\"text/css\">\n",
    ".tg  {border-collapse:collapse;border-spacing:0;}\n",
    ".tg td{font-family:Arial, sans-serif;font-size:14px;padding:10px 5px;border-style:solid;border-width:1px;overflow:hidden;word-break:normal;border-color:black;}\n",
    ".tg th{font-family:Arial, sans-serif;font-size:14px;font-weight:normal;padding:10px 5px;border-style:solid;border-width:1px;overflow:hidden;word-break:normal;border-color:black;}\n",
    ".tg .tg-s268{text-align:left}\n",
    "</style>\n",
    "<table class=\"tg\">\n",
    "  <tr>\n",
    "    <th class=\"tg-s268\">Attribute</th>\n",
    "    <th class=\"tg-s268\">Value</th>\n",
    "    <th class=\"tg-s268\">Description</th>\n",
    "  </tr>\n",
    "  <tr>\n",
    "    <td class=\"tg-s268\">coordinates</td>\n",
    "    <td class=\"tg-s268\"><span style=\"font-style:italic\">[-97.51087576,35.46500176]</span></td>\n",
    "    <td class=\"tg-s268\">The longitude and latitude of the Tweet’s location, as a collection in the form <br><span style=\"font-weight:700\">[longitude, latitude]</span>.</td>\n",
    "  </tr>\n",
    "  <tr>\n",
    "    <td class=\"tg-s268\">type</td>\n",
    "    <td class=\"tg-s268\">\"Point\"</td>\n",
    "    <td class=\"tg-s268\">The type of data encoded in the coordinates property. This will be “Point” for Tweet coordinates fields.</td>\n",
    "  </tr>\n",
    "</table>"
   ]
  },
  {
   "cell_type": "markdown",
   "metadata": {},
   "source": [
    "<span style=\"font-family:Papyrus; font-size:1.25em;\">\n",
    "\n",
    "\n",
    "The values are examples copied from the Twitter API Documentation on \"geo\" objects.<br>\n",
    "\n",
    "</span>"
   ]
  },
  {
   "cell_type": "markdown",
   "metadata": {},
   "source": [
    "#### Place Object within the Geo Object:"
   ]
  },
  {
   "cell_type": "markdown",
   "metadata": {},
   "source": [
    "<span style=\"font-family:Papyrus; font-size:1.25em;\">\n",
    "    \n",
    "</span>"
   ]
  },
  {
   "cell_type": "markdown",
   "metadata": {},
   "source": [
    "<span style=\"font-family:Papyrus; font-size:1.25em;\">\n",
    "\n",
    "The \"place\" object for geo-tagged Tweets contains the following attributes as describe below.<br>\n",
    "\n",
    "</span>"
   ]
  },
  {
   "cell_type": "markdown",
   "metadata": {},
   "source": [
    "<style type=\"text/css\">\n",
    ".tg  {border-collapse:collapse;border-spacing:0;}\n",
    ".tg td{font-family:Arial, sans-serif;font-size:14px;padding:10px 5px;border-style:solid;border-width:1px;overflow:hidden;word-break:normal;border-color:black;}\n",
    ".tg th{font-family:Arial, sans-serif;font-size:14px;font-weight:normal;padding:10px 5px;border-style:solid;border-width:1px;overflow:hidden;word-break:normal;border-color:black;}\n",
    ".tg .tg-xldj{border-color:inherit;text-align:left}\n",
    ".tg .tg-0pky{border-color:inherit;text-align:left;vertical-align:top}\n",
    "</style>\n",
    "<table class=\"tg\">\n",
    "  <tr>\n",
    "    <th class=\"tg-xldj\">Attribute</th>\n",
    "    <th class=\"tg-xldj\">Value</th>\n",
    "    <th class=\"tg-xldj\">Description</th>\n",
    "  </tr>\n",
    "  <tr>\n",
    "    <td class=\"tg-xldj\">id</td>\n",
    "    <td class=\"tg-xldj\">\"01a9a39529b27f36\"</td>\n",
    "    <td class=\"tg-xldj\">ID representing this place. Note that this is represented as a string, not an integer.</td>\n",
    "  </tr>\n",
    "  <tr>\n",
    "    <td class=\"tg-xldj\">url</td>\n",
    "    <td class=\"tg-xldj\">\"https://api.twitter.com/1.1/geo/id/01a9a39529b27f36.json\"</td>\n",
    "    <td class=\"tg-xldj\">URL representing the location of additional place metadata for this place.</td>\n",
    "  </tr>\n",
    "  <tr>\n",
    "    <td class=\"tg-0pky\">place_type</td>\n",
    "    <td class=\"tg-0pky\">\"city\"</td>\n",
    "    <td class=\"tg-0pky\">The type of location represented by this place.</td>\n",
    "  </tr>\n",
    "  <tr>\n",
    "    <td class=\"tg-0pky\">name</td>\n",
    "    <td class=\"tg-0pky\">\"Manhattan\"</td>\n",
    "    <td class=\"tg-0pky\">Short human-readable representation of the place’s name.</td>\n",
    "  </tr>\n",
    "  <tr>\n",
    "    <td class=\"tg-0pky\">full_name</td>\n",
    "    <td class=\"tg-0pky\">\"Manhattan, NY\"</td>\n",
    "    <td class=\"tg-0pky\">Full human-readable representation of the place’s name.</td>\n",
    "  </tr>\n",
    "  <tr>\n",
    "    <td class=\"tg-0pky\">country_code</td>\n",
    "    <td class=\"tg-0pky\">\"US\"</td>\n",
    "    <td class=\"tg-0pky\">Shortened country code representing the country containing this place.</td>\n",
    "  </tr>\n",
    "  <tr>\n",
    "    <td class=\"tg-0pky\">country</td>\n",
    "    <td class=\"tg-0pky\">\"United States\"</td>\n",
    "    <td class=\"tg-0pky\">Name of the country containing this place.</td>\n",
    "  </tr>\n",
    "  <tr>\n",
    "    <td class=\"tg-0pky\">bounding_box</td>\n",
    "    <td class=\"tg-0pky\">\"bounding_box\":{\"coordinates\":[[[144.886226909269,-37.7802081941697],[144.988666911647,-37.7802081941697],[144.988666911647,-37.6909396998182],[144.886226909269,-37.6909396998182]]],\"type\":\"Polygon\"}</td>\n",
    "    <td class=\"tg-0pky\">A bounding box of coordinates which encloses this place.</td>\n",
    "  </tr>\n",
    "  <tr>\n",
    "    <td class=\"tg-0pky\">attributes</td>\n",
    "    <td class=\"tg-0pky\">{}</td>\n",
    "    <td class=\"tg-0pky\">Dictionary of Tweet attributes.</td>\n",
    "  </tr>\n",
    "</table>"
   ]
  },
  {
   "cell_type": "markdown",
   "metadata": {},
   "source": [
    "<span style=\"font-family:Papyrus; font-size:1.25em;\">\n",
    "\n",
    "The sample values are from the Twitter API Documentation except for the \"bounding_box\" attribute, which is from a Tweet in our dataset.<br>\n",
    "\n",
    "</span>"
   ]
  },
  {
   "cell_type": "markdown",
   "metadata": {},
   "source": [
    "<span style=\"font-family:Papyrus; font-size:1.25em;\">\n",
    "    \n",
    "</span>"
   ]
  },
  {
   "cell_type": "markdown",
   "metadata": {},
   "source": [
    "# Data Analysis Codebase:"
   ]
  },
  {
   "cell_type": "markdown",
   "metadata": {},
   "source": [
    "<span style=\"font-family:Papyrus; font-size:1.25em;\">\n",
    "    \n",
    "The following sections present our current codebase that analyzes various combinations of attributes present in the raw JSON Twitter data file and preprocessed CSV Twitter data file.<br>\n",
    "\n",
    "</span>"
   ]
  },
  {
   "cell_type": "markdown",
   "metadata": {},
   "source": [
    "## Data Analysis Utility Functions:"
   ]
  },
  {
   "cell_type": "markdown",
   "metadata": {},
   "source": [
    "<span style=\"font-family:Papyrus; font-size:1.25em;\">\n",
    "\n",
    "The following sample function calls illustrate how we use the utility functions in \"slo_twitter_data_analysis_utility_functions.py\" to perform individual attribute extraction/export and data chuncking extraction/export.<br>\n",
    "\n",
    "</span>"
   ]
  },
  {
   "cell_type": "code",
   "execution_count": 3,
   "metadata": {},
   "outputs": [],
   "source": [
    "# Extract the \"created_at\" field from raw JSON file and export to CSV file.\n",
    "tweet_util.generalized_field_extraction_function(\n",
    "    \"D:/Dropbox/summer-research-2019/json/dataset_slo_20100101-20180510.json\",\n",
    "    \"D:/Dropbox/summer-research-2019/jupyter-notebooks/attribute-datasets/\",\n",
    "    \"user\", \"csv\")"
   ]
  },
  {
   "cell_type": "code",
   "execution_count": null,
   "metadata": {},
   "outputs": [],
   "source": [
    "# Read in JSON raw data as chunks and export to CSV/JSON files.\n",
    "tweet_util.generalized_json_data_chunking_file_export_function(\n",
    "    \"D:/Dropbox/summer-research-2019/json/dataset_slo_20100101-20180510.json\",\n",
    "    \"D:/Dropbox/summer-research-2019/jupyter-notebooks/dataset-chunks/\", \"csv\")"
   ]
  },
  {
   "cell_type": "markdown",
   "metadata": {},
   "source": [
    "<span style=\"font-family:Papyrus; font-size:1.25em;\">\n",
    "\n",
    "Refer to the Python file itself if interested in that codebase.  Several graphing helper functions are also included.<br>\n",
    "\n",
    "</span>"
   ]
  },
  {
   "cell_type": "markdown",
   "metadata": {},
   "source": [
    "## Import libraries and set parameters:"
   ]
  },
  {
   "cell_type": "markdown",
   "metadata": {},
   "source": [
    "<span style=\"font-family:Papyrus; font-size:1.25em;\">\n",
    "\n",
    "We import the required libraries as well as our custom utility functions for data anlysis.\n",
    "\n",
    "</span>"
   ]
  },
  {
   "cell_type": "code",
   "execution_count": 4,
   "metadata": {},
   "outputs": [],
   "source": [
    "import logging as log\n",
    "import warnings\n",
    "import time\n",
    "from matplotlib import pyplot as plt\n",
    "import numpy as np\n",
    "import pandas as pd\n",
    "import seaborn as sns\n",
    "\n",
    "# Import custom utility functions.\n",
    "import slo_twitter_data_analysis_utility_functions as tweet_util"
   ]
  },
  {
   "cell_type": "markdown",
   "metadata": {},
   "source": [
    "<span style=\"font-family:Papyrus; font-size:1.25em;\">\n",
    "\n",
    "Pandas settings alters the maximum number of rows to be displayed and the number of decimal places to display for floating point values.  We also filter out several warning types to reduce potential output clutter.<br>\n",
    "\n",
    "</span>"
   ]
  },
  {
   "cell_type": "code",
   "execution_count": 5,
   "metadata": {},
   "outputs": [],
   "source": [
    "sns.set()\n",
    "pd.options.display.max_rows = 100\n",
    "pd.set_option('precision', 7)\n",
    "warnings.simplefilter(action='ignore', category=FutureWarning)\n",
    "warnings.simplefilter(action='ignore', category=DeprecationWarning)"
   ]
  },
  {
   "cell_type": "markdown",
   "metadata": {},
   "source": [
    "<span style=\"font-family:Papyrus; font-size:1.25em;\">\n",
    "\n",
    "Change log levels between \"INFO\" and \"DEBUG\" depending on whether you wish to see log output or not.<br>\n",
    "\n",
    "</span>"
   ]
  },
  {
   "cell_type": "code",
   "execution_count": 6,
   "metadata": {},
   "outputs": [],
   "source": [
    "log.basicConfig(level=log.DEBUG)"
   ]
  },
  {
   "cell_type": "markdown",
   "metadata": {},
   "source": [
    "## Import preprocessed Twitter dataset CSV file:"
   ]
  },
  {
   "cell_type": "markdown",
   "metadata": {},
   "source": [
    "<span style=\"font-family:Papyrus; font-size:1.25em;\">\n",
    "\n",
    "We read in the untokenized Twitter dataset as a CSV file and generate a Pandas dataframe from the dataset.<br>\n",
    "\n",
    "</span>"
   ]
  },
  {
   "cell_type": "code",
   "execution_count": 4,
   "metadata": {},
   "outputs": [
    {
     "name": "stderr",
     "output_type": "stream",
     "text": [
      "INFO:root:\n",
      "The shape of our dataframe storing the contents of the csv Tweet data is:\n",
      "\n",
      "INFO:root:(658982, 9)\n",
      "INFO:root:\n",
      "The columns of our dataframe storing the contents of the csv Tweet data is:\n",
      "\n",
      "INFO:root:Index(['id', 'lang', 'language_textblob', 'retweeted', 'hashtags', 'company',\n",
      "       'text', 'user_screen_name', 'user_description'],\n",
      "      dtype='object')\n",
      "INFO:root:\n",
      "A sample from the dataframe storing the contents of the csv Tweet data is:\n",
      "\n",
      "INFO:root:\n",
      "                        id lang language_textblob  retweeted hashtags company  \\\n",
      "345030  941950316240543744   en                en       True      NaN   adani   \n",
      "\n",
      "                                                                                                                                                                                                                                                                                                                                     text  \\\n",
      "345030  RT @trishcahill: “The lack of transparency to date and the promotion of certain projects by politicians (in the absence of credible supporting investment data) has raised concerns about the viability of future investments under the NAIF\" @KarenMMiddleton @SatPaper #NAIF #StopAdani #qldpol #auspol https://t.co/wHVsqatn7J   \n",
      "\n",
      "       user_screen_name  \\\n",
      "345030      CarmelNunan   \n",
      "\n",
      "                                                                                                                                                       user_description  \n",
      "345030  Enjoy reading, music, conversation & other stuff. Travel a 'bit' left, easy going, and independent.   Be nice to others & it will generally bounce back to you.  \n",
      "\n"
     ]
    }
   ],
   "source": [
    "# Import dataset and convert to dataframe.\n",
    "tweet_preprocessed_csv_dataframe = tweet_util.import_dataset(\n",
    "    \"D:/Dropbox/summer-research-2019/datasets/dataset_20100101-20180510.csv\", \"csv\")"
   ]
  },
  {
   "cell_type": "markdown",
   "metadata": {},
   "source": [
    "<span style=\"font-family:Papyrus; font-size:1.25em;\">\n",
    " \n",
    "The above log.INFO output shows the shape, columns, and a sample from the Pandas Dataframe that contains the entirety of the CSV file.<br>\n",
    " \n",
    "</span>"
   ]
  },
  {
   "cell_type": "markdown",
   "metadata": {},
   "source": [
    "## Import raw JSON file and break into chunks:"
   ]
  },
  {
   "cell_type": "markdown",
   "metadata": {},
   "source": [
    "<span style=\"font-family:Papyrus; font-size:1.25em;\">\n",
    "\n",
    "This data analysis function reads in the raw JSON Twitter dataset and operates on chunks of data that consists of part of the whole file.  We cannot read in the entire JSON file as its 3.6 GBS filesize exceeds our memory (RAM) capacity.  The function essentially calls a specific data analysis function as specified in the parameters which operates on each chunk individually to display statistics and graphical visualizations of the data.<br>\n",
    "\n",
    "</span>"
   ]
  },
  {
   "cell_type": "code",
   "execution_count": null,
   "metadata": {},
   "outputs": [],
   "source": [
    "def call_data_analysis_function_on_json_file_chunks(input_file_path, function_name):\n",
    "    \"\"\"\n",
    "    This function reads the raw JSON Tweet dataset in chunk-by-chunk and calls the user-defined data analysis\n",
    "    function that is specified as a parameter.\n",
    "\n",
    "    :param input_file_path: absolute file path of the input raw JSON file.\n",
    "    :param function_name: name of the data analysis function to call.\n",
    "    :return: None.\n",
    "    \"\"\"\n",
    "    start_time = time.time()\n",
    "\n",
    "    # Define size of chunks to read in.\n",
    "    chunksize = 100000\n",
    "\n",
    "    # Read in the JSON file.\n",
    "    twitter_data = pd.read_json(f\"{input_file_path}\",\n",
    "                                orient='records',\n",
    "                                lines=True,\n",
    "                                chunksize=chunksize)\n",
    "\n",
    "    # Create a empty Pandas dataframe.\n",
    "    json_dataframe = pd.DataFrame()\n",
    "\n",
    "    counter = 0\n",
    "    chunk_number = 0\n",
    "\n",
    "    # Loop through chunk-by-chunk and call the data analysis function on each chunk.\n",
    "    for data in twitter_data:\n",
    "        json_dataframe = json_dataframe.append(data, ignore_index=True)\n",
    "\n",
    "        counter += 1\n",
    "        chunk_number += 1\n",
    "\n",
    "        if chunk_number == 1 and function_name == \"none\":\n",
    "            # Print shape and column names.\n",
    "            log.info(\n",
    "                f\"\\nThe shape of the dataframe storing the contents of the raw JSON Tweet file chunk \"\n",
    "                f\"{chunk_number} is:\\n\")\n",
    "            log.info(json_dataframe.shape)\n",
    "            log.info(\n",
    "                f\"\\nThe columns of the dataframe storing the contents of the raw JSON Tweet file chunk \"\n",
    "                f\"{chunk_number} is:\\n\")\n",
    "            log.info(json_dataframe.columns)\n",
    "            log.info(\n",
    "                f\"\\nA sample from the dataframe storing the contents of the raw JSON Tweet file chunk \"\n",
    "                f\"{chunk_number} is:\\n\")\n",
    "            with pd.option_context('display.max_rows', None, 'display.max_columns',\n",
    "                                   None, 'display.width', None, 'display.max_colwidth', 1000):\n",
    "                log.info(f\"\\n{json_dataframe.sample(1, axis=0)}\")\n",
    "            time.sleep(2)\n",
    "\n",
    "        if function_name != \"none\":\n",
    "            # Call the data analysis functions.\n",
    "            function_name(json_dataframe, chunk_number)\n",
    "        else:\n",
    "            return\n",
    "            # Clear the contents of the dataframe.\n",
    "        json_dataframe = pd.DataFrame()\n",
    "\n",
    "        # For debug purposes.\n",
    "        # break\n",
    "\n",
    "    end_time = time.time()\n",
    "    time_elapsed = (end_time - start_time) / 60.0\n",
    "    time.sleep(3)\n",
    "    log.info(f\"The time taken to read in the JSON file by Chunks is {time_elapsed} minutes\")\n",
    "    log.info(f\"The number of chunks is {chunk_number} based on chunk size of {chunksize}\")\n",
    "    log.info('\\n')"
   ]
  },
  {
   "cell_type": "markdown",
   "metadata": {},
   "source": [
    "<span style=\"font-family:Papyrus; font-size:1.25em;\">\n",
    "\n",
    "We currently use this function for the purpose of analyzing how many Tweets in each chunk are \"retweeted\" or \"favorited\".<br>\n",
    "\n",
    "</span>"
   ]
  },
  {
   "cell_type": "markdown",
   "metadata": {},
   "source": [
    "## Display raw JSON file data chunk dataframe information:"
   ]
  },
  {
   "cell_type": "markdown",
   "metadata": {},
   "source": [
    "<span style=\"font-family:Papyrus; font-size:1.25em;\">\n",
    "\n",
    "By specifying \"none\" as the function name, we simply print out logger INFO on the shape, columns, and a single sample of the dataframe on the first chunk of data.<br>\n",
    "\n",
    "</span>"
   ]
  },
  {
   "cell_type": "code",
   "execution_count": 7,
   "metadata": {
    "scrolled": false
   },
   "outputs": [
    {
     "name": "stderr",
     "output_type": "stream",
     "text": [
      "INFO:root:\n",
      "The shape of the dataframe storing the contents of the raw JSON Tweet file chunk 1 is:\n",
      "\n",
      "INFO:root:(100000, 30)\n",
      "INFO:root:\n",
      "The columns of the dataframe storing the contents of the raw JSON Tweet file chunk 1 is:\n",
      "\n",
      "INFO:root:Index(['contributors', 'coordinates', 'created_at', 'display_text_range',\n",
      "       'entities', 'extended_entities', 'favorite_count', 'favorited',\n",
      "       'full_text', 'geo', 'id', 'id_str', 'in_reply_to_screen_name',\n",
      "       'in_reply_to_status_id', 'in_reply_to_status_id_str',\n",
      "       'in_reply_to_user_id', 'in_reply_to_user_id_str', 'is_quote_status',\n",
      "       'lang', 'place', 'possibly_sensitive', 'quoted_status',\n",
      "       'quoted_status_id', 'quoted_status_id_str', 'retweet_count',\n",
      "       'retweeted', 'retweeted_status', 'source', 'truncated', 'user'],\n",
      "      dtype='object')\n",
      "INFO:root:\n",
      "A sample from the dataframe storing the contents of the raw JSON Tweet file chunk 1 is:\n",
      "\n",
      "INFO:root:\n",
      "       contributors coordinates          created_at display_text_range  \\\n",
      "23873           NaN        None 2016-04-11 07:21:00           [0, 140]   \n",
      "\n",
      "                                                                                                                                                                                                                                                                                                                                                                           entities  \\\n",
      "23873  {'urls': [], 'hashtags': [{'indices': [105, 111], 'text': 'adani'}], 'user_mentions': [{'indices': [3, 12], 'screen_name': 'WgarNews', 'id_str': '2908699057', 'name': 'WGAR Newsí ½í±£ #AboriginalRights AltMediaMonitor', 'id': 2908699057}, {'indices': [15, 31], 'screen_name': 'AusConservation', 'id_str': '18408045', 'name': 'ACF', 'id': 18408045}], 'symbols': []}   \n",
      "\n",
      "      extended_entities  favorite_count  favorited  \\\n",
      "23873               NaN               0      False   \n",
      "\n",
      "                                                                                                                                          full_text  \\\n",
      "23873  RT @WgarNews: '@AusConservation will take fed environ min 2 fed crt challengg his approval of  Indian co #adani ’s enormous..mine' https://…   \n",
      "\n",
      "        geo                  id              id_str in_reply_to_screen_name  \\\n",
      "23873  None  719424997031149569  719424997031149568                    None   \n",
      "\n",
      "       in_reply_to_status_id  in_reply_to_status_id_str  in_reply_to_user_id  \\\n",
      "23873                    NaN                        NaN                  NaN   \n",
      "\n",
      "       in_reply_to_user_id_str  is_quote_status lang place  \\\n",
      "23873                      NaN             True   en  None   \n",
      "\n",
      "       possibly_sensitive quoted_status  quoted_status_id  \\\n",
      "23873                 NaN           NaN     7.1934668e+17   \n",
      "\n",
      "       quoted_status_id_str  retweet_count  retweeted  \\\n",
      "23873         7.1934668e+17              6      False   \n",
      "\n",
      "                                                                                                                                                                                                                                                                                                                                                                                                                                                                                                                                                                                                                                                                                                                                                                                                                                                                                                                                                                                                                              retweeted_status  \\\n",
      "23873  {'quoted_status': {'in_reply_to_status_id_str': None, 'in_reply_to_status_id': None, 'created_at': 'Mon Apr 11 02:09:48 +0000 2016', 'in_reply_to_user_id_str': None, 'source': '<a href=\"http://mobile.twitter.com\" rel=\"nofollow\">Mobile Web</a>', 'retweet_count': 14, 'retweeted': False, 'geo': None, 'in_reply_to_screen_name': None, 'is_quote_status': False, 'full_text': 'Great Barrier Reef: new chapter opens in the fight to save natural wonder from mining (A fight we must win #Auspol) https://t.co/mQxfQVQPwN', 'id_str': '719346680307408898', 'in_reply_to_user_id': None, 'favorite_count': 9, 'id': 719346680307408898, 'place': None, 'lang': 'en', 'favorited': False, 'possibly_sensitive': False, 'coordinates': None, 'truncated': False, 'entities': {'urls': [{'display_url': 'gu.com/p/4t7kc/stw', 'indices': [116, 139], 'expanded_url': 'http://gu.com/p/4t7kc/stw', 'url': 'https://t.co/mQxfQVQPwN'}], 'hashtags': [{'indices': [107, 114], 'text': 'Auspol'}], 'user_mentions': [], 'symbols': []...   \n",
      "\n",
      "                                                                                  source  \\\n",
      "23873  <a href=\"http://twitter.com/#!/download/ipad\" rel=\"nofollow\">Twitter for iPad</a>   \n",
      "\n",
      "       truncated  \\\n",
      "23873      False   \n",
      "\n",
      "                                                                                                                                                                                                                                                                                                                                                                                                                                                                                                                                                                                                                                                                                                                                                                                                                                                                                                                                                                                                                                          user  \n",
      "23873  {'utc_offset': 34200, 'friends_count': 4998, 'profile_image_url_https': 'https://pbs.twimg.com/profile_images/687213167361970176/nnlUmJpA_normal.jpg', 'listed_count': 379, 'profile_background_image_url': 'http://abs.twimg.com/images/themes/theme13/bg.gif', 'default_profile_image': False, 'favourites_count': 84184, 'description': '', 'created_at': 'Fri Jan 29 11:25:34 +0000 2010', 'is_translator': False, 'profile_background_image_url_https': 'https://abs.twimg.com/images/themes/theme13/bg.gif', 'protected': False, 'screen_name': 'DanaScully2', 'id_str': '109535426', 'profile_link_color': '93A644', 'is_translation_enabled': False, 'translator_type': 'none', 'id': 109535426, 'geo_enabled': False, 'profile_background_color': 'B2DFDA', 'lang': 'en', 'has_extended_profile': False, 'profile_sidebar_border_color': 'EEEEEE', 'profile_text_color': '333333', 'verified': False, 'profile_image_url': 'http://pbs.twimg.com/profile_images/687213167361970176/nnlUmJpA_normal.jpg', 'time_zone': 'Adel...  \n"
     ]
    }
   ],
   "source": [
    "tweet_util.call_data_analysis_function_on_json_file_chunks(\n",
    "    \"D:/Dropbox/summer-research-2019/json/dataset_slo_20100101-20180510.json\", \"none\")"
   ]
  },
  {
   "cell_type": "markdown",
   "metadata": {},
   "source": [
    "<span style=\"font-family:Papyrus; font-size:1.25em;\">\n",
    "\n",
    "As can be seen, each Tweet object in its raw JSON form contains many different attributes.  The \"user\" attribute is a Object itself that especially contains many other attributes and Objects.<br>\n",
    "\n",
    "</span>"
   ]
  },
  {
   "cell_type": "markdown",
   "metadata": {},
   "source": [
    "## Tweet Attributes Analysis :"
   ]
  },
  {
   "cell_type": "markdown",
   "metadata": {},
   "source": [
    "<span style=\"font-family:Papyrus; font-size:1.25em;\">\n",
    "\n",
    "Here we begin to analyze various aspects of our raw data.<br>\n",
    "\n",
    "</span>"
   ]
  },
  {
   "cell_type": "code",
   "execution_count": 6,
   "metadata": {},
   "outputs": [],
   "source": [
    "mylog = log.getLogger(\"matplotlib\")\n",
    "mylog.setLevel(log.INFO)"
   ]
  },
  {
   "cell_type": "markdown",
   "metadata": {},
   "source": [
    "<span style=\"font-family:Papyrus; font-size:1.25em;\">\n",
    "\n",
    "Disable \"DEBUG\" level messages for matplotlib specifically.<br>\n",
    "\n",
    "</span>"
   ]
  },
  {
   "cell_type": "markdown",
   "metadata": {},
   "source": [
    "### Time Series Statistics:"
   ]
  },
  {
   "cell_type": "markdown",
   "metadata": {},
   "source": [
    "<span style=\"font-family:Papyrus; font-size:1.25em;\">\n",
    "\n",
    "This function analyzes when a Tweet was created and accrues statistics on the # of Tweets created in the same time period across the entire dataset .<br>\n",
    "\n",
    "</span>"
   ]
  },
  {
   "cell_type": "code",
   "execution_count": 10,
   "metadata": {
    "scrolled": false
   },
   "outputs": [],
   "source": [
    "def tweet_count_by_timedate_time_series(created_at_attribute_file, file_type):\n",
    "    \"\"\"\n",
    "    Visualize the Tweet creation time based on time-date information in the \"created_at\" attribute field of the\n",
    "    input file.\n",
    "\n",
    "    This function will work for any JSON file or CSV file that contains a attribute or column named \"created_at\".\n",
    "\n",
    "    Note: Ensure input file is small enough to fit in RAM.  This function will not read in data by chunks!\n",
    "\n",
    "    :param file_type: type of input file.\n",
    "    :param created_at_attribute_file: the input file containing the \"created_at\" Tweet attribute.\n",
    "    :return: None.\n",
    "    \"\"\"\n",
    "    start_time = time.time()\n",
    "\n",
    "    if file_type == \"csv\":\n",
    "        twitter_data = pd.read_csv(f\"{created_at_attribute_file}\", sep=\",\")\n",
    "    elif file_type == \"json\":\n",
    "        twitter_data = pd.read_json(f\"{created_at_attribute_file}\",\n",
    "                                    orient='records',\n",
    "                                    lines=True)\n",
    "    else:\n",
    "        print(f\"Invalid file type entered - aborting operation\")\n",
    "        return\n",
    "\n",
    "    # Create a empty Pandas dataframe.\n",
    "    json_dataframe = pd.DataFrame(twitter_data)\n",
    "\n",
    "    plt.figure()\n",
    "    plt.title(f\"Tweet Creation Time-Date Count by Year/Month/Day\")\n",
    "    plt.xlabel(\"Year/Month/Day\")\n",
    "    plt.ylabel(\"Tweet Count\")\n",
    "    pd.to_datetime(json_dataframe['created_at']).value_counts().resample('1D').sum().plot()\n",
    "    plt.show()\n",
    "    end_time = time.time()\n",
    "    time_elapsed = (end_time - start_time) / 60.0\n",
    "    log.debug(f\"The time taken to visualize the statistics is {time_elapsed} minutes\")"
   ]
  },
  {
   "cell_type": "markdown",
   "metadata": {},
   "source": [
    "<span style=\"font-family:Papyrus; font-size:1.25em;\">\n",
    "\n",
    "We call our data analysis function.  Notice that we have pre-extracted just the one attribute we need into a separate CSV file so that the time-date information for all 650k+ Tweets in our raw JSON file fits into memory (RAM).<br>\n",
    "\n",
    "</span>"
   ]
  },
  {
   "cell_type": "code",
   "execution_count": 11,
   "metadata": {
    "scrolled": false
   },
   "outputs": [
    {
     "data": {
      "image/png": "[encoded data removed]",
      "text/plain": [
       "<Figure size 432x288 with 1 Axes>"
      ]
     },
     "metadata": {},
     "output_type": "display_data"
    }
   ],
   "source": [
    "# Display Tweet count by time-date time series statistics.\n",
    "tweet_count_by_timedate_time_series(\n",
    "    \"D:/Dropbox/summer-research-2019/jupyter-notebooks/attribute-datasets/created_at-attribute.csv\",\n",
    "    \"csv\")"
   ]
  },
  {
   "cell_type": "markdown",
   "metadata": {},
   "source": [
    "<span style=\"font-family:Papyrus; font-size:1.25em;\">\n",
    "\n",
    "As we can see, more of the Tweets were created relatively recently in 2017 and 2018.  The further we go back in time, the fewer Tweets we have.<br>\n",
    "\n",
    "</span>"
   ]
  },
  {
   "cell_type": "markdown",
   "metadata": {},
   "source": [
    "### Re-Tweet Statistics for raw JSON dataset:"
   ]
  },
  {
   "cell_type": "markdown",
   "metadata": {},
   "source": [
    "<span style=\"font-family:Papyrus; font-size:1.25em;\">\n",
    "\n",
    "Here, we analyze the number of \"True\" or \"False\" values for the \"retweeted\" attribute for each chunk of the raw JSON file.<br>\n",
    "\n",
    "</span>"
   ]
  },
  {
   "cell_type": "code",
   "execution_count": 27,
   "metadata": {},
   "outputs": [],
   "source": [
    "def json_retweeted(json_dataframe, chunk):\n",
    "    \"\"\"\n",
    "    Re-tweet statistics and visualizations for the raw JSON Twitter data chunks.\n",
    "\n",
    "    :param json_dataframe: the dataframe containing the JSON data chunk.\n",
    "    :param chunk: the JSON data chunk number.\n",
    "    :return: None.\n",
    "    \"\"\"\n",
    "    print(f\"Re-Tweet Statistics for raw JSON Twitter data chunk {chunk}:\")\n",
    "    print(json_dataframe['retweeted'].value_counts())\n",
    "    print()"
   ]
  },
  {
   "cell_type": "markdown",
   "metadata": {},
   "source": [
    "<span style=\"font-family:Papyrus; font-size:1.25em;\">\n",
    "    \n",
    "We call the the data analysis function for each chunk of data until we have accounted for the entire raw JSON Twitter dataset.<br>\n",
    "    \n",
    "</span>"
   ]
  },
  {
   "cell_type": "code",
   "execution_count": 28,
   "metadata": {
    "scrolled": false
   },
   "outputs": [
    {
     "name": "stdout",
     "output_type": "stream",
     "text": [
      "Re-Tweet Statistics for raw JSON Twitter data chunk 1:\n",
      "False    100000\n",
      "Name: retweeted, dtype: int64\n",
      "\n",
      "Re-Tweet Statistics for raw JSON Twitter data chunk 2:\n",
      "False    100000\n",
      "Name: retweeted, dtype: int64\n",
      "\n",
      "Re-Tweet Statistics for raw JSON Twitter data chunk 3:\n",
      "False    100000\n",
      "Name: retweeted, dtype: int64\n",
      "\n",
      "Re-Tweet Statistics for raw JSON Twitter data chunk 4:\n",
      "False    100000\n",
      "Name: retweeted, dtype: int64\n",
      "\n",
      "Re-Tweet Statistics for raw JSON Twitter data chunk 5:\n",
      "False    100000\n",
      "Name: retweeted, dtype: int64\n",
      "\n",
      "Re-Tweet Statistics for raw JSON Twitter data chunk 6:\n",
      "False    100000\n",
      "Name: retweeted, dtype: int64\n",
      "\n"
     ]
    },
    {
     "name": "stderr",
     "output_type": "stream",
     "text": [
      "INFO:root:The time taken to read in the JSON file by Chunks is 5.142159159978231 minutes\n",
      "INFO:root:The number of chunks is 7 based on chunk size of 100000\n",
      "INFO:root:\n",
      "\n"
     ]
    },
    {
     "name": "stdout",
     "output_type": "stream",
     "text": [
      "Re-Tweet Statistics for raw JSON Twitter data chunk 7:\n",
      "False    70423\n",
      "Name: retweeted, dtype: int64\n",
      "\n"
     ]
    }
   ],
   "source": [
    "tweet_util.call_data_analysis_function_on_json_file_chunks(\n",
    "    \"D:/Dropbox/summer-research-2019/json/dataset_slo_20100101-20180510.json\", json_retweeted)"
   ]
  },
  {
   "cell_type": "markdown",
   "metadata": {},
   "source": [
    "<span style=\"font-family:Papyrus; font-size:1.25em;\">\n",
    "\n",
    "It appears that none of our Tweets have been retweeted.  We find this rather odd for a dataset of 650k+ Tweets.  We may need to look further into what exactly the \"retweeted\" attribute is referencing.  From our tables above, the \"retweeted\" field \"Indicates whether this Tweet has been Retweeted by the authenticating user.\"<br>\n",
    "\n",
    "</span>"
   ]
  },
  {
   "cell_type": "markdown",
   "metadata": {},
   "source": [
    "### Favorited Statistics for raw JSON dataset:"
   ]
  },
  {
   "cell_type": "markdown",
   "metadata": {},
   "source": [
    "<span style=\"font-family:Papyrus; font-size:1.25em;\">\n",
    "\n",
    "Here, we analyze the number of \"True\" or \"False\" values for the \"favorited\" attribute for each chunk of the raw JSON file.<br>\n",
    "\n",
    "</span>"
   ]
  },
  {
   "cell_type": "code",
   "execution_count": 30,
   "metadata": {},
   "outputs": [],
   "source": [
    "def json_favorited(json_dataframe, chunk):\n",
    "    \"\"\"\n",
    "    Re-tweet statistics and visualizations for the raw JSON Twitter data chunks.\n",
    "\n",
    "    :param json_dataframe: the dataframe containing the JSON data chunk.\n",
    "    :param chunk: the JSON data chunk number.\n",
    "    :return: None.\n",
    "    \"\"\"\n",
    "    print(f\"Re-Tweet Statistics for raw JSON Twitter data chunk {chunk}:\")\n",
    "    print(json_dataframe['favorited'].value_counts())\n",
    "    print()"
   ]
  },
  {
   "cell_type": "markdown",
   "metadata": {},
   "source": [
    "<span style=\"font-family:Papyrus; font-size:1.25em;\">\n",
    "\n",
    "We call the the data analysis function for each chunk of data until we have accounted for the entire raw JSON Twitter dataset.<br>\n",
    "\n",
    "</span>"
   ]
  },
  {
   "cell_type": "code",
   "execution_count": 31,
   "metadata": {},
   "outputs": [
    {
     "name": "stdout",
     "output_type": "stream",
     "text": [
      "Re-Tweet Statistics for raw JSON Twitter data chunk 1:\n",
      "False    100000\n",
      "Name: favorited, dtype: int64\n",
      "\n",
      "Re-Tweet Statistics for raw JSON Twitter data chunk 2:\n",
      "False    100000\n",
      "Name: favorited, dtype: int64\n",
      "\n",
      "Re-Tweet Statistics for raw JSON Twitter data chunk 3:\n",
      "False    100000\n",
      "Name: favorited, dtype: int64\n",
      "\n",
      "Re-Tweet Statistics for raw JSON Twitter data chunk 4:\n",
      "False    100000\n",
      "Name: favorited, dtype: int64\n",
      "\n",
      "Re-Tweet Statistics for raw JSON Twitter data chunk 5:\n",
      "False    100000\n",
      "Name: favorited, dtype: int64\n",
      "\n",
      "Re-Tweet Statistics for raw JSON Twitter data chunk 6:\n",
      "False    100000\n",
      "Name: favorited, dtype: int64\n",
      "\n",
      "Re-Tweet Statistics for raw JSON Twitter data chunk 7:\n",
      "False    70423\n",
      "Name: favorited, dtype: int64\n",
      "\n"
     ]
    },
    {
     "name": "stderr",
     "output_type": "stream",
     "text": [
      "INFO:root:The time taken to read in the JSON file by Chunks is 5.228271007537842 minutes\n",
      "INFO:root:The number of chunks is 7 based on chunk size of 100000\n",
      "INFO:root:\n",
      "\n"
     ]
    }
   ],
   "source": [
    "tweet_util.call_data_analysis_function_on_json_file_chunks(\n",
    "    \"D:/Dropbox/summer-research-2019/json/dataset_slo_20100101-20180510.json\", json_favorited)"
   ]
  },
  {
   "cell_type": "markdown",
   "metadata": {},
   "source": [
    "<span style=\"font-family:Papyrus; font-size:1.25em;\">\n",
    "\n",
    "It appears that none of our Tweets have been favorited.  We find this rather odd for a dataset of 650k+ Tweets.  We may need to look further into what exactly the \"favorited\" attribute is referencing.  From our tables above, the \"Favorited\" field \"Indicates whether this Tweet has been liked by the authenticating user\".<br>\n",
    "\n",
    "</span>"
   ]
  },
  {
   "cell_type": "markdown",
   "metadata": {},
   "source": [
    "### Re-Tweet Statistics for preprocessed CSV Twitter dataset:"
   ]
  },
  {
   "cell_type": "markdown",
   "metadata": {},
   "source": [
    "<span style=\"font-family:Papyrus; font-size:1.25em;\">\n",
    "\n",
    "Here, we analyze the number of \"True\" or \"False\" values for the \"retweeted\" attribute for the preprocessed CSV Tweet data file.<br>\n",
    "\n",
    "</span>"
   ]
  },
  {
   "cell_type": "code",
   "execution_count": 12,
   "metadata": {
    "scrolled": false
   },
   "outputs": [],
   "source": [
    "def csv_retweeted(tweet_csv_dataframe):\n",
    "    \"\"\"\n",
    "    Re-tweet statistics and visualizations for the CSV Twitter preprocessed dataset.\n",
    "\n",
    "    Note: The raw JSON file does not have associated \"company\" information.\n",
    "\n",
    "    :return: None.\n",
    "    \"\"\"\n",
    "\n",
    "    print(\"Re-Tweet Statistics for entire CSV dataset:\")\n",
    "    print(tweet_csv_dataframe['retweeted'].value_counts())\n",
    "    print()\n",
    "\n",
    "    print(\"Re-Tweet Statistics for CSV dataset by Company:\")\n",
    "    print(\"Number of Tweets that are or aren't re-tweets by associated company: \")\n",
    "    print(tweet_csv_dataframe.groupby(['company', 'retweeted']).size())\n",
    "    print()\n",
    "\n",
    "    # Graph the Re-Tweet Statistics.\n",
    "    print(\"Proportion of Re-Tweets versus non Re-Tweets by associated company: \")\n",
    "    plt.figure()\n",
    "    grid = sns.FacetGrid(tweet_csv_dataframe[['retweeted', 'company']], col='company', col_wrap=6,\n",
    "                         ylim=(0, 1))\n",
    "    grid.map_dataframe(tweet_util.bar_plot, 'retweeted').set_titles('{col_name}')\n",
    "    plt.show()"
   ]
  },
  {
   "cell_type": "markdown",
   "metadata": {},
   "source": [
    "<span style=\"font-family:Papyrus; font-size:1.25em;\">\n",
    "    \n",
    "Unlike with the raw JSON Twitter dataset, we do not need to read the CSV file in chunks and can analyze its contents as a whole.<br>\n",
    "    \n",
    "</span>"
   ]
  },
  {
   "cell_type": "code",
   "execution_count": 13,
   "metadata": {},
   "outputs": [
    {
     "name": "stdout",
     "output_type": "stream",
     "text": [
      "Re-Tweet Statistics for entire CSV dataset:\n",
      "True     441619\n",
      "False    217363\n",
      "Name: retweeted, dtype: int64\n",
      "\n",
      "Re-Tweet Statistics for CSV dataset by Company:\n",
      "Number of Tweets that are or aren't re-tweets by associated company: \n",
      "company     retweeted\n",
      "adani       False        106946\n",
      "            True         321505\n",
      "bhp         False         40287\n",
      "            True          29164\n",
      "cuesta      False            63\n",
      "            True             27\n",
      "fortescue   False          7588\n",
      "            True           4304\n",
      "iluka       False          2598\n",
      "            True            517\n",
      "newmont     False           716\n",
      "            True            178\n",
      "oilsearch   False          1547\n",
      "            True            656\n",
      "riotinto    False         15680\n",
      "            True           9898\n",
      "santos      False         25497\n",
      "            True          61604\n",
      "whitehaven  False          6504\n",
      "            True           8206\n",
      "woodside    False          9937\n",
      "            True           5560\n",
      "dtype: int64\n",
      "\n",
      "Proportion of Re-Tweets versus non Re-Tweets by associated company: \n"
     ]
    },
    {
     "data": {
      "text/plain": [
       "<Figure size 432x288 with 0 Axes>"
      ]
     },
     "metadata": {},
     "output_type": "display_data"
    },
    {
     "data": {
      "image/png": "[encoded data removed]",
      "text/plain": [
       "<Figure size 1296x432 with 11 Axes>"
      ]
     },
     "metadata": {},
     "output_type": "display_data"
    }
   ],
   "source": [
    "# Determine whether Tweets have been re-Tweeted.\n",
    "csv_retweeted(tweet_preprocessed_csv_dataframe)"
   ]
  },
  {
   "cell_type": "markdown",
   "metadata": {},
   "source": [
    "<span style=\"font-family:Papyrus; font-size:1.25em;\">\n",
    "\n",
    "The graphs show the proportion of Tweets that are or are not re-tweets by the company the Tweets are associated with.<br>\n",
    "\n",
    "0.0 = NOT a re-tweet.<br>\n",
    "1.0 = IS a re-tweet.<br>\n",
    "\n",
    "</span>"
   ]
  },
  {
   "cell_type": "markdown",
   "metadata": {},
   "source": [
    "### User Statistics for preprocessed CSV Twitter dataset:"
   ]
  },
  {
   "cell_type": "markdown",
   "metadata": {},
   "source": [
    "<span style=\"font-family:Papyrus; font-size:1.25em;\">\n",
    "\n",
    "This function provides text-based statistics on the users that account for the most Tweets about a given company.  It also constructs graphs that displays how many of the Tweets for a given company are created by those users in comparison to each other.<br>\n",
    "\n",
    "</span>"
   ]
  },
  {
   "cell_type": "code",
   "execution_count": 14,
   "metadata": {
    "scrolled": false
   },
   "outputs": [],
   "source": [
    "def most_tweets_by_users_per_company(tweet_csv_dataframe):\n",
    "    \"\"\"\n",
    "    User related statistics and visualizations.\n",
    "\n",
    "    Note: The raw JSON file does not have associated \"company\" information.\n",
    "\n",
    "    :return: None.\n",
    "    \"\"\"\n",
    "\n",
    "    # Adjusted parameters to allow statistics for all companies to show in output.\n",
    "    pd.set_option(\"display.precision\", 12)\n",
    "    pd.options.display.max_rows = 100\n",
    "\n",
    "    print(\"User Statistics for CSV dataset by Company: \")\n",
    "    print(\"Top Tweet counts for unique user by associated company.\")\n",
    "    print(\n",
    "        tweet_csv_dataframe[['company', 'user_screen_name']].groupby('company')\n",
    "            .apply(lambda x: x['user_screen_name'].value_counts(normalize=True).head())\n",
    "        # .value_counts(normalize=True)\\\n",
    "        # .sort_index(ascending=False).head())\n",
    "    )\n",
    "    print()\n",
    "\n",
    "    # Graph the User Statistics.\n",
    "    print(\"Proportion of most Tweets for unique users by associated company: \")\n",
    "    plt.figure()\n",
    "    grid = sns.FacetGrid(tweet_csv_dataframe[['user_screen_name', 'company']], col='company', col_wrap=6,\n",
    "                         ylim=(0, 1),\n",
    "                         xlim=(0, 10))\n",
    "    grid.map_dataframe(tweet_util.bar_plot_zipf, 'user_screen_name').set_titles('{col_name}').set_xlabels(\n",
    "        'appearance count')\n",
    "    plt.show()"
   ]
  },
  {
   "cell_type": "markdown",
   "metadata": {},
   "source": [
    "<span style=\"font-family:Papyrus; font-size:1.25em;\">\n",
    "\n",
    "We cannot currently perform this analysis on the raw JSON Tweet data file as it has not been auto-encoded or hand-labeled to be associated with a SLO mining company.  Thus, we are restricted to analyzing the preprocessed CSV dataset that does possess this information.  In the future, we may re-preprocess the raw JSON Tweet data file and export the results to a new JSON or CSV file that does contain a attribute or column with auto-encoded \"company\" information.<br>\n",
    "\n",
    "</span>"
   ]
  },
  {
   "cell_type": "code",
   "execution_count": 15,
   "metadata": {},
   "outputs": [
    {
     "name": "stdout",
     "output_type": "stream",
     "text": [
      "User Statistics for CSV dataset by Company: \n",
      "Top Tweet counts for unique user by associated company.\n",
      "company                    \n",
      "adani       WgarNews           0.015194269590\n",
      "            GalileeBlockade    0.008992860327\n",
      "            MarkPlackett1      0.007520113152\n",
      "            SeanBradbery       0.007069653239\n",
      "            garland_paige      0.006686879013\n",
      "bhp         CommSec            0.026205526198\n",
      "            aus_business       0.014744208147\n",
      "            FinancialReview    0.013750701934\n",
      "            icharttop          0.011720493585\n",
      "            3novicesSydney     0.009186332810\n",
      "cuesta      ABN_Newswire       0.144444444444\n",
      "            proactive_au       0.133333333333\n",
      "            sharecafetweets    0.055555555556\n",
      "            MktTrader          0.055555555556\n",
      "            ShareScene         0.055555555556\n",
      "fortescue   FortescueNews      0.049781365624\n",
      "            aus_business       0.016986209216\n",
      "            FinancialReview    0.014547595022\n",
      "            TweetingRoo        0.012361251261\n",
      "            CommSec            0.012277161117\n",
      "iluka       funksoulmamma      0.062279293740\n",
      "            shireendupreez     0.028571428571\n",
      "            BayplayTours       0.017656500803\n",
      "            wabusinessnews     0.017014446228\n",
      "            CommSec            0.016693418941\n",
      "newmont     Mining_Work        0.070469798658\n",
      "            miningmentor       0.055928411633\n",
      "            RallyWA            0.048098434004\n",
      "            Safety_Dance_      0.040268456376\n",
      "            ozmining           0.029082774049\n",
      "oilsearch   FinancialReview    0.039945528824\n",
      "            aus_business       0.037675896505\n",
      "            CommSec            0.037221970041\n",
      "            angelamacd         0.026781661371\n",
      "            TweetingRoo        0.025873808443\n",
      "riotinto    FinancialReview    0.016850418328\n",
      "            TyroneArgyle       0.015833919775\n",
      "            aus_business       0.015560247087\n",
      "            ozmining           0.010712330909\n",
      "            MiningJobsAU       0.010164985534\n",
      "santos      CRAG_Coona         0.051354175038\n",
      "            coonavass          0.019127220124\n",
      "            nocsg              0.013616376391\n",
      "            1EarthMedia        0.011377596124\n",
      "            JHH__              0.009747304853\n",
      "whitehaven  kateausburn        0.014411964650\n",
      "            peterjameswills    0.013120326309\n",
      "            co2ppm             0.011624745071\n",
      "            Queensland         0.009925220938\n",
      "            nocsg              0.009313392250\n",
      "woodside    Woodside_Park      0.026908433890\n",
      "            CFSAlerts          0.023811060205\n",
      "            WoodsideEnergy     0.019487642770\n",
      "            IncidentAlertS1    0.013744595728\n",
      "            aus_business       0.010647222043\n",
      "Name: user_screen_name, dtype: float64\n",
      "\n",
      "Proportion of most Tweets for unique users by associated company: \n"
     ]
    },
    {
     "data": {
      "text/plain": [
       "<Figure size 432x288 with 0 Axes>"
      ]
     },
     "metadata": {},
     "output_type": "display_data"
    },
    {
     "data": {
      "image/png": "[encoded data removed]",
      "text/plain": [
       "<Figure size 1296x432 with 11 Axes>"
      ]
     },
     "metadata": {},
     "output_type": "display_data"
    }
   ],
   "source": [
    "# Determine the Tweet count for most prolific user by company.\n",
    "most_tweets_by_users_per_company(tweet_preprocessed_csv_dataframe)"
   ]
  },
  {
   "cell_type": "markdown",
   "metadata": {},
   "source": [
    "<span style=\"font-family:Papyrus; font-size:1.25em;\">\n",
    "\n",
    "The text output displays the top 5 unique users that account for the largest proportion of Tweets that are associated with a given company.  The graph output shows that there are a few users that account for the majority of Tweets about a given company.<br>\n",
    "\n",
    "</span>"
   ]
  },
  {
   "cell_type": "markdown",
   "metadata": {},
   "source": [
    "### Character Count Statistics preprocessed CSV Twitter dataset::"
   ]
  },
  {
   "cell_type": "markdown",
   "metadata": {},
   "source": [
    "<span style=\"font-family:Papyrus; font-size:1.25em;\">\n",
    "\n",
    "This function provides character counts for all the Tweets associated with a given company.  We then plot a relative frequency histogram of those counts across all the Tweets in the dataset.<br>\n",
    "\n",
    "</span>"
   ]
  },
  {
   "cell_type": "code",
   "execution_count": 16,
   "metadata": {},
   "outputs": [],
   "source": [
    "def tweet_character_counts(tweet_csv_dataframe):\n",
    "    \"\"\"\n",
    "    Character related statistics and visualizations.\n",
    "\n",
    "    Note: The raw JSON file does not have associated \"company\" information.\n",
    "\n",
    "    :return: None.\n",
    "    \"\"\"\n",
    "\n",
    "    def relhist_proc(col, **kwargs):\n",
    "        \"\"\"\n",
    "        Helper function to visualize the data.\n",
    "\n",
    "        :param col: the columns of the graph.\n",
    "        :param kwargs: variable number of arguments.\n",
    "        :return: None.\n",
    "        \"\"\"\n",
    "        ax = plt.gca()\n",
    "        data = kwargs.pop('data')\n",
    "        proc = kwargs.pop('proc')\n",
    "        processed = proc(data[col])\n",
    "        # relative frequency histogram\n",
    "        # https://stackoverflow.com/questions/9767241/setting-a-relative-frequency-in-a-matplotlib-histogram\n",
    "        ax.hist(processed, weights=np.ones_like(processed) / processed.size, **kwargs)\n",
    "\n",
    "    def char_len(tweets):\n",
    "        \"\"\"\n",
    "        Determine the length of the Tweet text.\n",
    "\n",
    "        :param tweets: the Tweet text.\n",
    "        :return: the length of the Tweet.\n",
    "        \"\"\"\n",
    "        return tweets.str.len()\n",
    "\n",
    "    print(\"Character Statistics for CSV dataset by Company: \")\n",
    "    print(\"Character count relative frequency histogram: \")\n",
    "    plt.figure()\n",
    "    grid = sns.FacetGrid(tweet_csv_dataframe[['text', 'company']], col='company', col_wrap=6, ylim=(0, 1))\n",
    "    grid.map_dataframe(relhist_proc, 'text', bins=10, proc=char_len).set_titles('{col_name}')\n",
    "    plt.show()"
   ]
  },
  {
   "cell_type": "markdown",
   "metadata": {},
   "source": [
    "<span style=\"font-family:Papyrus; font-size:1.25em;\">\n",
    "\n",
    "We cannot currently perform this analysis on the raw JSON Tweet data file as it has not been auto-encoded or hand-labeled to be associated with a SLO mining company.  Thus, we are restricted to analyzing the preprocessed CSV dataset that does possess this information.  In the future, we may re-preprocess the raw JSON Tweet data file and export the results to a new JSON or CSV file that does contain a attribute or column with auto-encoded \"company\" information.<br>\n",
    "\n",
    "</span>"
   ]
  },
  {
   "cell_type": "code",
   "execution_count": 17,
   "metadata": {},
   "outputs": [
    {
     "name": "stdout",
     "output_type": "stream",
     "text": [
      "Character Statistics for CSV dataset by Company: \n",
      "Character count relative frequency histogram: \n"
     ]
    },
    {
     "data": {
      "text/plain": [
       "<Figure size 432x288 with 0 Axes>"
      ]
     },
     "metadata": {},
     "output_type": "display_data"
    },
    {
     "data": {
      "image/png": "[encoded data removed]",
      "text/plain": [
       "<Figure size 1296x432 with 11 Axes>"
      ]
     },
     "metadata": {},
     "output_type": "display_data"
    }
   ],
   "source": [
    "# Determine the # of characters in Tweets via relative frequency histogram.\n",
    "tweet_character_counts(tweet_preprocessed_csv_dataframe)"
   ]
  },
  {
   "cell_type": "markdown",
   "metadata": {},
   "source": [
    "<span style=\"font-family:Papyrus; font-size:1.25em;\">\n",
    "\n",
    "The graph outputs appear to show that most Tweets for any given company are relatively long in length.  It would have been nice if Shuntaro Yada, from whom we adapted this data analysis, had constructed matplotlib graphing functions with more explicit and detailed information.<br>\n",
    "\n",
    "**FIXME - is this the correct interpretation?**<br>\n",
    "\n",
    "</span>"
   ]
  },
  {
   "cell_type": "markdown",
   "metadata": {},
   "source": [
    "## Pandas.describe() Analysis for Individual Attributes:"
   ]
  },
  {
   "cell_type": "markdown",
   "metadata": {},
   "source": [
    "<span style=\"font-family:Papyrus; font-size:1.25em;\">\n",
    "\n",
    "This function uses the built-in \"describe\" function for a Pandas dataframe to output statistics relevant to the type of data that is present for a single attribute.<br>\n",
    "\n",
    "</span>"
   ]
  },
  {
   "cell_type": "code",
   "execution_count": 7,
   "metadata": {},
   "outputs": [],
   "source": [
    "def attribute_describe(input_file_path, attribute_name):\n",
    "    \"\"\"\n",
    "    Function utilizes Pandas \"describe\" function to return dataframe statistics.\n",
    "\n",
    "    :param input_file_path: absolute file path of the dataset in CSV format.\n",
    "    :param attribute_name:  name of the attribute we are analyzing.\n",
    "    :return: None.\n",
    "    \"\"\"\n",
    "    dataframe = tweet_util.import_dataset(\n",
    "        f\"{input_file_path}\", \"csv\")\n",
    "\n",
    "    print(f\"Pandas describe for {attribute_name}: \")\n",
    "    print(dataframe.describe(include='all'))"
   ]
  },
  {
   "cell_type": "code",
   "execution_count": 8,
   "metadata": {},
   "outputs": [
    {
     "name": "stderr",
     "output_type": "stream",
     "text": [
      "INFO:root:\n",
      "The shape of our dataframe storing the contents of the csv Tweet data is:\n",
      "\n",
      "INFO:root:(700000, 1)\n",
      "INFO:root:\n",
      "The columns of our dataframe storing the contents of the csv Tweet data is:\n",
      "\n",
      "INFO:root:Index(['full_text'], dtype='object')\n",
      "INFO:root:\n",
      "A sample from the dataframe storing the contents of the csv Tweet data is:\n",
      "\n",
      "INFO:root:\n",
      "                                                                                                                                           full_text\n",
      "210439  RT @stopadanisydney: It's no laughing matter - Australias oldest bank is faciliating this atrocity of a mine #stopadani @commbank https://t…\n",
      "\n"
     ]
    },
    {
     "name": "stdout",
     "output_type": "stream",
     "text": [
      "Pandas describe for full_text: \n",
      "                                                full_text\n",
      "count                                              670423\n",
      "unique                                             336124\n",
      "top     RT @AdamBandt: RT if you want Labor &amp; Bill...\n",
      "freq                                                  769\n"
     ]
    }
   ],
   "source": [
    "attribute_describe(\"D:/Dropbox/summer-research-2019/jupyter-notebooks/attribute-datasets/full_text-attribute.csv\",\n",
    "                   \"full_text\")"
   ]
  },
  {
   "cell_type": "code",
   "execution_count": 9,
   "metadata": {},
   "outputs": [
    {
     "name": "stderr",
     "output_type": "stream",
     "text": [
      "INFO:root:\n",
      "The shape of our dataframe storing the contents of the csv Tweet data is:\n",
      "\n",
      "INFO:root:(700000, 1)\n",
      "INFO:root:\n",
      "The columns of our dataframe storing the contents of the csv Tweet data is:\n",
      "\n",
      "INFO:root:Index(['retweet_count'], dtype='object')\n",
      "INFO:root:\n",
      "A sample from the dataframe storing the contents of the csv Tweet data is:\n",
      "\n",
      "INFO:root:\n",
      "       retweet_count\n",
      "39296           10.0\n",
      "\n"
     ]
    },
    {
     "name": "stdout",
     "output_type": "stream",
     "text": [
      "Pandas describe for retweet_count: \n",
      "        retweet_count\n",
      "count  670423.0000000\n",
      "mean       57.1754370\n",
      "std       282.2675567\n",
      "min         0.0000000\n",
      "25%         1.0000000\n",
      "50%         8.0000000\n",
      "75%        37.0000000\n",
      "max     98886.0000000\n"
     ]
    }
   ],
   "source": [
    "attribute_describe(\n",
    "    \"D:/Dropbox/summer-research-2019/jupyter-notebooks/attribute-datasets/retweet_count-attribute.csv\",\n",
    "    \"retweet_count\")"
   ]
  },
  {
   "cell_type": "code",
   "execution_count": 10,
   "metadata": {},
   "outputs": [
    {
     "name": "stderr",
     "output_type": "stream",
     "text": [
      "INFO:root:\n",
      "The shape of our dataframe storing the contents of the csv Tweet data is:\n",
      "\n",
      "INFO:root:(700000, 1)\n",
      "INFO:root:\n",
      "The columns of our dataframe storing the contents of the csv Tweet data is:\n",
      "\n",
      "INFO:root:Index(['favorite_count'], dtype='object')\n",
      "INFO:root:\n",
      "A sample from the dataframe storing the contents of the csv Tweet data is:\n",
      "\n",
      "INFO:root:\n",
      "        favorite_count\n",
      "470465             0.0\n",
      "\n"
     ]
    },
    {
     "name": "stdout",
     "output_type": "stream",
     "text": [
      "Pandas describe for favorite_count: \n",
      "       favorite_count\n",
      "count  670423.0000000\n",
      "mean        0.9603832\n",
      "std        14.0881115\n",
      "min         0.0000000\n",
      "25%         0.0000000\n",
      "50%         0.0000000\n",
      "75%         0.0000000\n",
      "max      4323.0000000\n"
     ]
    }
   ],
   "source": [
    "attribute_describe(\n",
    "    \"D:/Dropbox/summer-research-2019/jupyter-notebooks/attribute-datasets/favorite_count-attribute.csv\",\n",
    "    \"favorite_count\")"
   ]
  },
  {
   "cell_type": "markdown",
   "metadata": {},
   "source": [
    "## Pandas.describe() Analysis for the entire dataset:"
   ]
  },
  {
   "cell_type": "markdown",
   "metadata": {},
   "source": [
    "<span style=\"font-family:Papyrus; font-size:1.25em;\">\n",
    "\n",
    "Here, we output statistics for the entire preprocessed CSV dataset.<br>\n",
    "\n",
    "</span>"
   ]
  },
  {
   "cell_type": "code",
   "execution_count": 11,
   "metadata": {
    "scrolled": false
   },
   "outputs": [
    {
     "name": "stderr",
     "output_type": "stream",
     "text": [
      "INFO:root:\n",
      "The shape of our dataframe storing the contents of the csv Tweet data is:\n",
      "\n",
      "INFO:root:(658982, 9)\n",
      "INFO:root:\n",
      "The columns of our dataframe storing the contents of the csv Tweet data is:\n",
      "\n",
      "INFO:root:Index(['id', 'lang', 'language_textblob', 'retweeted', 'hashtags', 'company',\n",
      "       'text', 'user_screen_name', 'user_description'],\n",
      "      dtype='object')\n",
      "INFO:root:\n",
      "A sample from the dataframe storing the contents of the csv Tweet data is:\n",
      "\n",
      "INFO:root:\n",
      "                        id lang language_textblob  retweeted  \\\n",
      "187818  875315025807720448  und                en      False   \n",
      "\n",
      "                     hashtags company  \\\n",
      "187818  Stopadani,saveourreef   adani   \n",
      "\n",
      "                                                            text  \\\n",
      "187818  #Stopadani @UNESCO  #saveourreef https://t.co/0WFmtIlB2k   \n",
      "\n",
      "       user_screen_name  \\\n",
      "187818      JohnLocker4   \n",
      "\n",
      "                                                                                                                              user_description  \n",
      "187818  I work with plants. I have been a #Vegan for 9 years.  I am more than willing to fight for Mother Earth. & kick your coal hungry arses  \n",
      "\n"
     ]
    },
    {
     "name": "stdout",
     "output_type": "stream",
     "text": [
      "Pandas describe for entire CSV dataset: \n",
      "                   id    lang language_textblob retweeted   hashtags company  \\\n",
      "count   6.5898200e+05  658982            658982    658982     362287  658982   \n",
      "unique            NaN      31                 1         2      52189      11   \n",
      "top               NaN      en                en      True  StopAdani   adani   \n",
      "freq              NaN  641644            658982    441619      31023  428451   \n",
      "mean    8.2398972e+17     NaN               NaN       NaN        NaN     NaN   \n",
      "std     1.5182456e+17     NaN               NaN       NaN        NaN     NaN   \n",
      "min     1.3735578e+17     NaN               NaN       NaN        NaN     NaN   \n",
      "25%     7.7746881e+17     NaN               NaN       NaN        NaN     NaN   \n",
      "50%     8.6861369e+17     NaN               NaN       NaN        NaN     NaN   \n",
      "75%     9.2590854e+17     NaN               NaN       NaN        NaN     NaN   \n",
      "max     9.9411475e+17     NaN               NaN       NaN        NaN     NaN   \n",
      "\n",
      "                                                                                                                                                                   text  \\\n",
      "count                                                                                                                                                            658982   \n",
      "unique                                                                                                                                                           326975   \n",
      "top     RT @AdamBandt: RT if you want Labor &amp; Bill Shorten to stop Adani coal mega-mine by announcing they'll halt the project if they win next election #StopAdani   \n",
      "freq                                                                                                                                                                769   \n",
      "mean                                                                                                                                                                NaN   \n",
      "std                                                                                                                                                                 NaN   \n",
      "min                                                                                                                                                                 NaN   \n",
      "25%                                                                                                                                                                 NaN   \n",
      "50%                                                                                                                                                                 NaN   \n",
      "75%                                                                                                                                                                 NaN   \n",
      "max                                                                                                                                                                 NaN   \n",
      "\n",
      "       user_screen_name  \\\n",
      "count            658982   \n",
      "unique            36795   \n",
      "top            WgarNews   \n",
      "freq               6770   \n",
      "mean                NaN   \n",
      "std                 NaN   \n",
      "min                 NaN   \n",
      "25%                 NaN   \n",
      "50%                 NaN   \n",
      "75%                 NaN   \n",
      "max                 NaN   \n",
      "\n",
      "                                                                                                                                              user_description  \n",
      "count                                                                                                                                                   614534  \n",
      "unique                                                                                                                                                   33276  \n",
      "top     #AboriginalTreaties #AboriginalTalk Working Group 4 #AboriginalRights: #AltMedia, giving priority to grassroots #Aboriginal & #Solidarity Voices������  \n",
      "freq                                                                                                                                                      6770  \n",
      "mean                                                                                                                                                       NaN  \n",
      "std                                                                                                                                                        NaN  \n",
      "min                                                                                                                                                        NaN  \n",
      "25%                                                                                                                                                        NaN  \n",
      "50%                                                                                                                                                        NaN  \n",
      "75%                                                                                                                                                        NaN  \n",
      "max                                                                                                                                                        NaN  \n"
     ]
    }
   ],
   "source": [
    "pd.options.display.max_rows = None\n",
    "pd.options.display.max_columns = None\n",
    "pd.options.display.width = None\n",
    "pd.options.display.max_colwidth = 1000\n",
    "\n",
    "attribute_describe(\n",
    "    \"D:/Dropbox/summer-research-2019/datasets/dataset_20100101-20180510.csv\",\n",
    "    \"entire CSV dataset\")"
   ]
  },
  {
   "cell_type": "markdown",
   "metadata": {},
   "source": [
    "## Resources Used:"
   ]
  },
  {
   "cell_type": "markdown",
   "metadata": {},
   "source": [
    "<span style=\"font-family:Papyrus; font-size:1.25em;\">\n",
    "\n",
    "**TODO: convert to annotated bibliography**\n",
    "\n",
    "Dataset Files (obtained from Borg supercomputer):<br>\n",
    "\n",
    "dataset_slo_20100101-20180510.json<br>\n",
    "dataset_20100101-20180510.csv<br>\n",
    "\n",
    "Note: These are large fiels not included in the project GitHub Repository.<br>\n",
    "\n",
    "\n",
    "- [SLO-analysis.ipynb](SLO-analysis.ipynb)<br>\n",
    "    -original SLO Twitter data analysis file from Shuntaro Yada.<br>\n",
    "\n",
    "\n",
    "- https://developer.twitter.com/en/docs/tweets/data-dictionary/overview/intro-to-tweet-json<br>\n",
    "    -explanation of all data fields in JSON file format for Tweets.<br>\n",
    "\n",
    "\n",
    "- https://datatofish.com/export-dataframe-to-csv/<br>\n",
    "- https://datatofish.com/export-pandas-dataframe-json/<br>\n",
    "    -saving Pandas dataframe to CSV/JSON<br>\n",
    "    \n",
    "\n",
    "- https://pandas.pydata.org/pandas-docs/stable/reference/api/pandas.to_datetime.html<br>\n",
    "    -Pandas to_datetime() function call.<br>\n",
    "    \n",
    "\n",
    "- https://www.machinelearningplus.com/plots/matplotlib-tutorial-complete-guide-python-plot-examples/<br>\n",
    "    -plotting with matplotlib.<br>\n",
    "\n",
    "\n",
    "</span>"
   ]
  },
  {
   "cell_type": "markdown",
   "metadata": {},
   "source": [
    "## TODO's:"
   ]
  },
  {
   "cell_type": "markdown",
   "metadata": {},
   "source": [
    "<span style=\"font-family:Papyrus; font-size:1.25em;\">\n",
    "\n",
    "Implement further elements from Shuntaro Yada's SLO Twitter Dataset Analysis.<br>\n",
    "\n",
    "</span>"
   ]
  },
  {
   "cell_type": "code",
   "execution_count": 0,
   "metadata": {
    "pycharm": {
     "is_executing": false
    }
   },
   "outputs": [],
   "source": []
  }
 ],
 "metadata": {
  "kernelspec": {
   "display_name": "Python 3",
   "language": "python",
   "name": "python3"
  },
  "language_info": {
   "codemirror_mode": {
    "name": "ipython",
    "version": 3
   },
   "file_extension": ".py",
   "mimetype": "text/x-python",
   "name": "python",
   "nbconvert_exporter": "python",
   "pygments_lexer": "ipython3",
   "version": "3.6.8"
  }
 },
 "nbformat": 4,
 "nbformat_minor": 1
}