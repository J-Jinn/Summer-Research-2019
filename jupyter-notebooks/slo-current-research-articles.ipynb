{
 "cells": [
  {
   "cell_type": "markdown",
   "metadata": {
    "collapsed": true
   },
   "source": [
    "# Current Research on Twitter Data Topic Modeling:"
   ]
  },
  {
   "cell_type": "markdown",
   "metadata": {},
   "source": [
    "### Written By: Professor Keith VanderLinden and Joseph Jinn"
   ]
  },
  {
   "cell_type": "markdown",
   "metadata": {},
   "source": [
    "<span style=\"font-family:Papyrus; font-size:1.25em;\">\n",
    "\n",
    "This Jupyter Notebook files provides the results of preliminary research on methodologies for effective Twitter data topic modeling.<br>\n",
    "\n",
    "</span>"
   ]
  },
  {
   "cell_type": "markdown",
   "metadata": {},
   "source": [
    "## Collapsed Gibbs Sampling:"
   ]
  },
  {
   "cell_type": "markdown",
   "metadata": {},
   "source": [
    "<span style=\"font-family:Papyrus; font-size:1.25em;\">\n",
    "\n",
    "Chrome may have issues with displaying PDF files from within a Jupyter Notebook file.<br>\n",
    "\n",
    "Try using Firefox or another Internet Browser, if necessary.<br>\n",
    "\n",
    "</span>"
   ]
  },
  {
   "cell_type": "markdown",
   "metadata": {},
   "source": [
    "<span style=\"font-family:Papyrus; font-size:1.25em;\">\n",
    "\n",
    "\n",
    "\n",
    "</span>"
   ]
  },
  {
   "cell_type": "code",
   "execution_count": 2,
   "metadata": {
    "scrolled": false
   },
   "outputs": [
    {
     "data": {
      "text/html": [
       "\n",
       "        <iframe\n",
       "            width=\"800\"\n",
       "            height=\"450\"\n",
       "            src=\"https://github.com/J-Jinn/Summer-Research-2019/blob/master/jupyter-notebooks/pdfs/Coursera-LDA-Slides-Collapsed-Gibbs-Sampling.pdf\"\n",
       "            frameborder=\"0\"\n",
       "            allowfullscreen\n",
       "        ></iframe>\n",
       "        "
      ],
      "text/plain": [
       "<IPython.lib.display.IFrame at 0x2797d38d080>"
      ]
     },
     "execution_count": 2,
     "metadata": {},
     "output_type": "execute_result"
    }
   ],
   "source": [
    "# from IPython.display import IFrame\n",
    "\n",
    "# IFrame('D:/Dropbox/summer-research-2019/jupyter-notebooks/pdfs/Coursera-LDA-Slides-Collapsed-Gibbs-Sampling.pdf', width=800, height=450)\n",
    "\n",
    "from IPython.display import IFrame\n",
    "\n",
    "IFrame('https://github.com/J-Jinn/Summer-Research-2019/blob/master/jupyter-notebooks/pdfs/Coursera-LDA-Slides-Collapsed-Gibbs-Sampling.pdf', width=800, height=450)"
   ]
  },
  {
   "cell_type": "markdown",
   "metadata": {},
   "source": [
    "<span style=\"font-family:Papyrus; font-size:1.25em;\">\n",
    "\n",
    "Chrome may have issues natively opening the local PDF file.<br>\n",
    "\n",
    "If so, try installing the Chrome extension \"PDF Viewer\" as linked below or use a diferent Internet Browser.<br>\n",
    "\n",
    "https://chrome.google.com/webstore/detail/pdf-viewer/oemmndcbldboiebfnladdacbdfmadadm?hl=en\n",
    "\n",
    "</span>"
   ]
  },
  {
   "cell_type": "code",
   "execution_count": 20,
   "metadata": {},
   "outputs": [
    {
     "data": {
      "text/html": [
       "<a href='./pdfs/Coursera-LDA-Slides-Collapsed-Gibbs-Sampling.pdf' target='_blank'>./pdfs/Coursera-LDA-Slides-Collapsed-Gibbs-Sampling.pdf</a><br>"
      ],
      "text/plain": [
       "D:\\Dropbox\\summer-research-2019\\jupyter-notebooks\\pdfs\\Coursera-LDA-Slides-Collapsed-Gibbs-Sampling.pdf"
      ]
     },
     "execution_count": 20,
     "metadata": {},
     "output_type": "execute_result"
    }
   ],
   "source": [
    "from IPython.display import FileLink, FileLinks\n",
    "FileLink('./pdfs/Coursera-LDA-Slides-Collapsed-Gibbs-Sampling.pdf')"
   ]
  },
  {
   "cell_type": "markdown",
   "metadata": {},
   "source": [
    "<span style=\"font-family:Papyrus; font-size:1.25em;\">\n",
    "\n",
    "TODO - do further research on collapsed Gibbs sampling in order to fully understand the process of applying it for LDA topic modeling.<br>\n",
    "\n",
    "</span>"
   ]
  },
  {
   "cell_type": "markdown",
   "metadata": {},
   "source": [
    "<span style=\"font-family:Papyrus; font-size:1.25em;\">\n",
    "\n",
    "Placeholder.<br>\n",
    "\n",
    "</span>"
   ]
  },
  {
   "cell_type": "markdown",
   "metadata": {},
   "source": [
    "## Resources for Collapsed Gibbs Sampling:"
   ]
  },
  {
   "cell_type": "markdown",
   "metadata": {},
   "source": [
    "<span style=\"font-family:Papyrus; font-size:1.25em;\">\n",
    "\n",
    "**TODO: convert to annotated bibliography**\n",
    "\n",
    "- https://en.wikipedia.org/wiki/Gibbs_sampling#Collapsed_Gibbs_sampler\n",
    "    - sub-section that explains \"collapsed\" samplers and \"collapsed\" dirichlet distributions.<br>\n",
    "\n",
    "\n",
    "- https://www.coursera.org/learn/ml-clustering-and-retrieval/lecture/qC5gv/what-is-collapsed-gibbs-sampling\n",
    "    - Used slide material from the online course.<br>\n",
    "\n",
    "\n",
    "- https://arxiv.org/ftp/arxiv/papers/1206/1206.3297.pdf\n",
    "    - \"Hybrid Variational/Gibbs Collapsed Inference in Topic Models\" for topic modeling.<br>\n",
    "\n",
    "</span>"
   ]
  },
  {
   "cell_type": "markdown",
   "metadata": {},
   "source": [
    "## Biterm Topic Modeling:"
   ]
  },
  {
   "cell_type": "markdown",
   "metadata": {},
   "source": [
    "<span style=\"font-family:Papyrus; font-size:1.25em;\">\n",
    "\n",
    "This section covers all material we have found on Biterm topic models.<br>\n",
    "\n",
    "</span>"
   ]
  },
  {
   "cell_type": "markdown",
   "metadata": {},
   "source": [
    "### Resources for Biterm Topic Modeling:"
   ]
  },
  {
   "cell_type": "markdown",
   "metadata": {},
   "source": [
    "<span style=\"font-family:Papyrus; font-size:1.25em;\">\n",
    "    \n",
    "**TODO: convert to annotated bibliography**\n",
    "\n",
    "- https://pypi.org/project/biterm/\n",
    "    - TODO - try out the Biterm Python library on our Tweet dataset.<br>\n",
    "\n",
    "\n",
    "- https://academic.oup.com/comjnl/article-abstract/62/3/359/5005494?redirectedFrom=fulltext\n",
    "    - TODO - get access to the full article somehow.<br>\n",
    "\n",
    "\n",
    "- https://www.researchgate.net/publication/262244963_A_biterm_topic_model_for_short_texts\n",
    "    - \"A Biterm Topic Model for Short Texts\" title.<br>\n",
    "\n",
    "\n",
    "- https://www.aclweb.org/anthology/D18-1495\n",
    "\n",
    "\n",
    "- https://www.kdd.org/kdd2016/papers/files/rpp1190-zuoA.pdf\n",
    "\n",
    "\n",
    "</span>"
   ]
  },
  {
   "cell_type": "markdown",
   "metadata": {},
   "source": [
    "## Hierarchical Topic Modeling:"
   ]
  },
  {
   "cell_type": "markdown",
   "metadata": {},
   "source": [
    "<span style=\"font-family:Papyrus; font-size:1.25em;\">\n",
    "\n",
    "This section covers all material we have found on hierarchical topic models.<br>\n",
    "\n",
    "</span>"
   ]
  },
  {
   "cell_type": "markdown",
   "metadata": {},
   "source": [
    "### Resources for Hierarchical Topic Modeling:"
   ]
  },
  {
   "cell_type": "markdown",
   "metadata": {},
   "source": [
    "<span style=\"font-family:Papyrus; font-size:1.25em;\">\n",
    "\n",
    "**TODO: convert to annotated bibliography**\n",
    "\n",
    "- https://www.researchgate.net/publication/318726050_A_Hierarchical_Topic_Modelling_Approach_for_Tweet_Clustering\n",
    "    - \"A Hierarchical Topic Modeling Approach forTweet Clustering\" title.<br>\n",
    "\n",
    "\n",
    "</span>"
   ]
  },
  {
   "cell_type": "markdown",
   "metadata": {},
   "source": [
    "## Tweet Aggregation for Topic Modeling:"
   ]
  },
  {
   "cell_type": "markdown",
   "metadata": {},
   "source": [
    "<span style=\"font-family:Papyrus; font-size:1.25em;\">\n",
    " \n",
    "This section covers all material we have found on tweet aggregation for topic models.<br>\n",
    "\n",
    "</span>"
   ]
  },
  {
   "cell_type": "markdown",
   "metadata": {},
   "source": [
    "### Resources for Tweet Aggregation:"
   ]
  },
  {
   "cell_type": "markdown",
   "metadata": {},
   "source": [
    "<span style=\"font-family:Papyrus; font-size:1.25em;\">\n",
    "\n",
    "**TODO: convert to annotated bibliography**\n",
    "\n",
    "- https://www.aclweb.org/anthology/W17-0210\n",
    "    - \"Twitter Topic Modeling by Tweet Aggregation\" title.\n",
    "\n",
    "\n",
    "- https://www.media.mit.edu/publications/topic-modeling-in-twitter-aggregating-tweets-by-conversations/\n",
    "    - \"Topic Modeling in Twitter: Aggregating Tweets by Conversations\" title.\n",
    "\n",
    "\n",
    "</span>"
   ]
  },
  {
   "cell_type": "markdown",
   "metadata": {},
   "source": [
    "## Non-negative Matrix Factorization Topic Modeling:"
   ]
  },
  {
   "cell_type": "markdown",
   "metadata": {},
   "source": [
    "<span style=\"font-family:Papyrus; font-size:1.25em;\">\n",
    "    \n",
    "This section covers all material we have found on NMF topic modeling.<br>\n",
    "\n",
    "</span>"
   ]
  },
  {
   "cell_type": "markdown",
   "metadata": {},
   "source": [
    "### Resources for NMF Topic Modeling:"
   ]
  },
  {
   "cell_type": "markdown",
   "metadata": {},
   "source": [
    "<span style=\"font-family:Papyrus; font-size:1.25em;\">\n",
    "    \n",
    "**TODO: convert to annotated bibliography**\n",
    "\n",
    "- https://medium.com/mlreview/topic-modeling-with-scikit-learn-e80d33668730\n",
    "\n",
    "\n",
    "- https://stackabuse.com/python-for-nlp-topic-modeling/\n",
    "\n",
    "\n",
    "- https://scikit-learn.org/stable/modules/generated/sklearn.decomposition.NMF.html\n",
    "\n",
    "\n",
    "- https://scikit-learn.org/stable/auto_examples/applications/plot_topics_extraction_with_nmf_lda.html\n",
    "\n",
    "\n",
    "</span>"
   ]
  },
  {
   "cell_type": "markdown",
   "metadata": {},
   "source": [
    "# Technical Resources:"
   ]
  },
  {
   "cell_type": "markdown",
   "metadata": {},
   "source": [
    "<span style=\"font-family:Papyrus; font-size:1.25em;\">\n",
    "\n",
    "- https://stackoverflow.com/questions/55251691/how-to-open-pdf-file-in-jupyter-file-browser\n",
    "    - Chrome has issues with opening PDF files from within Jupyter Notebook.<br>\n",
    "\n",
    "\n",
    "- https://towardsdatascience.com/bringing-the-best-out-of-jupyter-notebooks-for-data-science-f0871519ca29\n",
    "    - Various tips and tricks with Jupyter Notebook.<br>\n",
    "\n",
    "\n",
    "- https://www.tablesgenerator.com/markdown_tables<br>\n",
    "    - Easy-to-use table generator for markdown, HTML, latex, etc.<br>\n",
    "\n",
    "\n",
    "- https://www.markdownguide.org/basic-syntax\n",
    "    - Cheat sheet and basic syntax for Markdown.<br>\n",
    "</span>"
   ]
  },
  {
   "cell_type": "code",
   "execution_count": 0,
   "metadata": {
    "pycharm": {
     "is_executing": false
    }
   },
   "outputs": [],
   "source": []
  }
 ],
 "metadata": {
  "kernelspec": {
   "display_name": "Python 3",
   "language": "python",
   "name": "python3"
  },
  "language_info": {
   "codemirror_mode": {
    "name": "ipython",
    "version": 3
   },
   "file_extension": ".py",
   "mimetype": "text/x-python",
   "name": "python",
   "nbconvert_exporter": "python",
   "pygments_lexer": "ipython3",
   "version": "3.6.8"
  },
  "pycharm": {
   "stem_cell": {
    "cell_type": "raw",
    "metadata": {
     "collapsed": false
    },
    "source": []
   }
  }
 },
 "nbformat": 4,
 "nbformat_minor": 1
}
