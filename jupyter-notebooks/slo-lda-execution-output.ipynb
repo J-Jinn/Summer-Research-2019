{
 "cells": [
  {
   "cell_type": "markdown",
   "metadata": {},
   "source": [
    "# Latent Dirichlet Allocation Execution Runs on SLO Twitter Dataset:"
   ]
  },
  {
   "cell_type": "markdown",
   "metadata": {},
   "source": [
    "### Written by: Professor Keith VanderLinden and Joseph Jinn"
   ]
  },
  {
   "cell_type": "markdown",
   "metadata": {},
   "source": [
    "<span style=\"font-family:Papyrus; font-size:1.25em;\">\n",
    "\n",
    "Refer to \"slo-lda-introduction.ipynb\" for an introduction to LDA's.<br>\n",
    "Refer to \"slo-lda-implementation.ipynb\" for the code used to perform these execution runs.<br>\n",
    "Refer to \"slo-lda-grid-search.ipynb\" for the code used to perform exhaustive grid search for hyper parameter tuning.<br>\n",
    "\n",
    "</span>"
   ]
  },
  {
   "cell_type": "markdown",
   "metadata": {
    "collapsed": true,
    "pycharm": {
     "name": "#%%#%% md\n"
    }
   },
   "source": [
    "## LDA Execution Runs using Scikit-Learn LatentDirichletAllocation():"
   ]
  },
  {
   "cell_type": "markdown",
   "metadata": {},
   "source": [
    "<span style=\"font-family:Papyrus; font-size:1.25em;\">\n",
    "\n",
    "These results were copy/pasted from console output within the PyCharm IDE.  The codebase and hyperparameters remain the same as displayed in \"slo-lda-implementation.ipynb\".\n",
    "\n",
    "</span>"
   ]
  },
  {
   "cell_type": "markdown",
   "metadata": {},
   "source": [
    "### Results from LDA topic extraction for 20 topics (using PyCharm):"
   ]
  },
  {
   "cell_type": "raw",
   "metadata": {},
   "source": [
    "Topic 0:\n",
    "loan rail lnp federal line fund think naif use story\n",
    "Topic 1:\n",
    "need group community carbon country stand high week end wrong\n",
    "Topic 2:\n",
    "tax breaking paid industry ceo green china financial hey licence\n",
    "Topic 3:\n",
    "government new money day environmental barnaby joyce taxpayers plans giving\n",
    "Topic 4:\n",
    "news funding foescue shoen help thanks pm beach bank cut\n",
    "Topic 5:\n",
    "suppo going world wont greens work vote let companies dollars\n",
    "Topic 6:\n",
    "time farmers year look global fossil profit video police best\n",
    "Topic 7:\n",
    "people say campaign free indian giant local australias corruption prices\n",
    "Topic 8:\n",
    "gas coal public slocashn project deal does adani risk biggest\n",
    "Topic 9:\n",
    "action fight state did join decision protest doesnt getting read\n",
    "Topic 10:\n",
    "climate project coal change repo environment price shares doing lost\n",
    "Topic 11:\n",
    "minister election build years native title canavan away planet owners\n",
    "Topic 12:\n",
    "reef turnbull cou barrier coal ahead know adanis wants approval\n",
    "Topic 13:\n",
    "india company pay coal alp business right oil oppose win\n",
    "Topic 14:\n",
    "coal good power make mines iron ore new po protect\n",
    "Topic 15:\n",
    "jobs australian needs create thats billion tell got investment workers\n",
    "Topic 16:\n",
    "adanis energy future coal land taxpayer said clean destroy gov\n",
    "Topic 17:\n",
    "want govt dont point coal massive politicians infrastructure protesters subsidies\n",
    "Topic 18:\n",
    "stop water queensland narrabri coal disaster corporate unlimited live tonight\n",
    "Topic 19:\n",
    "labor coalmine coal galilee way huge basin job pollution townsville\n",
    "INFO:root:The time taken to perform the operation is: \n",
    "INFO:root:452.49793434143066\n",
    "INFO:root:\n",
    "\n",
    "\n",
    "Process finished with exit code 0"
   ]
  },
  {
   "cell_type": "markdown",
   "metadata": {},
   "source": [
    "<span style=\"font-family:Papyrus; font-size:1.25em;\">\n",
    "\n",
    "Though the results are different from our first execution in \"slo-lda-implementation.ipynb\", the top 10 words for each of the 20 different Topics still lack any strong association with each other.  We still cannot easily assign any English descriptors to each topic.<br>\n",
    "\n",
    "We decided to time the LDA model.  It takes around 450 seconds or so to finish LDA topic extraction per execution, so it is not a particularly fast process.<br>\n",
    "\n",
    "</span>"
   ]
  },
  {
   "cell_type": "markdown",
   "metadata": {},
   "source": [
    "### Results from LDA topic extraction for 3 topics (using PyCharm):"
   ]
  },
  {
   "cell_type": "raw",
   "metadata": {},
   "source": [
    "Topic 0:\n",
    "coal tax loan australian govt money pay turnbull adanis government\n",
    "Topic 1:\n",
    "coal stop labor reef want climate time people dont need\n",
    "Topic 2:\n",
    "coal jobs gas water project adanis rail news cou farmers\n",
    "INFO:root:The time taken to perform the operation is: \n",
    "INFO:root:713.6182627677917\n",
    "INFO:root:"
   ]
  },
  {
   "cell_type": "markdown",
   "metadata": {},
   "source": [
    "<span style=\"font-family:Papyrus; font-size:1.25em;\">\n",
    "  \n",
    "Again, we can't really discern any noticeable patterns among the top 10 words for each topic. Topic 0 includes some economic terms and topic 1 some environmental terms, but the categories are not at all clear.<br>\n",
    "\n",
    "</span>"
   ]
  },
  {
   "cell_type": "markdown",
   "metadata": {},
   "source": [
    "### Results from LDA topic extraction for 6 topics (using PyCharm):"
   ]
  },
  {
   "cell_type": "raw",
   "metadata": {},
   "source": [
    "Topic 0:\n",
    "coal queensland money dont adanis rail funding loan fund government\n",
    "Topic 1:\n",
    "gas people coal tax project minister paid narrabri iron news\n",
    "Topic 2:\n",
    "labor coal stop india loan time pay federal year greens\n",
    "Topic 3:\n",
    "coal new reef water company point slocashn barrier adanis make\n",
    "Topic 4:\n",
    "climate good lnp world basin change ahead say turnbull alp\n",
    "Topic 5:\n",
    "jobs coal suppo govt need power foescue going cou action\n",
    "INFO:root:The time taken to perform the operation is: \n",
    "INFO:root:506.35622787475586\n",
    "INFO:root:"
   ]
  },
  {
   "cell_type": "markdown",
   "metadata": {},
   "source": [
    "<span style=\"font-family:Papyrus; font-size:1.25em;\">\n",
    "\n",
    "As stated above.<br>\n",
    "\n",
    "</span>"
   ]
  },
  {
   "cell_type": "markdown",
   "metadata": {},
   "source": [
    "### Results from LDA topic extraction for 12 topics (using PyCharm):"
   ]
  },
  {
   "cell_type": "raw",
   "metadata": {},
   "source": [
    "Topic 0:\n",
    "coal power india environmental galilee fight repo po plans join\n",
    "Topic 1:\n",
    "fund know billion wants business years pm giant really cut\n",
    "Topic 2:\n",
    "water breaking protect local cou basin doesnt slomentions high licence\n",
    "Topic 3:\n",
    "gas coal new news people oil huge seam canavan renewables\n",
    "Topic 4:\n",
    "labor going foescue shoen help election iron ore said group\n",
    "Topic 5:\n",
    "jobs loan australian dont want government point money ahead greens\n",
    "Topic 6:\n",
    "stop coal say make world action risk work biggest people\n",
    "Topic 7:\n",
    "need year day deal ceo banks come look politicians getting\n",
    "Topic 8:\n",
    "reef coal farmers land barrier mines thanks new use indian\n",
    "Topic 9:\n",
    "adanis queensland turnbull govt good company lnp right labor coalmine\n",
    "Topic 10:\n",
    "project coal suppo climate rail public adanis change federal funding\n",
    "Topic 11:\n",
    "tax pay time energy future paid clean beach campaign oppose\n",
    "INFO:root:The time taken to perform the operation is: \n",
    "INFO:root:468.9760229587555\n",
    "INFO:root:"
   ]
  },
  {
   "cell_type": "markdown",
   "metadata": {},
   "source": [
    "<span style=\"font-family:Papyrus; font-size:1.25em;\">\n",
    "\n",
    "Ditto.\n",
    "\n",
    "</span>"
   ]
  },
  {
   "cell_type": "markdown",
   "metadata": {},
   "source": [
    "## LDA Execution Runs using \"lda\" Python library:"
   ]
  },
  {
   "cell_type": "markdown",
   "metadata": {},
   "source": [
    "<span style=\"font-family:Papyrus; font-size:1.25em;\">\n",
    "\n",
    "These results were copy/pasted from console output within the PyCharm IDE.  The codebase and hyperparameters remain the same as displayed in \"slo-lda-implementation.ipynb\".\n",
    "\n",
    "</span>"
   ]
  },
  {
   "cell_type": "markdown",
   "metadata": {},
   "source": [
    "### A second set of LDA topic extraction results using the \"lda\" library (in Pycharm) with 1000 iterations:"
   ]
  },
  {
   "cell_type": "raw",
   "metadata": {},
   "source": [
    "INFO:lda:n_documents: 653094\n",
    "INFO:lda:vocab_size: 1000\n",
    "INFO:lda:n_words: 3267212\n",
    "INFO:lda:n_topics: 20\n",
    "INFO:lda:n_iter: 1000\n",
    "WARNING:lda:all zero row in document-term matrix found\n",
    "INFO:lda:<0> log likelihood: -33566800\n",
    ".\n",
    ".\n",
    ".\n",
    ".\n",
    "INFO:lda:<999> log likelihood: -22482922\n",
    "Topic 0: project coal australian banks bank fund funding adanis finance chinese\n",
    "Topic 1: tax paid pay company corporate energy companies islands cayman australian\n",
    "Topic 2: beach day watch tour video iluka people got work power\n",
    "Topic 3: thanks council townsville protest action latest times people outside protesters\n",
    "Topic 4: rail loan line adanis coal galilee naif basin veto queensland\n",
    "Topic 5: labor stop greens vote alp lnp election shoen want win\n",
    "Topic 6: people land owners traditional farmers coal indigenous creek site local\n",
    "Topic 7: loan canavan minister board matt news abc coalition resources john\n",
    "Topic 8: coal suppo labor want oppose shoen dont poll doesnt voters\n",
    "Topic 9: reef barrier coal stop people destroy save future need protect\n",
    "Topic 10: foescue iron ore oil shares price production prices profit metals\n",
    "Topic 11: dont going good think want really make know need look\n",
    "Topic 12: coal turnbull native title adanis indian government stop point india\n",
    "Topic 13: environmental coal cou disaster dam approval australian federal financial adanis\n",
    "Topic 14: jobs create thousands 10000 coal tourism job cou queensland pm\n",
    "Topic 15: coal money billion govt want fund public turnbull taxpayers taxpayer\n",
    "Topic 16: coal new power india point solar mines adanis po time\n",
    "Topic 17: water free basin farmers unlimited aesian licence groundwater queensland coal\n",
    "Topic 18: climate coal change future energy clean fossil time carbon global\n",
    "Topic 19: gas project coal narrabri barnaby joyce seam water field forest\n",
    "INFO:root:The time taken to perform the operation is: \n",
    "INFO:root:522.370343208313\n",
    "INFO:root:"
   ]
  },
  {
   "cell_type": "markdown",
   "metadata": {},
   "source": [
    "<span style=\"font-family:Papyrus; font-size:1.25em;\">\n",
    "\n",
    "These results are from another execution using the same library as the previous results.<br>\n",
    "\n",
    "Again, there are no discernible patterns in the choice of top words across all Topics.<br>\n",
    "\n",
    "</span>"
   ]
  },
  {
   "cell_type": "markdown",
   "metadata": {},
   "source": [
    "### A third set of LDA topic extraction results using the \"lda\" library (in Pycharm) with 1000 iterations and 3 topics:"
   ]
  },
  {
   "cell_type": "raw",
   "metadata": {},
   "source": [
    "INFO:lda:n_documents: 653094\n",
    "INFO:lda:vocab_size: 1000\n",
    "INFO:lda:n_words: 3267212\n",
    "INFO:lda:n_topics: 3\n",
    "INFO:lda:n_iter: 1000\n",
    "WARNING:lda:all zero row in document-term matrix found\n",
    "INFO:lda:<0> log likelihood: -26923029\n",
    ".\n",
    ".\n",
    ".\n",
    "INFO:lda:<999> log likelihood: -21700037\n",
    "Topic 0: coal water gas climate reef people stop project adanis farmers\n",
    "Topic 1: coal tax new foescue australian company energy india iron power\n",
    "Topic 2: coal jobs labor loan adanis want money government turnbull suppo\n",
    "INFO:root:The time taken to perform the operation is: \n",
    "INFO:root:212.95609331130981\n",
    "INFO:root:"
   ]
  },
  {
   "cell_type": "markdown",
   "metadata": {},
   "source": [
    "<span style=\"font-family:Papyrus; font-size:1.25em;\">\n",
    "\n",
    "Same situation.  Difficult to discern any patterns among the top words chosen for each topic.<br>\n",
    "\n",
    "</span>\n"
   ]
  },
  {
   "cell_type": "markdown",
   "metadata": {},
   "source": [
    "### A fourth set of LDA topic extraction results using the \"lda\" library (in Pycharm) with 1000 iterations and 6 topics:"
   ]
  },
  {
   "cell_type": "raw",
   "metadata": {},
   "source": [
    "INFO:lda:n_documents: 653094\n",
    "INFO:lda:vocab_size: 1000\n",
    "INFO:lda:n_words: 3267212\n",
    "INFO:lda:n_topics: 6\n",
    "INFO:lda:n_iter: 1000\n",
    "WARNING:lda:all zero row in document-term matrix found\n",
    "INFO:lda:<0> log likelihood: -30452684\n",
    ".\n",
    ".\n",
    ".\n",
    "INFO:lda:<999> log likelihood: -21989143\n",
    "Topic 0: coal jobs reef barrier energy adanis new future climate need\n",
    "Topic 1: tax foescue coal paid iron ore australian company oil price\n",
    "Topic 2: labor coal want stop suppo shoen greens lnp dont alp\n",
    "Topic 3: coal loan adanis money rail government fund funding public taxpayer\n",
    "Topic 4: coal gas water project farmers narrabri cou land seam native\n",
    "Topic 5: climate coal action people beach day thanks change time join\n",
    "INFO:root:The time taken to perform the operation is: \n",
    "INFO:root:291.4145665168762\n",
    "INFO:root:"
   ]
  },
  {
   "cell_type": "markdown",
   "metadata": {},
   "source": [
    "<span style=\"font-family:Papyrus; font-size:1.25em;\">\n",
    "\n",
    "Ditto.<br>\n",
    "\n",
    "</span>"
   ]
  },
  {
   "cell_type": "markdown",
   "metadata": {},
   "source": [
    "### A fifth set of LDA topic extraction results using the \"lda\" library (in Pycharm) with 1000 iterations and 12 topics:"
   ]
  },
  {
   "cell_type": "raw",
   "metadata": {},
   "source": [
    "INFO:lda:n_documents: 653094\n",
    "INFO:lda:vocab_size: 1000\n",
    "INFO:lda:n_words: 3267212\n",
    "INFO:lda:n_topics: 12\n",
    "INFO:lda:n_iter: 1000\n",
    "WARNING:lda:all zero row in document-term matrix found\n",
    "INFO:lda:<0> log likelihood: -32585851\n",
    ".\n",
    ".\n",
    ".\n",
    "INFO:lda:<999> log likelihood: -22256834\n",
    "Topic 0: reef coal climate barrier future change energy world stop clean\n",
    "Topic 1: foescue iron ore oil shares price ceo news production new\n",
    "Topic 2: labor greens stop want lnp alp suppo vote shoen dont\n",
    "Topic 3: water basin barnaby coal joyce galilee rail free farmers thanks\n",
    "Topic 4: coal money want fund adanis govt banks billion turnbull funding\n",
    "Topic 5: gas coal project water narrabri seam farmers forest pipeline field\n",
    "Topic 6: coal cou stop adanis native title land federal coalmine approval\n",
    "Topic 7: loan coal naif rail queensland minister government line public funding\n",
    "Topic 8: coal new india power point adanis mines solar po project\n",
    "Topic 9: action beach people day join time work watch protest morning\n",
    "Topic 10: tax paid pay company australian companies corporate govt adanis energy\n",
    "Topic 11: jobs create coal dam thousands 10000 disaster tourism reef job\n",
    "INFO:root:The time taken to perform the operation is: \n",
    "INFO:root:404.1787123680115\n",
    "INFO:root:"
   ]
  },
  {
   "cell_type": "markdown",
   "metadata": {},
   "source": [
    "<span style=\"font-family:Papyrus; font-size:1.25em;\">\n",
    "\n",
    "And Ditto.<br>\n",
    "\n",
    "</span>"
   ]
  },
  {
   "cell_type": "code",
   "execution_count": null,
   "metadata": {},
   "outputs": [],
   "source": []
  }
 ],
 "metadata": {
  "kernelspec": {
   "display_name": "Python 3",
   "language": "python",
   "name": "python3"
  },
  "language_info": {
   "codemirror_mode": {
    "name": "ipython",
    "version": 3
   },
   "file_extension": ".py",
   "mimetype": "text/x-python",
   "name": "python",
   "nbconvert_exporter": "python",
   "pygments_lexer": "ipython3",
   "version": "3.6.8"
  },
  "pycharm": {
   "stem_cell": {
    "cell_type": "raw",
    "metadata": {
     "collapsed": false
    },
    "source": []
   }
  }
 },
 "nbformat": 4,
 "nbformat_minor": 1
}
