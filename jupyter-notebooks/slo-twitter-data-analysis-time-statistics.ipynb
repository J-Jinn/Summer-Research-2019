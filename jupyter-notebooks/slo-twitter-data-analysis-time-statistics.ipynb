{
 "cells": [
  {
   "cell_type": "code",
   "execution_count": null,
   "metadata": {
    "collapsed": true
   },
   "outputs": [],
   "source": []
  },
  {
   "cell_type": "markdown",
   "source": [
    "### Time Series Statistics for Twitter dataset::"
   ],
   "metadata": {
    "collapsed": false
   }
  },
  {
   "cell_type": "markdown",
   "source": [
    "<span style=\"font-family:Papyrus; font-size:1.25em;\">\n",
    "\n",
    "This function analyzes when a Tweet was created and accrues statistics on the # of Tweets created in the same time period across the entire dataset and by company .<br>\n",
    "\n",
    "</span>"
   ],
   "metadata": {
    "collapsed": false
   }
  },
  {
   "cell_type": "code",
   "execution_count": null,
   "outputs": [],
   "source": [
    "def tweet_count_by_timedate_time_series(created_at_attribute_file, file_type):\n",
    "    \"\"\"\n",
    "    Function computes time series statistics and visualizations on Tweet Creation Time-Date Stamp.\n",
    "\n",
    "    This function will work for any JSON file or CSV file that contains a attribute or column named \"tweet_created_at\"\n",
    "    and \"company_derived\".\n",
    "\n",
    "    Note: Ensure input file is small enough to fit in RAM.  This function will not read in data by chunks!\n",
    "\n",
    "    :param file_type: type of input file.\n",
    "    :param created_at_attribute_file: the input file containing the \"created_at\" Tweet attribute.\n",
    "    :return: None.\n",
    "    \"\"\"\n",
    "    start_time = time.time()\n",
    "\n",
    "    if file_type == \"csv\":\n",
    "        twitter_data = pd.read_csv(f\"{created_at_attribute_file}\", sep=\",\")\n",
    "    elif file_type == \"json\":\n",
    "        twitter_data = pd.read_json(f\"{created_at_attribute_file}\",\n",
    "                                    orient='records',\n",
    "                                    lines=True)\n",
    "    else:\n",
    "        print(f\"Invalid file type entered - aborting operation\")\n",
    "        return\n",
    "\n",
    "    # Create a empty Pandas dataframe.\n",
    "    dataframe = pd.DataFrame(twitter_data)\n",
    "\n",
    "    # Select only rows with one associated company. (don't graph company combos)\n",
    "    single_company_only_df = dataframe.loc[dataframe['multiple_companies_derived_count'] == 1]\n",
    "\n",
    "    # 1st Plot.\n",
    "    plt.figure(figsize=(18.5, 10.5), dpi=300)\n",
    "    plt.title(f\"Tweet Creation Time-Date Count by Year/Month/Day\")\n",
    "    plt.xlabel(\"Year/Month/Day\")\n",
    "    plt.ylabel(\"Tweet Count\")\n",
    "    pd.to_datetime(dataframe['tweet_created_at']).value_counts().resample('1D').sum().plot()\n",
    "    plt.show()\n",
    "\n",
    "    # 2nd Plot.\n",
    "    plt.figure()\n",
    "    grid = sns.FacetGrid(dataframe[['tweet_created_at', 'company_derived_designation']],\n",
    "                         row='company_derived_designation', size=2,\n",
    "                         aspect=10,\n",
    "                         sharey=False)\n",
    "    grid.map_dataframe(tweet_util.ts_plot, 'tweet_created_at').set_titles('{row_name}')\n",
    "    plt.show()\n",
    "\n",
    "    # # 3rd Plot.\n",
    "    # # FIXME - not working as intended.\n",
    "    # plt.figure()\n",
    "    # grid = sns.FacetGrid(dataframe[['retweeted_derived', 'tweet_created_at', 'company_derived']], row='company_derived',\n",
    "    #                      size=2, aspect=10,\n",
    "    #                      sharey=False)\n",
    "    # grid.map_dataframe(tweet_util.ts_plot_2, 'tweet_created_at').set_titles('{row_name}')\n",
    "    # plt.show()\n",
    "\n",
    "    end_time = time.time()\n",
    "    time_elapsed = (end_time - start_time) / 60.0\n",
    "    log.debug(f\"The time taken to visualize the statistics is {time_elapsed} minutes\")"
   ],
   "metadata": {
    "collapsed": false,
    "pycharm": {
     "name": "#%%\n"
    }
   }
  },
  {
   "cell_type": "markdown",
   "source": [
    "<span style=\"font-family:Papyrus; font-size:1.25em;\">\n",
    "\n",
    "We call our data analysis function.  This function utilizes the \"tweet_created_at\", \"company_derived\" attributes/fields to compute the time series statistics.<br>\n",
    "\n",
    "</span>"
   ],
   "metadata": {
    "collapsed": false
   }
  },
  {
   "cell_type": "code",
   "execution_count": null,
   "outputs": [],
   "source": [
    "    # Display Tweet count by time-date time series statistics.\n",
    "    tweet_count_by_timedate_time_series(\n",
    "        \"D:/Dropbox/summer-research-2019/jupyter-notebooks/attribute-datasets/selected-attributes-final.csv\",\n",
    "        \"csv\")"
   ],
   "metadata": {
    "collapsed": false,
    "pycharm": {
     "name": "#%%\n"
    }
   }
  },
  {
   "cell_type": "markdown",
   "source": [
    "<span style=\"font-family:Papyrus; font-size:1.25em;\">\n",
    "\n",
    "In the first graph, we can see that more of the Tweets were created relatively recently in 2017 and 2018.  The further we go back in time, the fewer Tweets we have.<br>\n",
    "\n",
    "In the second series of graphs, we can see when the Tweets were created by the company they are associated with.<br>\n",
    "\n",
    "</span>"
   ],
   "metadata": {
    "collapsed": false
   }
  },
  {
   "cell_type": "markdown",
   "source": [
    "## Resources Used:"
   ],
   "metadata": {
    "collapsed": false
   }
  },
  {
   "cell_type": "markdown",
   "source": [
    "<span style=\"font-family:Papyrus; font-size:1.25em;\">\n",
    "\n",
    "**TODO: convert to annotated bibliography**\n",
    "\n",
    "Dataset Files (obtained from Borg supercomputer):<br>\n",
    "\n",
    "dataset_slo_20100101-20180510.json<br>\n",
    "dataset_20100101-20180510.csv<br>\n",
    "\n",
    "Note: These are large fiels not included in the project GitHub Repository.<br>\n",
    "\n",
    "\n",
    "- [SLO-analysis.ipynb](SLO-analysis.ipynb)<br>\n",
    "    -original SLO Twitter data analysis file from Shuntaro Yada.<br>\n",
    "\n",
    "\n",
    "- https://developer.twitter.com/en/docs/tweets/data-dictionary/overview/intro-to-tweet-json<br>\n",
    "    -explanation of all data fields in JSON file format for Tweets.<br>\n",
    "\n",
    "\n",
    "- https://datatofish.com/export-dataframe-to-csv/<br>\n",
    "- https://datatofish.com/export-pandas-dataframe-json/<br>\n",
    "    -saving Pandas dataframe to CSV/JSON<br>\n",
    "    \n",
    "\n",
    "- https://pandas.pydata.org/pandas-docs/stable/reference/api/pandas.to_datetime.html<br>\n",
    "    -Pandas to_datetime() function call.<br>\n",
    "    \n",
    "\n",
    "- https://www.machinelearningplus.com/plots/matplotlib-tutorial-complete-guide-python-plot-examples/<br>\n",
    "    -plotting with matplotlib.<br>\n",
    "\n",
    "\n",
    "</span>"
   ],
   "metadata": {
    "collapsed": false
   }
  },
  {
   "cell_type": "markdown",
   "source": [
    "## TODO's:"
   ],
   "metadata": {
    "collapsed": false
   }
  },
  {
   "cell_type": "markdown",
   "source": [
    "<span style=\"font-family:Papyrus; font-size:1.25em;\">\n",
    "\n",
    "Implement further elements from Shuntaro Yada's SLO Twitter Dataset Analysis.<br>\n",
    "\n",
    "</span>"
   ],
   "metadata": {
    "collapsed": false
   }
  },
  {
   "cell_type": "code",
   "execution_count": null,
   "outputs": [],
   "source": [],
   "metadata": {
    "collapsed": false,
    "pycharm": {
     "name": "#%%\n"
    }
   }
  }
 ],
 "metadata": {
  "language_info": {
   "codemirror_mode": {
    "name": "ipython",
    "version": 2
   },
   "file_extension": ".py",
   "mimetype": "text/x-python",
   "name": "python",
   "nbconvert_exporter": "python",
   "pygments_lexer": "ipython2",
   "version": "2.7.6"
  },
  "kernelspec": {
   "name": "python3",
   "language": "python",
   "display_name": "Python 3"
  },
  "pycharm": {
   "stem_cell": {
    "cell_type": "raw",
    "source": [],
    "metadata": {
     "collapsed": false
    }
   }
  }
 },
 "nbformat": 4,
 "nbformat_minor": 0
}