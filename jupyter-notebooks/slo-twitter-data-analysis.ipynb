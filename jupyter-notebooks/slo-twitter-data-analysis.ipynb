{
 "cells": [
  {
   "cell_type": "markdown",
   "metadata": {
    "collapsed": true
   },
   "source": [
    "# SLO Twitter Data Analysis:"
   ]
  },
  {
   "cell_type": "markdown",
   "metadata": {},
   "source": [
    "### Written By: Professor Keith VanderLinden and Joseph Jinn"
   ]
  },
  {
   "cell_type": "markdown",
   "metadata": {},
   "source": [
    "<span style=\"font-family:Papyrus; font-size:1.25em;\">\n",
    "    \n",
    "</p>This Jupyter Notebook provides an analysis of Twitter data obtained by CSIRO over the course of the past decade.  The analysis is in part based on and adapted from \"SLO analysis.ipynb\" by Shuntaro Yada from CSIRO.</p><br><br>\n",
    "\n",
    "</p>The original \"SLO analysis.ipynb\" utilizes multiple JSON files that are already auto-encoded to be associated with certain mining companies like \"adani\", \"bhp\", etc.  We do not have access to those JSON files, so we are currently using the \"dataset_slo_20100101-20180510.json\" raw Tweet file and the \"dataset_20100101-20180510.csv\" preprocessed Tweet file from the \"sloclassifiers\" directory on Calvin College's Borg supercomputer.</p></br>\n",
    "\n",
    "</span>"
   ]
  },
  {
   "cell_type": "markdown",
   "metadata": {},
   "source": [
    "## Sample from raw JSON Twitter Dataset:"
   ]
  },
  {
   "cell_type": "markdown",
   "metadata": {},
   "source": [
    "<span style=\"font-family:Papyrus; font-size:1.25em;\">\n",
    "\n",
    "This is a sample from our raw JSON Twitter dataset as extracted via the Twitter API.  The dataset was obtained from CSIRO.<br>\n",
    "\n",
    "The raw Tweet in JSON format is in Dictionary format as key/value pairs.<br>\n",
    "The value could be a string, integer, float, or another data structure such as a List or Dictionary.<br>\n",
    "\n",
    "Each line within the JSON file corresponds to a single Tweet.<br>\n",
    "\n",
    "There are 4 primary objects within the Tweet JSON file.  They are the \"Tweet\", \"User\", \"Entities\", and \"Geo\" objects.  Sometimes there can also be an extended entities object.<br>\n",
    "\n",
    "Sample obtained by copy/pasting a single line from the raw JSON file and then manually separating that single line into the individual data fields.<br>\n",
    "\n",
    "Explanation of each field is taken from the official Twitter API Documentation.<br>\n",
    "\n",
    "</span>"
   ]
  },
  {
   "cell_type": "markdown",
   "metadata": {},
   "source": [
    "### Main Tweet Object:"
   ]
  },
  {
   "cell_type": "markdown",
   "metadata": {},
   "source": [
    "<span style=\"font-family:Papyrus; font-size:1.25em;\">\n",
    "\n",
    "The main Tweet object.  The table below gives a sample of the raw Twitter data with the attribute name, attribute value, and a description of the attribute's purpose.<br>\n",
    "\n",
    "</span>"
   ]
  },
  {
   "cell_type": "markdown",
   "metadata": {},
   "source": [
    "<style type=\"text/css\">\n",
    ".tg  {border-collapse:collapse;border-spacing:0;}\n",
    ".tg td{font-family:Arial, sans-serif;font-size:14px;padding:10px 5px;border-style:solid;border-width:1px;overflow:hidden;word-break:normal;border-color:black;}\n",
    ".tg th{font-family:Arial, sans-serif;font-size:14px;font-weight:normal;padding:10px 5px;border-style:solid;border-width:1px;overflow:hidden;word-break:normal;border-color:black;}\n",
    ".tg .tg-xldj{border-color:inherit;text-align:left}\n",
    ".tg .tg-0pky{border-color:inherit;text-align:left;vertical-align:top}\n",
    ".tg .tg-0lax{text-align:left;vertical-align:top}\n",
    "</style>\n",
    "<table class=\"tg\">\n",
    "  <tr>\n",
    "    <th class=\"tg-xldj\">attribute</th>\n",
    "    <th class=\"tg-xldj\">value</th>\n",
    "    <th class=\"tg-0pky\">description</th>\n",
    "  </tr>\n",
    "  <tr>\n",
    "    <td class=\"tg-xldj\">{\"in_reply_to_status_id_str\":</td>\n",
    "    <td class=\"tg-xldj\">\"305159434462691328\"</td>\n",
    "    <td class=\"tg-0pky\">If the represented Tweet is a reply, this field will contain the string representation of the original Tweet’s ID.<br></td>\n",
    "  </tr>\n",
    "  <tr>\n",
    "    <td class=\"tg-0pky\">\"in_reply_to_status_id\":</td>\n",
    "    <td class=\"tg-0pky\">305159434462691328</td>\n",
    "    <td class=\"tg-0pky\">If the represented Tweet is a reply, this field will contain the integer representation of the original Tweet’s ID.</td>\n",
    "  </tr>\n",
    "  <tr>\n",
    "    <td class=\"tg-0pky\">\"coordinates\":</td>\n",
    "    <td class=\"tg-0pky\">null</td>\n",
    "    <td class=\"tg-0pky\">Represents the geographic location of this Tweet as reported by the user or client application.</td>\n",
    "  </tr>\n",
    "  <tr>\n",
    "    <td class=\"tg-0pky\">\"created_at\":</td>\n",
    "    <td class=\"tg-0pky\">\"Sat Feb 23 03:40:21 +0000 2013\"</td>\n",
    "    <td class=\"tg-0pky\">UTC time when this Tweet was created.</td>\n",
    "  </tr>\n",
    "  <tr>\n",
    "    <td class=\"tg-0pky\">\"truncated\":</td>\n",
    "    <td class=\"tg-0pky\">false</td>\n",
    "    <td class=\"tg-0pky\">Indicates whether the value of the text parameter was truncated.</td>\n",
    "  </tr>\n",
    "  <tr>\n",
    "    <td class=\"tg-0pky\">\"in_reply_to_user_id_str\":</td>\n",
    "    <td class=\"tg-0pky\">\"2768501\"</td>\n",
    "    <td class=\"tg-0pky\">If the represented Tweet is a reply, this field will contain the string representation of the original Tweet’s author ID.</td>\n",
    "  </tr>\n",
    "  <tr>\n",
    "    <td class=\"tg-0pky\">\"source\":</td>\n",
    "    <td class=\"tg-0pky\">\"&lt;a href=\\\"http:\\/\\/twitter.com\\/download\\/iphone\\\" rel=\\\"nofollow\\\"&gt;Twitter for iPhone&lt;\\/a&gt;\"</td>\n",
    "    <td class=\"tg-0pky\">Utility used to post the Tweet, as an HTML-formatted string.</td>\n",
    "  </tr>\n",
    "  <tr>\n",
    "    <td class=\"tg-0pky\">\"retweet_count\":</td>\n",
    "    <td class=\"tg-0pky\">0</td>\n",
    "    <td class=\"tg-0pky\">Number of times this Tweet has been retweeted.</td>\n",
    "  </tr>\n",
    "  <tr>\n",
    "    <td class=\"tg-0pky\">\"retweeted\":</td>\n",
    "    <td class=\"tg-0pky\">false</td>\n",
    "    <td class=\"tg-0pky\">Indicates whether this Tweet has been Retweeted by the authenticating user.</td>\n",
    "  </tr>\n",
    "  <tr>\n",
    "    <td class=\"tg-0pky\">\"geo\":</td>\n",
    "    <td class=\"tg-0pky\">null</td>\n",
    "    <td class=\"tg-0pky\">This deprecated attribute has its coordinates formatted as [lat, long], while all other Tweet geo is formatted as [long, lat].</td>\n",
    "  </tr>\n",
    "  <tr>\n",
    "    <td class=\"tg-0pky\">\"in_reply_to_screen_name\":</td>\n",
    "    <td class=\"tg-0pky\">\"abcnews\"</td>\n",
    "    <td class=\"tg-0pky\">If the represented Tweet is a reply, this field will contain the screen name of the original Tweet’s author.</td>\n",
    "  </tr>\n",
    "  <tr>\n",
    "    <td class=\"tg-0pky\">\"is_quote_status\":</td>\n",
    "    <td class=\"tg-0pky\">false</td>\n",
    "    <td class=\"tg-0pky\">Indicates whether this is a Quoted Tweet.</td>\n",
    "  </tr>\n",
    "  <tr>\n",
    "    <td class=\"tg-0pky\">\"full_text\":</td>\n",
    "    <td class=\"tg-0pky\">\"@abcnews About bloody time. Adani only wants FIFO Indian workers for his Bowen basin mines.\"</td>\n",
    "    <td class=\"tg-0pky\">The \"extended_tweet\" object provides the \"full_text\" field that contains the complete, untruncated Tweet message when longer than 140 characters.</td>\n",
    "  </tr>\n",
    "  <tr>\n",
    "    <td class=\"tg-0pky\">\"id_str\":</td>\n",
    "    <td class=\"tg-0pky\">\"305160140833816576\"</td>\n",
    "    <td class=\"tg-0pky\">The string representation of the unique identifier for this Tweet.</td>\n",
    "  </tr>\n",
    "  <tr>\n",
    "    <td class=\"tg-0pky\">\"in_reply_to_user_id\":</td>\n",
    "    <td class=\"tg-0pky\">2768501</td>\n",
    "    <td class=\"tg-0pky\">If the represented Tweet is a reply, this field will contain the integer representation of the original Tweet’s author ID.</td>\n",
    "  </tr>\n",
    "  <tr>\n",
    "    <td class=\"tg-0pky\">\"display_text_range\":</td>\n",
    "    <td class=\"tg-0pky\">[0,91]</td>\n",
    "    <td class=\"tg-0pky\">Part of the extended Tweet object.  Contain the # of characters in the Tweet?</td>\n",
    "  </tr>\n",
    "  <tr>\n",
    "    <td class=\"tg-0pky\">\"favorite_count\":</td>\n",
    "    <td class=\"tg-0pky\">0</td>\n",
    "    <td class=\"tg-0pky\">Indicates approximately how many times this Tweet has been liked by Twitter users.</td>\n",
    "  </tr>\n",
    "  <tr>\n",
    "    <td class=\"tg-0pky\">\"id\":</td>\n",
    "    <td class=\"tg-0pky\">305160140833816576</td>\n",
    "    <td class=\"tg-0pky\">The integer representation of the unique identifier for this Tweet.</td>\n",
    "  </tr>\n",
    "  <tr>\n",
    "    <td class=\"tg-0pky\">\"place\":</td>\n",
    "    <td class=\"tg-0pky\">null</td>\n",
    "    <td class=\"tg-0pky\">When present, indicates that the tweet is associated (but not necessarily originating from) a Place.</td>\n",
    "  </tr>\n",
    "  <tr>\n",
    "    <td class=\"tg-0pky\">\"contributors\":</td>\n",
    "    <td class=\"tg-0pky\">null</td>\n",
    "    <td class=\"tg-0pky\">Can't find this field in the documentation.  Deprecated?</td>\n",
    "  </tr>\n",
    "  <tr>\n",
    "    <td class=\"tg-0pky\">\"lang\":</td>\n",
    "    <td class=\"tg-0pky\">\"en\"</td>\n",
    "    <td class=\"tg-0pky\">When present, indicates a BCP 47 language identifier corresponding to the machine-detected language of the Tweet text, or und if no language could be detected.</td>\n",
    "  </tr>\n",
    "  <tr>\n",
    "    <td class=\"tg-0pky\">\"favorited\":</td>\n",
    "    <td class=\"tg-0pky\">false}</td>\n",
    "    <td class=\"tg-0pky\">Indicates whether this Tweet has been liked by the authenticating user.</td>\n",
    "  </tr>\n",
    "  <tr>\n",
    "    <td class=\"tg-0pky\">\"entities\":{</td>\n",
    "    <td class=\"tg-0pky\">\"urls\":[],\"hashtags\":[],\"user_mentions\":[{\"indices\":[0,8],\"screen_name\":\"abcnews\",\"id_str\":\"2768501\",\"name\":\"ABC News\",\"id\":2768501}],\"symbols\":[]}</td>\n",
    "    <td class=\"tg-0pky\">Entities which have been parsed out of the text of the Tweet.</td>\n",
    "  </tr>\n",
    "  <tr>\n",
    "    <td class=\"tg-0pky\">\"extended_entities\":null</td>\n",
    "    <td class=\"tg-0pky\">null</td>\n",
    "    <td class=\"tg-0pky\">If a Tweet contains native media (shared with the Tweet user-interface as opposed via a link to elsewhere), there will also be a extended_entities section.</td>\n",
    "  </tr>\n",
    "  <tr>\n",
    "    <td class=\"tg-0lax\">\"user\":{</td>\n",
    "    <td class=\"tg-0lax\">Note: values not included due to sheer amount stretching table width.</td>\n",
    "    <td class=\"tg-0lax\">User object contains Twitter User account metadata that describes the Twitter User referenced.</td>\n",
    "  </tr>\n",
    "  <tr>\n",
    "    <td class=\"tg-0lax\"></td>\n",
    "    <td class=\"tg-0lax\"></td>\n",
    "    <td class=\"tg-0lax\"></td>\n",
    "  </tr>\n",
    "</table>"
   ]
  },
  {
   "cell_type": "markdown",
   "metadata": {
    "scrolled": false
   },
   "source": [
    "<span style=\"font-family:Papyrus; font-size:1.25em;\">\n",
    "\n",
    "Not all fields have a value.  Some are null.  The \"entities\", \"extended_entities\", and \"user\" objects possess values that are themselves nested data structures.<br>\n",
    "\n",
    "</span>"
   ]
  },
  {
   "cell_type": "markdown",
   "metadata": {},
   "source": [
    "### Entities Object within the Main Tweet Object:"
   ]
  },
  {
   "cell_type": "markdown",
   "metadata": {},
   "source": [
    "<span style=\"font-family:Papyrus; font-size:1.25em;\">\n",
    "\n",
    "This is the \"entities\" nested data structure within the main Tweet object that contains a dictionary of further nested data structures and key-value pairs.<br>\n",
    "\n",
    "</span>"
   ]
  },
  {
   "cell_type": "markdown",
   "metadata": {},
   "source": [
    "<style type=\"text/css\">\n",
    ".tg  {border-collapse:collapse;border-spacing:0;}\n",
    ".tg td{font-family:Arial, sans-serif;font-size:14px;padding:10px 5px;border-style:solid;border-width:1px;overflow:hidden;word-break:normal;border-color:black;}\n",
    ".tg th{font-family:Arial, sans-serif;font-size:14px;font-weight:normal;padding:10px 5px;border-style:solid;border-width:1px;overflow:hidden;word-break:normal;border-color:black;}\n",
    ".tg .tg-s268{text-align:left}\n",
    "</style>\n",
    "<table class=\"tg\">\n",
    "  <tr>\n",
    "    <th class=\"tg-s268\">attribute</th>\n",
    "    <th class=\"tg-s268\">value</th>\n",
    "    <th class=\"tg-s268\">description</th>\n",
    "  </tr>\n",
    "  <tr>\n",
    "    <td class=\"tg-s268\">\"urls\":</td>\n",
    "    <td class=\"tg-s268\">[]</td>\n",
    "    <td class=\"tg-s268\">Represents URLs included in the text of a Tweet.</td>\n",
    "  </tr>\n",
    "  <tr>\n",
    "    <td class=\"tg-s268\">\"hashtags\":</td>\n",
    "    <td class=\"tg-s268\">[]</td>\n",
    "    <td class=\"tg-s268\">Represents hashtags which have been parsed out of the Tweet text.</td>\n",
    "  </tr>\n",
    "  <tr>\n",
    "    <td class=\"tg-s268\">\"user_mentions\":</td>\n",
    "    <td class=\"tg-s268\">[{\"indices\":[0,8],\"screen_name\":\"abcnews\",\"id_str\":\"2768501\", \"name\":\"ABC News\",\"id\":2768501}]</td>\n",
    "    <td class=\"tg-s268\">Represents other Twitter users mentioned in the text of the Tweet.</td>\n",
    "  </tr>\n",
    "  <tr>\n",
    "    <td class=\"tg-s268\">\"symbols\":</td>\n",
    "    <td class=\"tg-s268\">[]}</td>\n",
    "    <td class=\"tg-s268\">Represents symbols, i.e. $cashtags, included in the text of the Tweet.</td>\n",
    "  </tr>\n",
    "</table>"
   ]
  },
  {
   "cell_type": "markdown",
   "metadata": {},
   "source": [
    "<span style=\"font-family:Papyrus; font-size:1.25em;\">\n",
    "\n",
    "Not all fields have a value.  Some are null.  Each of these is a List.  The \"user_mentions\" in this sample contains a dictionary of key-value pairs within the List structure.<br>\n",
    "\n",
    "The \"extended_entities\" data structure can contain quite the number of nested data structures and key-value pairs.  Refer to the official Twitter API Documentation for further details.  It shares similar fields as the \"entities\" object and then even more fields unique to it.<br>\n",
    "\n",
    "</span>"
   ]
  },
  {
   "cell_type": "markdown",
   "metadata": {},
   "source": [
    "### User Object within the Main Tweet Object:"
   ]
  },
  {
   "cell_type": "markdown",
   "metadata": {},
   "source": [
    "<span style=\"font-family:Papyrus; font-size:1.25em;\">\n",
    "\n",
    "This is the \"user\" nested data structure within the main Tweet object that contains a dictionary of further nested data structures and key-value pairs.<br>\n",
    "\n",
    "</span>"
   ]
  },
  {
   "cell_type": "markdown",
   "metadata": {},
   "source": [
    "<style type=\"text/css\">\n",
    ".tg  {border-collapse:collapse;border-spacing:0;}\n",
    ".tg td{font-family:Arial, sans-serif;font-size:14px;padding:10px 5px;border-style:solid;border-width:1px;overflow:hidden;word-break:normal;border-color:black;}\n",
    ".tg th{font-family:Arial, sans-serif;font-size:14px;font-weight:normal;padding:10px 5px;border-style:solid;border-width:1px;overflow:hidden;word-break:normal;border-color:black;}\n",
    ".tg .tg-xldj{border-color:inherit;text-align:left}\n",
    ".tg .tg-0lax{text-align:left;vertical-align:top}\n",
    "</style>\n",
    "<table class=\"tg\">\n",
    "  <tr>\n",
    "    <th class=\"tg-xldj\">attribute</th>\n",
    "    <th class=\"tg-xldj\">value</th>\n",
    "    <th class=\"tg-xldj\">description</th>\n",
    "  </tr>\n",
    "  <tr>\n",
    "    <td class=\"tg-xldj\">\"utc_offset\":</td>\n",
    "    <td class=\"tg-xldj\">36000</td>\n",
    "    <td class=\"tg-xldj\">Deprecated.</td>\n",
    "  </tr>\n",
    "  <tr>\n",
    "    <td class=\"tg-xldj\">\"friends_count\":</td>\n",
    "    <td class=\"tg-xldj\">1385</td>\n",
    "    <td class=\"tg-xldj\">The number of users this account is following (AKA their “followings”).</td>\n",
    "  </tr>\n",
    "  <tr>\n",
    "    <td class=\"tg-xldj\">\"profile_image_url_https\":</td>\n",
    "    <td class=\"tg-xldj\">\"https://pbs.twimg.com/profile_images/698290934618787840/SIpBKnWE_normal.jpg\"</td>\n",
    "    <td class=\"tg-xldj\">A HTTPS-based URL pointing to the user’s profile image.</td>\n",
    "  </tr>\n",
    "  <tr>\n",
    "    <td class=\"tg-xldj\">\"listed_count\":</td>\n",
    "    <td class=\"tg-xldj\">3</td>\n",
    "    <td class=\"tg-xldj\">The number of public lists that this user is a member of.</td>\n",
    "  </tr>\n",
    "  <tr>\n",
    "    <td class=\"tg-xldj\">\"profile_background_image_url\":</td>\n",
    "    <td class=\"tg-xldj\">\"http://abs.twimg.com/images/themes/theme1/bg.png\"</td>\n",
    "    <td class=\"tg-xldj\">Deprecated.</td>\n",
    "  </tr>\n",
    "  <tr>\n",
    "    <td class=\"tg-xldj\">\"default_profile_image\":</td>\n",
    "    <td class=\"tg-xldj\">false</td>\n",
    "    <td class=\"tg-xldj\">When true, indicates that the user has not uploaded their own profile image and a default image is used instead.</td>\n",
    "  </tr>\n",
    "  <tr>\n",
    "    <td class=\"tg-xldj\">\"favourites_count\":</td>\n",
    "    <td class=\"tg-xldj\">533</td>\n",
    "    <td class=\"tg-xldj\">The number of Tweets this user has liked in the account’s lifetime.</td>\n",
    "  </tr>\n",
    "  <tr>\n",
    "    <td class=\"tg-xldj\">\"description\":</td>\n",
    "    <td class=\"tg-xldj\">\"Train Driver extraordinaire, proud Union Leftie and Labor supporter. Cant stand the LNP and their regressive ideas. Mainly political but I do enjoy a laugh.\"</td>\n",
    "    <td class=\"tg-xldj\">The user-defined UTF-8 string describing their account.</td>\n",
    "  </tr>\n",
    "  <tr>\n",
    "    <td class=\"tg-xldj\">\"created_at\":</td>\n",
    "    <td class=\"tg-xldj\">\"Tue Aug 21 23:23:52 +0000 2012\"</td>\n",
    "    <td class=\"tg-xldj\">The UTC datetime that the user account was created on Twitter.</td>\n",
    "  </tr>\n",
    "  <tr>\n",
    "    <td class=\"tg-xldj\">\"is_translator\":</td>\n",
    "    <td class=\"tg-xldj\">false</td>\n",
    "    <td class=\"tg-xldj\">Deprecated.</td>\n",
    "  </tr>\n",
    "  <tr>\n",
    "    <td class=\"tg-xldj\">\"profile_background_image_url_https\":</td>\n",
    "    <td class=\"tg-xldj\">\"https://abs.twimg.com/images/themes/theme1/bg.png\"</td>\n",
    "    <td class=\"tg-xldj\">Deprecated.</td>\n",
    "  </tr>\n",
    "  <tr>\n",
    "    <td class=\"tg-xldj\">\"protected\":</td>\n",
    "    <td class=\"tg-xldj\">false</td>\n",
    "    <td class=\"tg-xldj\">When true, indicates that this user has chosen to protect their Tweets.</td>\n",
    "  </tr>\n",
    "  <tr>\n",
    "    <td class=\"tg-xldj\">\"screen_name\":</td>\n",
    "    <td class=\"tg-xldj\">\"DazzDicko\"</td>\n",
    "    <td class=\"tg-xldj\">The screen name, handle, or alias that this user identifies themselves with. screen_names are unique but subject to change.</td>\n",
    "  </tr>\n",
    "  <tr>\n",
    "    <td class=\"tg-xldj\">\"id_str\":</td>\n",
    "    <td class=\"tg-xldj\">\"772466924\"</td>\n",
    "    <td class=\"tg-xldj\">The string representation of the unique identifier for this User.</td>\n",
    "  </tr>\n",
    "  <tr>\n",
    "    <td class=\"tg-xldj\">\"profile_link_color\":</td>\n",
    "    <td class=\"tg-xldj\">\"1DA1F2\"</td>\n",
    "    <td class=\"tg-xldj\">Deprecated.</td>\n",
    "  </tr>\n",
    "  <tr>\n",
    "    <td class=\"tg-xldj\">\"is_translation_enabled\":</td>\n",
    "    <td class=\"tg-xldj\">false</td>\n",
    "    <td class=\"tg-xldj\">Deprecated.</td>\n",
    "  </tr>\n",
    "  <tr>\n",
    "    <td class=\"tg-xldj\">\"translator_type\":</td>\n",
    "    <td class=\"tg-xldj\">\"none\"</td>\n",
    "    <td class=\"tg-xldj\">Deprecated.</td>\n",
    "  </tr>\n",
    "  <tr>\n",
    "    <td class=\"tg-xldj\">\"id\":</td>\n",
    "    <td class=\"tg-xldj\">772466924</td>\n",
    "    <td class=\"tg-xldj\">The integer representation of the unique identifier for this User.</td>\n",
    "  </tr>\n",
    "  <tr>\n",
    "    <td class=\"tg-xldj\">\"geo_enabled\":</td>\n",
    "    <td class=\"tg-xldj\">true</td>\n",
    "    <td class=\"tg-xldj\">Deprecated.</td>\n",
    "  </tr>\n",
    "  <tr>\n",
    "    <td class=\"tg-0lax\">\"profile_background_color\":</td>\n",
    "    <td class=\"tg-0lax\">\"C0DEED\"</td>\n",
    "    <td class=\"tg-0lax\">Deprecated.</td>\n",
    "  </tr>\n",
    "  <tr>\n",
    "    <td class=\"tg-0lax\">\"lang\":</td>\n",
    "    <td class=\"tg-0lax\">\"en\"</td>\n",
    "    <td class=\"tg-0lax\">Deprecated.</td>\n",
    "  </tr>\n",
    "  <tr>\n",
    "    <td class=\"tg-0lax\">\"has_extended_profile\":</td>\n",
    "    <td class=\"tg-0lax\">false</td>\n",
    "    <td class=\"tg-0lax\">Deprecated.</td>\n",
    "  </tr>\n",
    "  <tr>\n",
    "    <td class=\"tg-0lax\">\"profile_sidebar_border_color\":</td>\n",
    "    <td class=\"tg-0lax\">\"C0DEED\"</td>\n",
    "    <td class=\"tg-0lax\">Deprecated.</td>\n",
    "  </tr>\n",
    "  <tr>\n",
    "    <td class=\"tg-0lax\">\"profile_text_color\":</td>\n",
    "    <td class=\"tg-0lax\">\"333333\"</td>\n",
    "    <td class=\"tg-0lax\">Deprecated.</td>\n",
    "  </tr>\n",
    "  <tr>\n",
    "    <td class=\"tg-0lax\">\"verified\":</td>\n",
    "    <td class=\"tg-0lax\">false</td>\n",
    "    <td class=\"tg-0lax\">When true, indicates that the user has a verified account.</td>\n",
    "  </tr>\n",
    "  <tr>\n",
    "    <td class=\"tg-0lax\">\"profile_image_url\":</td>\n",
    "    <td class=\"tg-0lax\">\"http://pbs.twimg.com/profile_images/698290934618787840/SIpBKnWE_normal.jpg\"</td>\n",
    "    <td class=\"tg-0lax\">Deprecated.</td>\n",
    "  </tr>\n",
    "  <tr>\n",
    "    <td class=\"tg-0lax\">\"time_zone\":</td>\n",
    "    <td class=\"tg-0lax\">\"Australia/Brisbane\"</td>\n",
    "    <td class=\"tg-0lax\">Deprecated.</td>\n",
    "  </tr>\n",
    "  <tr>\n",
    "    <td class=\"tg-0lax\">\"url\":</td>\n",
    "    <td class=\"tg-0lax\">null</td>\n",
    "    <td class=\"tg-0lax\">A URL provided by the user in association with their profile.</td>\n",
    "  </tr>\n",
    "  <tr>\n",
    "    <td class=\"tg-0lax\">\"contributors_enabled\":</td>\n",
    "    <td class=\"tg-0lax\">false</td>\n",
    "    <td class=\"tg-0lax\">Deprecated.</td>\n",
    "  </tr>\n",
    "  <tr>\n",
    "    <td class=\"tg-0lax\">\"profile_background_tile\":</td>\n",
    "    <td class=\"tg-0lax\">false</td>\n",
    "    <td class=\"tg-0lax\">Deprecated.</td>\n",
    "  </tr>\n",
    "  <tr>\n",
    "    <td class=\"tg-0lax\">\"entities\":</td>\n",
    "    <td class=\"tg-0lax\">{\"description\":{\"urls\":[]}}</td>\n",
    "    <td class=\"tg-0lax\">Entities which have been parsed out of the text of the Tweet.</td>\n",
    "  </tr>\n",
    "  <tr>\n",
    "    <td class=\"tg-0lax\">\"statuses_count\":</td>\n",
    "    <td class=\"tg-0lax\">5176</td>\n",
    "    <td class=\"tg-0lax\">The number of Tweets (including retweets) issued by the user.</td>\n",
    "  </tr>\n",
    "  <tr>\n",
    "    <td class=\"tg-0lax\">\"follow_request_sent\":</td>\n",
    "    <td class=\"tg-0lax\">false</td>\n",
    "    <td class=\"tg-0lax\">Deprecated.</td>\n",
    "  </tr>\n",
    "  <tr>\n",
    "    <td class=\"tg-0lax\">\"followers_count\":</td>\n",
    "    <td class=\"tg-0lax\">945</td>\n",
    "    <td class=\"tg-0lax\">The number of followers this account currently has.</td>\n",
    "  </tr>\n",
    "  <tr>\n",
    "    <td class=\"tg-0lax\">\"profile_use_background_image\":</td>\n",
    "    <td class=\"tg-0lax\">true</td>\n",
    "    <td class=\"tg-0lax\">Deprecated.</td>\n",
    "  </tr>\n",
    "  <tr>\n",
    "    <td class=\"tg-0lax\">\"default_profile\":</td>\n",
    "    <td class=\"tg-0lax\">true</td>\n",
    "    <td class=\"tg-0lax\">When true, indicates that the user has not altered the theme or background of their user profile.</td>\n",
    "  </tr>\n",
    "  <tr>\n",
    "    <td class=\"tg-0lax\">\"following\":</td>\n",
    "    <td class=\"tg-0lax\">false</td>\n",
    "    <td class=\"tg-0lax\">Deprecated.</td>\n",
    "  </tr>\n",
    "  <tr>\n",
    "    <td class=\"tg-0lax\">\"name\":</td>\n",
    "    <td class=\"tg-0lax\">\"Daryl Dickson\"</td>\n",
    "    <td class=\"tg-0lax\">The name of the user, as they’ve defined it. Not necessarily a person’s name. Typically capped at 50 characters, but subject to change.</td>\n",
    "  </tr>\n",
    "  <tr>\n",
    "    <td class=\"tg-0lax\">\"location\":</td>\n",
    "    <td class=\"tg-0lax\">\"Far North Queensland\"</td>\n",
    "    <td class=\"tg-0lax\">The user-defined location for this account’s profile. Not necessarily a location, nor machine-parseable.</td>\n",
    "  </tr>\n",
    "  <tr>\n",
    "    <td class=\"tg-0lax\">\"profile_sidebar_fill_color\":</td>\n",
    "    <td class=\"tg-0lax\">\"DDEEF6\"</td>\n",
    "    <td class=\"tg-0lax\">Deprecated.</td>\n",
    "  </tr>\n",
    "  <tr>\n",
    "    <td class=\"tg-0lax\">\"notifications\":</td>\n",
    "    <td class=\"tg-0lax\">false}</td>\n",
    "    <td class=\"tg-0lax\">Deprecated.</td>\n",
    "  </tr>\n",
    "</table>"
   ]
  },
  {
   "cell_type": "markdown",
   "metadata": {},
   "source": [
    "<span style=\"font-family:Papyrus; font-size:1.25em;\">\n",
    "\n",
    "Quite a few fields in the \"user\" object are deprecated.  The Twitter API Documentation does not say why in particular.  This is understandable as we are using a older dataset with Tweets going back to 2012.  The \"user\" object also possesses an \"entities\" object, though in this sample it is empty.<br>\n",
    "\n",
    "</span>"
   ]
  },
  {
   "cell_type": "markdown",
   "metadata": {},
   "source": [
    "# Data Analysis Codebase:"
   ]
  },
  {
   "cell_type": "markdown",
   "metadata": {},
   "source": [
    "<span style=\"font-family:Papyrus; font-size:1.25em;\">\n",
    "    \n",
    "The following sections present our current codebase that analyzes various combinations of attributes present in the raw JSON Twitter data file.<br>\n",
    "\n",
    "</span>"
   ]
  },
  {
   "cell_type": "markdown",
   "metadata": {},
   "source": [
    "## Generalized Data Analysis Utility Functions:"
   ]
  },
  {
   "cell_type": "markdown",
   "metadata": {},
   "source": [
    "<span style=\"font-family:Papyrus; font-size:1.25em;\">\n",
    "    \n",
    "This function allows us to extract individual attributes from the entire raw JSON Tweet data file and export it to a separate CSV or JSON file.  This allows us to analyze certain attributes across the entire raw dataset despite the fact that we cannot read it into memory in its entirety due to RAM limitations.  Extracting individual attributes reduces filesize signifantly, allowing our 32 GBS of system RAM to suffice for data analysis.<br>\n",
    "\n",
    "</span>"
   ]
  },
  {
   "cell_type": "code",
   "execution_count": 32,
   "metadata": {},
   "outputs": [],
   "source": [
    "def generalized_field_extraction_function(input_file_path, output_file_path, field_to_extract, file_type):\n",
    "    \"\"\"\n",
    "    This is a generalized function to extract a single field from the raw JSON Tweet file.\n",
    "    The data is read in by chunks to ensure they can fit in RAM.\n",
    "\n",
    "    :param file_type: type of file to save as. (\"json\" or \"csv\")\n",
    "    :param input_file_path: absolute file path of the input file to extract the field from.\n",
    "    :param output_file_path: absolute file path of the output file to save the extracted field to.\n",
    "    :param field_to_extract: string name of the field to extract.\n",
    "    :return: None.\n",
    "    \"\"\"\n",
    "    start_time = time.time()\n",
    "\n",
    "    # Define size of chunks to read in.\n",
    "    chunksize = 100000\n",
    "\n",
    "    # Read in the JSON file.\n",
    "    twitter_data = pd.read_json(f\"{input_file_path}\",\n",
    "                                orient='records',\n",
    "                                lines=True,\n",
    "                                chunksize=chunksize)\n",
    "\n",
    "    # Create empty Pandas Dataframes.\n",
    "    json_dataframe = pd.DataFrame()\n",
    "    created_at_dataframe = pd.DataFrame()\n",
    "    selected_field = pd.DataFrame()\n",
    "\n",
    "    # Append each chunk of extracted fields to the dataframe.\n",
    "    chunk_number = 0\n",
    "    for data in twitter_data:\n",
    "        json_dataframe = json_dataframe.append(data, ignore_index=True)\n",
    "        selected_field[field_to_extract] = json_dataframe[field_to_extract]\n",
    "        created_at_dataframe = created_at_dataframe.append(selected_field)\n",
    "\n",
    "        # Clear dataframe and increment counter.\n",
    "        json_dataframe = pd.DataFrame()\n",
    "        chunk_number += 1\n",
    "\n",
    "    file_path = \\\n",
    "        f\"{output_file_path}{field_to_extract}-attribute.{file_type}\"\n",
    "\n",
    "    if file_type == \"csv\":\n",
    "        # Export to CSV file.\n",
    "        created_at_dataframe.to_csv(file_path, sep=',',\n",
    "                                    encoding='utf-8', index=False, header=True)\n",
    "    elif file_type == \"json\":\n",
    "        # Export JSON file.\n",
    "        created_at_dataframe.to_json(file_path, orient='records', lines=True)\n",
    "    else:\n",
    "        print(f\"Invalid file type entered - aborting operation\")\n",
    "        return\n",
    "\n",
    "    end_time = time.time()\n",
    "    time_elapsed = (end_time - start_time) / 60.0\n",
    "\n",
    "    log.info(f\"The time taken to extract the field \\\"{field_to_extract}\\\" from the JSON file is {time_elapsed} minutes\")\n",
    "    log.info(f\"The number of chunks is {chunk_number} based on chunk size of {chunksize} \")\n",
    "    log.info('\\n')"
   ]
  },
  {
   "cell_type": "markdown",
   "metadata": {},
   "source": [
    "<span style=\"font-family:Papyrus; font-size:1.25em;\">\n",
    "\n",
    "Below is a sample function call.  We used this to extract the \"created_at\" attribute field from the entire raw JSON file in order to perform our time series analysis.<br>\n",
    "\n",
    "</span>"
   ]
  },
  {
   "cell_type": "code",
   "execution_count": 34,
   "metadata": {},
   "outputs": [],
   "source": [
    "# Extract the \"created_at\" field from raw JSON file and export to CSV file.\n",
    "# generalized_field_extraction_function(\n",
    "#     \"D:/Dropbox/summer-research-2019/json/dataset_slo_20100101-20180510.json\",\n",
    "#     \"D:/Dropbox/summer-research-2019/jupyter-notebooks/attribute-datasets/\",\n",
    "#     \"user\", \"csv\")"
   ]
  },
  {
   "cell_type": "markdown",
   "metadata": {},
   "source": [
    "<span style=\"font-family:Papyrus; font-size:1.25em;\">\n",
    "\n",
    "This function allows us to read in chunks of data of size \"chunksize\" as specified and export each data chunk out to a individual CSV or JSON file.  This allows us to load in an entire subset of the JSON Twitter dataset all at once into system RAM and perform data analysis on that subset.<br>\n",
    "\n",
    "</span>"
   ]
  },
  {
   "cell_type": "code",
   "execution_count": 33,
   "metadata": {},
   "outputs": [],
   "source": [
    "def generalized_json_data_chunking_file_export_function(input_file_path, output_file_path, file_type):\n",
    "    \"\"\"\n",
    "    This function reads in raw JSON files as chunks and exports each individual chunk to a CSV or JSON file.\n",
    "    Please use absolute file path strings.\n",
    "    Please use \"csv\" or \"json\" for the file type to save as.\n",
    "\n",
    "    :param file_type: type of file to save as.\n",
    "    :param input_file_path: absolute file path of the input file.\n",
    "    :param output_file_path: absolute file path of the output file.\n",
    "\n",
    "    :return: None.\n",
    "    \"\"\"\n",
    "    start_time = time.time()\n",
    "\n",
    "    # Define size of chunks to read in.\n",
    "    chunksize = 100000\n",
    "\n",
    "    # Read in the JSON file.\n",
    "    twitter_data = pd.read_json(f\"{input_file_path}\",\n",
    "                                orient='records',\n",
    "                                lines=True,\n",
    "                                chunksize=chunksize)\n",
    "\n",
    "    # Create a empty Pandas dataframe.\n",
    "    json_dataframe = pd.DataFrame()\n",
    "\n",
    "    # Read in data by chunk and export to file.\n",
    "    chunk_number = 0\n",
    "    for data in twitter_data:\n",
    "        json_dataframe = json_dataframe.append(data, ignore_index=True)\n",
    "        chunk_number += 1\n",
    "\n",
    "        # Note: Absolute file paths are required.  Relative do not work.\n",
    "        csv_output_file_path = f\"{output_file_path}raw-twitter-dataset-chunk-{chunk_number}.csv\"\n",
    "        json_output_file_path = f\"{output_file_path}raw-twitter-dataset-chunk-{chunk_number}.json\"\n",
    "\n",
    "        if file_type == \"csv\":\n",
    "            # Export to CSV file.\n",
    "            json_dataframe.to_csv(csv_output_file_path, sep=',',\n",
    "                                  encoding='utf-8', index=False, header=True)\n",
    "        elif file_type == \"json\":\n",
    "            # Export JSON file.\n",
    "            json_dataframe.to_json(json_output_file_path, orient='records', lines=True)\n",
    "        else:\n",
    "            print(f\"Invalid file type entered - aborting operation\")\n",
    "            return\n",
    "\n",
    "        # Clear the contents of the dataframe.\n",
    "        json_dataframe = pd.DataFrame()\n",
    "\n",
    "    end_time = time.time()\n",
    "    time_elapsed = (end_time - start_time) / 60.0\n",
    "\n",
    "    log.info(f\"The time taken to read in the JSON file by Chunks is {time_elapsed} minutes\")\n",
    "    log.info(f\"The number of chunks is {chunk_number} based on chunk size of {chunksize}\")\n",
    "    log.info('\\n')"
   ]
  },
  {
   "cell_type": "markdown",
   "metadata": {},
   "source": [
    "<span style=\"font-family:Papyrus; font-size:1.25em;\">\n",
    "\n",
    "Below is a sample function call.  We used this function to save the raw JSON file out into 7 individual subsets as both CSV and JSON files.<br>\n",
    "\n",
    "</span>"
   ]
  },
  {
   "cell_type": "code",
   "execution_count": 35,
   "metadata": {},
   "outputs": [],
   "source": [
    "# Read in JSON raw data as chunks and export to CSV/JSON files.\n",
    "# generalized_json_data_chunking_file_export_function(\n",
    "#     \"D:/Dropbox/summer-research-2019/json/dataset_slo_20100101-20180510.json\",\n",
    "#     \"D:/Dropbox/summer-research-2019/jupyter-notebooks/dataset-chunks/\", \"csv\")"
   ]
  },
  {
   "cell_type": "markdown",
   "metadata": {},
   "source": [
    "## Import libraries and set parameters:"
   ]
  },
  {
   "cell_type": "code",
   "execution_count": 4,
   "metadata": {},
   "outputs": [],
   "source": [
    "import logging as log\n",
    "import warnings\n",
    "import tensorflow as tf\n",
    "import time\n",
    "from matplotlib import pyplot as plt\n",
    "import numpy as np\n",
    "import pandas as pd\n",
    "import seaborn as sns\n",
    "\n",
    "sns.set()"
   ]
  },
  {
   "cell_type": "code",
   "execution_count": 5,
   "metadata": {},
   "outputs": [],
   "source": [
    "pd.options.display.max_rows = 100\n",
    "# pd.options.display.float_format = '{:.1f}'.format\n",
    "pd.set_option('precision', 7)\n",
    "warnings.simplefilter(action='ignore', category=FutureWarning)\n",
    "warnings.simplefilter(action='ignore', category=DeprecationWarning)\n"
   ]
  },
  {
   "cell_type": "markdown",
   "metadata": {},
   "source": [
    "<span style=\"font-family:Papyrus; font-size:1.25em;\">\n",
    "\n",
    "Pandas settings alters the maximum number of rows to be displayed and the number of decimal places to display for floating point values.<br>\n",
    "\n",
    "We also filter out several warning types to reduce output clutter.<br>\n",
    "\n",
    "</span>"
   ]
  },
  {
   "cell_type": "code",
   "execution_count": 6,
   "metadata": {},
   "outputs": [],
   "source": [
    "log.basicConfig(level=log.DEBUG)\n",
    "tf.logging.set_verbosity(tf.logging.INFO)"
   ]
  },
  {
   "cell_type": "markdown",
   "metadata": {},
   "source": [
    "<span style=\"font-family:Papyrus; font-size:1.25em;\">\n",
    "\n",
    "Change log levels between \"INFO\" and \"DEBUG\" depending on whether you wish to see log output or not.<br>\n",
    "\n",
    "</span>"
   ]
  },
  {
   "cell_type": "markdown",
   "metadata": {},
   "source": [
    "## Import preprocessed Twitter dataset CSV file:"
   ]
  },
  {
   "cell_type": "markdown",
   "metadata": {},
   "source": [
    "<span style=\"font-family:Papyrus; font-size:1.25em;\">\n",
    "\n",
    "We read in the untokenized Twitter dataset as a CSV file and generate a Pandas dataframe from the dataset.<br>\n",
    "\n",
    "</span>"
   ]
  },
  {
   "cell_type": "code",
   "execution_count": 10,
   "metadata": {},
   "outputs": [
    {
     "name": "stderr",
     "output_type": "stream",
     "text": [
      "INFO:root:\n",
      "\n",
      "INFO:root:The shape of our dataframe storing the contents of the preprocessed CSV Tweet file is:\n",
      "INFO:root:(658982, 9)\n",
      "INFO:root:\n",
      "\n",
      "INFO:root:The columns of our dataframe storing the contents of the preprocessed CSV Tweet file is:\n",
      "INFO:root:Index(['id', 'lang', 'language_textblob', 'retweeted', 'hashtags', 'company',\n",
      "       'text', 'user_screen_name', 'user_description'],\n",
      "      dtype='object')\n",
      "INFO:root:\n",
      "\n",
      "INFO:root:A sample from the dataframe storing the contents of the preprocessed CSV Tweet file is:\n",
      "INFO:root:\n",
      "                       id lang language_textblob  retweeted hashtags company  \\\n",
      "15145  669310149727666176   en                en      False      NaN   adani   \n",
      "\n",
      "                                                                                            text  \\\n",
      "15145  .@GregHuntMP @PressClubAust do you plan on mentioning adani's 3.5 billion tonne coalmine?   \n",
      "\n",
      "      user_screen_name          user_description  \n",
      "15145      Scottludlam  fellow who does research  \n",
      "INFO:root:\n",
      "\n"
     ]
    }
   ],
   "source": [
    "# Read in the CSV file.\n",
    "tweet_dataset_processed = \\\n",
    "    pd.read_csv(\"D:/Dropbox/summer-research-2019/datasets/dataset_20100101-20180510.csv\", sep=\",\")\n",
    "\n",
    "# Reindex and shuffle the data randomly.\n",
    "tweet_dataset_processed = tweet_dataset_processed.reindex(\n",
    "    pd.np.random.permutation(tweet_dataset_processed.index))\n",
    "\n",
    "# Generate a Pandas dataframe.\n",
    "csv_dataframe = pd.DataFrame(tweet_dataset_processed)\n",
    "\n",
    "# Print shape and column names.\n",
    "log.info(\"\\n\")\n",
    "log.info(\"The shape of our dataframe storing the contents of the preprocessed CSV Tweet file is:\")\n",
    "log.info(csv_dataframe.shape)\n",
    "log.info(\"\\n\")\n",
    "log.info(\"The columns of our dataframe storing the contents of the preprocessed CSV Tweet file is:\")\n",
    "log.info(csv_dataframe.columns)\n",
    "log.info(\"\\n\")\n",
    "log.info(\"A sample from the dataframe storing the contents of the preprocessed CSV Tweet file is:\")\n",
    "with pd.option_context('display.max_rows', None, 'display.max_columns',\n",
    "                       None, 'display.width', None, 'display.max_colwidth', 1000):\n",
    "    log.info(f\"\\n{csv_dataframe.sample(1, axis=0)}\")\n",
    "log.info(\"\\n\")"
   ]
  },
  {
   "cell_type": "markdown",
   "metadata": {},
   "source": [
    "<span style=\"font-family:Papyrus; font-size:1.25em;\">\n",
    " \n",
    "The above log.INFO output shows the shape, columns, and a sample from the Pandas Dataframe that contains the entirety of the CSV file.<br>\n",
    " \n",
    "</span>"
   ]
  },
  {
   "cell_type": "markdown",
   "metadata": {},
   "source": [
    "## Import raw JSON file and break into chunks:"
   ]
  },
  {
   "cell_type": "markdown",
   "metadata": {},
   "source": [
    "<span style=\"font-family:Papyrus; font-size:1.25em;\">\n",
    "\n",
    "This is our original data analysis function that reads in the raw JSON Twitter dataset and operates on chunks of data that consists of part of the whole file.  We cannot read in the entire JSON file as its 3.6 GBS filesize exceeds our memory (RAM) capacity.  The function essentially calls a specific data analysis function as specified in the parameters which operates on each chunk individually to display statistics and graphical visualizations of the data.<br>\n",
    "\n",
    "</span>"
   ]
  },
  {
   "cell_type": "code",
   "execution_count": 29,
   "metadata": {},
   "outputs": [],
   "source": [
    "def call_data_analysis_function_on_json_file_chunks(input_file_path, function_name):\n",
    "    \"\"\"\n",
    "    This function reads the raw JSON Tweet dataset in chunk-by-chunk and calls the user-defined data analysis\n",
    "    function that is specified as a parameter.\n",
    "\n",
    "    :param input_file_path: absolute file path of the input raw JSON file.\n",
    "    :param function_name: name of the data analysis function to call.\n",
    "    :return: None.\n",
    "    \"\"\"\n",
    "    start_time = time.time()\n",
    "\n",
    "    # Define size of chunks to read in.\n",
    "    chunksize = 100000\n",
    "\n",
    "    # Read in the JSON file.\n",
    "    twitter_data = pd.read_json(f\"{input_file_path}\",\n",
    "                                orient='records',\n",
    "                                lines=True,\n",
    "                                chunksize=chunksize)\n",
    "\n",
    "    # Create a empty Pandas dataframe.\n",
    "    json_dataframe = pd.DataFrame()\n",
    "\n",
    "    counter = 0\n",
    "    chunk_number = 0\n",
    "\n",
    "    # Loop through chunk-by-chunk and call the data analysis function on each chunk.\n",
    "    for data in twitter_data:\n",
    "        json_dataframe = json_dataframe.append(data, ignore_index=True)\n",
    "\n",
    "        counter += 1\n",
    "        chunk_number += 1\n",
    "\n",
    "        if chunk_number == 1 and function_name == \"none\":\n",
    "            # Print shape and column names.\n",
    "            log.info(\n",
    "                f\"\\nThe shape of the dataframe storing the contents of the raw JSON Tweet file chunk \"\n",
    "                f\"{chunk_number} is:\\n\")\n",
    "            log.info(json_dataframe.shape)\n",
    "            log.info(\n",
    "                f\"\\nThe columns of the dataframe storing the contents of the raw JSON Tweet file chunk \"\n",
    "                f\"{chunk_number} is:\\n\")\n",
    "            log.info(json_dataframe.columns)\n",
    "            log.info(\n",
    "                f\"\\nA sample from the dataframe storing the contents of the raw JSON Tweet file chunk \"\n",
    "                f\"{chunk_number} is:\\n\")\n",
    "            with pd.option_context('display.max_rows', None, 'display.max_columns',\n",
    "                                   None, 'display.width', None, 'display.max_colwidth', 1000):\n",
    "                log.info(f\"\\n{json_dataframe.sample(1, axis=0)}\")\n",
    "            time.sleep(2)\n",
    "\n",
    "        if function_name != \"none\":\n",
    "            # Call the data analysis functions.\n",
    "            function_name(json_dataframe, chunk_number)\n",
    "        else:\n",
    "            return\n",
    "            # Clear the contents of the dataframe.\n",
    "        json_dataframe = pd.DataFrame()\n",
    "\n",
    "        # For debug purposes.\n",
    "        # break\n",
    "\n",
    "    end_time = time.time()\n",
    "    time_elapsed = (end_time - start_time) / 60.0\n",
    "    time.sleep(3)\n",
    "    log.info(f\"The time taken to read in the JSON file by Chunks is {time_elapsed} minutes\")\n",
    "    log.info(f\"The number of chunks is {chunk_number} based on chunk size of {chunksize}\")\n",
    "    log.info('\\n')"
   ]
  },
  {
   "cell_type": "markdown",
   "metadata": {},
   "source": [
    "<span style=\"font-family:Papyrus; font-size:1.25em;\">\n",
    "\n",
    "We currently use this function for the purpose of analyzing how many Tweets in each chunk are \"retweeted\" or \"favorited\".<br>\n",
    "\n",
    "</span>"
   ]
  },
  {
   "cell_type": "markdown",
   "metadata": {},
   "source": [
    "## Display raw JSON file data chunk dataframe information:"
   ]
  },
  {
   "cell_type": "markdown",
   "metadata": {},
   "source": [
    "<span style=\"font-family:Papyrus; font-size:1.25em;\">\n",
    "\n",
    "By specifying \"none\" as the function name, we simply print out logger INFO on the shape, columns, and a single sample of the dataframe.<br>\n",
    "\n",
    "</span>"
   ]
  },
  {
   "cell_type": "code",
   "execution_count": 23,
   "metadata": {
    "scrolled": false
   },
   "outputs": [
    {
     "name": "stderr",
     "output_type": "stream",
     "text": [
      "INFO:root:\n",
      "The shape of the dataframe storing the contents of the raw JSON Tweet file chunk 1 is:\n",
      "\n",
      "INFO:root:(100000, 30)\n",
      "INFO:root:\n",
      "The columns of the dataframe storing the contents of the raw JSON Tweet file chunk 1 is:\n",
      "\n",
      "INFO:root:Index(['contributors', 'coordinates', 'created_at', 'display_text_range',\n",
      "       'entities', 'extended_entities', 'favorite_count', 'favorited',\n",
      "       'full_text', 'geo', 'id', 'id_str', 'in_reply_to_screen_name',\n",
      "       'in_reply_to_status_id', 'in_reply_to_status_id_str',\n",
      "       'in_reply_to_user_id', 'in_reply_to_user_id_str', 'is_quote_status',\n",
      "       'lang', 'place', 'possibly_sensitive', 'quoted_status',\n",
      "       'quoted_status_id', 'quoted_status_id_str', 'retweet_count',\n",
      "       'retweeted', 'retweeted_status', 'source', 'truncated', 'user'],\n",
      "      dtype='object')\n",
      "INFO:root:\n",
      "A sample from the dataframe storing the contents of the raw JSON Tweet file chunk 1 is:\n",
      "\n",
      "INFO:root:\n",
      "       contributors coordinates          created_at display_text_range  \\\n",
      "53360           NaN        None 2016-12-13 00:02:01            [0, 50]   \n",
      "\n",
      "                                                                                                                                                                                                  entities  \\\n",
      "53360  {'urls': [{'display_url': 'fb.me/3iwv2LeVB', 'indices': [27, 50], 'expanded_url': 'http://fb.me/3iwv2LeVB', 'url': 'https://t.co/whLTEzuiqj'}], 'hashtags': [], 'user_mentions': [], 'symbols': []}   \n",
      "\n",
      "      extended_entities  favorite_count  favorited  \\\n",
      "53360               NaN               0      False   \n",
      "\n",
      "                                                 full_text   geo  \\\n",
      "53360  Guess who built it?\\nAdani. https://t.co/whLTEzuiqj  None   \n",
      "\n",
      "                       id              id_str in_reply_to_screen_name  \\\n",
      "53360  808461939655393281  808461939655393280                    None   \n",
      "\n",
      "       in_reply_to_status_id  in_reply_to_status_id_str  in_reply_to_user_id  \\\n",
      "53360                    NaN                        NaN                  NaN   \n",
      "\n",
      "       in_reply_to_user_id_str  is_quote_status lang place  \\\n",
      "53360                      NaN            False   en  None   \n",
      "\n",
      "       possibly_sensitive quoted_status  quoted_status_id  \\\n",
      "53360                 0.0           NaN               NaN   \n",
      "\n",
      "       quoted_status_id_str  retweet_count  retweeted retweeted_status  \\\n",
      "53360                   NaN              0      False              NaN   \n",
      "\n",
      "                                                                      source  \\\n",
      "53360  <a href=\"http://www.facebook.com/twitter\" rel=\"nofollow\">Facebook</a>   \n",
      "\n",
      "       truncated  \\\n",
      "53360      False   \n",
      "\n",
      "                                                                                                                                                                                                                                                                                                                                                                                                                                                                                                                                                                                                                                                                                                                                                                                                                                                                                                                                                                                                                                          user  \n",
      "53360  {'utc_offset': 36000, 'friends_count': 393, 'profile_image_url_https': 'https://pbs.twimg.com/profile_images/2839396478/093b4a329eb4b3642f12e5e1be2e07e4_normal.png', 'listed_count': 13, 'profile_background_image_url': 'http://pbs.twimg.com/profile_background_images/605890410762739712/Vr9R5n3W.png', 'default_profile_image': False, 'favourites_count': 47, 'description': 'North Queensland Conservation Council - the voice for the environment in North Queensland\n",
      "\n",
      "Coordinator@nqcc.org.au', 'created_at': 'Sun Jun 24 10:06:46 +0000 2012', 'is_translator': False, 'profile_background_image_url_https': 'https://pbs.twimg.com/profile_background_images/605890410762739712/Vr9R5n3W.png', 'protected': False, 'screen_name': 'NQCC', 'id_str': '616979387', 'profile_link_color': '0084B4', 'is_translation_enabled': False, 'translator_type': 'none', 'id': 616979387, 'geo_enabled': True, 'profile_background_color': 'C0DEED', 'lang': 'en', 'has_extended_profile': False, 'profile_sidebar_border_color': '00...  \n"
     ]
    }
   ],
   "source": [
    "call_data_analysis_function_on_json_file_chunks(\n",
    "    \"D:/Dropbox/summer-research-2019/json/dataset_slo_20100101-20180510.json\", \"none\")"
   ]
  },
  {
   "cell_type": "markdown",
   "metadata": {},
   "source": [
    "<span style=\"font-family:Papyrus; font-size:1.25em;\">\n",
    "\n",
    "As can be seen, each Tweet object in its raw JSON form contains many different attributes encapsulated within a Dictionary.<br>\n",
    "\n",
    "</span>"
   ]
  },
  {
   "cell_type": "markdown",
   "metadata": {},
   "source": [
    "## Tweet Attributes :"
   ]
  },
  {
   "cell_type": "markdown",
   "metadata": {},
   "source": [
    "<span style=\"font-family:Papyrus; font-size:1.25em;\">\n",
    "\n",
    "Here we begin to analyze various aspects of our raw data.<br>\n",
    "\n",
    "</span>"
   ]
  },
  {
   "cell_type": "code",
   "execution_count": 14,
   "metadata": {},
   "outputs": [],
   "source": [
    "mylog = log.getLogger(\"matplotlib\")\n",
    "mylog.setLevel(log.INFO)"
   ]
  },
  {
   "cell_type": "markdown",
   "metadata": {},
   "source": [
    "<span style=\"font-family:Papyrus; font-size:1.25em;\">\n",
    "\n",
    "Disable \"DEBUG\" level messages for matplotlib specifically.<br>\n",
    "\n",
    "</span>"
   ]
  },
  {
   "cell_type": "code",
   "execution_count": 15,
   "metadata": {},
   "outputs": [],
   "source": [
    "def bar_plot(col, **kwargs):\n",
    "    \"\"\"\n",
    "    Helper function to visualize the data.\n",
    "\n",
    "    :param col: the columns of the graph.\n",
    "    :param kwargs: variable number of arguments.\n",
    "    :return: None.\n",
    "    \"\"\"\n",
    "    ax = plt.gca()\n",
    "    data = kwargs.pop('data')\n",
    "    height = data[col].value_counts(normalize=True)\n",
    "    height.sort_index(inplace=True)\n",
    "    ax.bar(height.index, height)"
   ]
  },
  {
   "cell_type": "markdown",
   "metadata": {},
   "source": [
    "<span style=\"font-family:Papyrus; font-size:1.25em;\">\n",
    "\n",
    "Placeholder for what this graph function does.<br>\n",
    "\n",
    "</span>"
   ]
  },
  {
   "cell_type": "code",
   "execution_count": 16,
   "metadata": {},
   "outputs": [],
   "source": [
    "def bar_plot_zipf(col, **kwargs):\n",
    "    \"\"\"\n",
    "    Helper function to visualize the data.\n",
    "\n",
    "    Based on Zipf's Law. (https://en.wikipedia.org/wiki/Zipf%27s_law)\n",
    "\n",
    "    :param col: the columns of the graph.\n",
    "    :param kwargs: variable number of arguments.\n",
    "    :return: None.\n",
    "    \"\"\"\n",
    "    ax = plt.gca()\n",
    "    data = kwargs.pop('data')\n",
    "    height = data[col].value_counts().value_counts(normalize=True)\n",
    "    ax.bar(height.index, height)"
   ]
  },
  {
   "cell_type": "markdown",
   "metadata": {},
   "source": [
    "<span style=\"font-family:Papyrus; font-size:1.25em;\">\n",
    "\n",
    "Placeholder for what this graph function does.<br>\n",
    "\n",
    "</span>"
   ]
  },
  {
   "cell_type": "markdown",
   "metadata": {},
   "source": [
    "### Time Series Statistics:"
   ]
  },
  {
   "cell_type": "markdown",
   "metadata": {},
   "source": [
    "<span style=\"font-family:Papyrus; font-size:1.25em;\">\n",
    "\n",
    "This function essentially analyzes the number of Tweets created in a given time period across the entire dataset.<br>\n",
    "\n",
    "</span>"
   ]
  },
  {
   "cell_type": "code",
   "execution_count": 17,
   "metadata": {
    "scrolled": false
   },
   "outputs": [],
   "source": [
    "def tweet_count_by_timedate_time_series(created_at_attribute_file, file_type):\n",
    "    \"\"\"\n",
    "    Visualize the Tweet creation time based on time-date information in the \"created_at\" attribute field of the\n",
    "    input file.\n",
    "\n",
    "    This function will work for any JSON file or CSV file that contains a attribute or column named \"created_at\".\n",
    "\n",
    "    Note: Ensure input file is small enough to fit in RAM.  This function will not read in data by chunks!\n",
    "\n",
    "    :param file_type: type of input file.\n",
    "    :param created_at_attribute_file: the input file containing the \"created_at\" Tweet attribute.\n",
    "    :return: None.\n",
    "    \"\"\"\n",
    "    start_time = time.time()\n",
    "\n",
    "    if file_type == \"csv\":\n",
    "        twitter_data = pd.read_csv(f\"{created_at_attribute_file}\", sep=\",\")\n",
    "    elif file_type == \"json\":\n",
    "        twitter_data = pd.read_json(f\"{created_at_attribute_file}\",\n",
    "                                    orient='records',\n",
    "                                    lines=True)\n",
    "    else:\n",
    "        print(f\"Invalid file type entered - aborting operation\")\n",
    "        return\n",
    "\n",
    "    # Create a empty Pandas dataframe.\n",
    "    json_dataframe = pd.DataFrame(twitter_data)\n",
    "\n",
    "    plt.figure()\n",
    "    plt.title(f\"Tweet Creation Time-Date Count by Year/Month/Day\")\n",
    "    plt.xlabel(\"Year/Month/Day\")\n",
    "    plt.ylabel(\"Tweet Count\")\n",
    "    pd.to_datetime(json_dataframe['created_at']).value_counts().resample('1D').sum().plot()\n",
    "    plt.show()\n",
    "    end_time = time.time()\n",
    "    time_elapsed = (end_time - start_time) / 60.0\n",
    "    log.debug(f\"The time taken to visualize the statistics is {time_elapsed} minutes\")"
   ]
  },
  {
   "cell_type": "markdown",
   "metadata": {},
   "source": [
    "<span style=\"font-family:Papyrus; font-size:1.25em;\">\n",
    "\n",
    "We call our data analysis function.  Notice that we have pre-extracted just the one attribute we need into a separate CSV file so that the time-date information for all 650k+ Tweets in our raw JSON file fits into memory (RAM).<br>\n",
    "\n",
    "</span>"
   ]
  },
  {
   "cell_type": "code",
   "execution_count": 18,
   "metadata": {
    "scrolled": false
   },
   "outputs": [
    {
     "data": {
      "image/png": "[encoded data removed]",
      "text/plain": [
       "<Figure size 432x288 with 1 Axes>"
      ]
     },
     "metadata": {},
     "output_type": "display_data"
    },
    {
     "name": "stderr",
     "output_type": "stream",
     "text": [
      "DEBUG:root:The time taken to visualize the statistics is 0.023337562878926594 minutes\n"
     ]
    }
   ],
   "source": [
    "# Display Tweet count by time-date time series statistics.\n",
    "tweet_count_by_timedate_time_series(\n",
    "    \"D:/Dropbox/summer-research-2019/jupyter-notebooks/attribute-datasets/created_at-attribute.csv\",\n",
    "    \"csv\")"
   ]
  },
  {
   "cell_type": "markdown",
   "metadata": {},
   "source": [
    "<span style=\"font-family:Papyrus; font-size:1.25em;\">\n",
    "\n",
    "As we can see, more of the Tweets were created relatively recently in 2017 and 2018.  The further we go back in time, the fewer Tweets we have.<br>\n",
    "\n",
    "</span>"
   ]
  },
  {
   "cell_type": "markdown",
   "metadata": {},
   "source": [
    "### Re-Tweet Statistics for raw JSON dataset:"
   ]
  },
  {
   "cell_type": "markdown",
   "metadata": {},
   "source": [
    "<span style=\"font-family:Papyrus; font-size:1.25em;\">\n",
    "\n",
    "Here, we analyze the number of \"True\" or \"False\" values for the \"retweeted\" attribute for each chunk of the raw JSON file.<br>\n",
    "\n",
    "</span>"
   ]
  },
  {
   "cell_type": "code",
   "execution_count": 27,
   "metadata": {},
   "outputs": [],
   "source": [
    "def json_retweeted(json_dataframe, chunk):\n",
    "    \"\"\"\n",
    "    Re-tweet statistics and visualizations for the raw JSON Twitter data chunks.\n",
    "\n",
    "    :param json_dataframe: the dataframe containing the JSON data chunk.\n",
    "    :param chunk: the JSON data chunk number.\n",
    "    :return: None.\n",
    "    \"\"\"\n",
    "    print(f\"Re-Tweet Statistics for raw JSON Twitter data chunk {chunk}:\")\n",
    "    print(json_dataframe['retweeted'].value_counts())\n",
    "    print()"
   ]
  },
  {
   "cell_type": "markdown",
   "metadata": {},
   "source": [
    "<span style=\"font-family:Papyrus; font-size:1.25em;\">\n",
    "    \n",
    "We call the the data analysis function for each chunk of data until we have accounted for the entire raw JSON Twitter dataset.<br>\n",
    "    \n",
    "</span>"
   ]
  },
  {
   "cell_type": "code",
   "execution_count": 28,
   "metadata": {
    "scrolled": false
   },
   "outputs": [
    {
     "name": "stdout",
     "output_type": "stream",
     "text": [
      "Re-Tweet Statistics for raw JSON Twitter data chunk 1:\n",
      "False    100000\n",
      "Name: retweeted, dtype: int64\n",
      "\n",
      "Re-Tweet Statistics for raw JSON Twitter data chunk 2:\n",
      "False    100000\n",
      "Name: retweeted, dtype: int64\n",
      "\n",
      "Re-Tweet Statistics for raw JSON Twitter data chunk 3:\n",
      "False    100000\n",
      "Name: retweeted, dtype: int64\n",
      "\n",
      "Re-Tweet Statistics for raw JSON Twitter data chunk 4:\n",
      "False    100000\n",
      "Name: retweeted, dtype: int64\n",
      "\n",
      "Re-Tweet Statistics for raw JSON Twitter data chunk 5:\n",
      "False    100000\n",
      "Name: retweeted, dtype: int64\n",
      "\n",
      "Re-Tweet Statistics for raw JSON Twitter data chunk 6:\n",
      "False    100000\n",
      "Name: retweeted, dtype: int64\n",
      "\n"
     ]
    },
    {
     "name": "stderr",
     "output_type": "stream",
     "text": [
      "INFO:root:The time taken to read in the JSON file by Chunks is 5.142159159978231 minutes\n",
      "INFO:root:The number of chunks is 7 based on chunk size of 100000\n",
      "INFO:root:\n",
      "\n"
     ]
    },
    {
     "name": "stdout",
     "output_type": "stream",
     "text": [
      "Re-Tweet Statistics for raw JSON Twitter data chunk 7:\n",
      "False    70423\n",
      "Name: retweeted, dtype: int64\n",
      "\n"
     ]
    }
   ],
   "source": [
    "call_data_analysis_function_on_json_file_chunks(\n",
    "    \"D:/Dropbox/summer-research-2019/json/dataset_slo_20100101-20180510.json\", json_retweeted)"
   ]
  },
  {
   "cell_type": "markdown",
   "metadata": {},
   "source": [
    "<span style=\"font-family:Papyrus; font-size:1.25em;\">\n",
    "\n",
    "It appears that none of our Tweets have been retweeted.  We find this rather odd for a dataset of 650k+ Tweets.  We may need to look further into what exactly the \"retweeted\" attribute is referencing.<br>\n",
    "\n",
    "</span>"
   ]
  },
  {
   "cell_type": "markdown",
   "metadata": {},
   "source": [
    "### Favorited Statistics for raw JSON dataset:"
   ]
  },
  {
   "cell_type": "markdown",
   "metadata": {},
   "source": [
    "<span style=\"font-family:Papyrus; font-size:1.25em;\">\n",
    "\n",
    "Here, we analyze the number of \"True\" or \"False\" values for the \"favorited\" attribute for each chunk of the raw JSON file.<br>\n",
    "\n",
    "</span>"
   ]
  },
  {
   "cell_type": "code",
   "execution_count": 30,
   "metadata": {},
   "outputs": [],
   "source": [
    "def json_favorited(json_dataframe, chunk):\n",
    "    \"\"\"\n",
    "    Re-tweet statistics and visualizations for the raw JSON Twitter data chunks.\n",
    "\n",
    "    :param json_dataframe: the dataframe containing the JSON data chunk.\n",
    "    :param chunk: the JSON data chunk number.\n",
    "    :return: None.\n",
    "    \"\"\"\n",
    "    print(f\"Re-Tweet Statistics for raw JSON Twitter data chunk {chunk}:\")\n",
    "    print(json_dataframe['favorited'].value_counts())\n",
    "    print()"
   ]
  },
  {
   "cell_type": "markdown",
   "metadata": {},
   "source": [
    "<span style=\"font-family:Papyrus; font-size:1.25em;\">\n",
    "\n",
    "We call the the data analysis function for each chunk of data until we have accounted for the entire raw JSON Twitter dataset.<br>\n",
    "\n",
    "</span>"
   ]
  },
  {
   "cell_type": "code",
   "execution_count": 31,
   "metadata": {},
   "outputs": [
    {
     "name": "stdout",
     "output_type": "stream",
     "text": [
      "Re-Tweet Statistics for raw JSON Twitter data chunk 1:\n",
      "False    100000\n",
      "Name: favorited, dtype: int64\n",
      "\n",
      "Re-Tweet Statistics for raw JSON Twitter data chunk 2:\n",
      "False    100000\n",
      "Name: favorited, dtype: int64\n",
      "\n",
      "Re-Tweet Statistics for raw JSON Twitter data chunk 3:\n",
      "False    100000\n",
      "Name: favorited, dtype: int64\n",
      "\n",
      "Re-Tweet Statistics for raw JSON Twitter data chunk 4:\n",
      "False    100000\n",
      "Name: favorited, dtype: int64\n",
      "\n",
      "Re-Tweet Statistics for raw JSON Twitter data chunk 5:\n",
      "False    100000\n",
      "Name: favorited, dtype: int64\n",
      "\n",
      "Re-Tweet Statistics for raw JSON Twitter data chunk 6:\n",
      "False    100000\n",
      "Name: favorited, dtype: int64\n",
      "\n",
      "Re-Tweet Statistics for raw JSON Twitter data chunk 7:\n",
      "False    70423\n",
      "Name: favorited, dtype: int64\n",
      "\n"
     ]
    },
    {
     "name": "stderr",
     "output_type": "stream",
     "text": [
      "INFO:root:The time taken to read in the JSON file by Chunks is 5.228271007537842 minutes\n",
      "INFO:root:The number of chunks is 7 based on chunk size of 100000\n",
      "INFO:root:\n",
      "\n"
     ]
    }
   ],
   "source": [
    "call_data_analysis_function_on_json_file_chunks(\n",
    "    \"D:/Dropbox/summer-research-2019/json/dataset_slo_20100101-20180510.json\", json_favorited)"
   ]
  },
  {
   "cell_type": "markdown",
   "metadata": {},
   "source": [
    "<span style=\"font-family:Papyrus; font-size:1.25em;\">\n",
    "\n",
    "It appears that none of our Tweets have been favorited.  We find this rather odd for a dataset of 650k+ Tweets.  We may need to look further into what exactly the \"favorited\" attribute is referencing.  From our tables above, the \"Favorited\" field represents \"Indicates whether this Tweet has been liked by the authenticating user\".<br>\n",
    "\n",
    "</span>"
   ]
  },
  {
   "cell_type": "markdown",
   "metadata": {},
   "source": [
    "### Re-Tweet Statistics for CSV dataset:"
   ]
  },
  {
   "cell_type": "markdown",
   "metadata": {},
   "source": [
    "<span style=\"font-family:Papyrus; font-size:1.25em;\">\n",
    "\n",
    "Here, we analyze the number of \"True\" or \"False\" values for the \"retweeted\" attribute for each chunk of the preprocessed CV file.<br>\n",
    "\n",
    "</span>"
   ]
  },
  {
   "cell_type": "code",
   "execution_count": 25,
   "metadata": {
    "scrolled": false
   },
   "outputs": [],
   "source": [
    "def csv_retweeted():\n",
    "    \"\"\"\n",
    "    Re-tweet statistics and visualizations for the CSV Twitter preprocessed dataset.\n",
    "\n",
    "    Note: The raw JSON file does not have associated \"company\" information.\n",
    "\n",
    "    :return: None.\n",
    "    \"\"\"\n",
    "\n",
    "    print(\"Re-Tweet Statistics for entire CSV dataset:\")\n",
    "    print(csv_dataframe['retweeted'].value_counts())\n",
    "    print()\n",
    "\n",
    "    print(\"Re-Tweet Statistics for CSV dataset by Company:\")\n",
    "    print(\"Number of Tweets that are or aren't re-tweets by associated company: \")\n",
    "    print(csv_dataframe.groupby(['company', 'retweeted']).size())\n",
    "    print()\n",
    "\n",
    "    # Graph the Re-Tweet Statistics.\n",
    "    print(\"Proportion of Re-Tweets versus non Re-Tweets by associated company: \")\n",
    "    plt.figure()\n",
    "    grid = sns.FacetGrid(csv_dataframe[['retweeted', 'company']], col='company', col_wrap=6,\n",
    "                         ylim=(0, 1))\n",
    "    grid.map_dataframe(bar_plot, 'retweeted').set_titles('{col_name}')\n",
    "    plt.show()"
   ]
  },
  {
   "cell_type": "markdown",
   "metadata": {},
   "source": [
    "<span style=\"font-family:Papyrus; font-size:1.25em;\">\n",
    "    \n",
    "Unlike with the raw JSON format Twitter dataset, we do not need to read the CSV file in chunks and can analyze its contents as a whole.<br>\n",
    "    \n",
    "</span>"
   ]
  },
  {
   "cell_type": "code",
   "execution_count": 26,
   "metadata": {},
   "outputs": [
    {
     "name": "stdout",
     "output_type": "stream",
     "text": [
      "Re-Tweet Statistics for entire CSV dataset:\n",
      "True     441619\n",
      "False    217363\n",
      "Name: retweeted, dtype: int64\n",
      "\n",
      "Re-Tweet Statistics for CSV dataset by Company:\n",
      "Number of Tweets that are or aren't re-tweets by associated company: \n",
      "company     retweeted\n",
      "adani       False        106946\n",
      "            True         321505\n",
      "bhp         False         40287\n",
      "            True          29164\n",
      "cuesta      False            63\n",
      "            True             27\n",
      "fortescue   False          7588\n",
      "            True           4304\n",
      "iluka       False          2598\n",
      "            True            517\n",
      "newmont     False           716\n",
      "            True            178\n",
      "oilsearch   False          1547\n",
      "            True            656\n",
      "riotinto    False         15680\n",
      "            True           9898\n",
      "santos      False         25497\n",
      "            True          61604\n",
      "whitehaven  False          6504\n",
      "            True           8206\n",
      "woodside    False          9937\n",
      "            True           5560\n",
      "dtype: int64\n",
      "\n",
      "Proportion of Re-Tweets versus non Re-Tweets by associated company: \n"
     ]
    },
    {
     "data": {
      "text/plain": [
       "<Figure size 432x288 with 0 Axes>"
      ]
     },
     "metadata": {},
     "output_type": "display_data"
    },
    {
     "data": {
      "image/png": "[encoded data removed]",
      "text/plain": [
       "<Figure size 1296x432 with 11 Axes>"
      ]
     },
     "metadata": {},
     "output_type": "display_data"
    }
   ],
   "source": [
    "# Call the function.\n",
    "csv_retweeted()"
   ]
  },
  {
   "cell_type": "markdown",
   "metadata": {},
   "source": [
    "<span style=\"font-family:Papyrus; font-size:1.25em;\">\n",
    "\n",
    "The graphs show the proportion of Tweets that are or are not re-tweets by the company the Tweets are associated with.<br>\n",
    "\n",
    "0.0 = NOT a re-tweet.<br>\n",
    "1.0 = IS a re-tweet.<br>\n",
    "\n",
    "</span>"
   ]
  },
  {
   "cell_type": "markdown",
   "metadata": {},
   "source": [
    "### User Statistics:"
   ]
  },
  {
   "cell_type": "markdown",
   "metadata": {},
   "source": [
    "<span style=\"font-family:Papyrus; font-size:1.25em;\">\n",
    "\n",
    "This function provides text-based statistics on the users that account for the most Tweets about a given company.  It also constructs graphs that displays how many of the Tweets for a given company are created by those users in comparison to each other.<br>\n",
    "\n",
    "</span>"
   ]
  },
  {
   "cell_type": "code",
   "execution_count": 31,
   "metadata": {
    "scrolled": false
   },
   "outputs": [],
   "source": [
    "def most_tweets_by_users():\n",
    "    \"\"\"\n",
    "    User related statistics and visualizations.\n",
    "\n",
    "    Note: The raw JSON file does not have associated \"company\" information.\n",
    "\n",
    "    :return: None.\n",
    "    \"\"\"\n",
    "\n",
    "    # Graph the User Statistics.\n",
    "    print(\"Proportion of most Tweets for unique users by associated company: \")\n",
    "    plt.figure()\n",
    "    grid = sns.FacetGrid(csv_dataframe[['user_screen_name', 'company']], col='company', col_wrap=6,\n",
    "                         ylim=(0, 1),\n",
    "                         xlim=(0, 10))\n",
    "    grid.map_dataframe(bar_plot_zipf, 'user_screen_name').set_titles('{col_name}').set_xlabels('appearance count')\n",
    "    plt.show()\n",
    "\n",
    "    # Adjusted parameters to allow statistics for all companies to show in output.\n",
    "    pd.set_option(\"display.precision\", 12)\n",
    "    pd.options.display.max_rows = 100\n",
    "\n",
    "    print(\"User Statistics for CSV dataset by Company: \")\n",
    "    print(\"Top Tweet counts for unique user by associated company.\")\n",
    "    print(\n",
    "        csv_dataframe[['company', 'user_screen_name']].groupby('company')\n",
    "            .apply(lambda x: x['user_screen_name'].value_counts(normalize=True).head())\n",
    "        # .value_counts(normalize=True)\\\n",
    "        # .sort_index(ascending=False).head())\n",
    "    )\n",
    "    print()"
   ]
  },
  {
   "cell_type": "markdown",
   "metadata": {},
   "source": [
    "<span style=\"font-family:Papyrus; font-size:1.25em;\">\n",
    "\n",
    "We cannot currently perform this analysis on the raw JSON Tweet file as it has not been auto-encoded or hand-labeled to be associated with a SLO mining company.  Thus, we are restricted to analyzing the preprocessed CSV dataset that does possess this information.<br>\n",
    "\n",
    "</span>"
   ]
  },
  {
   "cell_type": "code",
   "execution_count": 32,
   "metadata": {},
   "outputs": [
    {
     "name": "stdout",
     "output_type": "stream",
     "text": [
      "Proportion of most Tweets for unique users by associated company: \n"
     ]
    },
    {
     "data": {
      "text/plain": [
       "<Figure size 432x288 with 0 Axes>"
      ]
     },
     "metadata": {},
     "output_type": "display_data"
    },
    {
     "data": {
      "image/png": "[encoded data removed]",
      "text/plain": [
       "<Figure size 1296x432 with 11 Axes>"
      ]
     },
     "metadata": {
      "needs_background": "light"
     },
     "output_type": "display_data"
    },
    {
     "name": "stdout",
     "output_type": "stream",
     "text": [
      "User Statistics for CSV dataset by Company: \n",
      "Top Tweet counts for unique user by associated company.\n",
      "company                    \n",
      "adani       WgarNews           0.015194269590\n",
      "            GalileeBlockade    0.008992860327\n",
      "            MarkPlackett1      0.007520113152\n",
      "            SeanBradbery       0.007069653239\n",
      "            garland_paige      0.006686879013\n",
      "bhp         CommSec            0.026205526198\n",
      "            aus_business       0.014744208147\n",
      "            FinancialReview    0.013750701934\n",
      "            icharttop          0.011720493585\n",
      "            3novicesSydney     0.009186332810\n",
      "cuesta      ABN_Newswire       0.144444444444\n",
      "            proactive_au       0.133333333333\n",
      "            MktTrader          0.055555555556\n",
      "            ShareScene         0.055555555556\n",
      "            sharecafetweets    0.055555555556\n",
      "fortescue   FortescueNews      0.049781365624\n",
      "            aus_business       0.016986209216\n",
      "            FinancialReview    0.014547595022\n",
      "            TweetingRoo        0.012361251261\n",
      "            CommSec            0.012277161117\n",
      "iluka       funksoulmamma      0.062279293740\n",
      "            shireendupreez     0.028571428571\n",
      "            BayplayTours       0.017656500803\n",
      "            wabusinessnews     0.017014446228\n",
      "            CommSec            0.016693418941\n",
      "newmont     Mining_Work        0.070469798658\n",
      "            miningmentor       0.055928411633\n",
      "            RallyWA            0.048098434004\n",
      "            Safety_Dance_      0.040268456376\n",
      "            ausgoldindustry    0.029082774049\n",
      "oilsearch   FinancialReview    0.039945528824\n",
      "            aus_business       0.037675896505\n",
      "            CommSec            0.037221970041\n",
      "            angelamacd         0.026781661371\n",
      "            TweetingRoo        0.025873808443\n",
      "riotinto    FinancialReview    0.016850418328\n",
      "            TyroneArgyle       0.015833919775\n",
      "            aus_business       0.015560247087\n",
      "            ozmining           0.010712330909\n",
      "            MiningJobsAU       0.010164985534\n",
      "santos      CRAG_Coona         0.051354175038\n",
      "            coonavass          0.019127220124\n",
      "            nocsg              0.013616376391\n",
      "            1EarthMedia        0.011377596124\n",
      "            JHH__              0.009747304853\n",
      "whitehaven  kateausburn        0.014411964650\n",
      "            peterjameswills    0.013120326309\n",
      "            co2ppm             0.011624745071\n",
      "            Queensland         0.009925220938\n",
      "            nocsg              0.009313392250\n",
      "woodside    Woodside_Park      0.026908433890\n",
      "            CFSAlerts          0.023811060205\n",
      "            WoodsideEnergy     0.019487642770\n",
      "            IncidentAlertS1    0.013744595728\n",
      "            aus_business       0.010647222043\n",
      "Name: user_screen_name, dtype: float64\n",
      "\n"
     ]
    }
   ],
   "source": [
    "# Call the function.\n",
    "most_tweets_by_users()"
   ]
  },
  {
   "cell_type": "markdown",
   "metadata": {},
   "source": [
    "<span style=\"font-family:Papyrus; font-size:1.25em;\">\n",
    "\n",
    "The text output displays the top 5 unique users that account for the largest proportion of Tweets that are associated with a given company.<br>\n",
    "\n",
    "The graph output shows that there are a few users that account for the majority of Tweets about a given company.<br>\n",
    "\n",
    "</span>"
   ]
  },
  {
   "cell_type": "markdown",
   "metadata": {},
   "source": [
    "### Character Count Statistics:"
   ]
  },
  {
   "cell_type": "markdown",
   "metadata": {},
   "source": [
    "<span style=\"font-family:Papyrus; font-size:1.25em;\">\n",
    "\n",
    "This function provides character counts for all the Tweets associated with a given company.<br>\n",
    "\n",
    "</span>"
   ]
  },
  {
   "cell_type": "code",
   "execution_count": 33,
   "metadata": {},
   "outputs": [],
   "source": [
    "def character_counts():\n",
    "    \"\"\"\n",
    "    Character related statistics and visualizations.\n",
    "\n",
    "    Note: The raw JSON file does not have associated \"company\" information.\n",
    "\n",
    "    :return: None.\n",
    "    \"\"\"\n",
    "\n",
    "    def relhist_proc(col, **kwargs):\n",
    "        \"\"\"\n",
    "        Helper function to visualize the data.\n",
    "\n",
    "        :param col: the columns of the graph.\n",
    "        :param kwargs: variable number of arguments.\n",
    "        :return: None.\n",
    "        \"\"\"\n",
    "        ax = plt.gca()\n",
    "        data = kwargs.pop('data')\n",
    "        proc = kwargs.pop('proc')\n",
    "        processed = proc(data[col])\n",
    "        # relative frequency histgram\n",
    "        # https://stackoverflow.com/questions/9767241/setting-a-relative-frequency-in-a-matplotlib-histogram\n",
    "        ax.hist(processed, weights=np.ones_like(processed) / processed.size, **kwargs)\n",
    "\n",
    "    def char_len(tweets):\n",
    "        \"\"\"\n",
    "        Determine the length of the Tweet text.\n",
    "\n",
    "        :param tweets: the Tweet text.\n",
    "        :return: the length of the Tweet.\n",
    "        \"\"\"\n",
    "        return tweets.str.len()\n",
    "\n",
    "    print(\"Character Statistics for CSV dataset by Company: \")\n",
    "    print(\"Character count relative frequency histogram: \")\n",
    "    plt.figure()\n",
    "    grid = sns.FacetGrid(csv_dataframe[['text', 'company']], col='company', col_wrap=6, ylim=(0, 1))\n",
    "    grid.map_dataframe(relhist_proc, 'text', bins=10, proc=char_len).set_titles('{col_name}')\n",
    "    plt.show()"
   ]
  },
  {
   "cell_type": "markdown",
   "metadata": {},
   "source": [
    "<span style=\"font-family:Papyrus; font-size:1.25em;\">\n",
    "\n",
    "We cannot currently perform this analysis on the raw JSON Tweet file as it has not been auto-encoded or hand-labeled to be associated with a SLO mining company.  Thus, we are restricted to analyzing the preprocessed CSV dataset that does possess this information.<br>\n",
    "\n",
    "</span>"
   ]
  },
  {
   "cell_type": "code",
   "execution_count": 34,
   "metadata": {},
   "outputs": [
    {
     "name": "stdout",
     "output_type": "stream",
     "text": [
      "Character Statistics for CSV dataset by Company: \n",
      "Character count relative frequency histogram: \n"
     ]
    },
    {
     "data": {
      "text/plain": [
       "<Figure size 432x288 with 0 Axes>"
      ]
     },
     "metadata": {},
     "output_type": "display_data"
    },
    {
     "data": {
      "image/png": "[encoded data removed]",
      "text/plain": [
       "<Figure size 1296x432 with 11 Axes>"
      ]
     },
     "metadata": {
      "needs_background": "light"
     },
     "output_type": "display_data"
    }
   ],
   "source": [
    "# Call the function.\n",
    "character_counts()"
   ]
  },
  {
   "cell_type": "markdown",
   "metadata": {},
   "source": [
    "<span style=\"font-family:Papyrus; font-size:1.25em;\">\n",
    "\n",
    "The graph outputs appear to show that most Tweets for any given company are relatively long in length.<br>\n",
    "\n",
    "**FIXME - is this the correct interpretation?**<br>\n",
    "\n",
    "</span>"
   ]
  },
  {
   "cell_type": "markdown",
   "metadata": {},
   "source": [
    "## Resources Used:"
   ]
  },
  {
   "cell_type": "markdown",
   "metadata": {},
   "source": [
    "<span style=\"font-family:Papyrus; font-size:1.25em;\">\n",
    "\n",
    "**TODO: convert to annotated bibliography**\n",
    "\n",
    "Dataset Files (obtained from Borg supercomputer):<br>\n",
    "\n",
    "dataset_slo_20100101-20180510.json<br>\n",
    "dataset_20100101-20180510.csv<br>\n",
    "\n",
    "Note: These are large fiels not included in the project GitHub Repository.<br>\n",
    "\n",
    "\n",
    "- [SLO-analysis.ipynb](SLO-analysis.ipynb)<br>\n",
    "    -original SLO Twitter data analysis file from Shuntaro Yada.<br>\n",
    "\n",
    "\n",
    "- https://developer.twitter.com/en/docs/tweets/data-dictionary/overview/intro-to-tweet-json<br>\n",
    "    -explanation of all data fields in JSON file format for Tweets.<br>\n",
    "\n",
    "\n",
    "- https://datatofish.com/export-dataframe-to-csv/<br>\n",
    "- https://datatofish.com/export-pandas-dataframe-json/<br>\n",
    "    -saving Pandas dataframe to CSV/JSON<br>\n",
    "    \n",
    "\n",
    "- https://pandas.pydata.org/pandas-docs/stable/reference/api/pandas.to_datetime.html<br>\n",
    "    -Pandas to_datetime() function call.<br>\n",
    "    \n",
    "\n",
    "- https://www.machinelearningplus.com/plots/matplotlib-tutorial-complete-guide-python-plot-examples/\n",
    "    -plotting with matplotlib.<br>\n",
    "\n",
    "\n",
    "</span>"
   ]
  },
  {
   "cell_type": "markdown",
   "metadata": {},
   "source": [
    "## TODO's:"
   ]
  },
  {
   "cell_type": "markdown",
   "metadata": {},
   "source": [
    "<span style=\"font-family:Papyrus; font-size:1.25em;\">\n",
    "\n",
    "Implement further elements from Shuntaro Yada's SLO Twitter Dataset Analysis.<br>\n",
    "\n",
    "</span>"
   ]
  },
  {
   "cell_type": "code",
   "execution_count": 0,
   "metadata": {
    "pycharm": {
     "is_executing": false
    }
   },
   "outputs": [],
   "source": []
  }
 ],
 "metadata": {
  "kernelspec": {
   "display_name": "Python 3",
   "language": "python",
   "name": "python3"
  },
  "language_info": {
   "codemirror_mode": {
    "name": "ipython",
    "version": 3
   },
   "file_extension": ".py",
   "mimetype": "text/x-python",
   "name": "python",
   "nbconvert_exporter": "python",
   "pygments_lexer": "ipython3",
   "version": "3.6.8"
  }
 },
 "nbformat": 4,
 "nbformat_minor": 1
}
