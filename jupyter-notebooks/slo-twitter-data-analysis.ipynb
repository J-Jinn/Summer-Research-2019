{
 "cells": [
  {
   "cell_type": "markdown",
   "metadata": {
    "collapsed": true
   },
   "source": [
    "# SLO Twitter Data Analysis:"
   ]
  },
  {
   "cell_type": "markdown",
   "metadata": {},
   "source": [
    "### Written By: Professor Keith VanderLinden and Joseph Jinn"
   ]
  },
  {
   "cell_type": "markdown",
   "metadata": {},
   "source": [
    "<span style=\"font-family:Papyrus; font-size:1.25em;\">\n",
    "    \n",
    "Note: Using a subset of the entire JSON file for time-saving testing purposes.<br><br>  \n",
    "\n",
    "</p>It seems the original \"SLO analysis.ipynb\" utilizes multiple JSON files that are already auto-encoded to be associated with certain SLO mining companies.  I don't have access to those JSON files, so I am currently just using the \"dataset_slo_20100101-20180510.json\" raw Tweet file and the \"dataset_20100101-20180510.csv\" processed Tweet file from the \"sloclassifiers\" directory on Borg.</p></br>\n",
    "\n",
    "This analysis is based on and adapted from \"SLO analysis.ipynb\" by Shuntary Yada from CSIRO.<br>\n",
    "\n",
    "</span>"
   ]
  },
  {
   "cell_type": "markdown",
   "metadata": {},
   "source": [
    "## Sample from raw JSON Twitter Dataset:"
   ]
  },
  {
   "cell_type": "markdown",
   "metadata": {},
   "source": [
    "<span style=\"font-family:Papyrus; font-size:1.25em;\">\n",
    "\n",
    "The raw Tweet in JSON format is in Dictionary format as key/value pairs.<br>\n",
    "There are sometimes nested data structures such as a String key and then a List as the value, containing various elements.<br>\n",
    "Each line within the JSON file corresponds to a single Tweet.<br>\n",
    "\n",
    "</span>"
   ]
  },
  {
   "cell_type": "markdown",
   "metadata": {
    "scrolled": false
   },
   "source": [
    "<span style=\"font-family:Papyrus; font-size:1.25em;\">\n",
    "    \n",
    "{\"in_reply_to_status_id_str\":\"305159434462691328\",\"in_reply_to_status_id\":305159434462691328,\"coordinates\":null,\n",
    "\n",
    "\"created_at\":\"Sat Feb 23 03:40:21 +0000 2013\",\"truncated\":false,\"in_reply_to_user_id_str\":\"2768501\",\n",
    "\n",
    "\"source\":\"<a href=\\\"http:\\/\\/twitter.com\\/download\\/iphone\\\" rel=\\\"nofollow\\\">Twitter for iPhone<\\/a>\",\n",
    "\n",
    "\"retweet_count\":0,\"retweeted\":false,\"geo\":null,\"in_reply_to_screen_name\":\"abcnews\",\"is_quote_status\":false,\n",
    "\n",
    "\"entities\":{\"urls\":[],\"hashtags\":[],\"user_mentions\":[{\"indices\":[0,8],\"screen_name\":\"abcnews\",\"id_str\":\"2768501\",\n",
    "\n",
    "\"name\":\"ABC News\",\"id\":2768501}],\"symbols\":[]},\"full_text\":\"@abcnews About bloody time. Adani only wants FIFO Indian\n",
    "\n",
    "workers for his Bowen basin mines.\",\"id_str\":\"305160140833816576\",\"in_reply_to_user_id\":2768501,\n",
    "\n",
    "\"display_text_range\":[0,91],\"favorite_count\":0,\"id\":305160140833816576,\"place\":null,\"contributors\":null,\n",
    "\n",
    "\"lang\":\"en\",\"user\":{\"utc_offset\":36000,\"friends_count\":1385,\"profile_image_url_https\":\n",
    "\n",
    "\"https:\\/\\/pbs.twimg.com\\/profile_images\\/698290934618787840\\/SIpBKnWE_normal.jpg\",\"listed_count\":3,\n",
    "\n",
    "\"profile_background_image_url\":\"http:\\/\\/abs.twimg.com\\/images\\/themes\\/theme1\\/bg.png\",\"default_profile_image\":false,\n",
    "\n",
    "\"favourites_count\":533,\"description\":\"Train Driver extraordinaire, proud Union Leftie and Labor supporter.\n",
    "\n",
    "Cant stand the LNP and their regressive ideas. Mainly political but I do enjoy a laugh.\",\n",
    "\n",
    "\"created_at\":\"Tue Aug 21 23:23:52 +0000 2012\",\"is_translator\":false,\n",
    "\n",
    "\"profile_background_image_url_https\":\"https:\\/\\/abs.twimg.com\\/images\\/themes\\/theme1\\/bg.png\",\"protected\":false,\n",
    "\n",
    "\"screen_name\":\"DazzDicko\",\"id_str\":\"772466924\",\"profile_link_color\":\"1DA1F2\",\"is_translation_enabled\":false,\n",
    "\n",
    "\"translator_type\":\"none\",\"id\":772466924,\"geo_enabled\":true,\"profile_background_color\":\"C0DEED\",\"lang\":\"en\",\n",
    "\n",
    "\"has_extended_profile\":false,\"profile_sidebar_border_color\":\"C0DEED\",\"profile_text_color\":\"333333\",\"verified\":false,\n",
    "\n",
    "\"profile_image_url\":\"http:\\/\\/pbs.twimg.com\\/profile_images\\/698290934618787840\\/SIpBKnWE_normal.jpg\",\n",
    "\n",
    "\"time_zone\":\"Australia\\/Brisbane\",\"url\":null,\"contributors_enabled\":false,\"profile_background_tile\":false,\n",
    "\n",
    "\"entities\":{\"description\":{\"urls\":[]}},\"statuses_count\":5176,\"follow_request_sent\":false,\"followers_count\":945,\n",
    "\n",
    "\"profile_use_background_image\":true,\"default_profile\":true,\"following\":false,\"name\":\"Daryl Dickson\",\n",
    "\n",
    "\"location\":\"Far North Queensland\",\"profile_sidebar_fill_color\":\"DDEEF6\",\"notifications\":false},\"favorited\":false}\n",
    "\n",
    "</span>"
   ]
  },
  {
   "cell_type": "markdown",
   "metadata": {},
   "source": [
    "<span style=\"font-family:Papyrus; font-size:1.25em;\">\n",
    "\n",
    "Sample obtained by copy/pasting a single line from the raw JSON file and then manually separating that single line into multiple lines.<br>\n",
    "\n",
    "</span>"
   ]
  },
  {
   "cell_type": "markdown",
   "metadata": {},
   "source": [
    "## Import libraries and set parameters:"
   ]
  },
  {
   "cell_type": "code",
   "execution_count": 1,
   "metadata": {},
   "outputs": [],
   "source": [
    "import logging as log\n",
    "import warnings\n",
    "import tensorflow as tf\n",
    "import time\n",
    "from matplotlib import pyplot as plt\n",
    "import numpy as np\n",
    "import pandas as pd\n",
    "import seaborn as sns\n",
    "\n",
    "sns.set()"
   ]
  },
  {
   "cell_type": "code",
   "execution_count": 2,
   "metadata": {},
   "outputs": [],
   "source": [
    "pd.options.display.max_rows = 10\n",
    "# pd.options.display.float_format = '{:.1f}'.format\n",
    "pd.set_option('precision', 7)\n",
    "warnings.simplefilter(action='ignore', category=FutureWarning)\n",
    "warnings.simplefilter(action='ignore', category=DeprecationWarning)\n"
   ]
  },
  {
   "cell_type": "markdown",
   "metadata": {},
   "source": [
    "<span style=\"font-family:Papyrus; font-size:1.25em;\">\n",
    "\n",
    "Pandas settings alters the maximum number of rows to be displayed and the number of decimal places to display for floating point values.<br>\n",
    "\n",
    "We also filter out several warning types to reduce output clutter.<br>\n",
    "\n",
    "</span>"
   ]
  },
  {
   "cell_type": "code",
   "execution_count": 3,
   "metadata": {},
   "outputs": [],
   "source": [
    "log.basicConfig(level=log.DEBUG)\n",
    "# tf.logging.set_verbosity(tf.logging.INFO)"
   ]
  },
  {
   "cell_type": "markdown",
   "metadata": {},
   "source": [
    "<span style=\"font-family:Papyrus; font-size:1.25em;\">\n",
    "\n",
    "Change log levels between \"INFO\" and \"DEBUG\" depending on whether you wish to see log output or not.<br>\n",
    "\n",
    "</span>"
   ]
  },
  {
   "cell_type": "markdown",
   "metadata": {},
   "source": [
    "## Import raw JSON file and break into chunks:"
   ]
  },
  {
   "cell_type": "markdown",
   "metadata": {},
   "source": [
    "<span style=\"font-family:Papyrus; font-size:1.25em;\">\n",
    "\n",
    "We read in the JSON file as chunks as it is a large file approximately 3.6 GBS in size and will not fit in RAM otherwise.  We currently read in only the first two chunks and perform data analysis on them.  The counter variable controls the # of chunks we read in and we have set the chunk size to 1000 Tweets per chunk.<br>\n",
    "\n",
    "</span>"
   ]
  },
  {
   "cell_type": "code",
   "execution_count": 4,
   "metadata": {},
   "outputs": [
    {
     "name": "stderr",
     "output_type": "stream",
     "text": [
      "DEBUG:root:\n",
      "\n",
      "DEBUG:root:The shape of the twitter dataframe:\n",
      "DEBUG:root:(2000, 27)\n",
      "DEBUG:root:\n",
      "\n",
      "DEBUG:root:The columns of the twitter dataframe:\n",
      "DEBUG:root:Index(['contributors', 'coordinates', 'created_at', 'display_text_range',\n",
      "       'entities', 'extended_entities', 'favorite_count', 'favorited',\n",
      "       'full_text', 'geo', 'id', 'id_str', 'in_reply_to_screen_name',\n",
      "       'in_reply_to_status_id', 'in_reply_to_status_id_str',\n",
      "       'in_reply_to_user_id', 'in_reply_to_user_id_str', 'is_quote_status',\n",
      "       'lang', 'place', 'possibly_sensitive', 'retweet_count', 'retweeted',\n",
      "       'retweeted_status', 'source', 'truncated', 'user'],\n",
      "      dtype='object')\n",
      "DEBUG:root:\n",
      "\n",
      "DEBUG:root:A sample of the twitter dataframe:\n",
      "DEBUG:root:     contributors coordinates          created_at display_text_range  \\\n",
      "840           NaN        None 2014-06-20 01:40:58           [0, 114]   \n",
      "\n",
      "                                              entities  \\\n",
      "840  {'urls': [], 'hashtags': [], 'media': [{'displ...   \n",
      "\n",
      "                                     extended_entities  favorite_count  \\\n",
      "840  {'media': [{'display_url': 'pic.twitter.com/Fz...               6   \n",
      "\n",
      "     favorited                                          full_text   geo  ...  \\\n",
      "840      False  If you had any doubts &gt; RT \"@simplycomplex_...  None  ...   \n",
      "\n",
      "     is_quote_status  lang place  possibly_sensitive  retweet_count  \\\n",
      "840            False    en  None                 0.0             19   \n",
      "\n",
      "     retweeted  retweeted_status  \\\n",
      "840      False               NaN   \n",
      "\n",
      "                                                source truncated  \\\n",
      "840  <a href=\"http://twitter.com/download/android\" ...     False   \n",
      "\n",
      "                                                  user  \n",
      "840  {'utc_offset': 36000, 'friends_count': 1228, '...  \n",
      "\n",
      "[1 rows x 27 columns]\n",
      "DEBUG:root:\n",
      "\n"
     ]
    }
   ],
   "source": [
    "# Read in the JSON file.\n",
    "# twitter_data = pd.read_json(\"json/dataset_slo_20100101-20180510.json\",\n",
    "#                             orient='records',\n",
    "#                             lines=True,\n",
    "#                             chunksize=1000)\n",
    "\n",
    "twitter_data = pd.read_json(\"D:/Dropbox/summer-research-2019/json/dataset_slo_20100101-20180510.json\",\n",
    "                            orient='records',\n",
    "                            lines=True,\n",
    "                            chunksize=1000)\n",
    "\n",
    "# Create a empty Pandas dataframe.\n",
    "twitter_dataframe = pd.DataFrame()\n",
    "\n",
    "# Consider only subset of entire JSON fire for testing purposes.\n",
    "counter = 0\n",
    "for data in twitter_data:\n",
    "    twitter_dataframe = twitter_dataframe.append(data, ignore_index=True)\n",
    "    counter += 1\n",
    "    if counter >= 2:\n",
    "        break\n",
    "\n",
    "# Print shape and column names.\n",
    "log.debug(\"\\n\")\n",
    "log.debug(\"The shape of the twitter dataframe:\")\n",
    "log.debug(twitter_dataframe.shape)\n",
    "log.debug(\"\\n\")\n",
    "log.debug(\"The columns of the twitter dataframe:\")\n",
    "log.debug(twitter_dataframe.columns)\n",
    "log.debug(\"\\n\")\n",
    "log.debug(\"A sample of the twitter dataframe:\")\n",
    "log.debug(twitter_dataframe.sample(1))\n",
    "log.debug(\"\\n\")"
   ]
  },
  {
   "cell_type": "markdown",
   "metadata": {},
   "source": [
    "## Import Twitter dataset CSV file:"
   ]
  },
  {
   "cell_type": "markdown",
   "metadata": {},
   "source": [
    "<span style=\"font-family:Papyrus; font-size:1.25em;\">\n",
    "\n",
    "We read in the untokenized Twitter dataset as a CSV file and generate a Pandas dataframe from the dataset.<br>\n",
    "\n",
    "</span>"
   ]
  },
  {
   "cell_type": "code",
   "execution_count": 5,
   "metadata": {},
   "outputs": [
    {
     "name": "stderr",
     "output_type": "stream",
     "text": [
      "DEBUG:root:\n",
      "\n",
      "DEBUG:root:The shape of our SLO tweet dataframe:\n",
      "DEBUG:root:(658982, 9)\n",
      "DEBUG:root:\n",
      "\n",
      "DEBUG:root:The columns of our SLO tweet dataframe:\n",
      "DEBUG:root:Index(['id', 'lang', 'language_textblob', 'retweeted', 'hashtags', 'company',\n",
      "       'text', 'user_screen_name', 'user_description'],\n",
      "      dtype='object')\n",
      "DEBUG:root:\n",
      "\n",
      "DEBUG:root:A sample from the tweet dataframe:\n",
      "DEBUG:root:                        id lang language_textblob  retweeted  \\\n",
      "311535  930729153296347137   en                en       True   \n",
      "80120   846569186469957633   en                en      False   \n",
      "576074  731039787776393216   es                en      False   \n",
      "530588  826422015447822336   en                en       True   \n",
      "425479  991851048435204096   en                en       True   \n",
      "563060  688553637988061184   en                en       True   \n",
      "475858  865113025769988096   en                en      False   \n",
      "481777  921143403408113664   en                en      False   \n",
      "69627   836133487660785665   en                en       True   \n",
      "181864  873329978917535745   en                en       True   \n",
      "\n",
      "                                                 hashtags   company  \\\n",
      "311535                                                NaN     adani   \n",
      "80120   Adani,coal,KARMA,ActOnClimate,auspol,CycloneDe...     adani   \n",
      "576074                           santos,fb,movedanceradio    santos   \n",
      "530588                                                NaN  riotinto   \n",
      "425479                                                NaN     adani   \n",
      "563060                   fracking,Santos,fire,Pilliga,CSG    santos   \n",
      "475858                                               coal       bhp   \n",
      "481777                                                NaN       bhp   \n",
      "69627                                                 NaN     adani   \n",
      "181864                                         Adani,coal     adani   \n",
      "\n",
      "                                                     text user_screen_name  \\\n",
      "311535  RT @lenoretaylor: Profits of Adani's Carmichae...        simmo9457   \n",
      "80120   Wondering how #Adani 's Abbot Point #coal port...  stopcoalexports   \n",
      "576074  Santos-Camels(German Radio Edit)  #santos #fb ...   movedanceradio   \n",
      "530588  RT @sallympatten: It's official. Equip Super a...      jsteffanoni   \n",
      "425479  RT @stopthefrack: If the Great Artesian Basin ...     DrHCaldicott   \n",
      "563060  RT @greekmcchic: Latest US #fracking fire.@NSW...            nocsg   \n",
      "475858  Retweeted Tim Buckley (@TimBuckleyIEEFA):  Ene...  Turlough_Guerin   \n",
      "481777  @micwoodward @AtdecMounts I see... bubbles in ...           vzyh6r   \n",
      "69627   RT @beneltham: Minerals Council director on th...  helphelpandhelp   \n",
      "181864  RT @p_hannam: How #Adani spruiked a #coal drea...  wildaboutsydney   \n",
      "\n",
      "                                         user_description  \n",
      "311535  Ex Cyclist,Commentator @ Tour of BRIGHT,,West ...  \n",
      "80120                        STOP Australian COAL Exports  \n",
      "576074               The best dance music on the internet  \n",
      "530588  Lawyer specialising in #finance #superannuatio...  \n",
      "425479  Pediatrician fighting nuclear power, nuclear w...  \n",
      "563060  I am a farmer on the Liverpool Plains - a majo...  \n",
      "475858  NSW Govt Sustainability Advisor GAICD, FGIA: N...  \n",
      "481777                                          Work @ HP  \n",
      "69627                                                 NaN  \n",
      "181864  Spruiking nature and wildlife conservation. We...  \n",
      "DEBUG:root:\n",
      "\n"
     ]
    }
   ],
   "source": [
    "# Read in the CSV file.\n",
    "# tweet_dataset_processed = \\\n",
    "#     pd.read_csv(\"datasets/dataset_20100101-20180510.csv\", sep=\",\")\n",
    "\n",
    "tweet_dataset_processed = \\\n",
    "    pd.read_csv(\"D:/Dropbox/summer-research-2019/datasets/dataset_20100101-20180510.csv\", sep=\",\")\n",
    "\n",
    "# Reindex and shuffle the data randomly.\n",
    "tweet_dataset_processed = tweet_dataset_processed.reindex(\n",
    "    pd.np.random.permutation(tweet_dataset_processed.index))\n",
    "\n",
    "# Generate a Pandas dataframe.\n",
    "tweet_dataframe_processed = pd.DataFrame(tweet_dataset_processed)\n",
    "\n",
    "# Print shape and column names.\n",
    "log.debug(\"\\n\")\n",
    "log.debug(\"The shape of our SLO tweet dataframe:\")\n",
    "log.debug(tweet_dataframe_processed.shape)\n",
    "log.debug(\"\\n\")\n",
    "log.debug(\"The columns of our SLO tweet dataframe:\")\n",
    "log.debug(tweet_dataframe_processed.columns)\n",
    "log.debug(\"\\n\")\n",
    "log.debug(\"A sample from the tweet dataframe:\")\n",
    "log.debug(tweet_dataframe_processed.sample(10))\n",
    "log.debug(\"\\n\")"
   ]
  },
  {
   "cell_type": "markdown",
   "metadata": {},
   "source": [
    "<span style=\"font-family:Papyrus; font-size:1.25em;\">\n",
    " \n",
    "\n",
    " \n",
    "</span>"
   ]
  },
  {
   "cell_type": "markdown",
   "metadata": {},
   "source": [
    "## Tweet Properties:"
   ]
  },
  {
   "cell_type": "code",
   "execution_count": 14,
   "metadata": {},
   "outputs": [],
   "source": [
    "mylog = log.getLogger(\"matplotlib\")\n",
    "mylog.setLevel(log.INFO)"
   ]
  },
  {
   "cell_type": "markdown",
   "metadata": {},
   "source": [
    "<span style=\"font-family:Papyrus; font-size:1.25em;\">\n",
    "\n",
    "Disable \"DEBUG\" level messages for matplotlib specifically.<br>\n",
    "\n",
    "</span>"
   ]
  },
  {
   "cell_type": "code",
   "execution_count": 18,
   "metadata": {},
   "outputs": [],
   "source": [
    "def bar_plot(col, **kwargs):\n",
    "    \"\"\"\n",
    "    Helper function to visualize the data.\n",
    "\n",
    "    :param col: the columns of the graph.\n",
    "    :param kwargs: variable number of arguments.\n",
    "    :return: None.\n",
    "    \"\"\"\n",
    "    ax = plt.gca()\n",
    "    data = kwargs.pop('data')\n",
    "    height = data[col].value_counts(normalize=True)\n",
    "    height.sort_index(inplace=True)\n",
    "    ax.bar(height.index, height)"
   ]
  },
  {
   "cell_type": "code",
   "execution_count": 19,
   "metadata": {},
   "outputs": [],
   "source": [
    "def bar_plot_zipf(col, **kwargs):\n",
    "    \"\"\"\n",
    "    Helper function to visualize the data.\n",
    "\n",
    "    :param col: the columns of the graph.\n",
    "    :param kwargs: variable number of arguments.\n",
    "    :return: None.\n",
    "    \"\"\"\n",
    "    ax = plt.gca()\n",
    "    data = kwargs.pop('data')\n",
    "    height = data[col].value_counts().value_counts(normalize=True)\n",
    "    ax.bar(height.index, height)"
   ]
  },
  {
   "cell_type": "markdown",
   "metadata": {},
   "source": [
    "### Time Series Statistics:"
   ]
  },
  {
   "cell_type": "code",
   "execution_count": 15,
   "metadata": {},
   "outputs": [
    {
     "data": {
      "image/png": "[encoded data removed]",
      "text/plain": [
       "<Figure size 432x288 with 1 Axes>"
      ]
     },
     "metadata": {
      "needs_background": "light"
     },
     "output_type": "display_data"
    }
   ],
   "source": [
    "def time_series():\n",
    "    \"\"\"\n",
    "    Visualize the Tweet creation time based on time-date information in the raw JSON Tweet file.\n",
    "\n",
    "    Note: The processed CSV dataset file does not contain this information.\n",
    "\n",
    "    :return: None.\n",
    "    \"\"\"\n",
    "    plt.figure()\n",
    "    pd.to_datetime(twitter_dataframe['created_at']).value_counts().resample('1D').sum().plot()\n",
    "    plt.show()\n",
    "\n",
    "\n",
    "# Call the function.\n",
    "time_series()"
   ]
  },
  {
   "cell_type": "markdown",
   "metadata": {},
   "source": [
    "<span style=\"font-family:Papyrus; font-size:1.25em;\">\n",
    "\n",
    "It appears that most of the Tweets were created around August 2014.<br>\n",
    "\n",
    "</span>"
   ]
  },
  {
   "cell_type": "markdown",
   "metadata": {},
   "source": [
    "### Re-Tweet Statistics:"
   ]
  },
  {
   "cell_type": "code",
   "execution_count": 20,
   "metadata": {
    "scrolled": false
   },
   "outputs": [
    {
     "name": "stdout",
     "output_type": "stream",
     "text": [
      "Re-Tweet Statistics for JSON raw data:\n",
      "False    2000\n",
      "Name: retweeted, dtype: int64\n",
      "\n",
      "Re-Tweet Statistics for CSV dataset:\n",
      "True     441619\n",
      "False    217363\n",
      "Name: retweeted, dtype: int64\n",
      "\n",
      "Re-Tweet Statistics for CSV dataset by Company:\n",
      "Number of Tweets that are or aren't re-tweets by associated company: \n",
      "company     retweeted\n",
      "adani       False        106946\n",
      "            True         321505\n",
      "bhp         False         40287\n",
      "            True          29164\n",
      "cuesta      False            63\n",
      "                          ...  \n",
      "santos      True          61604\n",
      "whitehaven  False          6504\n",
      "            True           8206\n",
      "woodside    False          9937\n",
      "            True           5560\n",
      "Length: 22, dtype: int64\n",
      "\n",
      "Proportion of Re-Tweets versus non Re-Tweets by associated company: \n"
     ]
    },
    {
     "data": {
      "text/plain": [
       "<Figure size 432x288 with 0 Axes>"
      ]
     },
     "metadata": {},
     "output_type": "display_data"
    },
    {
     "data": {
      "image/png": "[encoded data removed]",
      "text/plain": [
       "<Figure size 1296x432 with 11 Axes>"
      ]
     },
     "metadata": {
      "needs_background": "light"
     },
     "output_type": "display_data"
    }
   ],
   "source": [
    "def retweeted():\n",
    "    \"\"\"\n",
    "    Re-tweet statistics and visualizations.\n",
    "\n",
    "    Note: The raw JSON file does not have associated \"company\" information.\n",
    "\n",
    "    :return: None.\n",
    "    \"\"\"\n",
    "\n",
    "    print(\"Re-Tweet Statistics for JSON raw data:\")\n",
    "    print(twitter_dataframe['retweeted'].value_counts())\n",
    "    print()\n",
    "\n",
    "    print(\"Re-Tweet Statistics for CSV dataset:\")\n",
    "    print(tweet_dataframe_processed['retweeted'].value_counts())\n",
    "    print()\n",
    "\n",
    "    print(\"Re-Tweet Statistics for CSV dataset by Company:\")\n",
    "    print(\"Number of Tweets that are or aren't re-tweets by associated company: \")\n",
    "    print(tweet_dataframe_processed.groupby(['company', 'retweeted']).size())\n",
    "    print()\n",
    "\n",
    "    # Graph the Re-Tweet Statistics.\n",
    "    print(\"Proportion of Re-Tweets versus non Re-Tweets by associated company: \")\n",
    "    plt.figure()\n",
    "    grid = sns.FacetGrid(tweet_dataframe_processed[['retweeted', 'company']], col='company', col_wrap=6,\n",
    "                         ylim=(0, 1))\n",
    "    grid.map_dataframe(bar_plot, 'retweeted').set_titles('{col_name}')\n",
    "    plt.show()\n",
    "\n",
    "\n",
    "# Call the function.\n",
    "retweeted()"
   ]
  },
  {
   "cell_type": "markdown",
   "metadata": {},
   "source": [
    "<span style=\"font-family:Papyrus; font-size:1.25em;\">\n",
    "\n",
    "This shows the number of Tweets that are or aren't re-tweets for both the raw JSON data and the CSV dataset.  We do not have associated company information for the raw JSON data so the graphs depict only the CSV dataset.  The graphs show the proportion of Tweets that are or are not re-tweets by the company the Tweets are associated with.<br>\n",
    "\n",
    "0.0 = NOT a re-tweet.<br>\n",
    "1.0 = IS a re-tweet.<br>\n",
    "\n",
    "</span>"
   ]
  },
  {
   "cell_type": "markdown",
   "metadata": {},
   "source": [
    "### User Statistics:"
   ]
  },
  {
   "cell_type": "code",
   "execution_count": 26,
   "metadata": {
    "scrolled": false
   },
   "outputs": [
    {
     "name": "stdout",
     "output_type": "stream",
     "text": [
      "Proportion of most Tweets for unique users by associated company: \n"
     ]
    },
    {
     "data": {
      "text/plain": [
       "<Figure size 432x288 with 0 Axes>"
      ]
     },
     "metadata": {},
     "output_type": "display_data"
    },
    {
     "data": {
      "image/png": "[encoded data removed]",
      "text/plain": [
       "<Figure size 1296x432 with 11 Axes>"
      ]
     },
     "metadata": {
      "needs_background": "light"
     },
     "output_type": "display_data"
    },
    {
     "name": "stdout",
     "output_type": "stream",
     "text": [
      "User Statistics for CSV dataset by Company: \n",
      "Top Tweet counts for unique user by associated company.\n",
      "company                    \n",
      "adani       WgarNews           0.015194269590\n",
      "            GalileeBlockade    0.008992860327\n",
      "            MarkPlackett1      0.007520113152\n",
      "            SeanBradbery       0.007069653239\n",
      "            garland_paige      0.006686879013\n",
      "bhp         CommSec            0.026205526198\n",
      "            aus_business       0.014744208147\n",
      "            FinancialReview    0.013750701934\n",
      "            icharttop          0.011720493585\n",
      "            3novicesSydney     0.009186332810\n",
      "cuesta      ABN_Newswire       0.144444444444\n",
      "            proactive_au       0.133333333333\n",
      "            MktTrader          0.055555555556\n",
      "            sharecafetweets    0.055555555556\n",
      "            ShareScene         0.055555555556\n",
      "fortescue   FortescueNews      0.049781365624\n",
      "            aus_business       0.016986209216\n",
      "            FinancialReview    0.014547595022\n",
      "            TweetingRoo        0.012361251261\n",
      "            CommSec            0.012277161117\n",
      "iluka       funksoulmamma      0.062279293740\n",
      "            shireendupreez     0.028571428571\n",
      "            BayplayTours       0.017656500803\n",
      "            wabusinessnews     0.017014446228\n",
      "            CommSec            0.016693418941\n",
      "newmont     Mining_Work        0.070469798658\n",
      "            miningmentor       0.055928411633\n",
      "            RallyWA            0.048098434004\n",
      "            Safety_Dance_      0.040268456376\n",
      "            ausgoldindustry    0.029082774049\n",
      "oilsearch   FinancialReview    0.039945528824\n",
      "            aus_business       0.037675896505\n",
      "            CommSec            0.037221970041\n",
      "            angelamacd         0.026781661371\n",
      "            TweetingRoo        0.025873808443\n",
      "riotinto    FinancialReview    0.016850418328\n",
      "            TyroneArgyle       0.015833919775\n",
      "            aus_business       0.015560247087\n",
      "            ozmining           0.010712330909\n",
      "            MiningJobsAU       0.010164985534\n",
      "santos      CRAG_Coona         0.051354175038\n",
      "            coonavass          0.019127220124\n",
      "            nocsg              0.013616376391\n",
      "            1EarthMedia        0.011377596124\n",
      "            JHH__              0.009747304853\n",
      "whitehaven  kateausburn        0.014411964650\n",
      "            peterjameswills    0.013120326309\n",
      "            co2ppm             0.011624745071\n",
      "            Queensland         0.009925220938\n",
      "            nocsg              0.009313392250\n",
      "woodside    Woodside_Park      0.026908433890\n",
      "            CFSAlerts          0.023811060205\n",
      "            WoodsideEnergy     0.019487642770\n",
      "            IncidentAlertS1    0.013744595728\n",
      "            aus_business       0.010647222043\n",
      "Name: user_screen_name, dtype: float64\n",
      "\n"
     ]
    }
   ],
   "source": [
    "def most_tweets_by_users():\n",
    "    \"\"\"\n",
    "    User related statistics and visualizations.\n",
    "\n",
    "    Note: The raw JSON file does not have associated \"company\" information.\n",
    "\n",
    "    :return: None.\n",
    "    \"\"\"\n",
    "\n",
    "    # Graph the User Statistics.\n",
    "    print(\"Proportion of most Tweets for unique users by associated company: \")\n",
    "    plt.figure()\n",
    "    grid = sns.FacetGrid(tweet_dataframe_processed[['user_screen_name', 'company']], col='company', col_wrap=6,\n",
    "                         ylim=(0, 1),\n",
    "                         xlim=(0, 10))\n",
    "    grid.map_dataframe(bar_plot_zipf, 'user_screen_name').set_titles('{col_name}').set_xlabels('appearance count')\n",
    "    plt.show()\n",
    "\n",
    "    # Adjusted parameters to allow statistics for all companies to show in output.\n",
    "    pd.set_option(\"display.precision\", 12)\n",
    "    pd.options.display.max_rows = 100\n",
    "\n",
    "    print(\"User Statistics for CSV dataset by Company: \")\n",
    "    print(\"Top Tweet counts for unique user by associated company.\")\n",
    "    print(\n",
    "        tweet_dataframe_processed[['company', 'user_screen_name']].groupby('company')\n",
    "            .apply(lambda x: x['user_screen_name'].value_counts(normalize=True).head())\n",
    "        # .value_counts(normalize=True)\\\n",
    "        # .sort_index(ascending=False).head())\n",
    "    )\n",
    "    print()\n",
    "\n",
    "\n",
    "# Call the function.\n",
    "most_tweets_by_users()"
   ]
  },
  {
   "cell_type": "markdown",
   "metadata": {},
   "source": [
    "<span style=\"font-family:Papyrus; font-size:1.25em;\">\n",
    "\n",
    "The text output displays the top 5 unique users that account for the largest proportion of Tweets that are associated with a given company.<br>\n",
    "\n",
    "The graph output shows that there are a few users that account for the majority of Tweets about a given company.  The graphs show proportions of Tweets in terms of percentages of all Tweets for that company.<br>\n",
    "\n",
    "</span>"
   ]
  },
  {
   "cell_type": "markdown",
   "metadata": {},
   "source": [
    "### Character Count Statistics:"
   ]
  },
  {
   "cell_type": "code",
   "execution_count": 27,
   "metadata": {},
   "outputs": [
    {
     "name": "stdout",
     "output_type": "stream",
     "text": [
      "Character Statistics for CSV dataset by Company: \n",
      "Character count relative frequency histogram: \n"
     ]
    },
    {
     "data": {
      "text/plain": [
       "<Figure size 432x288 with 0 Axes>"
      ]
     },
     "metadata": {},
     "output_type": "display_data"
    },
    {
     "data": {
      "image/png": "[encoded data removed]",
      "text/plain": [
       "<Figure size 1296x432 with 11 Axes>"
      ]
     },
     "metadata": {
      "needs_background": "light"
     },
     "output_type": "display_data"
    }
   ],
   "source": [
    "def character_counts():\n",
    "    \"\"\"\n",
    "    Character related statistics and visualizations.\n",
    "\n",
    "    Note: The raw JSON file does not have associated \"company\" information.\n",
    "        \n",
    "    :return: None.\n",
    "    \"\"\"\n",
    "\n",
    "    def relhist_proc(col, **kwargs):\n",
    "        \"\"\"\n",
    "        Helper function to visualize the data.\n",
    "\n",
    "        :param col: the columns of the graph.\n",
    "        :param kwargs: variable number of arguments.\n",
    "        :return: None.\n",
    "        \"\"\"\n",
    "        ax = plt.gca()\n",
    "        data = kwargs.pop('data')\n",
    "        proc = kwargs.pop('proc')\n",
    "        processed = proc(data[col])\n",
    "        # relative frequency histgram\n",
    "        # https://stackoverflow.com/questions/9767241/setting-a-relative-frequency-in-a-matplotlib-histogram\n",
    "        ax.hist(processed, weights=np.ones_like(processed) / processed.size, **kwargs)\n",
    "\n",
    "    def char_len(tweets):\n",
    "        \"\"\"\n",
    "        Determine the length of the Tweet text.\n",
    "\n",
    "        :param tweets: the Tweet text.\n",
    "        :return: the length of the Tweet.\n",
    "        \"\"\"\n",
    "        return tweets.str.len()\n",
    "\n",
    "    print(\"Character Statistics for CSV dataset by Company: \")\n",
    "    print(\"Character count relative frequency histogram: \")\n",
    "    plt.figure()\n",
    "    grid = sns.FacetGrid(tweet_dataframe_processed[['text', 'company']], col='company', col_wrap=6, ylim=(0, 1))\n",
    "    grid.map_dataframe(relhist_proc, 'text', bins=10, proc=char_len).set_titles('{col_name}')\n",
    "    plt.show()\n",
    "\n",
    "\n",
    "# Call the function.\n",
    "character_counts()"
   ]
  },
  {
   "cell_type": "markdown",
   "metadata": {},
   "source": [
    "<span style=\"font-family:Papyrus; font-size:1.25em;\">\n",
    "\n",
    "TODO - understand what this is showing exactly.<br>\n",
    "\n",
    "</span>"
   ]
  },
  {
   "cell_type": "markdown",
   "metadata": {},
   "source": [
    "## Resources Used:"
   ]
  },
  {
   "cell_type": "markdown",
   "metadata": {},
   "source": [
    "<span style=\"font-family:Papyrus; font-size:1.25em;\">\n",
    "\n",
    "Dataset Files (obtained from Borg supercomputer):<br>\n",
    "\n",
    "dataset_slo_20100101-20180510.json<br>\n",
    "dataset_20100101-20180510.csv<br>\n",
    "\n",
    "Jupyter Notebook Files (obtained from SLO-classifiers GitHub Repository):<br>\n",
    "\n",
    "\"SLO analysis.ipynb\"<br>\n",
    "\n",
    "</span>"
   ]
  },
  {
   "cell_type": "markdown",
   "metadata": {},
   "source": [
    "## TODO:"
   ]
  },
  {
   "cell_type": "markdown",
   "metadata": {},
   "source": [
    "<span style=\"font-family:Papyrus; font-size:1.25em;\">\n",
    "\n",
    "Implement further elements from Shuntaro Yada's SLO Twitter Dataset Analysis.<br>\n",
    "\n",
    "</span>"
   ]
  },
  {
   "cell_type": "code",
   "execution_count": null,
   "metadata": {},
   "outputs": [],
   "source": []
  }
 ],
 "metadata": {
  "kernelspec": {
   "display_name": "Python 3",
   "language": "python",
   "name": "python3"
  },
  "language_info": {
   "codemirror_mode": {
    "name": "ipython",
    "version": 3
   },
   "file_extension": ".py",
   "mimetype": "text/x-python",
   "name": "python",
   "nbconvert_exporter": "python",
   "pygments_lexer": "ipython3",
   "version": "3.6.8"
  }
 },
 "nbformat": 4,
 "nbformat_minor": 1
}
