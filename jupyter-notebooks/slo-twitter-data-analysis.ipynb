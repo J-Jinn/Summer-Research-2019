{
 "cells": [
  {
   "cell_type": "markdown",
   "metadata": {
    "collapsed": true
   },
   "source": [
    "# SLO Twitter Data Analysis:"
   ]
  },
  {
   "cell_type": "markdown",
   "metadata": {},
   "source": [
    "### Written By: Professor Keith VanderLinden and Joseph Jinn"
   ]
  },
  {
   "cell_type": "markdown",
   "metadata": {},
   "source": [
    "<span style=\"font-family:Papyrus; font-size:1.25em;\">\n",
    "    \n",
    "**introductory text...**\n",
    "\n",
    "Note: Using a subset of the entire JSON file for time-saving testing purposes.<br><br>  \n",
    "\n",
    "</p>It seems the original \"SLO analysis.ipynb\" utilizes multiple JSON files that are already auto-encoded to be associated with certain SLO mining companies.  We don't have access to those JSON files, so we are currently using the \"dataset_slo_20100101-20180510.json\" raw Tweet file and the \"dataset_20100101-20180510.csv\" preprocessed Tweet file from the \"sloclassifiers\" directory on Borg.</p></br>\n",
    "\n",
    "This analysis is based on and adapted from \"SLO analysis.ipynb\" by Shuntaro Yada from CSIRO.<br>\n",
    "\n",
    "</span>"
   ]
  },
  {
   "cell_type": "markdown",
   "metadata": {},
   "source": [
    "## Sample from raw JSON Twitter Dataset:"
   ]
  },
  {
   "cell_type": "markdown",
   "metadata": {},
   "source": [
    "<span style=\"font-family:Papyrus; font-size:1.25em;\">\n",
    "\n",
    "The raw Tweet in JSON format is in Dictionary format as key/value pairs.<br>\n",
    "The value could be a string, integer, float, or another data structure such as a List or Dictionary.<br>\n",
    "\n",
    "Each line within the JSON file corresponds to a single Tweet.<br>\n",
    "\n",
    "There are 4 primary objects within the Tweet JSON file.  They are the \"Tweet\", \"User\", \"Entities\", and \"Geo\" objects.  Sometimes there can also be an extended entities object.<br>\n",
    "\n",
    "Explanation of each field is taken from the official Twitter API Documentation.<br>\n",
    "\n",
    "</span>"
   ]
  },
  {
   "cell_type": "markdown",
   "metadata": {
    "scrolled": false
   },
   "source": [
    "<span style=\"font-family:Papyrus; font-size:1.25em;\">\n",
    "    \n",
    "**Json file sample:**\n",
    "\n",
    "{\"in_reply_to_status_id_str\":\"305159434462691328\",<br>\n",
    "\n",
    "- If the represented Tweet is a reply, this field will contain the string representation of the original Tweet’s ID.<br>\n",
    "\n",
    "\"in_reply_to_status_id\":305159434462691328,<br>\n",
    "\n",
    "- If the represented Tweet is a reply, this field will contain the integer representation of the original Tweet’s ID.<br>\n",
    "\n",
    "\"coordinates\":null,<br>\n",
    "\n",
    "- Represents the geographic location of this Tweet as reported by the user or client application.<br>\n",
    "\n",
    "\"created_at\":\"Sat Feb 23 03:40:21 +0000 2013\",<br>\n",
    "\n",
    "- UTC time when this Tweet was created.<br>\n",
    "\n",
    "\"truncated\":false,<br>\n",
    "\n",
    "- Indicates whether the value of the text parameter was truncated.<br>\n",
    "\n",
    "\"in_reply_to_user_id_str\":\"2768501\",<br>\n",
    "\n",
    "- If the represented Tweet is a reply, this field will contain the string representation of the original Tweet’s author ID.<br>\n",
    "\n",
    "\"source\":\"<a href=\\\"http:\\/\\/twitter.com\\/download\\/iphone\\\" rel=\\\"nofollow\\\">Twitter for iPhone<\\/a>\",<br>\n",
    "\n",
    "- Utility used to post the Tweet, as an HTML-formatted string.<br>\n",
    "\n",
    "\"retweet_count\":0,<br>\n",
    "\n",
    "- Number of times this Tweet has been retweeted.<br>\n",
    "\n",
    "\"retweeted\":false,<br>\n",
    "\n",
    "- Indicates whether this Tweet has been Retweeted by the authenticating user.<br>\n",
    "\n",
    "\"geo\":null,<br>\n",
    "\n",
    "- This deprecated attribute has its coordinates formatted as [lat, long], while all other Tweet geo is formatted as [long, lat].<br>\n",
    "\n",
    "\"in_reply_to_screen_name\":\"abcnews\",<br>\n",
    "\n",
    "- If the represented Tweet is a reply, this field will contain the screen name of the original Tweet’s author.<br>\n",
    "\n",
    "\"is_quote_status\":false,<br>\n",
    "\n",
    "- Indicates whether this is a Quoted Tweet.<br>\n",
    "\n",
    "======================================================\n",
    "\n",
    "\"entities\":{<br>\n",
    "\n",
    "- Entities which have been parsed out of the text of the Tweet.<br>\n",
    "\n",
    "\"urls\":[],<br>\n",
    "\n",
    "- Represents URLs included in the text of a Tweet.<br>\n",
    "\n",
    "\"hashtags\":[],<br>\n",
    "\n",
    "- Represents hashtags which have been parsed out of the Tweet text.<br>\n",
    "\n",
    "\"user_mentions\":[{\"indices\":[0,8],\"screen_name\":\"abcnews\",\"id_str\":\"2768501\", \"name\":\"ABC News\",\"id\":2768501}],<br>\n",
    "\n",
    "- Represents other Twitter users mentioned in the text of the Tweet.<br>\n",
    "\n",
    "\"symbols\":[]},<br>\n",
    "\n",
    "- Represents symbols, i.e. $cashtags, included in the text of the Tweet.<br>\n",
    "\n",
    "======================================================\n",
    "\n",
    "\"full_text\":\"@abcnews About bloody time. Adani only wants FIFO Indian workers for his Bowen basin mines.\",<br>\n",
    "\n",
    "- The \"extended_tweet\" object provides the \"full_text\" field that contains the complete, untruncated Tweet message when longer than 140 characters.<br>\n",
    "\n",
    "\"id_str\":\"305160140833816576\",<br>\n",
    "\n",
    "- The string representation of the unique identifier for this Tweet.<br>\n",
    "\n",
    "\"in_reply_to_user_id\":2768501,<br>\n",
    "\n",
    "-  If the represented Tweet is a reply, this field will contain the integer representation of the original Tweet’s author ID.<br>\n",
    "\n",
    "\"display_text_range\":[0,91],<br>\n",
    "\n",
    "- Part of the extended Tweet object.  Contain the # of characters in the Tweet?<br>\n",
    "\n",
    "\"favorite_count\":0,<br>\n",
    "\n",
    "- Indicates approximately how many times this Tweet has been liked by Twitter users.<br>\n",
    "\n",
    "\"id\":305160140833816576,<br>\n",
    "\n",
    "- The integer representation of the unique identifier for this Tweet.<br>\n",
    "\n",
    "\"place\":null,<br>\n",
    "\n",
    "- When present, indicates that the tweet is associated (but not necessarily originating from) a Place .<br>\n",
    "\n",
    "\"contributors\":null,<br>\n",
    "\n",
    "- Can't find this field in the documentation.  Deprecated?<br>\n",
    "\n",
    "\"lang\":\"en\",<br>\n",
    "\n",
    "- When present, indicates a BCP 47 language identifier corresponding to the machine-detected language of the Tweet text, or und if no language could be detected.<br>\n",
    "\n",
    "======================================================\n",
    "\n",
    "\"user\":{<br>\n",
    "\n",
    "- User object contains Twitter User account metadata that describes the Twitter User referenced.<br>\n",
    "\n",
    "\"utc_offset\":36000,<br>\n",
    "\n",
    "- Deprecated.<br>\n",
    "\n",
    "\"friends_count\":1385,<br>\n",
    "\n",
    "- The number of users this account is following (AKA their “followings”).<br>\n",
    "\n",
    "\"profile_image_url_https\":\"https:\\/\\/pbs.twimg.com\\/profile_images\\/698290934618787840\\/SIpBKnWE_normal.jpg\",<br>\n",
    "\n",
    "- A HTTPS-based URL pointing to the user’s profile image.<br>\n",
    "\n",
    "\"listed_count\":3,<br>\n",
    "\n",
    "- The number of public lists that this user is a member of.<br>\n",
    "\n",
    "\"profile_background_image_url\":\"http:\\/\\/abs.twimg.com\\/images\\/themes\\/theme1\\/bg.png\",\"default_profile_image\":false,<br>\n",
    "\n",
    "- - Deprecated.<br>\n",
    "\n",
    "\"favourites_count\":533,<br>\n",
    "\n",
    "- The number of Tweets this user has liked in the account’s lifetime.<br>\n",
    "\n",
    "\"description\":\"Train Driver extraordinaire, proud Union Leftie and Labor supporter.<br>\n",
    "\n",
    "Cant stand the LNP and their regressive ideas. Mainly political but I do enjoy a laugh.\",<br>\n",
    "\n",
    "- The user-defined UTF-8 string describing their account.<br>\n",
    "\n",
    "\"created_at\":\"Tue Aug 21 23:23:52 +0000 2012\",<br>\n",
    "\n",
    "- The UTC datetime that the user account was created on Twitter.<br>\n",
    "\n",
    "\"is_translator\":false,<br>\n",
    "\n",
    "- Deprecated.<br>\n",
    "\n",
    "\"profile_background_image_url_https\":\"https:\\/\\/abs.twimg.com\\/images\\/themes\\/theme1\\/bg.png\",<br>\n",
    "\n",
    "- Deprecated.<br>\n",
    "\n",
    "\"protected\":false,<br>\n",
    "\n",
    "- When true, indicates that this user has chosen to protect their Tweets.<br>\n",
    "\n",
    "\"screen_name\":\"DazzDicko\",<br>\n",
    "\n",
    "- The screen name, handle, or alias that this user identifies themselves with. screen_names are unique but subject to change.<br>\n",
    "\n",
    "\"id_str\":\"772466924\",<br>\n",
    "\n",
    "- The string representation of the unique identifier for this User.<br>\n",
    "\n",
    "\"profile_link_color\":\"1DA1F2\",<br>\n",
    "\n",
    "- Deprecated.<br>\n",
    "\n",
    "\"is_translation_enabled\":false,<br>\n",
    "\n",
    "- Deprecated.<br>\n",
    "\n",
    "\"translator_type\":\"none\",<br>\n",
    "\n",
    "- Deprecated.<br>\n",
    "\n",
    "\"id\":772466924,<br>\n",
    "\n",
    "- The integer representation of the unique identifier for this User.<br>\n",
    "\n",
    "\"geo_enabled\":true,<br>\n",
    "\n",
    "- Deprecated.<br>\n",
    "\n",
    "\"profile_background_color\":\"C0DEED\",<br>\n",
    "\n",
    "- Deprecated.<br>\n",
    "\n",
    "\"lang\":\"en\",<br>\n",
    "\n",
    "- Deprecated.<br>\n",
    "\n",
    "\"has_extended_profile\":false,<br>\n",
    "\n",
    "- Deprecated.<br>\n",
    "\n",
    "\"profile_sidebar_border_color\":\"C0DEED\",<br>\n",
    "\n",
    "- Deprecated.<br>\n",
    "\n",
    "\"profile_text_color\":\"333333\",<br>\n",
    "\n",
    "- Deprecated.<br>\n",
    "\n",
    "\"verified\":false,<br>\n",
    "\n",
    "- When true, indicates that the user has a verified account.<br>\n",
    "\n",
    "\"profile_image_url\":\"http:\\/\\/pbs.twimg.com\\/profile_images\\/698290934618787840\\/SIpBKnWE_normal.jpg\",<br>\n",
    "\n",
    "- Deprecated.<br>\n",
    "\n",
    "\"time_zone\":\"Australia\\/Brisbane\",<br>\n",
    "\n",
    "- Deprecated.<br>\n",
    "\n",
    "\"url\":null,<br>\n",
    "\n",
    "- A URL provided by the user in association with their profile.<br>\n",
    "\n",
    "\"contributors_enabled\":false,<br>\n",
    "\n",
    "- Deprecated.<br>\n",
    "\n",
    "\"profile_background_tile\":false,<br>\n",
    "\n",
    "- Deprecated.<br>\n",
    "\n",
    "********************\n",
    "\n",
    "\"entities\":{\"description\":{\"urls\":[]}},<br>\n",
    "\n",
    "- Entities which have been parsed out of the text of the Tweet.<br>\n",
    "\n",
    "********************\n",
    "\n",
    "\"statuses_count\":5176,<br>\n",
    "\n",
    "- The number of Tweets (including retweets) issued by the user. <br>\n",
    "\n",
    "\"follow_request_sent\":false,<br>\n",
    "\n",
    "- Deprecated.<br>\n",
    "\n",
    "\"followers_count\":945,<br>\n",
    "\n",
    "- The number of followers this account currently has.<br>\n",
    "\n",
    "\"profile_use_background_image\":true,<br>\n",
    "\n",
    "- Deprecated.<br>\n",
    "\n",
    "\"default_profile\":true,<br>\n",
    "\n",
    "- When true, indicates that the user has not altered the theme or background of their user profile.<br>\n",
    "\n",
    "\"following\":false,<br>\n",
    "\n",
    "- Deprecated.<br>\n",
    "\n",
    "\"name\":\"Daryl Dickson\",<br>\n",
    "\n",
    "- The name of the user, as they’ve defined it. Not necessarily a person’s name. Typically capped at 50 characters, but subject to change.<br>\n",
    "\n",
    "\"location\":\"Far North Queensland\",<br>\n",
    "\n",
    "- The user-defined location for this account’s profile. Not necessarily a location, nor machine-parseable.<br>\n",
    "\n",
    "\"profile_sidebar_fill_color\":\"DDEEF6\",<br>\n",
    "\n",
    "- Deprecated.<br>\n",
    "\n",
    "\"notifications\":false},<br>\n",
    "\n",
    "- Deprecated.<br>\n",
    "\n",
    "======================================================\n",
    "\n",
    "\"favorited\":false}<br>\n",
    "\n",
    "- Indicates whether this Tweet has been liked by the authenticating user.<br>\n",
    "\n",
    "</span>"
   ]
  },
  {
   "cell_type": "markdown",
   "metadata": {},
   "source": [
    "<span style=\"font-family:Papyrus; font-size:1.25em;\">\n",
    "\n",
    "Sample obtained by copy/pasting a single line from the raw JSON file and then manually separating that single line into the individual data fields.<br>\n",
    "\n",
    "It appears that many of the fields present in the raw JSON field are \"Deprecated\" as the dataset was accumulated beginning over 10 years ago.<br>\n",
    "\n",
    "</span>"
   ]
  },
  {
   "cell_type": "markdown",
   "metadata": {},
   "source": [
    "## Import libraries and set parameters:"
   ]
  },
  {
   "cell_type": "code",
   "execution_count": 1,
   "metadata": {},
   "outputs": [],
   "source": [
    "import logging as log\n",
    "import warnings\n",
    "import tensorflow as tf\n",
    "import time\n",
    "from matplotlib import pyplot as plt\n",
    "import numpy as np\n",
    "import pandas as pd\n",
    "import seaborn as sns\n",
    "\n",
    "sns.set()"
   ]
  },
  {
   "cell_type": "code",
   "execution_count": 2,
   "metadata": {},
   "outputs": [],
   "source": [
    "pd.options.display.max_rows = 100\n",
    "# pd.options.display.float_format = '{:.1f}'.format\n",
    "pd.set_option('precision', 7)\n",
    "warnings.simplefilter(action='ignore', category=FutureWarning)\n",
    "warnings.simplefilter(action='ignore', category=DeprecationWarning)\n"
   ]
  },
  {
   "cell_type": "markdown",
   "metadata": {},
   "source": [
    "<span style=\"font-family:Papyrus; font-size:1.25em;\">\n",
    "\n",
    "Pandas settings alters the maximum number of rows to be displayed and the number of decimal places to display for floating point values.<br>\n",
    "\n",
    "We also filter out several warning types to reduce output clutter.<br>\n",
    "\n",
    "</span>"
   ]
  },
  {
   "cell_type": "code",
   "execution_count": 3,
   "metadata": {},
   "outputs": [],
   "source": [
    "log.basicConfig(level=log.DEBUG)\n",
    "# tf.logging.set_verbosity(tf.logging.INFO)"
   ]
  },
  {
   "cell_type": "markdown",
   "metadata": {},
   "source": [
    "<span style=\"font-family:Papyrus; font-size:1.25em;\">\n",
    "\n",
    "Change log levels between \"INFO\" and \"DEBUG\" depending on whether you wish to see log output or not.<br>\n",
    "\n",
    "</span>"
   ]
  },
  {
   "cell_type": "markdown",
   "metadata": {},
   "source": [
    "## Import raw JSON file and break into chunks:"
   ]
  },
  {
   "cell_type": "markdown",
   "metadata": {},
   "source": [
    "<span style=\"font-family:Papyrus; font-size:1.25em;\">\n",
    "\n",
    "We have chosen to encapsulate this section of code as a function due to the structure of our codebase.  All data analysis on the raw JSON Tweet file are individual functions that perform statistical analysis and data visualization.  We simply pass the name of the individual function to this particular function and it will automatically call the data analysis function on each individual chunk of the raw JSON Tweet file.<br>\n",
    "\n",
    "We read in the JSON file as chunks as it is a large file approximately 3.6 GBS in size and will not fit in RAM otherwise.  We currently read in the chunks one-by-one with a chunksize of 100,000 and perform data analysis on them individually.<br>\n",
    "\n",
    "Please refer to the code comments for the specifics as to what this function does.<br>\n",
    "\n",
    "</span>"
   ]
  },
  {
   "cell_type": "code",
   "execution_count": 37,
   "metadata": {},
   "outputs": [],
   "source": [
    "def call_data_analysis_function_on_json_file_chunks(function_name, enable_info):\n",
    "    \"\"\"\n",
    "    This function reads the raw JSON Tweet dataset in chunk-by-chunk and calls the user-defined data analysis\n",
    "    function that is specified as a parameter.\n",
    "\n",
    "    :param function_name: name of the data analysis function to call.\n",
    "    :param enable_info: enable or disable dataframe information output.\n",
    "\n",
    "    :return: None.\n",
    "    \"\"\"\n",
    "    # Define size of chunks to read in.\n",
    "    chunksize = 100000\n",
    "\n",
    "    # Read in the JSON file.\n",
    "#     twitter_data = pd.read_json(\"json/dataset_slo_20100101-20180510.json\",\n",
    "#                                 orient='records',\n",
    "#                                 lines=True,\n",
    "#                                 chunksize=chunksize)\n",
    "\n",
    "    twitter_data = pd.read_json(\"D:/Dropbox/summer-research-2019/json/dataset_slo_20100101-20180510.json\",\n",
    "                                orient='records',\n",
    "                                lines=True,\n",
    "                                chunksize=chunksize)\n",
    "\n",
    "    # Create a empty Pandas dataframe.\n",
    "    json_dataframe = pd.DataFrame()\n",
    "\n",
    "    start_time = time.time()\n",
    "    counter = 0\n",
    "    chunk_number = 0\n",
    "\n",
    "    for data in twitter_data:\n",
    "        json_dataframe = json_dataframe.append(data, ignore_index=True)\n",
    "\n",
    "        counter += 1\n",
    "        chunk_number += 1\n",
    "\n",
    "        # Note: Absolute file paths are required.  Relative do not work.\n",
    "        csv_output_file_path = \"D:/Dropbox/summer-research-2019/jupyter-notebooks/dataset-chunks/\" \\\n",
    "                               \"raw-twitter-dataset-chunk-\" + str(chunk_number) + \".csv\"\n",
    "        json_output_file_path = \"D:/Dropbox/summer-research-2019/jupyter-notebooks/dataset-chunks/\" \\\n",
    "                                \"raw-twitter-dataset-chunk-\" + str(chunk_number) + \".json\"\n",
    "\n",
    "        if enable_info:\n",
    "            # Print shape and column names.\n",
    "            log.info(\"\\n\")\n",
    "            log.info(\n",
    "                f\"The shape of the dataframe storing the contents of the raw JSON Tweet file chunk {chunk_number} is:\")\n",
    "            log.info(json_dataframe.shape)\n",
    "            log.info(\"\\n\")\n",
    "            log.info(\n",
    "                f\"The columns of the dataframe storing the contents of the raw JSON Tweet file chunk {chunk_number} is:\")\n",
    "            log.info(json_dataframe.columns)\n",
    "            log.info(\"\\n\")\n",
    "            log.info(\n",
    "                f\"A sample from the dataframe storing the contents of the raw JSON Tweet file chunk {chunk_number} is:\")\n",
    "            log.info(json_dataframe.sample(1))\n",
    "            log.info(\"\\n\")\n",
    "\n",
    "        # Limit # of chunks so we don't run out of RAM.\n",
    "        if counter >= 1:\n",
    "            # Export to CSV file.\n",
    "            # json_dataframe.to_csv(str(csv_output_file_path), sep=',',\n",
    "            #                       encoding='utf-8', index=False, header=True)\n",
    "            # Export JSON file.\n",
    "            # json_dataframe.to_json(str(json_output_file_path), orient='records', lines=True)\n",
    "\n",
    "            if function_name != \"None\":\n",
    "                # Call the data analysis functions.\n",
    "                function_name(json_dataframe, chunk_number)\n",
    "            # Clear the contents of the dataframe.\n",
    "            json_dataframe = pd.DataFrame()\n",
    "            # Reset the counter.\n",
    "            counter = 0\n",
    "\n",
    "            # For debug purposes.\n",
    "            # break\n",
    "\n",
    "    end_time = time.time()\n",
    "    time_elapsed = (end_time - start_time) / 60.0\n",
    "\n",
    "    log.info(\"The time taken to read in the JSON file by Chunks is: \" + str(time_elapsed) + \" minutes\")\n",
    "    log.info(\"The number of chunks is: \" + str(chunk_number) + \" based on chunk size of: \" + str(chunksize))\n",
    "    log.info('\\n')"
   ]
  },
  {
   "cell_type": "markdown",
   "metadata": {},
   "source": [
    "<span style=\"font-family:Papyrus; font-size:1.25em;\">\n",
    "\n",
    "This function is also capable of exporting out the chunks as individual JSON and CSV files.  These chunks are small enough to fit into RAM, at least on our system with 32 GBS of system RAM.  We have already exported the chunks to individual dataset files but have not included them in the project repository due to their collective file size.<br>\n",
    "\n",
    "</span>"
   ]
  },
  {
   "cell_type": "markdown",
   "metadata": {},
   "source": [
    "## Display raw JSON file data chunk dataframe information:"
   ]
  },
  {
   "cell_type": "code",
   "execution_count": 38,
   "metadata": {
    "scrolled": false
   },
   "outputs": [
    {
     "name": "stderr",
     "output_type": "stream",
     "text": [
      "INFO:root:\n",
      "\n",
      "INFO:root:The shape of the dataframe storing the contents of the raw JSON Tweet file chunk 1 is:\n",
      "INFO:root:(100000, 30)\n",
      "INFO:root:\n",
      "\n",
      "INFO:root:The columns of the dataframe storing the contents of the raw JSON Tweet file chunk 1 is:\n",
      "INFO:root:Index(['contributors', 'coordinates', 'created_at', 'display_text_range',\n",
      "       'entities', 'extended_entities', 'favorite_count', 'favorited',\n",
      "       'full_text', 'geo', 'id', 'id_str', 'in_reply_to_screen_name',\n",
      "       'in_reply_to_status_id', 'in_reply_to_status_id_str',\n",
      "       'in_reply_to_user_id', 'in_reply_to_user_id_str', 'is_quote_status',\n",
      "       'lang', 'place', 'possibly_sensitive', 'quoted_status',\n",
      "       'quoted_status_id', 'quoted_status_id_str', 'retweet_count',\n",
      "       'retweeted', 'retweeted_status', 'source', 'truncated', 'user'],\n",
      "      dtype='object')\n",
      "INFO:root:\n",
      "\n",
      "INFO:root:A sample from the dataframe storing the contents of the raw JSON Tweet file chunk 1 is:\n",
      "INFO:root:       contributors coordinates          created_at display_text_range  \\\n",
      "51263           NaN        None 2016-12-08 02:00:53           [0, 144]   \n",
      "\n",
      "                                                entities extended_entities  \\\n",
      "51263  {'urls': [], 'hashtags': [], 'user_mentions': ...               NaN   \n",
      "\n",
      "       favorite_count  favorited  \\\n",
      "51263               0      False   \n",
      "\n",
      "                                               full_text   geo  ...  \\\n",
      "51263  RT @themarkjacka: Predictions 2017\\n- 1 new PM...  None  ...   \n",
      "\n",
      "       possibly_sensitive  quoted_status quoted_status_id  \\\n",
      "51263                 NaN            NaN              NaN   \n",
      "\n",
      "       quoted_status_id_str  retweet_count  retweeted  \\\n",
      "51263                   NaN             22      False   \n",
      "\n",
      "                                        retweeted_status  \\\n",
      "51263  {'in_reply_to_status_id_str': None, 'in_reply_...   \n",
      "\n",
      "                                                  source truncated  \\\n",
      "51263  <a href=\"http://twitter.com\" rel=\"nofollow\">Tw...     False   \n",
      "\n",
      "                                                    user  \n",
      "51263  {'utc_offset': 36000, 'friends_count': 8688, '...  \n",
      "\n",
      "[1 rows x 30 columns]\n",
      "INFO:root:\n",
      "\n",
      "INFO:root:\n",
      "\n",
      "INFO:root:The shape of the dataframe storing the contents of the raw JSON Tweet file chunk 2 is:\n",
      "INFO:root:(100000, 30)\n",
      "INFO:root:\n",
      "\n",
      "INFO:root:The columns of the dataframe storing the contents of the raw JSON Tweet file chunk 2 is:\n",
      "INFO:root:Index(['contributors', 'coordinates', 'created_at', 'display_text_range',\n",
      "       'entities', 'extended_entities', 'favorite_count', 'favorited',\n",
      "       'full_text', 'geo', 'id', 'id_str', 'in_reply_to_screen_name',\n",
      "       'in_reply_to_status_id', 'in_reply_to_status_id_str',\n",
      "       'in_reply_to_user_id', 'in_reply_to_user_id_str', 'is_quote_status',\n",
      "       'lang', 'place', 'possibly_sensitive', 'quoted_status',\n",
      "       'quoted_status_id', 'quoted_status_id_str', 'retweet_count',\n",
      "       'retweeted', 'retweeted_status', 'source', 'truncated', 'user'],\n",
      "      dtype='object')\n",
      "INFO:root:\n",
      "\n",
      "INFO:root:A sample from the dataframe storing the contents of the raw JSON Tweet file chunk 2 is:\n",
      "INFO:root:       contributors coordinates          created_at display_text_range  \\\n",
      "51123           NaN        None 2017-05-23 22:51:49           [0, 115]   \n",
      "\n",
      "                                                entities extended_entities  \\\n",
      "51123  {'urls': [{'display_url': 'twitter.com/rdns_ta...               NaN   \n",
      "\n",
      "       favorite_count  favorited  \\\n",
      "51123               0      False   \n",
      "\n",
      "                                               full_text   geo  ...  \\\n",
      "51123  RT @R_o_d_C: \"If Glencore asked for a similar ...  None  ...   \n",
      "\n",
      "       possibly_sensitive  quoted_status    quoted_status_id  \\\n",
      "51123                 0.0            NaN  8.671403635421e+17   \n",
      "\n",
      "       quoted_status_id_str  retweet_count  retweeted  \\\n",
      "51123    8.671403635421e+17              6      False   \n",
      "\n",
      "                                        retweeted_status  \\\n",
      "51123  {'quoted_status': {'extended_entities': {'medi...   \n",
      "\n",
      "                                                  source truncated  \\\n",
      "51123  <a href=\"http://twitter.com\" rel=\"nofollow\">Tw...     False   \n",
      "\n",
      "                                                    user  \n",
      "51123  {'utc_offset': 28800, 'friends_count': 335, 'p...  \n",
      "\n",
      "[1 rows x 30 columns]\n",
      "INFO:root:\n",
      "\n",
      "INFO:root:\n",
      "\n",
      "INFO:root:The shape of the dataframe storing the contents of the raw JSON Tweet file chunk 3 is:\n",
      "INFO:root:(100000, 30)\n",
      "INFO:root:\n",
      "\n",
      "INFO:root:The columns of the dataframe storing the contents of the raw JSON Tweet file chunk 3 is:\n",
      "INFO:root:Index(['contributors', 'coordinates', 'created_at', 'display_text_range',\n",
      "       'entities', 'extended_entities', 'favorite_count', 'favorited',\n",
      "       'full_text', 'geo', 'id', 'id_str', 'in_reply_to_screen_name',\n",
      "       'in_reply_to_status_id', 'in_reply_to_status_id_str',\n",
      "       'in_reply_to_user_id', 'in_reply_to_user_id_str', 'is_quote_status',\n",
      "       'lang', 'place', 'possibly_sensitive', 'quoted_status',\n",
      "       'quoted_status_id', 'quoted_status_id_str', 'retweet_count',\n",
      "       'retweeted', 'retweeted_status', 'source', 'truncated', 'user'],\n",
      "      dtype='object')\n",
      "INFO:root:\n",
      "\n",
      "INFO:root:A sample from the dataframe storing the contents of the raw JSON Tweet file chunk 3 is:\n",
      "INFO:root:       contributors coordinates          created_at display_text_range  \\\n",
      "19420           NaN        None 2017-08-05 23:00:07           [0, 140]   \n",
      "\n",
      "                                                entities extended_entities  \\\n",
      "19420  {'urls': [{'display_url': 'jpratt27.wordpress....               NaN   \n",
      "\n",
      "       favorite_count  favorited  \\\n",
      "19420               0      False   \n",
      "\n",
      "                                               full_text   geo  ...  \\\n",
      "19420  RT @Jackthelad1947: Scientists: Action needed ...  None  ...   \n",
      "\n",
      "       possibly_sensitive  quoted_status quoted_status_id  \\\n",
      "19420                 0.0            NaN              NaN   \n",
      "\n",
      "       quoted_status_id_str  retweet_count  retweeted  \\\n",
      "19420                   NaN             13      False   \n",
      "\n",
      "                                        retweeted_status  \\\n",
      "19420  {'in_reply_to_status_id_str': None, 'in_reply_...   \n",
      "\n",
      "                                                  source truncated  \\\n",
      "19420  <a href=\"http://twitter.com/download/iphone\" r...     False   \n",
      "\n",
      "                                                    user  \n",
      "19420  {'utc_offset': 36000, 'friends_count': 2453, '...  \n",
      "\n",
      "[1 rows x 30 columns]\n",
      "INFO:root:\n",
      "\n",
      "INFO:root:\n",
      "\n",
      "INFO:root:The shape of the dataframe storing the contents of the raw JSON Tweet file chunk 4 is:\n",
      "INFO:root:(100000, 31)\n",
      "INFO:root:\n",
      "\n",
      "INFO:root:The columns of the dataframe storing the contents of the raw JSON Tweet file chunk 4 is:\n",
      "INFO:root:Index(['contributors', 'coordinates', 'created_at', 'display_text_range',\n",
      "       'entities', 'extended_entities', 'favorite_count', 'favorited',\n",
      "       'full_text', 'geo', 'id', 'id_str', 'in_reply_to_screen_name',\n",
      "       'in_reply_to_status_id', 'in_reply_to_status_id_str',\n",
      "       'in_reply_to_user_id', 'in_reply_to_user_id_str', 'is_quote_status',\n",
      "       'lang', 'place', 'possibly_sensitive', 'quoted_status',\n",
      "       'quoted_status_id', 'quoted_status_id_str', 'retweet_count',\n",
      "       'retweeted', 'retweeted_status', 'source', 'truncated', 'user',\n",
      "       'withheld_in_countries'],\n",
      "      dtype='object')\n",
      "INFO:root:\n",
      "\n",
      "INFO:root:A sample from the dataframe storing the contents of the raw JSON Tweet file chunk 4 is:\n",
      "INFO:root:       contributors coordinates          created_at display_text_range  \\\n",
      "10006           NaN        None 2017-11-08 03:10:06           [0, 133]   \n",
      "\n",
      "                                                entities extended_entities  \\\n",
      "10006  {'urls': [{'display_url': 'fb.me/45sgAne8F', '...               NaN   \n",
      "\n",
      "       favorite_count  favorited  \\\n",
      "10006               0      False   \n",
      "\n",
      "                                               full_text   geo  ...  \\\n",
      "10006  What a great idea from the #StopAdani Newcastl...  None  ...   \n",
      "\n",
      "       quoted_status  quoted_status_id quoted_status_id_str  retweet_count  \\\n",
      "10006            NaN               NaN                  NaN              0   \n",
      "\n",
      "       retweeted  retweeted_status  \\\n",
      "10006      False               NaN   \n",
      "\n",
      "                                                  source  truncated  \\\n",
      "10006  <a href=\"http://www.facebook.com/twitter\" rel=...      False   \n",
      "\n",
      "                                                    user withheld_in_countries  \n",
      "10006  {'utc_offset': 36000, 'friends_count': 690, 'p...                   NaN  \n",
      "\n",
      "[1 rows x 31 columns]\n"
     ]
    },
    {
     "name": "stderr",
     "output_type": "stream",
     "text": [
      "INFO:root:\n",
      "\n",
      "INFO:root:\n",
      "\n",
      "INFO:root:The shape of the dataframe storing the contents of the raw JSON Tweet file chunk 5 is:\n",
      "INFO:root:(100000, 31)\n",
      "INFO:root:\n",
      "\n",
      "INFO:root:The columns of the dataframe storing the contents of the raw JSON Tweet file chunk 5 is:\n",
      "INFO:root:Index(['contributors', 'coordinates', 'created_at', 'display_text_range',\n",
      "       'entities', 'extended_entities', 'favorite_count', 'favorited',\n",
      "       'full_text', 'geo', 'id', 'id_str', 'in_reply_to_screen_name',\n",
      "       'in_reply_to_status_id', 'in_reply_to_status_id_str',\n",
      "       'in_reply_to_user_id', 'in_reply_to_user_id_str', 'is_quote_status',\n",
      "       'lang', 'place', 'possibly_sensitive', 'quoted_status',\n",
      "       'quoted_status_id', 'quoted_status_id_str', 'retweet_count',\n",
      "       'retweeted', 'retweeted_status', 'source', 'truncated', 'user',\n",
      "       'withheld_in_countries'],\n",
      "      dtype='object')\n",
      "INFO:root:\n",
      "\n",
      "INFO:root:A sample from the dataframe storing the contents of the raw JSON Tweet file chunk 5 is:\n",
      "INFO:root:       contributors coordinates          created_at display_text_range  \\\n",
      "22380           NaN        None 2018-04-12 04:13:46           [0, 196]   \n",
      "\n",
      "                                                entities extended_entities  \\\n",
      "22380  {'urls': [{'display_url': 'theguardian.com/env...               NaN   \n",
      "\n",
      "       favorite_count  favorited  \\\n",
      "22380               4      False   \n",
      "\n",
      "                                               full_text   geo  ...  \\\n",
      "22380  Federal Labor stepped in to stop Queensland La...  None  ...   \n",
      "\n",
      "       quoted_status  quoted_status_id quoted_status_id_str  retweet_count  \\\n",
      "22380            NaN               NaN                  NaN              1   \n",
      "\n",
      "       retweeted  retweeted_status  \\\n",
      "22380      False               NaN   \n",
      "\n",
      "                                                  source  truncated  \\\n",
      "22380  <a href=\"http://twitter.com\" rel=\"nofollow\">Tw...      False   \n",
      "\n",
      "                                                    user withheld_in_countries  \n",
      "22380  {'utc_offset': 36000, 'friends_count': 1106, '...                   NaN  \n",
      "\n",
      "[1 rows x 31 columns]\n",
      "INFO:root:\n",
      "\n",
      "INFO:root:\n",
      "\n",
      "INFO:root:The shape of the dataframe storing the contents of the raw JSON Tweet file chunk 6 is:\n",
      "INFO:root:(100000, 31)\n",
      "INFO:root:\n",
      "\n",
      "INFO:root:The columns of the dataframe storing the contents of the raw JSON Tweet file chunk 6 is:\n",
      "INFO:root:Index(['contributors', 'coordinates', 'created_at', 'display_text_range',\n",
      "       'entities', 'extended_entities', 'favorite_count', 'favorited',\n",
      "       'full_text', 'geo', 'id', 'id_str', 'in_reply_to_screen_name',\n",
      "       'in_reply_to_status_id', 'in_reply_to_status_id_str',\n",
      "       'in_reply_to_user_id', 'in_reply_to_user_id_str', 'is_quote_status',\n",
      "       'lang', 'place', 'possibly_sensitive', 'quoted_status',\n",
      "       'quoted_status_id', 'quoted_status_id_str', 'retweet_count',\n",
      "       'retweeted', 'retweeted_status', 'scopes', 'source', 'truncated',\n",
      "       'user'],\n",
      "      dtype='object')\n",
      "INFO:root:\n",
      "\n",
      "INFO:root:A sample from the dataframe storing the contents of the raw JSON Tweet file chunk 6 is:\n",
      "INFO:root:       contributors coordinates          created_at display_text_range  \\\n",
      "81430           NaN        None 2016-03-23 21:00:27           [0, 140]   \n",
      "\n",
      "                                                entities extended_entities  \\\n",
      "81430  {'urls': [], 'hashtags': [{'indices': [51, 60]...               NaN   \n",
      "\n",
      "       favorite_count  favorited  \\\n",
      "81430               0      False   \n",
      "\n",
      "                                               full_text   geo  ...  \\\n",
      "81430  RT @AustralisTerry: North West NSW blockade Sa...  None  ...   \n",
      "\n",
      "       quoted_status  quoted_status_id quoted_status_id_str  retweet_count  \\\n",
      "81430            NaN               NaN                  NaN              4   \n",
      "\n",
      "       retweeted                                   retweeted_status  scopes  \\\n",
      "81430      False  {'extended_entities': {'media': [{'display_url...     NaN   \n",
      "\n",
      "                                                  source truncated  \\\n",
      "81430  <a href=\"http://twitter.com\" rel=\"nofollow\">Tw...     False   \n",
      "\n",
      "                                                    user  \n",
      "81430  {'utc_offset': 36000, 'friends_count': 294, 'p...  \n",
      "\n",
      "[1 rows x 31 columns]\n",
      "INFO:root:\n",
      "\n",
      "INFO:root:\n",
      "\n",
      "INFO:root:The shape of the dataframe storing the contents of the raw JSON Tweet file chunk 7 is:\n",
      "INFO:root:(70423, 30)\n",
      "INFO:root:\n",
      "\n",
      "INFO:root:The columns of the dataframe storing the contents of the raw JSON Tweet file chunk 7 is:\n",
      "INFO:root:Index(['contributors', 'coordinates', 'created_at', 'display_text_range',\n",
      "       'entities', 'extended_entities', 'favorite_count', 'favorited',\n",
      "       'full_text', 'geo', 'id', 'id_str', 'in_reply_to_screen_name',\n",
      "       'in_reply_to_status_id', 'in_reply_to_status_id_str',\n",
      "       'in_reply_to_user_id', 'in_reply_to_user_id_str', 'is_quote_status',\n",
      "       'lang', 'place', 'possibly_sensitive', 'quoted_status',\n",
      "       'quoted_status_id', 'quoted_status_id_str', 'retweet_count',\n",
      "       'retweeted', 'retweeted_status', 'source', 'truncated', 'user'],\n",
      "      dtype='object')\n",
      "INFO:root:\n",
      "\n",
      "INFO:root:A sample from the dataframe storing the contents of the raw JSON Tweet file chunk 7 is:\n",
      "INFO:root:       contributors coordinates          created_at display_text_range  \\\n",
      "41636           NaN        None 2014-01-15 04:41:15           [0, 103]   \n",
      "\n",
      "                                                entities extended_entities  \\\n",
      "41636  {'urls': [{'display_url': 'newmatilda.com', 'i...               NaN   \n",
      "\n",
      "       favorite_count  favorited  \\\n",
      "41636               0      False   \n",
      "\n",
      "                                               full_text   geo  ...  \\\n",
      "41636  Fire Bans Used Against Whitehaven Coal Protest...  None  ...   \n",
      "\n",
      "       possibly_sensitive  quoted_status quoted_status_id  \\\n",
      "41636                 0.0            NaN              NaN   \n",
      "\n",
      "       quoted_status_id_str  retweet_count  retweeted  retweeted_status  \\\n",
      "41636                   NaN              0      False               NaN   \n",
      "\n",
      "                                                  source truncated  \\\n",
      "41636  <a href=\"https://dev.twitter.com/docs/tfw\" rel...     False   \n",
      "\n",
      "                                                    user  \n",
      "41636  {'utc_offset': 34200, 'friends_count': 1705, '...  \n",
      "\n",
      "[1 rows x 30 columns]\n",
      "INFO:root:\n",
      "\n",
      "INFO:root:The time taken to read in the JSON file by Chunks is: 5.51028120915095 minutes\n",
      "INFO:root:The number of chunks is: 7 based on chunk size of: 100000\n",
      "INFO:root:\n",
      "\n"
     ]
    }
   ],
   "source": [
    "# Use this call to just print raw JSON file data chunk information.\n",
    "call_data_analysis_function_on_json_file_chunks(\"None\", True)"
   ]
  },
  {
   "cell_type": "markdown",
   "metadata": {},
   "source": [
    "## Import preprocessed Twitter dataset CSV file:"
   ]
  },
  {
   "cell_type": "markdown",
   "metadata": {},
   "source": [
    "<span style=\"font-family:Papyrus; font-size:1.25em;\">\n",
    "\n",
    "We read in the untokenized Twitter dataset as a CSV file and generate a Pandas dataframe from the dataset.<br>\n",
    "\n",
    "</span>"
   ]
  },
  {
   "cell_type": "code",
   "execution_count": 5,
   "metadata": {},
   "outputs": [
    {
     "name": "stderr",
     "output_type": "stream",
     "text": [
      "INFO:root:\n",
      "\n",
      "INFO:root:The shape of our dataframe storing the contents of the preprocessed CSV Tweet file is:\n",
      "INFO:root:(658982, 9)\n",
      "INFO:root:\n",
      "\n",
      "INFO:root:The columns of our dataframe storing the contents of the preprocessed CSV Tweet file is:\n",
      "INFO:root:Index(['id', 'lang', 'language_textblob', 'retweeted', 'hashtags', 'company',\n",
      "       'text', 'user_screen_name', 'user_description'],\n",
      "      dtype='object')\n",
      "INFO:root:\n",
      "\n",
      "INFO:root:A sample from the dataframe storing the contents of the preprocessed CSV Tweet file is:\n",
      "INFO:root:                        id lang language_textblob  retweeted  \\\n",
      "583865  779041164485853184   en                en      False   \n",
      "166504  870230625139257344   en                en       True   \n",
      "147822  866800778660397056   en                en       True   \n",
      "89730   851334979506262016   en                en       True   \n",
      "276289  919008642627600384   en                en      False   \n",
      "232072  906314294911934464   en                en      False   \n",
      "509570  722258721804525568   en                en      False   \n",
      "618350  953413701041840129   en                en       True   \n",
      "610576  924091616196829184   en                en       True   \n",
      "21905   716721155634110464   en                en       True   \n",
      "\n",
      "                                        hashtags    company  \\\n",
      "583865                                       NaN     santos   \n",
      "166504                                       NaN      adani   \n",
      "147822                    Adani,StopAdani,Auspol      adani   \n",
      "89730                               adani,auspol      adani   \n",
      "276289                                 stopadani      adani   \n",
      "232072  AdaniDNA,StopAdani,ClimateJustice,qldpol      adani   \n",
      "509570                                       NaN  oilsearch   \n",
      "618350                              TDU,Adelaide     santos   \n",
      "610576                                       NaN     santos   \n",
      "21905                  Adani,coal,climate,auspol      adani   \n",
      "\n",
      "                                                     text user_screen_name  \\\n",
      "583865  @AXIIXS_SANTOS the girls from my class don't e...     CodyAngeland   \n",
      "166504  RT @GetUp: If Adani had a dollar for every tim...     SalimPickens   \n",
      "147822  RT @SlowBurnOz: Call Bill - Stop Native Title ...         WgarNews   \n",
      "89730   RT @deniseshrivell: Malcolm Turnbull to meet A...       Ronnie1924   \n",
      "276289  @QLDLabor @jackietrad please read #stopadani h...   GoldCoastNurse   \n",
      "232072  Is violence part of having a paid Adani lobbyi...   LiteFootPrints   \n",
      "509570  Mining &amp; Energy: Energy prices drag on Oil...      sampclawson   \n",
      "618350  RT @TheLeadSA: Read our recently published art...        TheLeadSA   \n",
      "610576  RT @UrbanWronski: @davrosz Don't overlook, sil...       PreAmpPlus   \n",
      "21905   RT @Yes2Renewables: Future Fund chairman Peter...         exhumetw   \n",
      "\n",
      "                                         user_description  \n",
      "583865  11th January, Gold Coast, a beautiful boy was ...  \n",
      "166504          I can't dance I've got rants in my pants.  \n",
      "147822  #AboriginalTreaties #AboriginalTalk Working Gr...  \n",
      "89730   Retweets are not nessa-celery endorsements. Ob...  \n",
      "276289  Will always stand up for workers rights and fi...  \n",
      "232072  Lighter Footprints aims to influence Australia...  \n",
      "509570                                                NaN  \n",
      "618350                    News leads from South Australia  \n",
      "610576                                                NaN  \n",
      "21905                      Social Progressive - Anti-hate  \n",
      "INFO:root:\n",
      "\n"
     ]
    }
   ],
   "source": [
    "# Read in the CSV file.\n",
    "# tweet_dataset_processed = \\\n",
    "#     pd.read_csv(\"datasets/dataset_20100101-20180510.csv\", sep=\",\")\n",
    "\n",
    "tweet_dataset_processed = \\\n",
    "    pd.read_csv(\"D:/Dropbox/summer-research-2019/datasets/dataset_20100101-20180510.csv\", sep=\",\")\n",
    "\n",
    "# Reindex and shuffle the data randomly.\n",
    "tweet_dataset_processed = tweet_dataset_processed.reindex(\n",
    "    pd.np.random.permutation(tweet_dataset_processed.index))\n",
    "\n",
    "# Generate a Pandas dataframe.\n",
    "csv_dataframe = pd.DataFrame(tweet_dataset_processed)\n",
    "\n",
    "# Print shape and column names.\n",
    "log.info(\"\\n\")\n",
    "log.info(\"The shape of our dataframe storing the contents of the preprocessed CSV Tweet file is:\")\n",
    "log.info(csv_dataframe.shape)\n",
    "log.info(\"\\n\")\n",
    "log.info(\"The columns of our dataframe storing the contents of the preprocessed CSV Tweet file is:\")\n",
    "log.info(csv_dataframe.columns)\n",
    "log.info(\"\\n\")\n",
    "log.info(\"A sample from the dataframe storing the contents of the preprocessed CSV Tweet file is:\")\n",
    "log.info(csv_dataframe.sample(10))\n",
    "log.info(\"\\n\")"
   ]
  },
  {
   "cell_type": "markdown",
   "metadata": {},
   "source": [
    "<span style=\"font-family:Papyrus; font-size:1.25em;\">\n",
    " \n",
    "The above log.INFO output shows the shape, columns, and a sample from the Pandas Dataframe that contains the entirety of the CSV file.<br>\n",
    " \n",
    "</span>"
   ]
  },
  {
   "cell_type": "markdown",
   "metadata": {},
   "source": [
    "## Tweet Properties:"
   ]
  },
  {
   "cell_type": "code",
   "execution_count": 6,
   "metadata": {},
   "outputs": [],
   "source": [
    "mylog = log.getLogger(\"matplotlib\")\n",
    "mylog.setLevel(log.INFO)"
   ]
  },
  {
   "cell_type": "markdown",
   "metadata": {},
   "source": [
    "<span style=\"font-family:Papyrus; font-size:1.25em;\">\n",
    "\n",
    "Disable \"DEBUG\" level messages for matplotlib specifically.<br>\n",
    "\n",
    "</span>"
   ]
  },
  {
   "cell_type": "code",
   "execution_count": 7,
   "metadata": {},
   "outputs": [],
   "source": [
    "def bar_plot(col, **kwargs):\n",
    "    \"\"\"\n",
    "    Helper function to visualize the data.\n",
    "\n",
    "    :param col: the columns of the graph.\n",
    "    :param kwargs: variable number of arguments.\n",
    "    :return: None.\n",
    "    \"\"\"\n",
    "    ax = plt.gca()\n",
    "    data = kwargs.pop('data')\n",
    "    height = data[col].value_counts(normalize=True)\n",
    "    height.sort_index(inplace=True)\n",
    "    ax.bar(height.index, height)"
   ]
  },
  {
   "cell_type": "markdown",
   "metadata": {},
   "source": [
    "<span style=\"font-family:Papyrus; font-size:1.25em;\">\n",
    "\n",
    "Placeholder for what this graph function does.<br>\n",
    "\n",
    "</span>"
   ]
  },
  {
   "cell_type": "code",
   "execution_count": 8,
   "metadata": {},
   "outputs": [],
   "source": [
    "def bar_plot_zipf(col, **kwargs):\n",
    "    \"\"\"\n",
    "    Helper function to visualize the data.\n",
    "\n",
    "    Based on Zipf's Law. (https://en.wikipedia.org/wiki/Zipf%27s_law)\n",
    "\n",
    "    :param col: the columns of the graph.\n",
    "    :param kwargs: variable number of arguments.\n",
    "    :return: None.\n",
    "    \"\"\"\n",
    "    ax = plt.gca()\n",
    "    data = kwargs.pop('data')\n",
    "    height = data[col].value_counts().value_counts(normalize=True)\n",
    "    ax.bar(height.index, height)"
   ]
  },
  {
   "cell_type": "markdown",
   "metadata": {},
   "source": [
    "<span style=\"font-family:Papyrus; font-size:1.25em;\">\n",
    "\n",
    "Placeholder for what this graph function does.<br>\n",
    "\n",
    "</span>"
   ]
  },
  {
   "cell_type": "markdown",
   "metadata": {},
   "source": [
    "### Time Series Statistics:"
   ]
  },
  {
   "cell_type": "code",
   "execution_count": 24,
   "metadata": {
    "scrolled": false
   },
   "outputs": [],
   "source": [
    "def time_series(json_dataframe, chunk):\n",
    "    \"\"\"\n",
    "    Visualize the Tweet creation time based on time-date information in the raw JSON Tweet file.\n",
    "\n",
    "    Note: The processed CSV dataset file does not contain this information.\n",
    "\n",
    "    :param json_dataframe: the dataframe containing the JSON data chunk.\n",
    "    :param chunk: the dataframe JSON data chunk number.\n",
    "    :return: None.\n",
    "    \"\"\"\n",
    "    plt.figure()\n",
    "    plt.title(f\"Tweet Creation TimeDate Count for Chunk: {chunk}\")\n",
    "    plt.xlabel(\"Year and Month\")\n",
    "    plt.ylabel(\"Tweet Count\")\n",
    "    pd.to_datetime(json_dataframe['created_at']).value_counts().resample('1D').sum().plot()\n",
    "    plt.show()"
   ]
  },
  {
   "cell_type": "markdown",
   "metadata": {},
   "source": [
    "<span style=\"font-family:Papyrus; font-size:1.25em;\">\n",
    "\n",
    "The function visualizes the number of Tweets that were created at a certain time-date stamp.<br>\n",
    "\n",
    "</span>"
   ]
  },
  {
   "cell_type": "code",
   "execution_count": 25,
   "metadata": {
    "scrolled": false
   },
   "outputs": [
    {
     "data": {
      "image/png": "[encoded data removed]",
      "text/plain": [
       "<Figure size 432x288 with 1 Axes>"
      ]
     },
     "metadata": {
      "needs_background": "light"
     },
     "output_type": "display_data"
    },
    {
     "data": {
      "image/png": "[encoded data removed]",
      "text/plain": [
       "<Figure size 432x288 with 1 Axes>"
      ]
     },
     "metadata": {
      "needs_background": "light"
     },
     "output_type": "display_data"
    },
    {
     "data": {
      "image/png": "[encoded data removed]",
      "text/plain": [
       "<Figure size 432x288 with 1 Axes>"
      ]
     },
     "metadata": {
      "needs_background": "light"
     },
     "output_type": "display_data"
    },
    {
     "data": {
      "image/png": "[encoded data removed]",
      "text/plain": [
       "<Figure size 432x288 with 1 Axes>"
      ]
     },
     "metadata": {
      "needs_background": "light"
     },
     "output_type": "display_data"
    },
    {
     "data": {
      "image/png": "[encoded data removed]",
      "text/plain": [
       "<Figure size 432x288 with 1 Axes>"
      ]
     },
     "metadata": {
      "needs_background": "light"
     },
     "output_type": "display_data"
    },
    {
     "data": {
      "image/png": "[encoded data removed]",
      "text/plain": [
       "<Figure size 432x288 with 1 Axes>"
      ]
     },
     "metadata": {
      "needs_background": "light"
     },
     "output_type": "display_data"
    },
    {
     "data": {
      "image/png": "[encoded data removed]",
      "text/plain": [
       "<Figure size 432x288 with 1 Axes>"
      ]
     },
     "metadata": {
      "needs_background": "light"
     },
     "output_type": "display_data"
    },
    {
     "name": "stderr",
     "output_type": "stream",
     "text": [
      "INFO:root:The time taken to read in the JSON file by Chunks is: 5.2863470077514645 minutes\n",
      "INFO:root:The number of chunks is: 0 based on chunk size of 10000: \n",
      "INFO:root:\n",
      "\n"
     ]
    }
   ],
   "source": [
    "# Specify and call data analysis functions on chunked raw JSON Tweet file.\n",
    "call_data_analysis_function_on_json_file_chunks(time_series)"
   ]
  },
  {
   "cell_type": "markdown",
   "metadata": {},
   "source": [
    "<span style=\"font-family:Papyrus; font-size:1.25em;\">\n",
    "\n",
    "The output displays time series graphs for each individual chunk sequentially.<br>\n",
    "\n",
    "</span>"
   ]
  },
  {
   "cell_type": "markdown",
   "metadata": {},
   "source": [
    "### Re-Tweet Statistics for raw JSON dataset:"
   ]
  },
  {
   "cell_type": "code",
   "execution_count": 26,
   "metadata": {},
   "outputs": [],
   "source": [
    "def json_retweeted(json_dataframe, chunk):\n",
    "    \"\"\"\n",
    "    Re-tweet statistics and visualizations for the raw JSON file chunks.\n",
    "\n",
    "    :param json_dataframe: the dataframe containing the JSON data chunk.\n",
    "    :param chunk: the dataframe JSON data chunk number.\n",
    "    :return: None.\n",
    "    \"\"\"\n",
    "    print(f\"Re-Tweet Statistics for raw JSON file data chunk {chunk}:\")\n",
    "    print(json_dataframe['retweeted'].value_counts())\n",
    "    print()"
   ]
  },
  {
   "cell_type": "markdown",
   "metadata": {},
   "source": [
    "<span style=\"font-family:Papyrus; font-size:1.25em;\">\n",
    "    \n",
    "This function prints the statistics for the number of Tweets that are re-Tweets versus aren't re-Tweets for each raw JSON file chunk.<br>\n",
    "    \n",
    "</span>"
   ]
  },
  {
   "cell_type": "code",
   "execution_count": 27,
   "metadata": {},
   "outputs": [
    {
     "name": "stdout",
     "output_type": "stream",
     "text": [
      "Re-Tweet Statistics for raw JSON file data chunk 1:\n",
      "False    100000\n",
      "Name: retweeted, dtype: int64\n",
      "\n",
      "Re-Tweet Statistics for raw JSON file data chunk 2:\n",
      "False    100000\n",
      "Name: retweeted, dtype: int64\n",
      "\n",
      "Re-Tweet Statistics for raw JSON file data chunk 3:\n",
      "False    100000\n",
      "Name: retweeted, dtype: int64\n",
      "\n",
      "Re-Tweet Statistics for raw JSON file data chunk 4:\n",
      "False    100000\n",
      "Name: retweeted, dtype: int64\n",
      "\n",
      "Re-Tweet Statistics for raw JSON file data chunk 5:\n",
      "False    100000\n",
      "Name: retweeted, dtype: int64\n",
      "\n",
      "Re-Tweet Statistics for raw JSON file data chunk 6:\n",
      "False    100000\n",
      "Name: retweeted, dtype: int64\n",
      "\n"
     ]
    },
    {
     "name": "stderr",
     "output_type": "stream",
     "text": [
      "INFO:root:The time taken to read in the JSON file by Chunks is: 5.230357364813487 minutes\n",
      "INFO:root:The number of chunks is: 0 based on chunk size of 10000: \n",
      "INFO:root:\n",
      "\n"
     ]
    },
    {
     "name": "stdout",
     "output_type": "stream",
     "text": [
      "Re-Tweet Statistics for raw JSON file data chunk 7:\n",
      "False    70423\n",
      "Name: retweeted, dtype: int64\n",
      "\n"
     ]
    }
   ],
   "source": [
    "# Specify and call data analysis functions on chunked raw JSON Tweet file.\n",
    "call_data_analysis_function_on_json_file_chunks(json_retweeted)"
   ]
  },
  {
   "cell_type": "markdown",
   "metadata": {},
   "source": [
    "<span style=\"font-family:Papyrus; font-size:1.25em;\">\n",
    "\n",
    "The output displays the re-Tweet statistics for each individual chunk sequentially.<br>\n",
    "\n",
    "</span>"
   ]
  },
  {
   "cell_type": "markdown",
   "metadata": {},
   "source": [
    "### Re-Tweet Statistics for CSV dataset:"
   ]
  },
  {
   "cell_type": "code",
   "execution_count": 29,
   "metadata": {
    "scrolled": false
   },
   "outputs": [],
   "source": [
    "def csv_retweeted():\n",
    "    \"\"\"\n",
    "    Re-tweet statistics and visualizations for the CSV Twitter preprocessed dataset.\n",
    "\n",
    "    Note: The raw JSON file does not have associated \"company\" information.\n",
    "\n",
    "    :return: None.\n",
    "    \"\"\"\n",
    "\n",
    "    print(\"Re-Tweet Statistics for CSV dataset:\")\n",
    "    print(csv_dataframe['retweeted'].value_counts())\n",
    "    print()\n",
    "\n",
    "    print(\"Re-Tweet Statistics for CSV dataset by Company:\")\n",
    "    print(\"Number of Tweets that are or aren't re-tweets by associated company: \")\n",
    "    print(csv_dataframe.groupby(['company', 'retweeted']).size())\n",
    "    print()\n",
    "\n",
    "    # Graph the Re-Tweet Statistics.\n",
    "    print(\"Proportion of Re-Tweets versus non Re-Tweets by associated company: \")\n",
    "    plt.figure()\n",
    "    grid = sns.FacetGrid(csv_dataframe[['retweeted', 'company']], col='company', col_wrap=6,\n",
    "                         ylim=(0, 1))\n",
    "    grid.map_dataframe(bar_plot, 'retweeted').set_titles('{col_name}')\n",
    "    plt.show()"
   ]
  },
  {
   "cell_type": "markdown",
   "metadata": {},
   "source": [
    "<span style=\"font-family:Papyrus; font-size:1.25em;\">\n",
    "\n",
    "This function analyzes the number of re-Tweets associated with each of the companies in the dataset.<br>\n",
    "\n",
    "</span>"
   ]
  },
  {
   "cell_type": "code",
   "execution_count": 30,
   "metadata": {},
   "outputs": [
    {
     "name": "stdout",
     "output_type": "stream",
     "text": [
      "Re-Tweet Statistics for CSV dataset:\n",
      "True     441619\n",
      "False    217363\n",
      "Name: retweeted, dtype: int64\n",
      "\n",
      "Re-Tweet Statistics for CSV dataset by Company:\n",
      "Number of Tweets that are or aren't re-tweets by associated company: \n",
      "company     retweeted\n",
      "adani       False        106946\n",
      "            True         321505\n",
      "bhp         False         40287\n",
      "            True          29164\n",
      "cuesta      False            63\n",
      "            True             27\n",
      "fortescue   False          7588\n",
      "            True           4304\n",
      "iluka       False          2598\n",
      "            True            517\n",
      "newmont     False           716\n",
      "            True            178\n",
      "oilsearch   False          1547\n",
      "            True            656\n",
      "riotinto    False         15680\n",
      "            True           9898\n",
      "santos      False         25497\n",
      "            True          61604\n",
      "whitehaven  False          6504\n",
      "            True           8206\n",
      "woodside    False          9937\n",
      "            True           5560\n",
      "dtype: int64\n",
      "\n",
      "Proportion of Re-Tweets versus non Re-Tweets by associated company: \n"
     ]
    },
    {
     "data": {
      "text/plain": [
       "<Figure size 432x288 with 0 Axes>"
      ]
     },
     "metadata": {},
     "output_type": "display_data"
    },
    {
     "data": {
      "image/png": "[encoded data removed]",
      "text/plain": [
       "<Figure size 1296x432 with 11 Axes>"
      ]
     },
     "metadata": {
      "needs_background": "light"
     },
     "output_type": "display_data"
    }
   ],
   "source": [
    "# Call the function.\n",
    "csv_retweeted()"
   ]
  },
  {
   "cell_type": "markdown",
   "metadata": {},
   "source": [
    "<span style=\"font-family:Papyrus; font-size:1.25em;\">\n",
    "\n",
    "The graphs show the proportion of Tweets that are or are not re-tweets by the company the Tweets are associated with.<br>\n",
    "\n",
    "0.0 = NOT a re-tweet.<br>\n",
    "1.0 = IS a re-tweet.<br>\n",
    "\n",
    "</span>"
   ]
  },
  {
   "cell_type": "markdown",
   "metadata": {},
   "source": [
    "### User Statistics:"
   ]
  },
  {
   "cell_type": "code",
   "execution_count": 31,
   "metadata": {
    "scrolled": false
   },
   "outputs": [],
   "source": [
    "def most_tweets_by_users():\n",
    "    \"\"\"\n",
    "    User related statistics and visualizations.\n",
    "\n",
    "    Note: The raw JSON file does not have associated \"company\" information.\n",
    "\n",
    "    :return: None.\n",
    "    \"\"\"\n",
    "\n",
    "    # Graph the User Statistics.\n",
    "    print(\"Proportion of most Tweets for unique users by associated company: \")\n",
    "    plt.figure()\n",
    "    grid = sns.FacetGrid(csv_dataframe[['user_screen_name', 'company']], col='company', col_wrap=6,\n",
    "                         ylim=(0, 1),\n",
    "                         xlim=(0, 10))\n",
    "    grid.map_dataframe(bar_plot_zipf, 'user_screen_name').set_titles('{col_name}').set_xlabels('appearance count')\n",
    "    plt.show()\n",
    "\n",
    "    # Adjusted parameters to allow statistics for all companies to show in output.\n",
    "    pd.set_option(\"display.precision\", 12)\n",
    "    pd.options.display.max_rows = 100\n",
    "\n",
    "    print(\"User Statistics for CSV dataset by Company: \")\n",
    "    print(\"Top Tweet counts for unique user by associated company.\")\n",
    "    print(\n",
    "        csv_dataframe[['company', 'user_screen_name']].groupby('company')\n",
    "            .apply(lambda x: x['user_screen_name'].value_counts(normalize=True).head())\n",
    "        # .value_counts(normalize=True)\\\n",
    "        # .sort_index(ascending=False).head())\n",
    "    )\n",
    "    print()"
   ]
  },
  {
   "cell_type": "markdown",
   "metadata": {},
   "source": [
    "<span style=\"font-family:Papyrus; font-size:1.25em;\">\n",
    "\n",
    "This function provides text-based statistics on the users that account for the most Tweets about a given company.  It also constructs graphs that displays how much of all Tweets for a given company do those users account for.<br>\n",
    "\n",
    "</span>"
   ]
  },
  {
   "cell_type": "code",
   "execution_count": 32,
   "metadata": {},
   "outputs": [
    {
     "name": "stdout",
     "output_type": "stream",
     "text": [
      "Proportion of most Tweets for unique users by associated company: \n"
     ]
    },
    {
     "data": {
      "text/plain": [
       "<Figure size 432x288 with 0 Axes>"
      ]
     },
     "metadata": {},
     "output_type": "display_data"
    },
    {
     "data": {
      "image/png": "[encoded data removed]",
      "text/plain": [
       "<Figure size 1296x432 with 11 Axes>"
      ]
     },
     "metadata": {
      "needs_background": "light"
     },
     "output_type": "display_data"
    },
    {
     "name": "stdout",
     "output_type": "stream",
     "text": [
      "User Statistics for CSV dataset by Company: \n",
      "Top Tweet counts for unique user by associated company.\n",
      "company                    \n",
      "adani       WgarNews           0.015194269590\n",
      "            GalileeBlockade    0.008992860327\n",
      "            MarkPlackett1      0.007520113152\n",
      "            SeanBradbery       0.007069653239\n",
      "            garland_paige      0.006686879013\n",
      "bhp         CommSec            0.026205526198\n",
      "            aus_business       0.014744208147\n",
      "            FinancialReview    0.013750701934\n",
      "            icharttop          0.011720493585\n",
      "            3novicesSydney     0.009186332810\n",
      "cuesta      ABN_Newswire       0.144444444444\n",
      "            proactive_au       0.133333333333\n",
      "            MktTrader          0.055555555556\n",
      "            ShareScene         0.055555555556\n",
      "            sharecafetweets    0.055555555556\n",
      "fortescue   FortescueNews      0.049781365624\n",
      "            aus_business       0.016986209216\n",
      "            FinancialReview    0.014547595022\n",
      "            TweetingRoo        0.012361251261\n",
      "            CommSec            0.012277161117\n",
      "iluka       funksoulmamma      0.062279293740\n",
      "            shireendupreez     0.028571428571\n",
      "            BayplayTours       0.017656500803\n",
      "            wabusinessnews     0.017014446228\n",
      "            CommSec            0.016693418941\n",
      "newmont     Mining_Work        0.070469798658\n",
      "            miningmentor       0.055928411633\n",
      "            RallyWA            0.048098434004\n",
      "            Safety_Dance_      0.040268456376\n",
      "            ausgoldindustry    0.029082774049\n",
      "oilsearch   FinancialReview    0.039945528824\n",
      "            aus_business       0.037675896505\n",
      "            CommSec            0.037221970041\n",
      "            angelamacd         0.026781661371\n",
      "            TweetingRoo        0.025873808443\n",
      "riotinto    FinancialReview    0.016850418328\n",
      "            TyroneArgyle       0.015833919775\n",
      "            aus_business       0.015560247087\n",
      "            ozmining           0.010712330909\n",
      "            MiningJobsAU       0.010164985534\n",
      "santos      CRAG_Coona         0.051354175038\n",
      "            coonavass          0.019127220124\n",
      "            nocsg              0.013616376391\n",
      "            1EarthMedia        0.011377596124\n",
      "            JHH__              0.009747304853\n",
      "whitehaven  kateausburn        0.014411964650\n",
      "            peterjameswills    0.013120326309\n",
      "            co2ppm             0.011624745071\n",
      "            Queensland         0.009925220938\n",
      "            nocsg              0.009313392250\n",
      "woodside    Woodside_Park      0.026908433890\n",
      "            CFSAlerts          0.023811060205\n",
      "            WoodsideEnergy     0.019487642770\n",
      "            IncidentAlertS1    0.013744595728\n",
      "            aus_business       0.010647222043\n",
      "Name: user_screen_name, dtype: float64\n",
      "\n"
     ]
    }
   ],
   "source": [
    "# Call the function.\n",
    "most_tweets_by_users()"
   ]
  },
  {
   "cell_type": "markdown",
   "metadata": {},
   "source": [
    "<span style=\"font-family:Papyrus; font-size:1.25em;\">\n",
    "\n",
    "The text output displays the top 5 unique users that account for the largest proportion of Tweets that are associated with a given company.<br>\n",
    "\n",
    "The graph output shows that there are a few users that account for the majority of Tweets about a given company.  The graphs show proportions of Tweets for each user in terms of percentages of all Tweets associated with that company.<br>\n",
    "\n",
    "</span>"
   ]
  },
  {
   "cell_type": "markdown",
   "metadata": {},
   "source": [
    "### Character Count Statistics:"
   ]
  },
  {
   "cell_type": "code",
   "execution_count": 33,
   "metadata": {},
   "outputs": [],
   "source": [
    "def character_counts():\n",
    "    \"\"\"\n",
    "    Character related statistics and visualizations.\n",
    "\n",
    "    Note: The raw JSON file does not have associated \"company\" information.\n",
    "\n",
    "    :return: None.\n",
    "    \"\"\"\n",
    "\n",
    "    def relhist_proc(col, **kwargs):\n",
    "        \"\"\"\n",
    "        Helper function to visualize the data.\n",
    "\n",
    "        :param col: the columns of the graph.\n",
    "        :param kwargs: variable number of arguments.\n",
    "        :return: None.\n",
    "        \"\"\"\n",
    "        ax = plt.gca()\n",
    "        data = kwargs.pop('data')\n",
    "        proc = kwargs.pop('proc')\n",
    "        processed = proc(data[col])\n",
    "        # relative frequency histgram\n",
    "        # https://stackoverflow.com/questions/9767241/setting-a-relative-frequency-in-a-matplotlib-histogram\n",
    "        ax.hist(processed, weights=np.ones_like(processed) / processed.size, **kwargs)\n",
    "\n",
    "    def char_len(tweets):\n",
    "        \"\"\"\n",
    "        Determine the length of the Tweet text.\n",
    "\n",
    "        :param tweets: the Tweet text.\n",
    "        :return: the length of the Tweet.\n",
    "        \"\"\"\n",
    "        return tweets.str.len()\n",
    "\n",
    "    print(\"Character Statistics for CSV dataset by Company: \")\n",
    "    print(\"Character count relative frequency histogram: \")\n",
    "    plt.figure()\n",
    "    grid = sns.FacetGrid(csv_dataframe[['text', 'company']], col='company', col_wrap=6, ylim=(0, 1))\n",
    "    grid.map_dataframe(relhist_proc, 'text', bins=10, proc=char_len).set_titles('{col_name}')\n",
    "    plt.show()"
   ]
  },
  {
   "cell_type": "markdown",
   "metadata": {},
   "source": [
    "<span style=\"font-family:Papyrus; font-size:1.25em;\">\n",
    "\n",
    "This function provides character counts for all the Tweets associated with a given company.<br>\n",
    "\n",
    "</span>"
   ]
  },
  {
   "cell_type": "code",
   "execution_count": 34,
   "metadata": {},
   "outputs": [
    {
     "name": "stdout",
     "output_type": "stream",
     "text": [
      "Character Statistics for CSV dataset by Company: \n",
      "Character count relative frequency histogram: \n"
     ]
    },
    {
     "data": {
      "text/plain": [
       "<Figure size 432x288 with 0 Axes>"
      ]
     },
     "metadata": {},
     "output_type": "display_data"
    },
    {
     "data": {
      "image/png": "[encoded data removed]",
      "text/plain": [
       "<Figure size 1296x432 with 11 Axes>"
      ]
     },
     "metadata": {
      "needs_background": "light"
     },
     "output_type": "display_data"
    }
   ],
   "source": [
    "# Call the function.\n",
    "character_counts()"
   ]
  },
  {
   "cell_type": "markdown",
   "metadata": {},
   "source": [
    "<span style=\"font-family:Papyrus; font-size:1.25em;\">\n",
    "\n",
    "The graph outputs appear to show that most Tweets for any given company are relatively long in length.<br>\n",
    "\n",
    "**FIXME - is this the correct interpretation?**<br>\n",
    "\n",
    "</span>"
   ]
  },
  {
   "cell_type": "markdown",
   "metadata": {},
   "source": [
    "## Resources Used:"
   ]
  },
  {
   "cell_type": "markdown",
   "metadata": {},
   "source": [
    "<span style=\"font-family:Papyrus; font-size:1.25em;\">\n",
    "\n",
    "**TODO: convert to annotated bibliography**\n",
    "\n",
    "Dataset Files (obtained from Borg supercomputer):<br>\n",
    "\n",
    "dataset_slo_20100101-20180510.json<br>\n",
    "dataset_20100101-20180510.csv<br>\n",
    "\n",
    "Note: These are large fiels not included in the project GitHub Repository.<br>\n",
    "\n",
    "\n",
    "- [SLO-analysis.ipynb](SLO-analysis.ipynb)<br>\n",
    "    -original SLO Twitter data analysis file from Shuntaro Yada.<br>\n",
    "\n",
    "\n",
    "- https://developer.twitter.com/en/docs/tweets/data-dictionary/overview/intro-to-tweet-json<br>\n",
    "    -explanation of all data fields in JSON file format for Tweets.<br>\n",
    "\n",
    "\n",
    "- https://datatofish.com/export-dataframe-to-csv/<br>\n",
    "- https://datatofish.com/export-pandas-dataframe-json/<br>\n",
    "    -saving Pandas dataframe to CSV/JSON<br>\n",
    "    \n",
    "\n",
    "- https://pandas.pydata.org/pandas-docs/stable/reference/api/pandas.to_datetime.html<br>\n",
    "    -Pandas to_datetime() function call.<br>\n",
    "    \n",
    "\n",
    "- https://www.machinelearningplus.com/plots/matplotlib-tutorial-complete-guide-python-plot-examples/\n",
    "    -plotting with matplotlib.<br>\n",
    "\n",
    "\n",
    "</span>"
   ]
  },
  {
   "cell_type": "markdown",
   "metadata": {},
   "source": [
    "## TODO's:"
   ]
  },
  {
   "cell_type": "markdown",
   "metadata": {},
   "source": [
    "<span style=\"font-family:Papyrus; font-size:1.25em;\">\n",
    "\n",
    "Implement further elements from Shuntaro Yada's SLO Twitter Dataset Analysis.<br>\n",
    "\n",
    "</span>"
   ]
  },
  {
   "cell_type": "code",
   "execution_count": null,
   "metadata": {},
   "outputs": [],
   "source": []
  }
 ],
 "metadata": {
  "kernelspec": {
   "display_name": "Python 3",
   "language": "python",
   "name": "python3"
  },
  "language_info": {
   "codemirror_mode": {
    "name": "ipython",
    "version": 3
   },
   "file_extension": ".py",
   "mimetype": "text/x-python",
   "name": "python",
   "nbconvert_exporter": "python",
   "pygments_lexer": "ipython3",
   "version": "3.6.8"
  }
 },
 "nbformat": 4,
 "nbformat_minor": 1
}
