{
 "cells": [
  {
   "cell_type": "code",
   "execution_count": 0,
   "metadata": {
    "pycharm": {
     "is_executing": false,
     "name": "#%%\n"
    }
   },
   "outputs": [],
   "source": []
  },
  {
   "cell_type": "markdown",
   "metadata": {},
   "source": [
    "# SLO Twitter Data Analysis  - Codebase Introduction"
   ]
  },
  {
   "cell_type": "markdown",
   "metadata": {},
   "source": [
    "<span style=\"font-family:Papyrus; font-size:1.25em;\">\n",
    "    \n",
    "The following sections present our current codebase that analyzes various combinations of attributes present in the raw JSON Twitter data file and CSV Twitter data file.<br>\n",
    "\n",
    "</span>"
   ]
  },
  {
   "cell_type": "markdown",
   "metadata": {},
   "source": [
    "## Dataset Creation:"
   ]
  },
  {
   "cell_type": "markdown",
   "metadata": {},
   "source": [
    "<span style=\"font-family:Papyrus; font-size:1.25em;\">\n",
    "\n",
    "We create out dataset using the function call below and \"dataset_processor_adapted.py\".\n",
    "\n",
    "</span>"
   ]
  },
  {
   "cell_type": "code",
   "execution_count": null,
   "metadata": {
    "pycharm": {
     "name": "#%%\n"
    }
   },
   "outputs": [],
   "source": [
    "    # Absolute file path.\n",
    "    create_dataset(\"D:/Dropbox/summer-research-2019/json/dataset_slo_20100101-20180510.json\",\n",
    "                   \"D:/Dropbox/summer-research-2019/jupyter-notebooks/attribute-datasets/twitter-dataset-6-22-19.csv\",\n",
    "                   False)"
   ]
  },
  {
   "cell_type": "markdown",
   "metadata": {},
   "source": [
    "## Data Analysis Utility Functions:"
   ]
  },
  {
   "cell_type": "markdown",
   "metadata": {},
   "source": [
    "<span style=\"font-family:Papyrus; font-size:1.25em;\">\n",
    "\n",
    "The following sample function calls illustrate how we use the utility functions in \"slo_twitter_data_analysis_utility_functions_v2.py\" to perform individual attribute extraction/export and data chuncking extraction/export.<br>\n",
    "\n",
    "</span>"
   ]
  },
  {
   "cell_type": "code",
   "execution_count": null,
   "metadata": {
    "pycharm": {
     "name": "#%%\n"
    }
   },
   "outputs": [],
   "source": [
    "    # Extract multiple fields from raw JSON file and export to CSV file.\n",
    "    tweet_util.generalized_multi_field_extraction_function(\n",
    "        \"D:/Dropbox/summer-research-2019/json/dataset_slo_20100101-20180510.json\",\n",
    "        \"D:/Dropbox/summer-research-2019/jupyter-notebooks/attribute-datasets/\",\n",
    "        [\"retweet_count\", \"retweeted\", \"favorite_count\", \"favorited\"], \"csv\")"
   ]
  },
  {
   "cell_type": "code",
   "execution_count": null,
   "metadata": {
    "pycharm": {
     "name": "#%%\n"
    }
   },
   "outputs": [],
   "source": [
    "    # Extract various individual fields from raw JSON file and export to CSV/JSON file.\n",
    "    tweet_util.generalized_field_extraction_function(\n",
    "        \"D:/Dropbox/summer-research-2019/json/dataset_slo_20100101-20180510.json\",\n",
    "        \"D:/Dropbox/summer-research-2019/jupyter-notebooks/attribute-datasets/\",\n",
    "        \"id\", \"csv\")"
   ]
  },
  {
   "cell_type": "code",
   "execution_count": null,
   "metadata": {
    "pycharm": {
     "name": "#%%\n"
    }
   },
   "outputs": [],
   "source": [
    "    # Read in JSON/CSV data as chunks and export to CSV/JSON files.\n",
    "    tweet_util.generalized_data_chunking_file_export_function(\n",
    "        \"D:/Dropbox/summer-research-2019/json/dataset_slo_20100101-20180510.json\",\n",
    "        \"D:/Dropbox/summer-research-2019/jupyter-notebooks/dataset-chunks/\", \"csv\")"
   ]
  },
  {
   "cell_type": "markdown",
   "metadata": {},
   "source": [
    "<span style=\"font-family:Papyrus; font-size:1.25em;\">\n",
    "\n",
    "Refer to the Python file itself if interested in that codebase.  Several graphing helper functions are also included.<br>\n",
    "\n",
    "</span>"
   ]
  },
  {
   "cell_type": "markdown",
   "metadata": {},
   "source": [
    "## Import libraries and set parameters:"
   ]
  },
  {
   "cell_type": "markdown",
   "metadata": {},
   "source": [
    "<span style=\"font-family:Papyrus; font-size:1.25em;\">\n",
    "\n",
    "We import the required libraries as well as our custom utility functions for data anlysis.\n",
    "\n",
    "</span>"
   ]
  },
  {
   "cell_type": "code",
   "execution_count": 2,
   "metadata": {
    "pycharm": {
     "name": "#%%\n"
    }
   },
   "outputs": [],
   "source": [
    "import logging as log\n",
    "import warnings\n",
    "import time\n",
    "from matplotlib import pyplot as plt\n",
    "import pandas as pd\n",
    "import seaborn as sns\n",
    "\n",
    "# Import custom utility functions.\n",
    "import slo_twitter_data_analysis_utility_functions_v2 as tweet_util_v2"
   ]
  },
  {
   "cell_type": "markdown",
   "metadata": {},
   "source": [
    "<span style=\"font-family:Papyrus; font-size:1.25em;\">\n",
    "\n",
    "Pandas settings alters the maximum number of rows to be displayed and the number of decimal places to display for floating point values.  We also filter out several warning types to reduce potential output clutter.<br>\n",
    "\n",
    "</span>"
   ]
  },
  {
   "cell_type": "code",
   "execution_count": 3,
   "metadata": {
    "pycharm": {
     "name": "#%%\n"
    }
   },
   "outputs": [],
   "source": [
    "# Adjust parameters to display all contents.\n",
    "pd.options.display.max_rows = None\n",
    "pd.options.display.max_columns = None\n",
    "pd.options.display.width = None\n",
    "pd.options.display.max_colwidth = 1000\n",
    "# Seaborn setting.\n",
    "sns.set()\n",
    "# Set level of precision for float value output.\n",
    "pd.set_option('precision', 12)\n",
    "# Ignore these types of warnings - don't output to console.\n",
    "warnings.simplefilter(action='ignore', category=FutureWarning)\n",
    "warnings.simplefilter(action='ignore', category=DeprecationWarning)\n",
    "warnings.simplefilter(action='ignore', category=UserWarning)"
   ]
  },
  {
   "cell_type": "markdown",
   "metadata": {},
   "source": [
    "<span style=\"font-family:Papyrus; font-size:1.25em;\">\n",
    "\n",
    "Change log levels between \"INFO\" and \"DEBUG\" depending on whether you wish to see log output or not.<br>\n",
    "\n",
    "</span>"
   ]
  },
  {
   "cell_type": "code",
   "execution_count": 4,
   "metadata": {
    "pycharm": {
     "name": "#%%\n"
    }
   },
   "outputs": [],
   "source": [
    "\"\"\"\n",
    "Turn debug log statements for various sections of code on/off.\n",
    "(adjust log level as necessary)\n",
    "\"\"\"\n",
    "log.basicConfig(level=log.INFO)"
   ]
  },
  {
   "cell_type": "markdown",
   "metadata": {},
   "source": [
    "## Display raw JSON file data chunk dataframe information:"
   ]
  },
  {
   "cell_type": "markdown",
   "metadata": {},
   "source": [
    "<span style=\"font-family:Papyrus; font-size:1.25em;\">\n",
    "\n",
    "By specifying \"none\" as the function name, we simply print out logger INFO on the shape, columns, and a single sample of the dataframe on the first chunk of data.<br>\n",
    "\n",
    "Note: We use this function instead of the one in the previous code cell as the raw JSON file is too large to fit into system RAM.<br>\n",
    "\n",
    "</span>"
   ]
  },
  {
   "cell_type": "code",
   "execution_count": 8,
   "metadata": {
    "pycharm": {
     "name": "#%%\n"
    }
   },
   "outputs": [
    {
     "name": "stderr",
     "output_type": "stream",
     "text": [
      "INFO:root:\n",
      "The shape of the dataframe storing the contents of the raw JSON Tweet file chunk 1 is:\n",
      "\n",
      "INFO:root:(100000, 30)\n",
      "INFO:root:\n",
      "The columns of the dataframe storing the contents of the raw JSON Tweet file chunk 1 is:\n",
      "\n",
      "INFO:root:Index(['contributors', 'coordinates', 'created_at', 'display_text_range',\n",
      "       'entities', 'extended_entities', 'favorite_count', 'favorited',\n",
      "       'full_text', 'geo', 'id', 'id_str', 'in_reply_to_screen_name',\n",
      "       'in_reply_to_status_id', 'in_reply_to_status_id_str',\n",
      "       'in_reply_to_user_id', 'in_reply_to_user_id_str', 'is_quote_status',\n",
      "       'lang', 'place', 'possibly_sensitive', 'quoted_status',\n",
      "       'quoted_status_id', 'quoted_status_id_str', 'retweet_count',\n",
      "       'retweeted', 'retweeted_status', 'source', 'truncated', 'user'],\n",
      "      dtype='object')\n",
      "INFO:root:\n",
      "The first row from the dataframe storing the contents of the raw JSON Tweet file chunk 1 is:\n",
      "\n",
      "INFO:root:\n",
      "contributors                                                                                                                                                                                                                                                                                                                                                                                                                                                                                                                                                                                                                                                                                                                                                                                                                                                                                                                                                                                                                                                     NaN\n",
      "coordinates                                                                                                                                                                                                                                                                                                                                                                                                                                                                                                                                                                                                                                                                                                                                                                                                                                                                                                                                                                                                                                                     None\n",
      "created_at                                                                                                                                                                                                                                                                                                                                                                                                                                                                                                                                                                                                                                                                                                                                                                                                                                                                                                                                                                                                                                       2013-02-23 03:40:21\n",
      "display_text_range                                                                                                                                                                                                                                                                                                                                                                                                                                                                                                                                                                                                                                                                                                                                                                                                                                                                                                                                                                                                                                           [0, 91]\n",
      "entities                                                                                                                                                                                                                                                                                                                                                                                                                                                                                                                                                                                                                                                                                                                                                                                                                                                                                       {'urls': [], 'hashtags': [], 'user_mentions': [{'indices': [0, 8], 'screen_name': 'abcnews', 'id_str': '2768501', 'name': 'ABC News', 'id': 2768501}], 'symbols': []}\n",
      "extended_entities                                                                                                                                                                                                                                                                                                                                                                                                                                                                                                                                                                                                                                                                                                                                                                                                                                                                                                                                                                                                                                                NaN\n",
      "favorite_count                                                                                                                                                                                                                                                                                                                                                                                                                                                                                                                                                                                                                                                                                                                                                                                                                                                                                                                                                                                                                                                     0\n",
      "favorited                                                                                                                                                                                                                                                                                                                                                                                                                                                                                                                                                                                                                                                                                                                                                                                                                                                                                                                                                                                                                                                      False\n",
      "full_text                                                                                                                                                                                                                                                                                                                                                                                                                                                                                                                                                                                                                                                                                                                                                                                                                                                                                                                                                                @abcnews About bloody time. Adani only wants FIFO Indian workers for his Bowen basin mines.\n",
      "geo                                                                                                                                                                                                                                                                                                                                                                                                                                                                                                                                                                                                                                                                                                                                                                                                                                                                                                                                                                                                                                                             None\n",
      "id                                                                                                                                                                                                                                                                                                                                                                                                                                                                                                                                                                                                                                                                                                                                                                                                                                                                                                                                                                                                                                                305160140833816576\n",
      "id_str                                                                                                                                                                                                                                                                                                                                                                                                                                                                                                                                                                                                                                                                                                                                                                                                                                                                                                                                                                                                                                            305160140833816576\n",
      "in_reply_to_screen_name                                                                                                                                                                                                                                                                                                                                                                                                                                                                                                                                                                                                                                                                                                                                                                                                                                                                                                                                                                                                                                      abcnews\n",
      "in_reply_to_status_id                                                                                                                                                                                                                                                                                                                                                                                                                                                                                                                                                                                                                                                                                                                                                                                                                                                                                                                                                                                                                              3.05159434463e+17\n",
      "in_reply_to_status_id_str                                                                                                                                                                                                                                                                                                                                                                                                                                                                                                                                                                                                                                                                                                                                                                                                                                                                                                                                                                                                                          3.05159434463e+17\n",
      "in_reply_to_user_id                                                                                                                                                                                                                                                                                                                                                                                                                                                                                                                                                                                                                                                                                                                                                                                                                                                                                                                                                                                                                                          2768501\n",
      "in_reply_to_user_id_str                                                                                                                                                                                                                                                                                                                                                                                                                                                                                                                                                                                                                                                                                                                                                                                                                                                                                                                                                                                                                                      2768501\n",
      "is_quote_status                                                                                                                                                                                                                                                                                                                                                                                                                                                                                                                                                                                                                                                                                                                                                                                                                                                                                                                                                                                                                                                False\n",
      "lang                                                                                                                                                                                                                                                                                                                                                                                                                                                                                                                                                                                                                                                                                                                                                                                                                                                                                                                                                                                                                                                              en\n",
      "place                                                                                                                                                                                                                                                                                                                                                                                                                                                                                                                                                                                                                                                                                                                                                                                                                                                                                                                                                                                                                                                           None\n",
      "possibly_sensitive                                                                                                                                                                                                                                                                                                                                                                                                                                                                                                                                                                                                                                                                                                                                                                                                                                                                                                                                                                                                                                               NaN\n",
      "quoted_status                                                                                                                                                                                                                                                                                                                                                                                                                                                                                                                                                                                                                                                                                                                                                                                                                                                                                                                                                                                                                                                    NaN\n",
      "quoted_status_id                                                                                                                                                                                                                                                                                                                                                                                                                                                                                                                                                                                                                                                                                                                                                                                                                                                                                                                                                                                                                                                 NaN\n",
      "quoted_status_id_str                                                                                                                                                                                                                                                                                                                                                                                                                                                                                                                                                                                                                                                                                                                                                                                                                                                                                                                                                                                                                                             NaN\n",
      "retweet_count                                                                                                                                                                                                                                                                                                                                                                                                                                                                                                                                                                                                                                                                                                                                                                                                                                                                                                                                                                                                                                                      0\n",
      "retweeted                                                                                                                                                                                                                                                                                                                                                                                                                                                                                                                                                                                                                                                                                                                                                                                                                                                                                                                                                                                                                                                      False\n",
      "retweeted_status                                                                                                                                                                                                                                                                                                                                                                                                                                                                                                                                                                                                                                                                                                                                                                                                                                                                                                                                                                                                                                                 NaN\n",
      "source                                                                                                                                                                                                                                                                                                                                                                                                                                                                                                                                                                                                                                                                                                                                                                                                                                                                                                                                                                            <a href=\"http://twitter.com/download/iphone\" rel=\"nofollow\">Twitter for iPhone</a>\n",
      "truncated                                                                                                                                                                                                                                                                                                                                                                                                                                                                                                                                                                                                                                                                                                                                                                                                                                                                                                                                                                                                                                                      False\n",
      "user                         {'utc_offset': 36000, 'friends_count': 1385, 'profile_image_url_https': 'https://pbs.twimg.com/profile_images/698290934618787840/SIpBKnWE_normal.jpg', 'listed_count': 3, 'profile_background_image_url': 'http://abs.twimg.com/images/themes/theme1/bg.png', 'default_profile_image': False, 'favourites_count': 533, 'description': 'Train Driver extraordinaire, proud Union Leftie and Labor supporter. Cant stand the LNP and their regressive ideas. Mainly political but I do enjoy a laugh.', 'created_at': 'Tue Aug 21 23:23:52 +0000 2012', 'is_translator': False, 'profile_background_image_url_https': 'https://abs.twimg.com/images/themes/theme1/bg.png', 'protected': False, 'screen_name': 'DazzDicko', 'id_str': '772466924', 'profile_link_color': '1DA1F2', 'is_translation_enabled': False, 'translator_type': 'none', 'id': 772466924, 'geo_enabled': True, 'profile_background_color': 'C0DEED', 'lang': 'en', 'has_extended_profile': False, 'profile_sidebar_border_color': 'C0DEED', 'profile_text_color':...\n",
      "Name: 0, dtype: object\n"
     ]
    }
   ],
   "source": [
    "    # Specify and call data analysis functions on chunked raw JSON Tweet file.\n",
    "    tweet_util_v2.call_data_analysis_function_on_json_file_chunks(\n",
    "        \"D:/Dropbox/summer-research-2019/json/dataset_slo_20100101-20180510.json\", \"none\")"
   ]
  },
  {
   "cell_type": "markdown",
   "metadata": {},
   "source": [
    "<span style=\"font-family:Papyrus; font-size:1.25em;\">\n",
    "\n",
    "As can be seen, each Tweet object in its raw JSON form contains many different attributes.  The \"user\" attribute is a Object itself that especially contains many other attributes and Objects.<br>\n",
    "\n",
    "</span>"
   ]
  },
  {
   "cell_type": "markdown",
   "metadata": {},
   "source": [
    "## Import raw JSON converted to CSV  Twitter dataset file:"
   ]
  },
  {
   "cell_type": "markdown",
   "metadata": {},
   "source": [
    "<span style=\"font-family:Papyrus; font-size:1.25em;\">\n",
    "\n",
    "We read in the untokenized Twitter dataset as a CSV file and generate a Pandas dataframe from the dataset.<br>\n",
    "\n",
    "Note: Does not contain all fields from the raw JSON file; only the ones we are currently interested in analyzing.  We will append columns to the CSV file as necessary if additional attributes become relevant for analysis.  Anything with \"custom\" is a derived column created via .apply(function) to the native attributes.<br>\n",
    "\n",
    "Note: flattened, so no nested structures.\n",
    "\n",
    "Note 2: re-create a fresh dataset without shuffling data to preserve same order in JSON file.\n",
    "\n",
    "</span>"
   ]
  },
  {
   "cell_type": "code",
   "execution_count": 5,
   "metadata": {
    "pycharm": {
     "name": "#%%\n"
    },
    "scrolled": false
   },
   "outputs": [
    {
     "name": "stderr",
     "output_type": "stream",
     "text": [
      "d:\\dropbox\\cs344-ai\\venv3.6-64bit\\lib\\site-packages\\IPython\\core\\interactiveshell.py:3209: DtypeWarning: Columns (0,4,6,8,10,12,13,15,16,18,23,24,25,26,27,36,38,40,41,43,44,48) have mixed types. Specify dtype option on import or set low_memory=False.\n",
      "  if (yield from self.run_code(code, result)):\n",
      "INFO:root:\n",
      "The shape of our dataframe storing the contents of the csv Tweet data is:\n",
      "\n",
      "INFO:root:(670427, 50)\n",
      "INFO:root:\n",
      "The columns of our dataframe storing the contents of the csv Tweet data is:\n",
      "\n",
      "INFO:root:Index(['retweeted_derived', 'company_derived', 'text_derived',\n",
      "       'tweet_url_link_derived', 'multiple_companies_derived_count',\n",
      "       'company_derived_designation', 'tweet_text_length_derived',\n",
      "       'spaCy_language_detect', 'user_description_text_length',\n",
      "       'tweet_created_at', 'tweet_id', 'tweet_full_text',\n",
      "       'tweet_in_reply_to_status_id', 'tweet_in_reply_to_user_id',\n",
      "       'tweet_in_reply_to_screen_name', 'tweet_retweet_count',\n",
      "       'tweet_favorite_count', 'tweet_lang', 'user_id', 'user_name',\n",
      "       'user_screen_name', 'user_location', 'user_description',\n",
      "       'user_followers_count', 'user_friends_count', 'user_listed_count',\n",
      "       'user_favourites_count', 'user_statuses_count', 'user_created_at',\n",
      "       'user_time_zone', 'user_lang', 'tweet_entities_expanded_urls',\n",
      "       'tweet_entities_hashtags', 'tweet_entities_user_mentions_id',\n",
      "       'tweet_entities_user_mentions_name',\n",
      "       'tweet_entities_user_mentions_screen_name', 'tweet_entities_symbols',\n",
      "       'retweeted_status_created_at', 'retweeted_status_id',\n",
      "       'retweeted_status_full_text', 'retweeted_status_in_reply_to_status_id',\n",
      "       'retweeted_status_in_reply_to_user_id',\n",
      "       'retweeted_status_in_reply_to_screen_name',\n",
      "       'retweeted_status_retweet_count', 'retweeted_status_favorite_count',\n",
      "       'retweeted_status_lang', 'retweeted_status_entities',\n",
      "       'retweeted_status_user', 'retweeted_status_coordinates',\n",
      "       'retweeted_status_place'],\n",
      "      dtype='object')\n",
      "INFO:root:\n",
      "The first row from the dataframe storing the contents of the csv Tweet data is:\n",
      "\n",
      "INFO:root:\n",
      "retweeted_derived                                                                                                                                                                                  False\n",
      "company_derived                                                                                                                                                                                    adani\n",
      "text_derived                                                                                                 @abcnews About bloody time. Adani only wants FIFO Indian workers for his Bowen basin mines.\n",
      "tweet_url_link_derived                                                                                                                                   https://twitter.com/-/status/305160140833816576\n",
      "multiple_companies_derived_count                                                                                                                                                                       1\n",
      "company_derived_designation                                                                                                                                                                        adani\n",
      "tweet_text_length_derived                                                                                                                                                                             91\n",
      "spaCy_language_detect                                                                                                                                                                                 en\n",
      "user_description_text_length                                                                                                                                                                         156\n",
      "tweet_created_at                                                                                                                                                                     2013-02-23 03:40:21\n",
      "tweet_id                                                                                                                                                                              305160140833816576\n",
      "tweet_full_text                                                                                              @abcnews About bloody time. Adani only wants FIFO Indian workers for his Bowen basin mines.\n",
      "tweet_in_reply_to_status_id                                                                                                                                                        3.051594344626913e+17\n",
      "tweet_in_reply_to_user_id                                                                                                                                                                      2768501.0\n",
      "tweet_in_reply_to_screen_name                                                                                                                                                                    abcnews\n",
      "tweet_retweet_count                                                                                                                                                                                    0\n",
      "tweet_favorite_count                                                                                                                                                                                   0\n",
      "tweet_lang                                                                                                                                                                                            en\n",
      "user_id                                                                                                                                                                                        772466924\n",
      "user_name                                                                                                                                                                                  Daryl Dickson\n",
      "user_screen_name                                                                                                                                                                               DazzDicko\n",
      "user_location                                                                                                                                                                       Far North Queensland\n",
      "user_description                            Train Driver extraordinaire, proud Union Leftie and Labor supporter. Cant stand the LNP and their regressive ideas. Mainly political but I do enjoy a laugh.\n",
      "user_followers_count                                                                                                                                                                                 945\n",
      "user_friends_count                                                                                                                                                                                  1385\n",
      "user_listed_count                                                                                                                                                                                      3\n",
      "user_favourites_count                                                                                                                                                                                533\n",
      "user_statuses_count                                                                                                                                                                                 5176\n",
      "user_created_at                                                                                                                                                           Tue Aug 21 23:23:52 +0000 2012\n",
      "user_time_zone                                                                                                                                                                        Australia/Brisbane\n",
      "user_lang                                                                                                                                                                                             en\n",
      "tweet_entities_expanded_urls                                                                                                                                                                         NaN\n",
      "tweet_entities_hashtags                                                                                                                                                                              NaN\n",
      "tweet_entities_user_mentions_id                                                                                                                                                                [2768501]\n",
      "tweet_entities_user_mentions_name                                                                                                                                                               ABC News\n",
      "tweet_entities_user_mentions_screen_name                                                                                                                                                         abcnews\n",
      "tweet_entities_symbols                                                                                                                                                                               NaN\n",
      "retweeted_status_created_at                                                                                                                                                                          NaN\n",
      "retweeted_status_id                                                                                                                                                                                  NaN\n",
      "retweeted_status_full_text                                                                                                                                                                           NaN\n",
      "retweeted_status_in_reply_to_status_id                                                                                                                                                               NaN\n",
      "retweeted_status_in_reply_to_user_id                                                                                                                                                                 NaN\n",
      "retweeted_status_in_reply_to_screen_name                                                                                                                                                             NaN\n",
      "retweeted_status_retweet_count                                                                                                                                                                       NaN\n",
      "retweeted_status_favorite_count                                                                                                                                                                      NaN\n",
      "retweeted_status_lang                                                                                                                                                                                NaN\n",
      "retweeted_status_entities                                                                                                                                                                            NaN\n",
      "retweeted_status_user                                                                                                                                                                                NaN\n",
      "retweeted_status_coordinates                                                                                                                                                                         NaN\n",
      "retweeted_status_place                                                                                                                                                                               NaN\n",
      "Name: 0, dtype: object\n",
      "\n"
     ]
    }
   ],
   "source": [
    "    # Import CSV dataset and convert to dataframe.\n",
    "    tweet_csv_dataframe = tweet_util_v2.import_dataset(\n",
    "        \"D:/Dropbox/summer-research-2019/jupyter-notebooks/attribute-datasets/twitter-dataset-6-22-19.csv\",\n",
    "        \"csv\", True)"
   ]
  },
  {
   "cell_type": "markdown",
   "metadata": {},
   "source": [
    "<span style=\"font-family:Papyrus; font-size:1.25em;\">\n",
    " \n",
    "The above log.INFO output shows the shape, columns, and a sample from the Pandas Dataframe that contains the entirety of the CSV file.<br>\n",
    " \n",
    "</span>"
   ]
  },
  {
   "cell_type": "code",
   "execution_count": null,
   "metadata": {
    "pycharm": {
     "name": "#%%\n"
    }
   },
   "outputs": [],
   "source": []
  }
 ],
 "metadata": {
  "kernelspec": {
   "display_name": "Python 3",
   "language": "python",
   "name": "python3"
  },
  "language_info": {
   "codemirror_mode": {
    "name": "ipython",
    "version": 3
   },
   "file_extension": ".py",
   "mimetype": "text/x-python",
   "name": "python",
   "nbconvert_exporter": "python",
   "pygments_lexer": "ipython3",
   "version": "3.6.8"
  },
  "pycharm": {
   "stem_cell": {
    "cell_type": "raw",
    "metadata": {
     "collapsed": false
    },
    "source": []
   }
  }
 },
 "nbformat": 4,
 "nbformat_minor": 1
}
