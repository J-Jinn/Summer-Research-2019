{
 "cells": [
  {
   "cell_type": "code",
   "execution_count": null,
   "metadata": {
    "collapsed": true
   },
   "outputs": [],
   "source": []
  },
  {
   "cell_type": "markdown",
   "metadata": {},
   "source": [
    "Setup Jupyter Notebook kernel for SLO data analysis.<br>"
   ]
  },
  {
   "cell_type": "code",
   "execution_count": 1,
   "metadata": {},
   "outputs": [
    {
     "name": "stderr",
     "output_type": "stream",
     "text": [
      "d:\\dropbox\\cs344-ai\\venv3.6-64bit\\lib\\site-packages\\IPython\\core\\interactiveshell.py:3209: DtypeWarning: Columns (36,48) have mixed types. Specify dtype option on import or set low_memory=False.\n",
      "  if (yield from self.run_code(code, result)):\n"
     ]
    }
   ],
   "source": [
    "import logging as log\n",
    "import warnings\n",
    "import time\n",
    "from matplotlib import pyplot as plt\n",
    "import pandas as pd\n",
    "import seaborn as sns\n",
    "\n",
    "# Import custom utility functions.\n",
    "import slo_twitter_data_analysis_utility_functions_v2 as tweet_util_v2\n",
    "\n",
    "#############################################################\n",
    "# Adjust parameters to display all contents.\n",
    "pd.options.display.max_rows = None\n",
    "pd.options.display.max_columns = None\n",
    "pd.options.display.width = None\n",
    "pd.options.display.max_colwidth = 1000\n",
    "# Seaborn setting.\n",
    "sns.set()\n",
    "# Set level of precision for float value output.\n",
    "pd.set_option('precision', 12)\n",
    "# Ignore these types of warnings - don't output to console.\n",
    "warnings.simplefilter(action='ignore', category=FutureWarning)\n",
    "warnings.simplefilter(action='ignore', category=DeprecationWarning)\n",
    "warnings.simplefilter(action='ignore', category=UserWarning)\n",
    "# Matplotlib log settings.\n",
    "mylog = log.getLogger(\"matplotlib\")\n",
    "mylog.setLevel(log.INFO)\n",
    "\n",
    "\"\"\"\n",
    "Turn debug log statements for various sections of code on/off.\n",
    "(adjust log level as necessary)\n",
    "\"\"\"\n",
    "log.basicConfig(level=log.INFO)\n",
    "\n",
    "\n",
    "# Import CSV dataset and convert to dataframe.\n",
    "tweet_dataframe = tweet_util_v2.import_dataset(\n",
    "    \"D:/Dropbox/summer-research-2019/jupyter-notebooks/attribute-datasets/\"\n",
    "    \"twitter-dataset-6-22-19-fixed.csv\",\n",
    "    \"csv\", False)"
   ]
  },
  {
   "cell_type": "markdown",
   "metadata": {},
   "source": [
    "# SLO Twitter Data Analysis  - Tweet @User Mentions Statistics"
   ]
  },
  {
   "cell_type": "markdown",
   "metadata": {},
   "source": [
    "<span style=\"font-family:Papyrus; font-size:1.25em;\">\n",
    "\n",
    "Refer to print statements for description of what the statistive provide.<br>\n",
    "\n",
    "</span>"
   ]
  },
  {
   "cell_type": "code",
   "execution_count": 4,
   "metadata": {
    "pycharm": {
     "name": "#%%\n"
    },
    "scrolled": true
   },
   "outputs": [
    {
     "name": "stdout",
     "output_type": "stream",
     "text": [
      "Percentage of Tweets with User Mentions:\n",
      "(Number of Tweets with User Mentions divided by Number of Tweets in Dataset)\n",
      "1.0\n",
      "Percentage of Tweets that are Replies to Other Tweets:\n",
      "(Number of Tweets that are Replies to Another Tweet divided by Number of Tweets in Dataset)\n",
      "0.058935661803092364\n"
     ]
    }
   ],
   "source": [
    "    print(\"Percentage of Tweets with User Mentions:\")\n",
    "    print(f\"(Number of Tweets with User Mentions divided by Number of Tweets in Dataset)\")\n",
    "    print(tweet_dataframe['tweet_entities_user_mentions_id'].count() / len(tweet_dataframe))\n",
    "\n",
    "    print(\"Percentage of Tweets that are Replies to Other Tweets:\")\n",
    "    print(f\"(Number of Tweets that are Replies to Another Tweet divided by Number of Tweets in Dataset)\")\n",
    "    print(tweet_dataframe['tweet_in_reply_to_status_id'].count() / len(tweet_dataframe))"
   ]
  },
  {
   "cell_type": "markdown",
   "metadata": {},
   "source": [
    "<span style=\"font-family:Papyrus; font-size:1.25em;\">\n",
    "\n",
    "It seems all Tweets have user mentions.<br>\n",
    "\n",
    "**TODO: check interpretations of computations are correct.  Might be counting Tweets with empty lists for this field as possessing user mentions**\n",
    "\n",
    "Very few Tweets are replies to other Tweets.<br>\n",
    "\n",
    "</span>"
   ]
  },
  {
   "cell_type": "markdown",
   "metadata": {},
   "source": [
    "<span style=\"font-family:Papyrus; font-size:1.25em;\">\n",
    "\n",
    "Refer to print statements for description of what the statistics describe.<br>\n",
    "\n",
    "</span>"
   ]
  },
  {
   "cell_type": "code",
   "execution_count": 5,
   "metadata": {
    "pycharm": {
     "name": "#%%\n"
    }
   },
   "outputs": [
    {
     "name": "stdout",
     "output_type": "stream",
     "text": [
      "\n",
      "User Mentions Count by Percentage of All Tweets for a Given Company:\n"
     ]
    },
    {
     "data": {
      "text/plain": [
       "<Figure size 432x288 with 0 Axes>"
      ]
     },
     "metadata": {},
     "output_type": "display_data"
    },
    {
     "data": {
      "image/png": "[encoded data removed]",
      "text/plain": [
       "<Figure size 1296x432 with 12 Axes>"
      ]
     },
     "metadata": {
      "needs_background": "light"
     },
     "output_type": "display_data"
    }
   ],
   "source": [
    "    print(f\"\\nUser Mentions Count by Percentage of All Tweets for a Given Company:\")\n",
    "    tweet_dataframe['#mentions'] = tweet_dataframe['tweet_entities_user_mentions_id']. \\\n",
    "        apply(lambda x: len(x) if isinstance(x, list) else 0)\n",
    "\n",
    "    plt.figure()\n",
    "    grid = sns.FacetGrid(tweet_dataframe[['#mentions', 'company_derived_designation']],\n",
    "                         col='company_derived_designation', col_wrap=6, ylim=(0, 1), xlim=(-1, 10))\n",
    "    grid.map_dataframe(tweet_util_v2.bar_plot, '#mentions')\n",
    "    grid.set_titles('{col_name}')\n",
    "    grid.set_xlabels(\"Number of Mentions\").set_ylabels(\"Percentage of All Tweets\")\n",
    "    plt.show()"
   ]
  },
  {
   "cell_type": "markdown",
   "metadata": {},
   "source": [
    "<span style=\"font-family:Papyrus; font-size:1.25em;\">\n",
    "\n",
    "**TODO: check code for producing these graphs.  The results seem to be odd/incorrect.**<br>\n",
    "\n",
    "</span>"
   ]
  },
  {
   "cell_type": "markdown",
   "metadata": {},
   "source": [
    "<span style=\"font-family:Papyrus; font-size:1.25em;\">\n",
    "\n",
    "Refer to print statements for description of what the statistics describe.<br>\n",
    "\n",
    "</span>"
   ]
  },
  {
   "cell_type": "code",
   "execution_count": 6,
   "metadata": {},
   "outputs": [
    {
     "name": "stdout",
     "output_type": "stream",
     "text": [
      "Top (Most) Mentions for a Company by User Mentions ID\n",
      "Top (highest) Mentions Count for a Given Company by the ID of the User that has been Mentioned\n",
      "company_derived_designation   \n",
      "adani                        2    801881\n",
      "                             8    783932\n",
      "                             1    742077\n",
      "                             3    740997\n",
      "                             4    728460\n",
      "bhp                          [     64347\n",
      "                             ]     64347\n",
      "                             2     63635\n",
      "                             1     56951\n",
      "                             0     50356\n",
      "cuesta                       ]       618\n",
      "                             [       618\n",
      "                             1       610\n",
      "                             2       565\n",
      "                             3       513\n",
      "fortescue                    7     12451\n",
      "                             ]     11772\n",
      "                             [     11772\n",
      "                             8     11738\n",
      "                             0     10608\n",
      "iluka                        ]      3083\n",
      "                             [      3083\n",
      "                             1      1598\n",
      "                             2      1373\n",
      "                             0      1265\n",
      "multiple                     2     12806\n",
      "                             9     11431\n",
      "                             8     10817\n",
      "                             3     10787\n",
      "                             4     10347\n",
      "newmont                      ]       901\n",
      "                             [       901\n",
      "                             8       697\n",
      "                             4       639\n",
      "                             7       634\n",
      "oilsearch                    ]      1556\n",
      "                             [      1556\n",
      "                             2      1244\n",
      "                             5      1229\n",
      "                             1      1228\n",
      "riotinto                     ]     25499\n",
      "                             [     25499\n",
      "                             2     22318\n",
      "                             1     20919\n",
      "                             4     20459\n",
      "santos                       2    161975\n",
      "                             3    136409\n",
      "                             9    133276\n",
      "                             1    123304\n",
      "                             7    112888\n",
      "whitehaven                   1     16237\n",
      "                             2     16126\n",
      "                             ]     14753\n",
      "                             [     14753\n",
      "                             9     11990\n",
      "woodside                     2     19188\n",
      "                             3     17459\n",
      "                             4     15825\n",
      "                             1     15684\n",
      "                             ]     15532\n",
      "dtype: int64\n"
     ]
    }
   ],
   "source": [
    "    print(f\"Top (Most) Mentions for a Company by User Mentions ID\")\n",
    "    print(f\"Top (highest) Mentions Count for a Given Company by the ID of the User that has been Mentioned\")\n",
    "    print(\n",
    "        tweet_dataframe[['company_derived_designation', 'tweet_entities_user_mentions_id']].groupby(\n",
    "            'company_derived_designation').apply(\n",
    "            lambda x: pd.Series([mention\n",
    "                                 for mentions in x['tweet_entities_user_mentions_id'] if mentions is not None\n",
    "                                 for mention in mentions]).value_counts(normalize=False).head()))"
   ]
  },
  {
   "cell_type": "markdown",
   "metadata": {},
   "source": [
    "<span style=\"font-family:Papyrus; font-size:1.25em;\">\n",
    "    \n",
    "**TODO: the left column seem to be displaying values in a List rather than ID's?**\n",
    "\n",
    "**FIXME: something wonky is going on.**\n",
    "\n",
    "</span>"
   ]
  },
  {
   "cell_type": "code",
   "execution_count": null,
   "metadata": {},
   "outputs": [],
   "source": []
  }
 ],
 "metadata": {
  "kernelspec": {
   "display_name": "Python 3",
   "language": "python",
   "name": "python3"
  },
  "language_info": {
   "codemirror_mode": {
    "name": "ipython",
    "version": 3
   },
   "file_extension": ".py",
   "mimetype": "text/x-python",
   "name": "python",
   "nbconvert_exporter": "python",
   "pygments_lexer": "ipython3",
   "version": "3.6.8"
  },
  "pycharm": {
   "stem_cell": {
    "cell_type": "raw",
    "metadata": {
     "collapsed": false
    },
    "source": []
   }
  }
 },
 "nbformat": 4,
 "nbformat_minor": 1
}
