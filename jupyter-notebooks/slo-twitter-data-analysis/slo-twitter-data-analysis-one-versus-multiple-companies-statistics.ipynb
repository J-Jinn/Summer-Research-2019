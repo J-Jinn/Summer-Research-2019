{
 "cells": [
  {
   "cell_type": "code",
   "execution_count": null,
   "metadata": {},
   "outputs": [],
   "source": []
  },
  {
   "cell_type": "markdown",
   "metadata": {},
   "source": [
    "# Single-Company versus Multi-Company Associated Tweets"
   ]
  },
  {
   "cell_type": "markdown",
   "metadata": {},
   "source": [
    "Setup Jupyter Notebook kernel for SLO data analysis.<br>"
   ]
  },
  {
   "cell_type": "code",
   "execution_count": 9,
   "metadata": {},
   "outputs": [
    {
     "name": "stderr",
     "output_type": "stream",
     "text": [
      "d:\\dropbox\\cs344-ai\\venv3.6-64bit\\lib\\site-packages\\IPython\\core\\interactiveshell.py:3209: DtypeWarning: Columns (36,48) have mixed types. Specify dtype option on import or set low_memory=False.\n",
      "  if (yield from self.run_code(code, result)):\n"
     ]
    }
   ],
   "source": [
    "import logging as log\n",
    "import warnings\n",
    "import time\n",
    "from matplotlib import pyplot as plt\n",
    "import pandas as pd\n",
    "import seaborn as sns\n",
    "\n",
    "# Import custom utility functions.\n",
    "import slo_twitter_data_analysis_utility_functions_v2 as tweet_util_v2\n",
    "\n",
    "#############################################################\n",
    "# Adjust parameters to display all contents.\n",
    "pd.options.display.max_rows = None\n",
    "pd.options.display.max_columns = None\n",
    "pd.options.display.width = None\n",
    "pd.options.display.max_colwidth = 1000\n",
    "# Seaborn setting.\n",
    "sns.set()\n",
    "# Set level of precision for float value output.\n",
    "pd.set_option('precision', 12)\n",
    "# Ignore these types of warnings - don't output to console.\n",
    "warnings.simplefilter(action='ignore', category=FutureWarning)\n",
    "warnings.simplefilter(action='ignore', category=DeprecationWarning)\n",
    "warnings.simplefilter(action='ignore', category=UserWarning)\n",
    "# Matplotlib log settings.\n",
    "mylog = log.getLogger(\"matplotlib\")\n",
    "mylog.setLevel(log.INFO)\n",
    "\n",
    "\"\"\"\n",
    "Turn debug log statements for various sections of code on/off.\n",
    "(adjust log level as necessary)\n",
    "\"\"\"\n",
    "log.basicConfig(level=log.INFO)\n",
    "\n",
    "\n",
    "# Import CSV dataset and convert to dataframe.\n",
    "tweet_dataframe = tweet_util_v2.import_dataset(\n",
    "    \"D:/Dropbox/summer-research-2019/jupyter-notebooks/attribute-datasets/\"\n",
    "    \"twitter-dataset-6-22-19-fixed.csv\",\n",
    "    \"csv\", False)"
   ]
  },
  {
   "cell_type": "markdown",
   "metadata": {},
   "source": [
    "## Single or Multiple Companies:"
   ]
  },
  {
   "cell_type": "markdown",
   "metadata": {},
   "source": [
    "<span style=\"font-family:Papyrus; font-size:1.25em;\">\n",
    "\n",
    "This function displays the number of Tweets associated with only one company or associated with multiple companies.\n",
    "\n",
    "</span>"
   ]
  },
  {
   "cell_type": "code",
   "execution_count": 17,
   "metadata": {
    "pycharm": {
     "name": "#%%\n"
    }
   },
   "outputs": [],
   "source": [
    "def tweets_number_associated_companies(tweet_dataframe):\n",
    "    \"\"\"\n",
    "    Function displays statistics on the # of Tweets associated with one versus multiple companies.\n",
    "\n",
    "    :param tweet_dataframe: the Twitter dataset in a Pandas dataframe.\n",
    "    :return: None.\n",
    "    \"\"\"\n",
    "    # Number of rows in entire dataframe.\n",
    "    number_rows_total = tweet_dataframe.shape[0]\n",
    "\n",
    "    # Select only rows with one associated company. (don't graph company combos)\n",
    "    single_company_only_df = tweet_dataframe.loc[tweet_dataframe['multiple_companies_derived_count'] == 1]\n",
    "    # single_company_only_df_2 = tweet_dataframe.loc[tweet_dataframe['company_derived_designation'] != \"multiple\"]\n",
    "\n",
    "    # Number of rows associated with only one company.\n",
    "    number_rows_one_company = single_company_only_df.shape[0]\n",
    "\n",
    "    print(f\"The # of Tweets associated with multiple companies is {number_rows_total - number_rows_one_company}\")\n",
    "    print(f\"The # of Tweets associated with one company is {number_rows_one_company}\")\n",
    "\n",
    "    percent_single = number_rows_one_company / number_rows_total * 100.0\n",
    "    percent_multiple = (number_rows_total - number_rows_one_company) / number_rows_total * 100.0\n",
    "\n",
    "    print(f\"The percentage of the dataset associated with a single company is {percent_single}%\")\n",
    "    print(f\"The percentage of the dataset associated with multiple companies is {percent_multiple}%\")"
   ]
  },
  {
   "cell_type": "markdown",
   "metadata": {},
   "source": [
    "<span style=\"font-family:Papyrus; font-size:1.25em;\">\n",
    "\n",
    "Call the data analysis function.<br>\n",
    "\n",
    "</span>"
   ]
  },
  {
   "cell_type": "code",
   "execution_count": 18,
   "metadata": {
    "pycharm": {
     "name": "#%%\n"
    }
   },
   "outputs": [
    {
     "name": "stdout",
     "output_type": "stream",
     "text": [
      "The # of Tweets associated with multiple companies is 8278\n",
      "The # of Tweets associated with one company is 662148\n",
      "The percentage of the dataset associated with a single company is 98.76526268372646%\n",
      "The percentage of the dataset associated with multiple companies is 1.2347373162735336%\n"
     ]
    }
   ],
   "source": [
    "    # Tweets associated with one or multiple companies.\n",
    "    tweets_number_associated_companies(tweet_dataframe)"
   ]
  },
  {
   "cell_type": "markdown",
   "metadata": {},
   "source": [
    "<span style=\"font-family:Papyrus; font-size:1.25em;\">\n",
    "\n",
    "The majority of our Tweets are only associated with a single company.  However, a small percentage are associated with multiple companies.<br>\n",
    "\n",
    "</span>"
   ]
  },
  {
   "cell_type": "markdown",
   "metadata": {},
   "source": [
    "## Export multi-company associated Tweets to separate CSV file:"
   ]
  },
  {
   "cell_type": "markdown",
   "metadata": {},
   "source": [
    "<span style=\"font-family:Papyrus; font-size:1.25em;\">\n",
    "    \n",
    "Function isolates and exports to a new CSV file all Tweets that are associated with more than one company.<br>\n",
    "\n",
    "</span>"
   ]
  },
  {
   "cell_type": "code",
   "execution_count": 4,
   "metadata": {
    "pycharm": {
     "name": "#%%\n"
    }
   },
   "outputs": [],
   "source": [
    "    # Isolate multi-company associated Tweets for data analysis and export to new CSV file.\n",
    "    tweet_util_v2.export_multi_company_tweets(tweet_dataframe)"
   ]
  },
  {
   "cell_type": "markdown",
   "metadata": {},
   "source": [
    "<span style=\"font-family:Papyrus; font-size:1.25em;\">\n",
    "    \n",
    "Import the resulting CSV file and insert into a Pandas Dataframe for data analysis.<br>\n",
    "\n",
    "</span>"
   ]
  },
  {
   "cell_type": "code",
   "execution_count": 20,
   "metadata": {
    "pycharm": {
     "name": "#%%\n"
    },
    "scrolled": false
   },
   "outputs": [],
   "source": [
    "    # Import CSV dataset and convert to dataframe.\n",
    "    multi_company_tweets_df = tweet_util_v2.import_dataset(\n",
    "        \"D:/Dropbox/summer-research-2019/jupyter-notebooks/attribute-datasets/multi-company-tweets-6-22-19.csv\",\n",
    "        \"csv\", False)"
   ]
  },
  {
   "cell_type": "markdown",
   "metadata": {},
   "source": [
    "<span style=\"font-family:Papyrus; font-size:1.25em;\">\n",
    "    \n",
    "The shape, column (attribute) names, and the first Tweet in the dataframe will be outputted if the last parameter in the function call is set to \"True\".<br>\n",
    "\n",
    "Note: Dataframe info disabled at the moment.  Change boolean from \"false\" to \"true\", if desired.<br>\n",
    "\n",
    "</span>"
   ]
  },
  {
   "cell_type": "markdown",
   "metadata": {},
   "source": [
    "## Simple Analysis using Pandas.describe():"
   ]
  },
  {
   "cell_type": "markdown",
   "metadata": {},
   "source": [
    "<span style=\"font-family:Papyrus; font-size:1.25em;\">\n",
    "\n",
    "Statistics for every attribute in the CSV dataset containing just multi-company associated Tweets.<br>\n",
    "\n",
    "</span>"
   ]
  },
  {
   "cell_type": "code",
   "execution_count": 21,
   "metadata": {},
   "outputs": [],
   "source": [
    "def attribute_describe(input_file_path, attribute_name_list, file_type):\n",
    "    \"\"\"\n",
    "    Function utilizes Pandas \"describe\" function to return dataframe statistics.\n",
    "\n",
    "    https://chrisalbon.com/python/data_wrangling/pandas_dataframe_descriptive_stats/\n",
    "\n",
    "    Note: This function will not work for attributes whose values are \"objects\" themselves.\n",
    "    (can only be numeric type or string)\n",
    "\n",
    "    :param input_file_path: absolute file path of the dataset in CSV or JSON format.\n",
    "    :param attribute_name_list:  list of names of the attributes we are analyzing.\n",
    "    :param file_type: type of input file. (JSON or CSV)\n",
    "    :return: None.\n",
    "    \"\"\"\n",
    "    start_time = time.time()\n",
    "\n",
    "    if file_type == \"csv\":\n",
    "        twitter_data = pd.read_csv(f\"{input_file_path}\", sep=\",\")\n",
    "    elif file_type == \"json\":\n",
    "        twitter_data = pd.read_json(f\"{input_file_path}\", orient='records', lines=True)\n",
    "    else:\n",
    "        print(f\"Invalid file type entered - aborting operation\")\n",
    "        return\n",
    "\n",
    "    # Create a empty Pandas dataframe.\n",
    "    dataframe = pd.DataFrame(twitter_data)\n",
    "\n",
    "    if len(attribute_name_list) > 0:\n",
    "        for attribute_name in attribute_name_list:\n",
    "            print(f\"\\nPandas describe() for \\\"{attribute_name}\\\":\\n\")\n",
    "            print(dataframe[attribute_name].describe(include='all'))\n",
    "    else:\n",
    "        print(f\"\\nPandas describe() for the entire dataframe/dataset:\\n\")\n",
    "        print(dataframe.describe(include='all'))\n",
    "\n",
    "    end_time = time.time()\n",
    "    time_elapsed_seconds = end_time - start_time\n",
    "    time_elapsed_minutes = (end_time - start_time) / 60.0\n",
    "    time_elapsed_hours = (end_time - start_time) / 60.0 / 60.0\n",
    "    log.debug(f\"The time taken to visualize the statistics is {time_elapsed_seconds} seconds, \"\n",
    "              f\"{time_elapsed_minutes} minutes, {time_elapsed_hours} hours\")"
   ]
  },
  {
   "cell_type": "markdown",
   "metadata": {},
   "source": [
    "<span style=\"font-family:Papyrus; font-size:1.25em;\">\n",
    "\n",
    "Call the above function.<br>\n",
    "\n",
    "</span>"
   ]
  },
  {
   "cell_type": "code",
   "execution_count": 22,
   "metadata": {
    "pycharm": {
     "name": "#%%\n"
    },
    "scrolled": true
   },
   "outputs": [
    {
     "name": "stdout",
     "output_type": "stream",
     "text": [
      "\n",
      "Pandas describe() for the entire dataframe/dataset:\n",
      "\n",
      "       retweeted_derived company_derived  \\\n",
      "count               8278            8278   \n",
      "unique                 2              81   \n",
      "top                 True    bhp|riotinto   \n",
      "freq                4691            3580   \n",
      "mean                 NaN             NaN   \n",
      "std                  NaN             NaN   \n",
      "min                  NaN             NaN   \n",
      "25%                  NaN             NaN   \n",
      "50%                  NaN             NaN   \n",
      "75%                  NaN             NaN   \n",
      "max                  NaN             NaN   \n",
      "\n",
      "                                                                                                                                                                                                text_derived  \\\n",
      "count                                                                                                                                                                                                   8278   \n",
      "unique                                                                                                                                                                                                  4908   \n",
      "top     RT @WorldOfMarkyD: \"donations\" to Josh Frydenberg's Liberal Party  Ã­Â Â½Ã­Â²Â°Chevron $277,695 Ã­Â Â½Ã­Â²Â°Woodside Energy $813,775 Ã­Â Â½Ã­Â²Â°Santos $928,495 Ã­Â Â½Ã­Â²Â°Yancoal $50,000  #QandA   \n",
      "freq                                                                                                                                                                                                     120   \n",
      "mean                                                                                                                                                                                                     NaN   \n",
      "std                                                                                                                                                                                                      NaN   \n",
      "min                                                                                                                                                                                                      NaN   \n",
      "25%                                                                                                                                                                                                      NaN   \n",
      "50%                                                                                                                                                                                                      NaN   \n",
      "75%                                                                                                                                                                                                      NaN   \n",
      "max                                                                                                                                                                                                      NaN   \n",
      "\n",
      "                                 tweet_url_link_derived  \\\n",
      "count                                              8278   \n",
      "unique                                             8278   \n",
      "top     https://twitter.com/-/status/770553344490221569   \n",
      "freq                                                  1   \n",
      "mean                                                NaN   \n",
      "std                                                 NaN   \n",
      "min                                                 NaN   \n",
      "25%                                                 NaN   \n",
      "50%                                                 NaN   \n",
      "75%                                                 NaN   \n",
      "max                                                 NaN   \n",
      "\n",
      "        multiple_companies_derived_count company_derived_designation  \\\n",
      "count                  8278.000000000000                        8278   \n",
      "unique                               NaN                           1   \n",
      "top                                  NaN                    multiple   \n",
      "freq                                 NaN                        8278   \n",
      "mean                      2.077554964967                         NaN   \n",
      "std                       0.279847408431                         NaN   \n",
      "min                       2.000000000000                         NaN   \n",
      "25%                       2.000000000000                         NaN   \n",
      "50%                       2.000000000000                         NaN   \n",
      "75%                       2.000000000000                         NaN   \n",
      "max                       6.000000000000                         NaN   \n",
      "\n",
      "        tweet_text_length_derived spaCy_language_detect  \\\n",
      "count           8278.000000000000                  8278   \n",
      "unique                        NaN                    16   \n",
      "top                           NaN                    en   \n",
      "freq                          NaN                  8074   \n",
      "mean             162.333534670210                   NaN   \n",
      "std               69.165251956031                   NaN   \n",
      "min               33.000000000000                   NaN   \n",
      "25%              130.000000000000                   NaN   \n",
      "50%              145.000000000000                   NaN   \n",
      "75%              169.000000000000                   NaN   \n",
      "max              966.000000000000                   NaN   \n",
      "\n",
      "        user_description_text_length tweet_created_at            tweet_id  \\\n",
      "count              8278.000000000000             8278  8.278000000000e+03   \n",
      "unique                           NaN             7905                 NaN   \n",
      "top                              NaN   3/19/2015 5:29                 NaN   \n",
      "freq                             NaN               10                 NaN   \n",
      "mean                110.693525006040              NaN  7.494746983571e+17   \n",
      "std                  51.022995563061              NaN  1.841955014255e+17   \n",
      "min                   0.000000000000              NaN  3.041650000000e+17   \n",
      "25%                  73.000000000000              NaN  6.410737500000e+17   \n",
      "50%                 129.000000000000              NaN  7.657420000000e+17   \n",
      "75%                 154.000000000000              NaN  9.209715000000e+17   \n",
      "max                 469.000000000000              NaN  9.941070000000e+17   \n",
      "\n",
      "                                                                                                                                                                                        tweet_full_text  \\\n",
      "count                                                                                                                                                                                              8278   \n",
      "unique                                                                                                                                                                                             4896   \n",
      "top     RT @WorldOfMarkyD: \"donations\" to Josh Frydenberg's Liberal Party\\n\\nÃ­Â Â½Ã­Â²Â°Chevron $277,695\\nÃ­Â Â½Ã­Â²Â°Woodside Energy $813,775\\nÃ­Â Â½Ã­Â²Â°Santos $928,495\\nÃ­Â Â½Ã­Â²Â°Yancoal $5â¦   \n",
      "freq                                                                                                                                                                                                120   \n",
      "mean                                                                                                                                                                                                NaN   \n",
      "std                                                                                                                                                                                                 NaN   \n",
      "min                                                                                                                                                                                                 NaN   \n",
      "25%                                                                                                                                                                                                 NaN   \n",
      "50%                                                                                                                                                                                                 NaN   \n",
      "75%                                                                                                                                                                                                 NaN   \n",
      "max                                                                                                                                                                                                 NaN   \n",
      "\n",
      "        tweet_in_reply_to_status_id  tweet_in_reply_to_user_id  \\\n",
      "count            5.010000000000e+02         7.160000000000e+02   \n",
      "unique                          NaN                        NaN   \n",
      "top                             NaN                        NaN   \n",
      "freq                            NaN                        NaN   \n",
      "mean             7.839481037924e+17         4.109357630156e+16   \n",
      "std              2.005737303372e+17         1.819436271664e+17   \n",
      "min              3.060000000000e+17         1.084600000000e+04   \n",
      "25%              6.290000000000e+17         6.716280000000e+07   \n",
      "50%              8.730000000000e+17         3.490046220000e+08   \n",
      "75%              9.470000000000e+17         2.220388494000e+09   \n",
      "max              9.930000000000e+17         9.580000000000e+17   \n",
      "\n",
      "       tweet_in_reply_to_screen_name  tweet_retweet_count  \\\n",
      "count                            716    8278.000000000000   \n",
      "unique                           411                  NaN   \n",
      "top                              bhp                  NaN   \n",
      "freq                              99                  NaN   \n",
      "mean                             NaN      27.103044213578   \n",
      "std                              NaN      78.264353710045   \n",
      "min                              NaN       0.000000000000   \n",
      "25%                              NaN       0.000000000000   \n",
      "50%                              NaN       4.000000000000   \n",
      "75%                              NaN      24.000000000000   \n",
      "max                              NaN    3341.000000000000   \n",
      "\n",
      "        tweet_favorite_count tweet_lang             user_id  \\\n",
      "count      8278.000000000000       8278  8.278000000000e+03   \n",
      "unique                   NaN         17                 NaN   \n",
      "top                      NaN         en                 NaN   \n",
      "freq                     NaN       8027                 NaN   \n",
      "mean          0.561729886446        NaN  1.292414640464e+16   \n",
      "std           4.759200420934        NaN  1.014842773584e+17   \n",
      "min           0.000000000000        NaN  6.380230000000e+05   \n",
      "25%           0.000000000000        NaN  5.367433350000e+07   \n",
      "50%           0.000000000000        NaN  2.369191575000e+08   \n",
      "75%           0.000000000000        NaN  7.797293720000e+08   \n",
      "max         173.000000000000        NaN  9.640150000000e+17   \n",
      "\n",
      "                   user_name user_screen_name user_location  \\\n",
      "count                   8278             8278          7323   \n",
      "unique                  2659             2691           922   \n",
      "top     Wealth Planning Ptrs         WealthPP     Australia   \n",
      "freq                     365              365          2118   \n",
      "mean                     NaN              NaN           NaN   \n",
      "std                      NaN              NaN           NaN   \n",
      "min                      NaN              NaN           NaN   \n",
      "25%                      NaN              NaN           NaN   \n",
      "50%                      NaN              NaN           NaN   \n",
      "75%                      NaN              NaN           NaN   \n",
      "max                      NaN              NaN           NaN   \n",
      "\n",
      "                                                                                                                                                  user_description  \\\n",
      "count                                                                                                                                                         7807   \n",
      "unique                                                                                                                                                        2489   \n",
      "top     @WealthPP has a team of finanacial advisers helping clients Australia-wide with 'The WPP Way' to Secure. Build. Succeed. FPA. AFA. MDRT. SMSFA. #FSPOWER50   \n",
      "freq                                                                                                                                                           365   \n",
      "mean                                                                                                                                                           NaN   \n",
      "std                                                                                                                                                            NaN   \n",
      "min                                                                                                                                                            NaN   \n",
      "25%                                                                                                                                                            NaN   \n",
      "50%                                                                                                                                                            NaN   \n",
      "75%                                                                                                                                                            NaN   \n",
      "max                                                                                                                                                            NaN   \n",
      "\n",
      "        user_followers_count  user_friends_count   user_listed_count  \\\n",
      "count     8.278000000000e+03   8278.000000000000   8278.000000000000   \n",
      "unique                   NaN                 NaN                 NaN   \n",
      "top                      NaN                 NaN                 NaN   \n",
      "freq                     NaN                 NaN                 NaN   \n",
      "mean      1.266588572119e+04   2126.733872916163    262.376177820730   \n",
      "std       6.842097042327e+04   2745.048097171294    636.021381785985   \n",
      "min       0.000000000000e+00      0.000000000000      0.000000000000   \n",
      "25%       7.490000000000e+02    645.000000000000     38.000000000000   \n",
      "50%       1.936000000000e+03   1326.000000000000     93.000000000000   \n",
      "75%       4.108000000000e+03   2586.000000000000    252.000000000000   \n",
      "max       1.467103000000e+06  40189.000000000000  11382.000000000000   \n",
      "\n",
      "        user_favourites_count  user_statuses_count  \\\n",
      "count       8278.000000000000   8.278000000000e+03   \n",
      "unique                    NaN                  NaN   \n",
      "top                       NaN                  NaN   \n",
      "freq                      NaN                  NaN   \n",
      "mean       24430.624305387773   8.066870608843e+04   \n",
      "std        62428.520209139271   1.243000659236e+05   \n",
      "min            0.000000000000   3.100000000000e+01   \n",
      "25%          457.000000000000   1.220250000000e+04   \n",
      "50%         3780.000000000000   3.390250000000e+04   \n",
      "75%        21064.250000000000   8.950900000000e+04   \n",
      "max       721108.000000000000   1.340700000000e+06   \n",
      "\n",
      "                       user_created_at user_time_zone user_lang  \\\n",
      "count                             8278           8278      8278   \n",
      "unique                            2691             35         8   \n",
      "top     Fri Nov 05 07:56:47 +0000 2010         Sydney        en   \n",
      "freq                               365           2856      7969   \n",
      "mean                               NaN            NaN       NaN   \n",
      "std                                NaN            NaN       NaN   \n",
      "min                                NaN            NaN       NaN   \n",
      "25%                                NaN            NaN       NaN   \n",
      "50%                                NaN            NaN       NaN   \n",
      "75%                                NaN            NaN       NaN   \n",
      "max                                NaN            NaN       NaN   \n",
      "\n",
      "                                        tweet_entities_expanded_urls  \\\n",
      "count                                                           2804   \n",
      "unique                                                          1825   \n",
      "top     https://twitter.com/sarahinthesen8/status/919390789435768834   \n",
      "freq                                                              61   \n",
      "mean                                                             NaN   \n",
      "std                                                              NaN   \n",
      "min                                                              NaN   \n",
      "25%                                                              NaN   \n",
      "50%                                                              NaN   \n",
      "75%                                                              NaN   \n",
      "max                                                              NaN   \n",
      "\n",
      "       tweet_entities_hashtags tweet_entities_user_mentions_id  \\\n",
      "count                     3558                            8278   \n",
      "unique                     906                            1596   \n",
      "top                     ausbiz                              []   \n",
      "freq                       391                            2225   \n",
      "mean                       NaN                             NaN   \n",
      "std                        NaN                             NaN   \n",
      "min                        NaN                             NaN   \n",
      "25%                        NaN                             NaN   \n",
      "50%                        NaN                             NaN   \n",
      "75%                        NaN                             NaN   \n",
      "max                        NaN                             NaN   \n",
      "\n",
      "       tweet_entities_user_mentions_name  \\\n",
      "count                               6053   \n",
      "unique                              1581   \n",
      "top                  HRH Terry Australis   \n",
      "freq                                 565   \n",
      "mean                                 NaN   \n",
      "std                                  NaN   \n",
      "min                                  NaN   \n",
      "25%                                  NaN   \n",
      "50%                                  NaN   \n",
      "75%                                  NaN   \n",
      "max                                  NaN   \n",
      "\n",
      "       tweet_entities_user_mentions_screen_name tweet_entities_symbols  \\\n",
      "count                                      6053                    328   \n",
      "unique                                     1595                     90   \n",
      "top                              AustralisTerry                BHP,RIO   \n",
      "freq                                        565                     42   \n",
      "mean                                        NaN                    NaN   \n",
      "std                                         NaN                    NaN   \n",
      "min                                         NaN                    NaN   \n",
      "25%                                         NaN                    NaN   \n",
      "50%                                         NaN                    NaN   \n",
      "75%                                         NaN                    NaN   \n",
      "max                                         NaN                    NaN   \n",
      "\n",
      "           retweeted_status_created_at  retweeted_status_id  \\\n",
      "count                             4678   4.678000000000e+03   \n",
      "unique                            1341                  NaN   \n",
      "top     Mon Jun 12 12:25:50 +0000 2017                  NaN   \n",
      "freq                               120                  NaN   \n",
      "mean                               NaN   7.761034630184e+17   \n",
      "std                                NaN   1.795238993299e+17   \n",
      "min                                NaN   3.070000000000e+17   \n",
      "25%                                NaN   6.690000000000e+17   \n",
      "50%                                NaN   8.010000000000e+17   \n",
      "75%                                NaN   9.357500000000e+17   \n",
      "max                                NaN   9.940000000000e+17   \n",
      "\n",
      "                                                                                                                                                                      retweeted_status_full_text  \\\n",
      "count                                                                                                                                                                                       4678   \n",
      "unique                                                                                                                                                                                      1321   \n",
      "top     \"donations\" to Josh Frydenberg's Liberal Party\\n\\nÃ­Â Â½Ã­Â²Â°Chevron $277,695\\nÃ­Â Â½Ã­Â²Â°Woodside Energy $813,775\\nÃ­Â Â½Ã­Â²Â°Santos $928,495\\nÃ­Â Â½Ã­Â²Â°Yancoal $50,000\\n\\n#QandA   \n",
      "freq                                                                                                                                                                                         120   \n",
      "mean                                                                                                                                                                                         NaN   \n",
      "std                                                                                                                                                                                          NaN   \n",
      "min                                                                                                                                                                                          NaN   \n",
      "25%                                                                                                                                                                                          NaN   \n",
      "50%                                                                                                                                                                                          NaN   \n",
      "75%                                                                                                                                                                                          NaN   \n",
      "max                                                                                                                                                                                          NaN   \n",
      "\n",
      "        retweeted_status_in_reply_to_status_id  \\\n",
      "count                       5.150000000000e+02   \n",
      "unique                                     NaN   \n",
      "top                                        NaN   \n",
      "freq                                       NaN   \n",
      "mean                        7.818194174757e+17   \n",
      "std                         1.607605114283e+17   \n",
      "min                         3.970000000000e+17   \n",
      "25%                         6.680000000000e+17   \n",
      "50%                         7.720000000000e+17   \n",
      "75%                         9.440000000000e+17   \n",
      "max                         9.940000000000e+17   \n",
      "\n",
      "        retweeted_status_in_reply_to_user_id  \\\n",
      "count                     5.550000000000e+02   \n",
      "unique                                   NaN   \n",
      "top                                      NaN   \n",
      "freq                                     NaN   \n",
      "mean                      4.131891958144e+16   \n",
      "std                       1.796850359148e+17   \n",
      "min                       2.768501000000e+06   \n",
      "25%                       1.938034315000e+08   \n",
      "50%                       3.108723650000e+08   \n",
      "75%                       7.485239100000e+08   \n",
      "max                       8.710000000000e+17   \n",
      "\n",
      "       retweeted_status_in_reply_to_screen_name  \\\n",
      "count                                       555   \n",
      "unique                                      150   \n",
      "top                               WorldOfMarkyD   \n",
      "freq                                        200   \n",
      "mean                                        NaN   \n",
      "std                                         NaN   \n",
      "min                                         NaN   \n",
      "25%                                         NaN   \n",
      "50%                                         NaN   \n",
      "75%                                         NaN   \n",
      "max                                         NaN   \n",
      "\n",
      "        retweeted_status_retweet_count  retweeted_status_favorite_count  \\\n",
      "count                4678.000000000000                4678.000000000000   \n",
      "unique                             NaN                              NaN   \n",
      "top                                NaN                              NaN   \n",
      "freq                               NaN                              NaN   \n",
      "mean                   46.561992304404                  30.701368106028   \n",
      "std                    99.411625418680                  87.216811737022   \n",
      "min                     1.000000000000                   0.000000000000   \n",
      "25%                     5.000000000000                   3.000000000000   \n",
      "50%                    19.000000000000                  10.000000000000   \n",
      "75%                    52.000000000000                  34.000000000000   \n",
      "max                  3341.000000000000                3573.000000000000   \n",
      "\n",
      "       retweeted_status_lang  \\\n",
      "count                   4678   \n",
      "unique                    14   \n",
      "top                       en   \n",
      "freq                    4577   \n",
      "mean                     NaN   \n",
      "std                      NaN   \n",
      "min                      NaN   \n",
      "25%                      NaN   \n",
      "50%                      NaN   \n",
      "75%                      NaN   \n",
      "max                      NaN   \n",
      "\n",
      "                                               retweeted_status_entities  \\\n",
      "count                                                               4678   \n",
      "unique                                                              1232   \n",
      "top     {'urls': [], 'hashtags': [], 'user_mentions': [], 'symbols': []}   \n",
      "freq                                                                 350   \n",
      "mean                                                                 NaN   \n",
      "std                                                                  NaN   \n",
      "min                                                                  NaN   \n",
      "25%                                                                  NaN   \n",
      "50%                                                                  NaN   \n",
      "75%                                                                  NaN   \n",
      "max                                                                  NaN   \n",
      "\n",
      "                                                                                                                                                                                                                                                                                                                                                                                                                                                                                                                                                                                                                                                                                                                                                                                                                                                                                                                                                                                                                          retweeted_status_user  \\\n",
      "count                                                                                                                                                                                                                                                                                                                                                                                                                                                                                                                                                                                                                                                                                                                                                                                                                                                                                                                                                                                                                                      4678   \n",
      "unique                                                                                                                                                                                                                                                                                                                                                                                                                                                                                                                                                                                                                                                                                                                                                                                                                                                                                                                                                                                                                                      741   \n",
      "top     {'utc_offset': None, 'friends_count': 6035, 'profile_image_url_https': 'https://pbs.twimg.com/profile_images/749351473524322305/MU1OuGD1_normal.jpg', 'listed_count': 306, 'profile_background_image_url': 'http://abs.twimg.com/images/themes/theme1/bg.png', 'default_profile_image': False, 'favourites_count': 121653, 'description': 'I love my sunburnt country; a land of sweeping plains opinions my own RTS not endorsements', 'created_at': 'Thu Nov 13 02:09:57 +0000 2014', 'is_translator': False, 'profile_background_image_url_https': 'https://abs.twimg.com/images/themes/theme1/bg.png', 'protected': False, 'screen_name': 'AustralisTerry', 'id_str': '2897999540', 'profile_link_color': '3B94D9', 'is_translation_enabled': False, 'translator_type': 'none', 'id': 2897999540, 'geo_enabled': False, 'profile_background_color': '000000', 'lang': 'en', 'has_extended_profile': False, 'profile_sidebar_border_color': '000000', 'profile_text_color': '000000', 'verified': False, 'profile_image_url': 'ht...   \n",
      "freq                                                                                                                                                                                                                                                                                                                                                                                                                                                                                                                                                                                                                                                                                                                                                                                                                                                                                                                                                                                                                                        362   \n",
      "mean                                                                                                                                                                                                                                                                                                                                                                                                                                                                                                                                                                                                                                                                                                                                                                                                                                                                                                                                                                                                                                        NaN   \n",
      "std                                                                                                                                                                                                                                                                                                                                                                                                                                                                                                                                                                                                                                                                                                                                                                                                                                                                                                                                                                                                                                         NaN   \n",
      "min                                                                                                                                                                                                                                                                                                                                                                                                                                                                                                                                                                                                                                                                                                                                                                                                                                                                                                                                                                                                                                         NaN   \n",
      "25%                                                                                                                                                                                                                                                                                                                                                                                                                                                                                                                                                                                                                                                                                                                                                                                                                                                                                                                                                                                                                                         NaN   \n",
      "50%                                                                                                                                                                                                                                                                                                                                                                                                                                                                                                                                                                                                                                                                                                                                                                                                                                                                                                                                                                                                                                         NaN   \n",
      "75%                                                                                                                                                                                                                                                                                                                                                                                                                                                                                                                                                                                                                                                                                                                                                                                                                                                                                                                                                                                                                                         NaN   \n",
      "max                                                                                                                                                                                                                                                                                                                                                                                                                                                                                                                                                                                                                                                                                                                                                                                                                                                                                                                                                                                                                                         NaN   \n",
      "\n",
      "                                          retweeted_status_coordinates  \\\n",
      "count                                                                9   \n",
      "unique                                                               5   \n",
      "top     {'coordinates': [151.20681084, -33.86959545], 'type': 'Point'}   \n",
      "freq                                                                 3   \n",
      "mean                                                               NaN   \n",
      "std                                                                NaN   \n",
      "min                                                                NaN   \n",
      "25%                                                                NaN   \n",
      "50%                                                                NaN   \n",
      "75%                                                                NaN   \n",
      "max                                                                NaN   \n",
      "\n",
      "                                                                                                                                                                                                                                                                                                                                                                                                                                                 retweeted_status_place  \n",
      "count                                                                                                                                                                                                                                                                                                                                                                                                                                                                94  \n",
      "unique                                                                                                                                                                                                                                                                                                                                                                                                                                                               14  \n",
      "top     {'country_code': 'AU', 'country': 'Australia', 'contained_within': [], 'full_name': 'Sydney, New South Wales', 'bounding_box': {'coordinates': [[[150.520928608, -34.1183470085], [151.343020992, -34.1183470085], [151.343020992, -33.578140996], [150.520928608, -33.578140996]]], 'type': 'Polygon'}, 'place_type': 'city', 'name': 'Sydney', 'attributes': {}, 'id': '0073b76548e5984f', 'url': 'https://api.twitter.com/1.1/geo/id/0073b76548e5984f.json'}  \n",
      "freq                                                                                                                                                                                                                                                                                                                                                                                                                                                                 20  \n",
      "mean                                                                                                                                                                                                                                                                                                                                                                                                                                                                NaN  \n",
      "std                                                                                                                                                                                                                                                                                                                                                                                                                                                                 NaN  \n",
      "min                                                                                                                                                                                                                                                                                                                                                                                                                                                                 NaN  \n",
      "25%                                                                                                                                                                                                                                                                                                                                                                                                                                                                 NaN  \n",
      "50%                                                                                                                                                                                                                                                                                                                                                                                                                                                                 NaN  \n",
      "75%                                                                                                                                                                                                                                                                                                                                                                                                                                                                 NaN  \n",
      "max                                                                                                                                                                                                                                                                                                                                                                                                                                                                 NaN  \n"
     ]
    }
   ],
   "source": [
    "    # Analyze the multi-company associated Tweets.\n",
    "    attribute_describe(\"D:/Dropbox/summer-research-2019/jupyter-notebooks/attribute-datasets/\"\n",
    "                       \"data-analysis-datasets/multi-company-tweets-6-22-19.csv\",\n",
    "                       [], \"csv\")"
   ]
  },
  {
   "cell_type": "markdown",
   "metadata": {},
   "source": [
    "<span style=\"font-family:Papyrus; font-size:1.25em;\">\n",
    "\n",
    "After looking at the Tweets directly in Microsoft Excel by loading the CSV dataset file, we have decided to include multi-company associated Tweets in our SLO Twitter data analysis statistics and graphs for the various sections listed in the Jupyter Notebook file titled \"slo-twitter-data-analysis-table-of-contents.ipynb\".<br>\n",
    "\n",
    "</span>"
   ]
  },
  {
   "cell_type": "markdown",
   "metadata": {},
   "source": [
    "## Simple Check for non-Company associated Tweets:"
   ]
  },
  {
   "cell_type": "markdown",
   "metadata": {},
   "source": [
    "<span style=\"font-family:Papyrus; font-size:1.25em;\">\n",
    "\n",
    "The code provides a means by which we can use Pandas to check for any Tweets in our dataset which has a value or lacks a value for a specific attribute or set of attributes.<br>\n",
    "\n",
    "</span>"
   ]
  },
  {
   "cell_type": "code",
   "execution_count": 10,
   "metadata": {},
   "outputs": [],
   "source": [
    "def count_nan_non_nan(input_file_path, attribute_name_list, file_type):\n",
    "    \"\"\"\n",
    "    Function counts the number of NaN and non-Nan examples in a Pandas dataframe for the specified columns.\n",
    "\n",
    "    :param input_file_path: absolute file path of the dataset in CSV or JSON format.\n",
    "    :param attribute_name_list:  list of names of the attributes we are analyzing.\n",
    "    :param file_type: type of input file. (JSON or CSV)\n",
    "    :return: None.\n",
    "    \"\"\"\n",
    "    start_time = time.time()\n",
    "\n",
    "    if file_type == \"csv\":\n",
    "        twitter_data = pd.read_csv(f\"{input_file_path}\", sep=\",\", encoding=\"ISO-8859-1\", dtype=object)\n",
    "    elif file_type == \"json\":\n",
    "        twitter_data = pd.read_json(f\"{input_file_path}\", orient='records', lines=True)\n",
    "    else:\n",
    "        print(f\"Invalid file type entered - aborting operation\")\n",
    "        return\n",
    "\n",
    "    # Create a empty Pandas dataframe.\n",
    "    dataframe = pd.DataFrame(twitter_data)\n",
    "\n",
    "    number_examples = dataframe.shape[0]\n",
    "    number_attributes = dataframe.shape[1]\n",
    "    print(f\"\\nThe number of rows (examples) in the dataframe is {number_examples}\")\n",
    "    print(f\"The number of columns (attributes) in the dataframe is {number_attributes}\\n\")\n",
    "\n",
    "    for attribute_name in attribute_name_list:\n",
    "        null_examples = dataframe[attribute_name].isnull().sum()\n",
    "        non_null_examples = number_examples - null_examples\n",
    "\n",
    "        print(f\"The number of NaN rows for \\\"{attribute_name}\\\" is {null_examples}\")\n",
    "        print(f\"The number of non-NaN rows for \\\"{attribute_name}\\\" is {non_null_examples}\\n\")\n",
    "\n",
    "    end_time = time.time()\n",
    "    time_elapsed_seconds = end_time - start_time\n",
    "    time_elapsed_minutes = (end_time - start_time) / 60.0\n",
    "    time_elapsed_hours = (end_time - start_time) / 60.0 / 60.0\n",
    "    log.debug(f\"The time taken to visualize the statistics is {time_elapsed_seconds} seconds, \"\n",
    "              f\"{time_elapsed_minutes} minutes, {time_elapsed_hours} hours\")"
   ]
  },
  {
   "cell_type": "markdown",
   "metadata": {},
   "source": [
    "<span style=\"font-family:Papyrus; font-size:1.25em;\">\n",
    "\n",
    "Call data analysis function to check for any Tweets that aren't associated with a company at all.<br>\n",
    "\n",
    "</span>"
   ]
  },
  {
   "cell_type": "code",
   "execution_count": 5,
   "metadata": {},
   "outputs": [
    {
     "name": "stdout",
     "output_type": "stream",
     "text": [
      "\n",
      "The number of rows (examples) in the dataframe is 670426\n",
      "The number of columns (attributes) in the dataframe is 50\n",
      "\n",
      "The number of NaN rows for \"company_derived\" is 1057\n",
      "The number of non-NaN rows for \"company_derived\" is 669369\n",
      "\n"
     ]
    }
   ],
   "source": [
    "    # # Determine the number of non-Company associated Tweets.\n",
    "    count_nan_non_nan(\n",
    "        \"D:/Dropbox/summer-research-2019/jupyter-notebooks/attribute-datasets/twitter-dataset-6-22-19-fixed.csv\",\n",
    "        [\"company_derived\"], \"csv\")"
   ]
  },
  {
   "cell_type": "markdown",
   "metadata": {},
   "source": [
    "<span style=\"font-family:Papyrus; font-size:1.25em;\">\n",
    "\n",
    "It appears that 1,057 Tweets are not associated with any companies.  We may consider dropping those from our dataset in the future for SLO topic extraction or stance/sentiment analysis via machine learning.<br>\n",
    "\n",
    "</span>"
   ]
  },
  {
   "cell_type": "markdown",
   "metadata": {},
   "source": [
    "## Tweet Company Assignment Counts:"
   ]
  },
  {
   "cell_type": "markdown",
   "metadata": {},
   "source": [
    "<span style=\"font-family:Papyrus; font-size:1.25em;\">\n",
    "\n",
    "The # of Tweets associated with each company in our dataset.<br>\n",
    "\n",
    "</span>"
   ]
  },
  {
   "cell_type": "code",
   "execution_count": 18,
   "metadata": {
    "scrolled": true
   },
   "outputs": [
    {
     "name": "stdout",
     "output_type": "stream",
     "text": [
      "The total number of Tweets in the dataset is: 670426\n",
      "The number of Tweets associated with adani is 431022\n",
      "The number of Tweets associated with multiple is 8278\n",
      "The number of Tweets associated with bhp is 64347\n",
      "The number of Tweets associated with cuesta is 618\n",
      "The number of Tweets associated with fortescue is 11772\n",
      "The number of Tweets associated with iluka is 3083\n",
      "The number of Tweets associated with newmont is 901\n",
      "The number of Tweets associated with oilsearch is 1556\n",
      "The number of Tweets associated with riotinto is 25499\n",
      "The number of Tweets associated with santos is 92008\n",
      "The number of Tweets associated with whitehaven is 14753\n",
      "The number of Tweets associated with woodside is 15532\n"
     ]
    }
   ],
   "source": [
    "    total_tweets = tweet_dataframe.shape[0]\n",
    "    adani = tweet_dataframe.loc[tweet_dataframe[\"company_derived_designation\"] == \"adani\"]\n",
    "    multiple = tweet_dataframe.loc[tweet_dataframe[\"company_derived_designation\"] == \"multiple\"]\n",
    "    bhp = tweet_dataframe.loc[tweet_dataframe[\"company_derived_designation\"] == \"bhp\"]\n",
    "    cuesta = tweet_dataframe.loc[tweet_dataframe[\"company_derived_designation\"] == \"cuesta\"]\n",
    "    fortescue = tweet_dataframe.loc[tweet_dataframe[\"company_derived_designation\"] == \"fortescue\"]\n",
    "    iluka = tweet_dataframe.loc[tweet_dataframe[\"company_derived_designation\"] == \"iluka\"]\n",
    "    newmont = tweet_dataframe.loc[tweet_dataframe[\"company_derived_designation\"] == \"newmont\"]\n",
    "    oilsearch = tweet_dataframe.loc[tweet_dataframe[\"company_derived_designation\"] == \"oilsearch\"]\n",
    "    riotinto = tweet_dataframe.loc[tweet_dataframe[\"company_derived_designation\"] == \"riotinto\"]\n",
    "    santos = tweet_dataframe.loc[tweet_dataframe[\"company_derived_designation\"] == \"santos\"]\n",
    "    whitehaven = tweet_dataframe.loc[tweet_dataframe[\"company_derived_designation\"] == \"whitehaven\"]\n",
    "    woodside = tweet_dataframe.loc[tweet_dataframe[\"company_derived_designation\"] == \"woodside\"]\n",
    "\n",
    "    print(f\"The total number of Tweets in the dataset is: {total_tweets}\")\n",
    "    print(f\"The number of Tweets associated with adani is {adani.shape[0]}\")\n",
    "    print(f\"The number of Tweets associated with multiple is {multiple.shape[0]}\")\n",
    "    print(f\"The number of Tweets associated with bhp is {bhp.shape[0]}\")\n",
    "    print(f\"The number of Tweets associated with cuesta is {cuesta.shape[0]}\")\n",
    "    print(f\"The number of Tweets associated with fortescue is {fortescue.shape[0]}\")\n",
    "    print(f\"The number of Tweets associated with iluka is {iluka.shape[0]}\")\n",
    "    print(f\"The number of Tweets associated with newmont is {newmont.shape[0]}\")\n",
    "    print(f\"The number of Tweets associated with oilsearch is {oilsearch.shape[0]}\")\n",
    "    print(f\"The number of Tweets associated with riotinto is {riotinto.shape[0]}\")\n",
    "    print(f\"The number of Tweets associated with santos is {santos.shape[0]}\")\n",
    "    print(f\"The number of Tweets associated with whitehaven is {whitehaven.shape[0]}\")\n",
    "    print(f\"The number of Tweets associated with woodside is {woodside.shape[0]}\")"
   ]
  },
  {
   "cell_type": "markdown",
   "metadata": {},
   "source": [
    "<span style=\"font-family:Papyrus; font-size:1.25em;\">\n",
    "\n",
    "Most Tweets are associated with Adani.<br>\n",
    "\n",
    "</span>"
   ]
  },
  {
   "cell_type": "code",
   "execution_count": null,
   "metadata": {},
   "outputs": [],
   "source": []
  }
 ],
 "metadata": {
  "kernelspec": {
   "display_name": "Python 3",
   "language": "python",
   "name": "python3"
  },
  "language_info": {
   "codemirror_mode": {
    "name": "ipython",
    "version": 3
   },
   "file_extension": ".py",
   "mimetype": "text/x-python",
   "name": "python",
   "nbconvert_exporter": "python",
   "pygments_lexer": "ipython3",
   "version": "3.6.8"
  },
  "pycharm": {
   "stem_cell": {
    "cell_type": "raw",
    "metadata": {
     "collapsed": false
    },
    "source": []
   }
  }
 },
 "nbformat": 4,
 "nbformat_minor": 1
}
