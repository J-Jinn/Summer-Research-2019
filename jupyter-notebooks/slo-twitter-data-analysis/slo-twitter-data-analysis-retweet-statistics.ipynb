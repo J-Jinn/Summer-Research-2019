{
 "cells": [
  {
   "cell_type": "code",
   "execution_count": 1,
   "metadata": {},
   "outputs": [],
   "source": [
    "import slo_twitter_data_analysis_utility_functions_v2 as tweet_util_v2\n",
    "\n",
    "# Import CSV dataset and convert to dataframe.\n",
    "tweet_csv_dataframe = tweet_util_v2.import_dataset(\n",
    "    \"D:/Dropbox/summer-research-2019/jupyter-notebooks/attribute-datasets/twitter-dataset-6-22-19-test.csv\",\n",
    "    \"csv\", False)"
   ]
  },
  {
   "cell_type": "markdown",
   "metadata": {},
   "source": [
    "### Re-Tweet Statistics for Twitter dataset::"
   ]
  },
  {
   "cell_type": "markdown",
   "metadata": {},
   "source": [
    "<span style=\"font-family:Papyrus; font-size:1.25em;\">\n",
    "\n",
    "This function computes statistics related to re-Tweets.  Refer to the code comments in the cell below for specifics.<br>\n",
    "\n",
    "</span>"
   ]
  },
  {
   "cell_type": "code",
   "execution_count": null,
   "metadata": {
    "pycharm": {
     "name": "#%%\n"
    }
   },
   "outputs": [],
   "source": [
    "def retweet_statistics(tweet_dataframe):\n",
    "    \"\"\"\n",
    "    Re-Tweet statistics and visualizations for the CSV format Twitter dataset.\n",
    "    Uses the Pandas \"value_counts()\" function to display unique values for the attribute.\n",
    "    Groups user-specified attribute by the company the Tweet is associated with.\n",
    "\n",
    "    Note: The raw JSON file does not have associated \"company\" information.\n",
    "\n",
    "    :param tweet_dataframe: the Twitter dataset in a Pandas dataframe.\n",
    "    :return: None.\n",
    "    \"\"\"\n",
    "\n",
    "    # Select only rows with one associated company. (don't graph company combos)\n",
    "    single_company_only_df = tweet_dataframe.loc[tweet_dataframe['multiple_companies_derived_count'] == 1]\n",
    "\n",
    "    print(f\"ReTweeted Attribute Statistics for entire CSV dataset:\")\n",
    "    print(tweet_dataframe[\"retweeted_derived\"].value_counts())\n",
    "    print()\n",
    "\n",
    "    print(f\"ReTweeted Statistics for CSV dataset by Company:\")\n",
    "    print(f\"Number of Tweets that are \\\"retweeted_derived\\\" Attribute by associated company: \")\n",
    "    print(tweet_dataframe.groupby(['company_derived_designation', \"retweeted_derived\"]).size())\n",
    "    print()\n",
    "\n",
    "    # Graph the Statistics.\n",
    "    print(f\"Percentage of All Tweets that Are or Aren't Retweets' by Associated Company: \")\n",
    "    plt.figure()\n",
    "    grid = sns.FacetGrid(tweet_dataframe[[\"retweeted_derived\", 'company_derived_designation']],\n",
    "                         col='company_derived_designation',\n",
    "                         col_wrap=6, ylim=(0, 1))\n",
    "    grid.map_dataframe(tweet_util.bar_plot, \"retweeted_derived\").set_titles('{col_name}') \\\n",
    "        .set_xlabels(\"ReTweet - 0.0 No, 1.0 Yes\").set_ylabels(\"Percentage of All Tweets\")\n",
    "    plt.show()\n",
    "\n",
    "    plt.figure()\n",
    "    print(f\"Percentage of All Tweets Associated with a Given Company by ReTweet Count\")\n",
    "    grid = sns.FacetGrid(tweet_dataframe[['tweet_id', 'company_derived_designation']],\n",
    "                         col='company_derived_designation', col_wrap=6,\n",
    "                         ylim=(0, 1),\n",
    "                         xlim=(0, 10))\n",
    "    grid.map_dataframe(tweet_util.bar_plot_zipf, 'tweet_id').set_titles('{col_name}').set_xlabels(\n",
    "        'ReTweeted Count').set_ylabels(\"Percentage of All Tweets\")\n",
    "    plt.show()\n",
    "\n",
    "    # Retweet counts of the top Retweeted Tweets.\n",
    "    print(f\"\\nReTweet counts for the Top (most) Retweeted Tweets.\\n\")\n",
    "    print(tweet_dataframe[['company_derived_designation', 'tweet_id']].groupby('company_derived_designation') \\\n",
    "          .apply(lambda x: x['tweet_id'].value_counts().value_counts(normalize=True) \\\n",
    "                 .sort_index(ascending=False).head(3)))\n",
    "\n",
    "    # Portion of top Retweeted Tweets.\n",
    "    print(f\"\\nWhat Percentage of All Tweets for Given Company does the Top (most) Retweeted Tweets Comprise?.\\n\")\n",
    "    print(tweet_dataframe[['company_derived_designation', 'tweet_id']].groupby('company_derived_designation') \\\n",
    "          .apply(lambda x: x['tweet_id'].value_counts(normalize=True).head()))"
   ]
  },
  {
   "cell_type": "markdown",
   "metadata": {},
   "source": [
    "<span style=\"font-family:Papyrus; font-size:1.25em;\">\n",
    "    \n",
    "We call out data analysis function and pass in the CSV dataset imported at the beginning of the sections detailing our data analysis.<br>\n",
    "    \n",
    "</span>"
   ]
  },
  {
   "cell_type": "code",
   "execution_count": null,
   "metadata": {
    "pycharm": {
     "name": "#%%\n"
    }
   },
   "outputs": [],
   "source": [
    "    # Determine whether Tweets have been re-Tweeted.\n",
    "    retweet_statistics(tweet_csv_dataframe)"
   ]
  },
  {
   "cell_type": "markdown",
   "metadata": {},
   "source": [
    "<span style=\"font-family:Papyrus; font-size:1.25em;\">\n",
    "\n",
    "The first set of graphs show the proportion of Tweets that are or are not re-tweets by the company the Tweets are associated with.<br>\n",
    "\n",
    "The second set of graphs show how many times a proportion of Tweets have been re-Tweeted that are associated with a given company.  For example, a bar of 0.4 on the y-axis and 4 on the x-axis would indicate that 40% of all the Tweets associated with that company have been re-Tweeted 4 times.<br>\n",
    "\n",
    "</span>"
   ]
  },
  {
   "cell_type": "markdown",
   "metadata": {},
   "source": [
    "<span style=\"font-family:Papyrus; font-size:1.25em;\">\n",
    "\n",
    "**TODO: finish analyzing and answering questions posted in Trello board tasks.**<br>\n",
    "\n",
    "Note: Retweet text ARE included in the \"retweeted_status\" meta object.<br>\n",
    "\n",
    "</span>"
   ]
  },
  {
   "cell_type": "code",
   "execution_count": null,
   "metadata": {
    "pycharm": {
     "name": "#%%\n"
    }
   },
   "outputs": [],
   "source": [
    "<span style=\"font-family:Papyrus; font-size:1.25em;\">\n",
    "\n",
    "Placeholder.\n",
    "\n",
    "</span>"
   ]
  },
  {
   "cell_type": "code",
   "execution_count": null,
   "metadata": {
    "pycharm": {
     "name": "#%%\n"
    }
   },
   "outputs": [],
   "source": [
    "<span style=\"font-family:Papyrus; font-size:1.25em;\">\n",
    "\n",
    "Placeholder.\n",
    "\n",
    "</span>"
   ]
  },
  {
   "cell_type": "code",
   "execution_count": null,
   "metadata": {
    "pycharm": {
     "name": "#%%\n"
    }
   },
   "outputs": [],
   "source": [
    "<span style=\"font-family:Papyrus; font-size:1.25em;\">\n",
    "\n",
    "Placeholder.\n",
    "\n",
    "</span>"
   ]
  },
  {
   "cell_type": "code",
   "execution_count": null,
   "metadata": {
    "pycharm": {
     "name": "#%%\n"
    }
   },
   "outputs": [],
   "source": [
    "<span style=\"font-family:Papyrus; font-size:1.25em;\">\n",
    "\n",
    "Placeholder.\n",
    "\n",
    "</span>"
   ]
  },
  {
   "cell_type": "code",
   "execution_count": null,
   "metadata": {
    "pycharm": {
     "name": "#%%\n"
    }
   },
   "outputs": [],
   "source": [
    "<span style=\"font-family:Papyrus; font-size:1.25em;\">\n",
    "\n",
    "Placeholder.\n",
    "\n",
    "</span>"
   ]
  },
  {
   "cell_type": "code",
   "execution_count": null,
   "metadata": {
    "pycharm": {
     "name": "#%%\n"
    }
   },
   "outputs": [],
   "source": []
  }
 ],
 "metadata": {
  "kernelspec": {
   "display_name": "Python 3",
   "language": "python",
   "name": "python3"
  },
  "language_info": {
   "codemirror_mode": {
    "name": "ipython",
    "version": 3
   },
   "file_extension": ".py",
   "mimetype": "text/x-python",
   "name": "python",
   "nbconvert_exporter": "python",
   "pygments_lexer": "ipython3",
   "version": "3.6.8"
  },
  "pycharm": {
   "stem_cell": {
    "cell_type": "raw",
    "metadata": {
     "collapsed": false
    },
    "source": []
   }
  }
 },
 "nbformat": 4,
 "nbformat_minor": 1
}
