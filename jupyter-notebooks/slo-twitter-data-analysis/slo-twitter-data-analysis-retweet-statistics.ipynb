{
 "cells": [
  {
   "cell_type": "code",
   "execution_count": null,
   "metadata": {},
   "outputs": [],
   "source": []
  },
  {
   "cell_type": "markdown",
   "metadata": {},
   "source": [
    "# SLO Twitter Data Analysis  - Retweet Statistics"
   ]
  },
  {
   "cell_type": "markdown",
   "metadata": {},
   "source": [
    "Setup Jupyter Notebook kernel for SLO data analysis.<br>"
   ]
  },
  {
   "cell_type": "code",
   "execution_count": 7,
   "metadata": {},
   "outputs": [
    {
     "name": "stderr",
     "output_type": "stream",
     "text": [
      "d:\\dropbox\\cs344-ai\\venv3.6-64bit\\lib\\site-packages\\IPython\\core\\interactiveshell.py:3209: DtypeWarning: Columns (36,48) have mixed types. Specify dtype option on import or set low_memory=False.\n",
      "  if (yield from self.run_code(code, result)):\n"
     ]
    }
   ],
   "source": [
    "import logging as log\n",
    "import warnings\n",
    "import time\n",
    "from matplotlib import pyplot as plt\n",
    "import pandas as pd\n",
    "import seaborn as sns\n",
    "\n",
    "# Import custom utility functions.\n",
    "import slo_twitter_data_analysis_utility_functions_v2 as tweet_util_v2\n",
    "\n",
    "#############################################################\n",
    "# Adjust parameters to display all contents.\n",
    "pd.options.display.max_rows = None\n",
    "pd.options.display.max_columns = None\n",
    "pd.options.display.width = None\n",
    "pd.options.display.max_colwidth = 1000\n",
    "# Seaborn setting.\n",
    "sns.set()\n",
    "# Set level of precision for float value output.\n",
    "pd.set_option('precision', 12)\n",
    "# Ignore these types of warnings - don't output to console.\n",
    "warnings.simplefilter(action='ignore', category=FutureWarning)\n",
    "warnings.simplefilter(action='ignore', category=DeprecationWarning)\n",
    "warnings.simplefilter(action='ignore', category=UserWarning)\n",
    "# Matplotlib log settings.\n",
    "mylog = log.getLogger(\"matplotlib\")\n",
    "mylog.setLevel(log.INFO)\n",
    "\n",
    "\"\"\"\n",
    "Turn debug log statements for various sections of code on/off.\n",
    "(adjust log level as necessary)\n",
    "\"\"\"\n",
    "log.basicConfig(level=log.INFO)\n",
    "\n",
    "\n",
    "# Import CSV dataset and convert to dataframe.\n",
    "tweet_dataframe = tweet_util_v2.import_dataset(\n",
    "    \"D:/Dropbox/summer-research-2019/jupyter-notebooks/attribute-datasets/\"\n",
    "    \"twitter-dataset-6-22-19-fixed.csv\",\n",
    "    \"csv\", False)"
   ]
  },
  {
   "cell_type": "markdown",
   "metadata": {},
   "source": [
    "<span style=\"font-family:Papyrus; font-size:1.25em;\">\n",
    "\n",
    "**Note: Retweet text ARE included in the \"retweeted_status\" meta object.**<br>\n",
    "\n",
    "</span>"
   ]
  },
  {
   "cell_type": "markdown",
   "metadata": {},
   "source": [
    "## Subtitle Placeholder:"
   ]
  },
  {
   "cell_type": "markdown",
   "metadata": {},
   "source": [
    "<span style=\"font-family:Papyrus; font-size:1.25em;\">\n",
    "\n",
    "This code cell provides statistics on whether a Tweet is Retweet across the entire dataset as well as when grouped by the companies each is associated with.<br>\n",
    "\n",
    "</span>"
   ]
  },
  {
   "cell_type": "code",
   "execution_count": 5,
   "metadata": {
    "pycharm": {
     "name": "#%%\n"
    }
   },
   "outputs": [
    {
     "name": "stdout",
     "output_type": "stream",
     "text": [
      "ReTweeted Statistics for entire Twitter dataset:\n",
      "True     446177\n",
      "False    224249\n",
      "Name: retweeted_derived, dtype: int64\n",
      "True     0.665512674031\n",
      "False    0.334487325969\n",
      "Name: retweeted_derived, dtype: float64\n",
      "\n",
      "ReTweeted Statistics for Tweets by Company for entire Twitter dataset:\n",
      "company_derived_designation  retweeted_derived\n",
      "adani                        False                109457\n",
      "                             True                 321565\n",
      "bhp                          False                 37863\n",
      "                             True                  26484\n",
      "cuesta                       False                   464\n",
      "                             True                    154\n",
      "fortescue                    False                  7510\n",
      "                             True                   4262\n",
      "iluka                        False                  2589\n",
      "                             True                    494\n",
      "multiple                     False                  3587\n",
      "                             True                   4691\n",
      "newmont                      False                   720\n",
      "                             True                    181\n",
      "oilsearch                    False                  1207\n",
      "                             True                    349\n",
      "riotinto                     False                 15652\n",
      "                             True                   9847\n",
      "santos                       False                 27948\n",
      "                             True                  64060\n",
      "whitehaven                   False                  6545\n",
      "                             True                   8208\n",
      "woodside                     False                  9965\n",
      "                             True                   5567\n",
      "dtype: int64\n",
      "\n"
     ]
    }
   ],
   "source": [
    "    print(f\"ReTweeted Statistics for entire Twitter dataset:\")\n",
    "    print(tweet_dataframe[\"retweeted_derived\"].value_counts())\n",
    "    print(tweet_dataframe[\"retweeted_derived\"].value_counts(normalize=True))\n",
    "    print()\n",
    "\n",
    "    print(f\"ReTweeted Statistics for Tweets by Company for entire Twitter dataset:\")\n",
    "    print(tweet_dataframe.groupby(['company_derived_designation', \"retweeted_derived\"]).size())\n",
    "    print()"
   ]
  },
  {
   "cell_type": "code",
   "execution_count": null,
   "metadata": {},
   "outputs": [],
   "source": [
    "# TODO - implement normalized (percentage values) for ReTweets grouped by associated companies."
   ]
  },
  {
   "cell_type": "markdown",
   "metadata": {},
   "source": [
    "<span style=\"font-family:Papyrus; font-size:1.25em;\">\n",
    "    \n",
    "It seems most of the Tweets in our dataset are ReTweets.  If we removed the ReTweets associated with Adani, we would have a more balanced dataset.<br>\n",
    "    \n",
    "</span>"
   ]
  },
  {
   "cell_type": "markdown",
   "metadata": {},
   "source": [
    "## Subtitle Placeholder:"
   ]
  },
  {
   "cell_type": "markdown",
   "metadata": {},
   "source": [
    "<span style=\"font-family:Papyrus; font-size:1.25em;\">\n",
    "\n",
    "Plot of whether a Tweet is a ReTweet or Not by the company they are associated with.  Y-axis depicts the percentage of all Tweets for that company.  X-axis left bar depicts Non-Retweets and right bar depicts ReTWeets.<br>\n",
    "\n",
    "</span>"
   ]
  },
  {
   "cell_type": "code",
   "execution_count": 3,
   "metadata": {
    "pycharm": {
     "name": "#%%\n"
    }
   },
   "outputs": [
    {
     "name": "stdout",
     "output_type": "stream",
     "text": [
      "Percentage of All Tweets for a Company that Are or Aren't ReTweets: \n"
     ]
    },
    {
     "data": {
      "text/plain": [
       "<Figure size 432x288 with 0 Axes>"
      ]
     },
     "metadata": {},
     "output_type": "display_data"
    },
    {
     "data": {
      "image/png": "[encoded data removed]",
      "text/plain": [
       "<Figure size 1296x432 with 12 Axes>"
      ]
     },
     "metadata": {
      "needs_background": "light"
     },
     "output_type": "display_data"
    }
   ],
   "source": [
    "    print(f\"Percentage of All Tweets for a Company that Are or Aren't ReTweets: \")\n",
    "    plt.figure()\n",
    "    grid = sns.FacetGrid(tweet_dataframe[[\"retweeted_derived\", 'company_derived_designation']],\n",
    "                         col='company_derived_designation', col_wrap=6, ylim=(0, 1))\n",
    "    grid.map_dataframe(tweet_util_v2.bar_plot, \"retweeted_derived\")\n",
    "    grid.set_titles('{col_name}')\n",
    "    grid.set_xlabels(\"ReTweet - 0.0 No, 1.0 Yes\").set_ylabels(\"Percentage of All Tweets\")\n",
    "    plt.show()"
   ]
  },
  {
   "cell_type": "markdown",
   "metadata": {},
   "source": [
    "<span style=\"font-family:Papyrus; font-size:1.25em;\">\n",
    "\n",
    "We see that most Tweets about \"Adani\" are ReTweets while most Tweets for many of the other companies are not ReTweets.<br>\n",
    "\n",
    "</span>"
   ]
  },
  {
   "cell_type": "markdown",
   "metadata": {},
   "source": [
    "## Subtitle Placeholder:"
   ]
  },
  {
   "cell_type": "markdown",
   "metadata": {
    "pycharm": {
     "name": "#%%\n"
    }
   },
   "source": [
    "<span style=\"font-family:Papyrus; font-size:1.25em;\">\n",
    "\n",
    "Plot of the ReTweet counts for each Tweet against what percentage Tweets with that specific ReTweet count value make up the entire Twitter dataset.<br> \n",
    "\n",
    "</span>"
   ]
  },
  {
   "cell_type": "code",
   "execution_count": 4,
   "metadata": {},
   "outputs": [
    {
     "name": "stdout",
     "output_type": "stream",
     "text": [
      "Percentage Composition of All Tweets for a Company for Most ReTweeted Tweets by their ReTweet Counts:\n"
     ]
    },
    {
     "data": {
      "text/plain": [
       "<Figure size 432x288 with 0 Axes>"
      ]
     },
     "metadata": {},
     "output_type": "display_data"
    },
    {
     "data": {
      "image/png": "[encoded data removed]",
      "text/plain": [
       "<Figure size 1296x432 with 12 Axes>"
      ]
     },
     "metadata": {
      "needs_background": "light"
     },
     "output_type": "display_data"
    }
   ],
   "source": [
    "    plt.figure()\n",
    "    print(f\"Percentage Composition of All Tweets for a Company for Most ReTweeted Tweets by their ReTweet Counts:\")\n",
    "    grid = sns.FacetGrid(tweet_dataframe[['tweet_id', 'company_derived_designation']],\n",
    "                         col='company_derived_designation', col_wrap=6, ylim=(0, 1), xlim=(0, 10))\n",
    "    grid.map_dataframe(tweet_util_v2.bar_plot_zipf, 'tweet_id')\n",
    "    grid.set_titles('{col_name}')\n",
    "    grid.set_xlabels('ReTweeted Count').set_ylabels(\"Percentage of All Tweets\")\n",
    "    plt.show()"
   ]
  },
  {
   "cell_type": "markdown",
   "metadata": {
    "pycharm": {
     "name": "#%%\n"
    }
   },
   "source": [
    "<span style=\"font-family:Papyrus; font-size:1.25em;\">\n",
    "\n",
    "We can see that for Adani the ReTweet count can go up quite high.  However, for the the other companies the ReTweet count does not go much past 3 or so.<br>\n",
    "\n",
    "</span>"
   ]
  },
  {
   "cell_type": "markdown",
   "metadata": {},
   "source": [
    "## Subtitle Placeholder:"
   ]
  },
  {
   "cell_type": "markdown",
   "metadata": {},
   "source": [
    "<span style=\"font-family:Papyrus; font-size:1.25em;\">\n",
    "    \n",
    "We compute statistics for the ReTweet count for the most ReTweeted Tweets.<br>\n",
    "   \n",
    "</span>"
   ]
  },
  {
   "cell_type": "code",
   "execution_count": 5,
   "metadata": {
    "pycharm": {
     "name": "#%%\n"
    }
   },
   "outputs": [
    {
     "name": "stdout",
     "output_type": "stream",
     "text": [
      "\n",
      "ReTweet counts for the Top (most) Retweeted Tweets.\n",
      "\n",
      "company_derived_designation     \n",
      "adani                        387      1\n",
      "                             350      1\n",
      "                             338      1\n",
      "bhp                          39       1\n",
      "                             34       1\n",
      "                             31       2\n",
      "cuesta                       4        2\n",
      "                             2        7\n",
      "                             1      596\n",
      "fortescue                    9        1\n",
      "                             8        2\n",
      "                             7        5\n",
      "iluka                        6        1\n",
      "                             4       11\n",
      "                             3       36\n",
      "multiple                     10       1\n",
      "                             9        1\n",
      "                             8        1\n",
      "newmont                      4        3\n",
      "                             3        9\n",
      "                             2       57\n",
      "oilsearch                    6        1\n",
      "                             5        1\n",
      "                             4        6\n",
      "riotinto                     12       1\n",
      "                             10       1\n",
      "                             9        4\n",
      "santos                       36       1\n",
      "                             30       1\n",
      "                             26       2\n",
      "whitehaven                   16       1\n",
      "                             15       1\n",
      "                             14       1\n",
      "woodside                     26       1\n",
      "                             15       1\n",
      "                             14       1\n",
      "Name: tweet_id, dtype: int64\n"
     ]
    }
   ],
   "source": [
    "    print(f\"\\nReTweet counts for the Top (most) Retweeted Tweets.\\n\")\n",
    "    print(tweet_dataframe[['company_derived_designation', 'tweet_id']].groupby('company_derived_designation')\n",
    "          .apply(lambda x: x['tweet_id'].value_counts().value_counts(normalize=False)\n",
    "                 .sort_index(ascending=False).head(3)))"
   ]
  },
  {
   "cell_type": "markdown",
   "metadata": {
    "pycharm": {
     "name": "#%%\n"
    }
   },
   "source": [
    "<span style=\"font-family:Papyrus; font-size:1.25em;\">\n",
    "\n",
    "Unsurprisingly at this point, Adani Tweets have the highest counts for ReTweets.<br>\n",
    "\n",
    "**TODO: Understand what the values in the right column represent.  Are they the number of Tweets with that count?**\n",
    "\n",
    "</span>"
   ]
  },
  {
   "cell_type": "markdown",
   "metadata": {},
   "source": [
    "## Subtitle Placeholder:"
   ]
  },
  {
   "cell_type": "markdown",
   "metadata": {},
   "source": [
    "<span style=\"font-family:Papyrus; font-size:1.25em;\">\n",
    "\n",
    "Statistics that give the Tweet ID of the most ReTweeted Tweets and what percentage of the entire dataset they comprise.<br>\n",
    "\n",
    "</span>"
   ]
  },
  {
   "cell_type": "code",
   "execution_count": 11,
   "metadata": {
    "scrolled": false
   },
   "outputs": [
    {
     "name": "stdout",
     "output_type": "stream",
     "text": [
      "\n",
      "What Percentage of All Tweets for Given Company does the Top (most) Retweeted Tweets Comprise?.\n",
      "\n",
      "company_derived_designation                    \n",
      "adani                        9.147970000000e+17    0.000897866002\n",
      "                             9.147960000000e+17    0.000812023516\n",
      "                             9.147980000000e+17    0.000784182710\n",
      "                             9.147950000000e+17    0.000702980358\n",
      "                             9.147910000000e+17    0.000702980358\n",
      "bhp                          7.042410000000e+17    0.000606088862\n",
      "                             7.042490000000e+17    0.000528385162\n",
      "                             7.042430000000e+17    0.000481762942\n",
      "                             7.042470000000e+17    0.000481762942\n",
      "                             7.042480000000e+17    0.000466222202\n",
      "cuesta                       3.112840000000e+17    0.006472491909\n",
      "                             3.047670000000e+17    0.006472491909\n",
      "                             6.167630000000e+17    0.003236245955\n",
      "                             7.410500000000e+17    0.003236245955\n",
      "                             3.047660000000e+17    0.003236245955\n",
      "fortescue                    3.649080000000e+17    0.000764525994\n",
      "                             3.649050000000e+17    0.000679578661\n",
      "                             5.226980000000e+17    0.000679578661\n",
      "                             3.059330000000e+17    0.000594631329\n",
      "                             8.940020000000e+17    0.000594631329\n",
      "iluka                        7.292550000000e+17    0.001946156341\n",
      "                             6.878650000000e+17    0.001297437561\n",
      "                             7.328010000000e+17    0.001297437561\n",
      "                             5.884910000000e+17    0.001297437561\n",
      "                             4.237160000000e+17    0.001297437561\n",
      "multiple                     5.784280000000e+17    0.001208021261\n",
      "                             5.179090000000e+17    0.001087219135\n",
      "                             6.104080000000e+17    0.000966417009\n",
      "                             6.410500000000e+17    0.000724812757\n",
      "                             5.880850000000e+17    0.000724812757\n",
      "newmont                      4.972710000000e+17    0.004439511654\n",
      "                             4.733540000000e+17    0.004439511654\n",
      "                             4.733530000000e+17    0.004439511654\n",
      "                             7.859930000000e+17    0.003329633740\n",
      "                             5.042570000000e+17    0.003329633740\n",
      "oilsearch                    9.759920000000e+17    0.003856041131\n",
      "                             7.559290000000e+17    0.003213367609\n",
      "                             7.549360000000e+17    0.002570694087\n",
      "                             7.336000000000e+17    0.002570694087\n",
      "                             5.903360000000e+17    0.002570694087\n",
      "riotinto                     8.066730000000e+17    0.000470606690\n",
      "                             5.751780000000e+17    0.000392172242\n",
      "                             9.204230000000e+17    0.000352955018\n",
      "                             8.067120000000e+17    0.000352955018\n",
      "                             9.204270000000e+17    0.000352955018\n",
      "santos                       4.832960000000e+17    0.000391270324\n",
      "                             3.998620000000e+17    0.000326058604\n",
      "                             3.839480000000e+17    0.000282584123\n",
      "                             3.839460000000e+17    0.000282584123\n",
      "                             8.277240000000e+17    0.000271715503\n",
      "whitehaven                   7.473740000000e+17    0.001084525181\n",
      "                             4.769710000000e+17    0.001016742357\n",
      "                             4.769730000000e+17    0.000948959534\n",
      "                             4.925570000000e+17    0.000813393886\n",
      "                             7.473770000000e+17    0.000745611062\n",
      "woodside                     3.224900000000e+17    0.001673963430\n",
      "                             3.224890000000e+17    0.000965748133\n",
      "                             3.225110000000e+17    0.000901364924\n",
      "                             3.224880000000e+17    0.000836981715\n",
      "                             3.225170000000e+17    0.000772598506\n",
      "Name: tweet_id, dtype: float64\n"
     ]
    }
   ],
   "source": [
    "    print(\n",
    "        f\"\\nWhat Percentage of All Tweets for Given Company across the entire dataset does the Top (most) Retweeted \"\n",
    "        f\"Tweets Comprise?.\\n\")\n",
    "    print(tweet_dataframe[['company_derived_designation', 'tweet_id']].groupby('company_derived_designation')\n",
    "          .apply(lambda x: x['tweet_id'].value_counts(normalize=True).head(5)))"
   ]
  },
  {
   "cell_type": "markdown",
   "metadata": {
    "pycharm": {
     "name": "#%%\n"
    }
   },
   "source": [
    "<span style=\"font-family:Papyrus; font-size:1.25em;\">\n",
    "\n",
    "The higher the percentage values given in the right column, the more popular a Tweet is and the more they were ReTweeted and the more they weigh heavily as part of that company's set of associated Tweets.<br>\n",
    "\n",
    "**TODO: Confirm our interpretation is correct and fix the Tweet ID output.**\n",
    "\n",
    "</span>"
   ]
  },
  {
   "cell_type": "markdown",
   "metadata": {},
   "source": [
    "## Subtitle Placeholder:"
   ]
  },
  {
   "cell_type": "code",
   "execution_count": 9,
   "metadata": {},
   "outputs": [
    {
     "name": "stdout",
     "output_type": "stream",
     "text": [
      "Note: These values based on 'retweeted_derived' boolean attribute:\n",
      "The number of Re-Tweets in the dataset: (446177, 50)\n",
      "The number of Non Re-Tweets in the dataset: (224249, 50)\n",
      "The percentage of Tweets that are ReTweets in the dataset: 0.6655126740311385\n",
      "The percentage of Tweets that are not ReTweets in the dataset: 0.3344873259688616\n"
     ]
    }
   ],
   "source": [
    "    print(\"Note: These values based on 'retweeted_derived' boolean attribute:\")\n",
    "\n",
    "    yes_reweeted = tweet_dataframe.loc[tweet_dataframe['retweeted_derived'] == True]\n",
    "    print(f\"The number of Re-Tweets in the dataset: {yes_reweeted.shape}\")\n",
    "    no_reweeted = tweet_dataframe.loc[tweet_dataframe['retweeted_derived'] == False]\n",
    "    print(f\"The number of Non Re-Tweets in the dataset: {no_reweeted.shape}\")\n",
    "\n",
    "    print(f\"The percentage of Tweets that are ReTweets in the dataset: \"\n",
    "          f\"{yes_reweeted.shape[0] / tweet_dataframe.shape[0]}\")\n",
    "    print(f\"The percentage of Tweets that are not ReTweets in the dataset: \"\n",
    "          f\"{no_reweeted.shape[0] / tweet_dataframe.shape[0]}\")"
   ]
  },
  {
   "cell_type": "markdown",
   "metadata": {},
   "source": [
    "<span style=\"font-family:Papyrus; font-size:1.25em;\">\n",
    "\n",
    "Approximately 2/3rd of our dataset is comprised of ReTweets.<br>\n",
    "\n",
    "</span>"
   ]
  },
  {
   "cell_type": "code",
   "execution_count": 11,
   "metadata": {
    "pycharm": {
     "name": "#%%\n"
    }
   },
   "outputs": [
    {
     "name": "stdout",
     "output_type": "stream",
     "text": [
      "# of re-tweets with included original text of the original re-tweeted Tweet is: (445533, 50)\n",
      "# of re-tweets without included original text of the original re-tweeted Tweet is: 644\n"
     ]
    }
   ],
   "source": [
    "    has_retweeted_text = tweet_dataframe.loc[tweet_dataframe[\"retweeted_status_full_text\"].notnull()]\n",
    "    print(f\"# of re-tweets with included original text of the original re-tweeted Tweet is: \"\n",
    "          f\"{has_retweeted_text.shape}\")\n",
    "    print(f\"# of re-tweets without included original text of the original re-tweeted Tweet is: \"\n",
    "          f\"{yes_reweeted.shape[0] - has_retweeted_text.shape[0]}\")"
   ]
  },
  {
   "cell_type": "markdown",
   "metadata": {},
   "source": [
    "<span style=\"font-family:Papyrus; font-size:1.25em;\">\n",
    "\n",
    "We have the original ReTweeted Tweet's full text for most, but not all, of our Tweets in our dataset.<br>\n",
    "\n",
    "</span>"
   ]
  },
  {
   "cell_type": "code",
   "execution_count": 15,
   "metadata": {},
   "outputs": [
    {
     "name": "stdout",
     "output_type": "stream",
     "text": [
      "Tweet ID's and ReTweet Count for the Original ReTweeted Tweet (Descending head):\n",
      "                  tweet_id  tweet_retweet_count\n",
      "498071  9.834100000000e+17                98886\n",
      "634814  9.733910000000e+17                24691\n",
      "633506  9.682780000000e+17                24639\n",
      "633518  9.683350000000e+17                24639\n",
      "633529  9.683710000000e+17                24639\n",
      "633624  9.685870000000e+17                24635\n",
      "633603  9.685520000000e+17                24635\n",
      "498325  9.929570000000e+17                23823\n",
      "498337  9.932440000000e+17                23823\n",
      "498336  9.931420000000e+17                23823\n"
     ]
    }
   ],
   "source": [
    "    retweet_frequency = tweet_dataframe[[\"tweet_id\", \"tweet_retweet_count\"]]\n",
    "    print(\"Tweet ID's and ReTweet Count for the Original ReTweeted Tweet (Descending head):\")\n",
    "    print(retweet_frequency.sort_values(by=[\"tweet_retweet_count\"], ascending=False).head(10))"
   ]
  },
  {
   "cell_type": "markdown",
   "metadata": {},
   "source": [
    "<span style=\"font-family:Papyrus; font-size:1.25em;\">\n",
    "\n",
    "According to this, we have a few original ReTweeted Tweets whose ReTweet counts are ridiculously high.<br>\n",
    "\n",
    "**TODO: Fix the Tweet ID output.**\n",
    "\n",
    "</span>"
   ]
  },
  {
   "cell_type": "code",
   "execution_count": 16,
   "metadata": {},
   "outputs": [
    {
     "name": "stdout",
     "output_type": "stream",
     "text": [
      "Retweet counts by company:\n",
      "   company_derived_designation  counts\n",
      "0                        adani  321565\n",
      "1                          bhp   26484\n",
      "2                       cuesta     154\n",
      "3                    fortescue    4262\n",
      "4                        iluka     494\n",
      "5                     multiple    4691\n",
      "6                      newmont     181\n",
      "7                    oilsearch     349\n",
      "8                     riotinto    9847\n",
      "9                       santos   64060\n",
      "10                  whitehaven    8208\n",
      "11                    woodside    5567\n",
      "\n",
      "Non Retweet counts by company:\n",
      "   company_derived_designation  counts\n",
      "0                        adani  109457\n",
      "1                          bhp   37863\n",
      "2                       cuesta     464\n",
      "3                    fortescue    7510\n",
      "4                        iluka    2589\n",
      "5                     multiple    3587\n",
      "6                      newmont     720\n",
      "7                    oilsearch    1207\n",
      "8                     riotinto   15652\n",
      "9                       santos   27948\n",
      "10                  whitehaven    6545\n",
      "11                    woodside    9965\n",
      "\n"
     ]
    }
   ],
   "source": [
    "    print(\"Retweet counts by company:\")\n",
    "    yes_by_company = \\\n",
    "        pd.DataFrame(yes_reweeted).groupby([\"company_derived_designation\"]).size().reset_index(name=\"counts\")\n",
    "    print(f\"{yes_by_company}\\n\")\n",
    "    print(\"Non Retweet counts by company:\")\n",
    "    no_by_company = \\\n",
    "        pd.DataFrame(no_reweeted).groupby([\"company_derived_designation\"]).size().reset_index(name=\"counts\")\n",
    "    print(f\"{no_by_company}\\n\")"
   ]
  },
  {
   "cell_type": "markdown",
   "metadata": {},
   "source": [
    "<span style=\"font-family:Papyrus; font-size:1.25em;\">\n",
    "\n",
    "Similar to the ReTweet count statistics provided at the beginning of this notebook file only separated between ReTweets and non-ReTweets into two separate groups according to associated company.<br>\n",
    "\n",
    "</span>"
   ]
  },
  {
   "cell_type": "code",
   "execution_count": null,
   "metadata": {},
   "outputs": [],
   "source": []
  }
 ],
 "metadata": {
  "kernelspec": {
   "display_name": "Python 3",
   "language": "python",
   "name": "python3"
  },
  "language_info": {
   "codemirror_mode": {
    "name": "ipython",
    "version": 3
   },
   "file_extension": ".py",
   "mimetype": "text/x-python",
   "name": "python",
   "nbconvert_exporter": "python",
   "pygments_lexer": "ipython3",
   "version": "3.6.8"
  },
  "pycharm": {
   "stem_cell": {
    "cell_type": "raw",
    "metadata": {
     "collapsed": false
    },
    "source": []
   }
  }
 },
 "nbformat": 4,
 "nbformat_minor": 1
}
