{
 "cells": [
  {
   "cell_type": "code",
   "execution_count": 0,
   "metadata": {
    "pycharm": {
     "is_executing": false
    }
   },
   "outputs": [],
   "source": []
  },
  {
   "cell_type": "markdown",
   "metadata": {
    "collapsed": true
   },
   "source": [
    "# SLO Twitter Data Analysis - Table of Contents\n",
    "\n",
    "## Joseph Jinn and Keith VanderLinden"
   ]
  },
  {
   "cell_type": "markdown",
   "metadata": {},
   "source": [
    "<span style=\"font-family:Papyrus; font-size:1.25em;\">\n",
    "    \n",
    "</p>This collection of Jupyter Notebook files provide an analysis of Twitter data obtained by CSIRO Data61 from a period of time covering 2012 through 2018.  The Twitter API was utilized to extract the raw Tweet data.  The sections below provides a short summary and hyperlinks to individual Jupyter Notebook files that provide further details on our analysis of different attributes and combinations of attributes in our Twitter Dataset.<br>\n",
    "\n",
    "</span>"
   ]
  },
  {
   "cell_type": "markdown",
   "metadata": {},
   "source": [
    "## Twitter API Introduction:"
   ]
  },
  {
   "cell_type": "markdown",
   "metadata": {},
   "source": [
    "<span style=\"font-family:Papyrus; font-size:1.25em;\">\n",
    "    \n",
    "This section provides an introduction to the various attributes present in the raw JSON data structure.<br>\n",
    "\n",
    "Currently, we have extracted the following fields in the Lists below and derived additional fields from them.  Anything with the \"derived\" prefix indicates a field we have derived from the native fields present in the JSON structure.  Anything with the \"tweet\" prefix indicates a renamed attribute that is present in the main Tweet object.  Anything with the \"user\" prefix is a nested attribute we have extracted from the \"user\" object in the main Tweet object of the JSON file structure.  Anything with the \"entities\" prefix is a nested attribute we have extracted from the \"entities\" object in the main Tweet object of the JSON file structure.  Anything with the \"retweeted_status\" prefix is a nested attribute we have extracted from the \"retweeted_status\" object in the main Tweet object of the JSON file structure.  Anything with the \"retweeted_status_user\" prefix is a nested atributes we have extracted from the \"user\" object in the \"retweeted_user\" sub-object present in the main Tweet object of the JSON file structure.<br>\n",
    "\n",
    "</span>"
   ]
  },
  {
   "cell_type": "code",
   "execution_count": null,
   "metadata": {},
   "outputs": [],
   "source": [
    "    # Original Tweet object attribute names present in raw JSON file.\n",
    "    original_tweet_object_field_names = [\n",
    "        'created_at', 'id', 'full_text', 'in_reply_to_status_id', 'in_reply_to_user_id',\n",
    "        'in_reply_to_screen_name', 'retweet_count', 'favorite_count', 'lang']\n",
    "\n",
    "    # Names to rename main Tweet object attributes.\n",
    "    tweet_object_fields = [\n",
    "        'tweet_created_at', 'tweet_id', 'tweet_full_text', 'tweet_in_reply_to_status_id',\n",
    "        'tweet_in_reply_to_user_id', 'tweet_in_reply_to_screen_name', 'tweet_retweet_count',\n",
    "        'tweet_favorite_count', 'tweet_lang']\n",
    "\n",
    "    # Names to give \"user\" object attributes.\n",
    "    user_object_fields = [\n",
    "        'user_id', 'user_name', 'user_screen_name', 'user_location', 'user_description',\n",
    "        'user_followers_count', 'user_friends_count', 'user_listed_count', 'user_favourites_count',\n",
    "        'user_statuses_count', 'user_created_at', 'user_time_zone', 'user_lang']\n",
    "\n",
    "    # Names to give \"entities\" object attributes.\n",
    "    entities_object_fields = [\n",
    "        \"tweet_entities_expanded_urls\", \"tweet_entities_hashtags\", \"tweet_entities_user_mentions_id\",\n",
    "        \"tweet_entities_user_mentions_name\", \"tweet_entities_user_mentions_screen_name\",\n",
    "        \"tweet_entities_symbols\"]\n",
    "\n",
    "    # Names to give \"retweeted_status\" object attributes.\n",
    "    retweeted_status_object_fields = [\n",
    "        'retweeted_status_created_at', 'retweeted_status_id', 'retweeted_status_full_text',\n",
    "        'retweeted_status_in_reply_to_status_id', 'retweeted_status_in_reply_to_user_id',\n",
    "        'retweeted_status_in_reply_to_screen_name', 'retweeted_status_retweet_count',\n",
    "        'retweeted_status_favorite_count', 'retweeted_status_lang',\n",
    "        'retweeted_status_entities',\n",
    "        'retweeted_status_user', 'retweeted_status_coordinates', 'retweeted_status_place']\n",
    "\n",
    "    # Names to give \"user\" object attributes.\n",
    "    retweeted_status_user_object_fields = [\n",
    "        'retweeted_status_user_id', 'retweeted_status_user_name', 'retweeted_status_user_screen_name',\n",
    "        'retweeted_status_user_location', 'retweeted_status_user_description', 'retweeted_status_user_followers_count',\n",
    "        'retweeted_status_user_friends_count', 'retweeted_status_user_listed_count',\n",
    "        'retweeted_status_user_favourites_count', 'retweeted_status_user_statuses_count',\n",
    "        'retweeted_status_user_created_at', 'retweeted_status_user_time_zone', 'retweeted_status_user_lang']\n",
    "\n",
    "    # Modify these to determine what to export to CSV.\n",
    "    required_fields = \\\n",
    "        ['retweeted_derived', 'company_derived', 'text_derived',  # \"tweet_quoted_status_id\",\n",
    "         'tweet_url_link_derived', 'multiple_companies_derived_count', \"company_derived_designation\",\n",
    "         'tweet_text_length_derived', \"spaCy_language_detect\",\n",
    "         \"user_description_text_length\"] + tweet_object_fields + user_object_fields + entities_object_fields + \\\n",
    "        retweeted_status_object_fields"
   ]
  },
  {
   "cell_type": "markdown",
   "metadata": {},
   "source": [
    "[Twitter API Introduction](slo-twitter-data-analysis-tweet-api-intro.ipynb#bookmark)"
   ]
  },
  {
   "cell_type": "markdown",
   "metadata": {},
   "source": [
    "## Codebase Introduction:"
   ]
  },
  {
   "cell_type": "markdown",
   "metadata": {},
   "source": [
    "<span style=\"font-family:Papyrus; font-size:1.25em;\">\n",
    "    \n",
    "This section provides an introduction to our data analysis codebase.<br>\n",
    "\n",
    "Please refer to the following files below for the actual codebase in its entirety:<br>\n",
    "\n",
    "* slo_twitter_data_analysis_v2.py<br>\n",
    "\n",
    "* slo_twitter_data_analysis_utility_functions_v2.py<br>\n",
    "\n",
    "* dataset_processor_adapted_v2.py<br>\n",
    "\n",
    "</span>"
   ]
  },
  {
   "cell_type": "markdown",
   "metadata": {},
   "source": [
    "\n",
    "[Codebase Introduction](slo-twitter-data-analysis-codebase-intro.ipynb#bookmark)"
   ]
  },
  {
   "cell_type": "markdown",
   "metadata": {},
   "source": [
    "## Single versus Multiple Company Associated Tweets Statistics and Analysis Summary:"
   ]
  },
  {
   "cell_type": "markdown",
   "metadata": {},
   "source": [
    "<span style=\"font-family:Papyrus; font-size:1.25em;\">\n",
    "    \n",
    "This section provides a simple analysis on a subset of our Twitter data for Tweets associated with single versus multiple companies.  As a result of this analysis, we have decided to include Tweets with multiple company associations as part of our analysis.  A few of them are not particularly useful as they are just stock market hashtags but the majority of them do provide some sort of stance or sentiment on SLO mining companies.<br>\n",
    "\n",
    "</span>"
   ]
  },
  {
   "cell_type": "markdown",
   "metadata": {},
   "source": [
    "\n",
    "[Single v. Multi Company Associated Tweets](slo-twitter-data-analysis-one-versus-multiple-companies-statistics.ipynb)"
   ]
  },
  {
   "cell_type": "markdown",
   "metadata": {},
   "source": [
    "## Time Series Statistics and Analysis Summary:"
   ]
  },
  {
   "cell_type": "markdown",
   "metadata": {},
   "source": [
    "<span style=\"font-family:Papyrus; font-size:1.25em;\">\n",
    "    \n",
    "Most Tweets in our dataset are associated with \"Adani\" and are in the 2017-2018 time period.  The Tweets for the other companies in our dataset are far less numerous.  Some companies show a even distribution across the years while others are skewed more towards the left (indicating they are older Tweets) or skewed more towards the right (indicating they are newer Tweets).<br>\n",
    "\n",
    "</span>"
   ]
  },
  {
   "cell_type": "markdown",
   "metadata": {},
   "source": [
    "[Time Series Statistics](slo-twitter-data-analysis-time-statistics.ipynb#bookmark)"
   ]
  },
  {
   "cell_type": "markdown",
   "metadata": {},
   "source": [
    "## Retweet Statistics and Analysis Summary:"
   ]
  },
  {
   "cell_type": "markdown",
   "metadata": {},
   "source": [
    "<span style=\"font-family:Papyrus; font-size:1.25em;\">\n",
    "    \n",
    "Most Tweets associated with \"Adani\" are ReTweets.  We see a more even distribution between ReTweets and non-ReTweets for the other companies.  Again, \"Adani\" Tweets heavily influence the distribution of our statistics and graphs.<br>\n",
    "\n",
    "</span>"
   ]
  },
  {
   "cell_type": "markdown",
   "metadata": {},
   "source": [
    "[Retweet Statistics](slo-twitter-data-analysis-retweet-statistics.ipynb#bookmark)"
   ]
  },
  {
   "cell_type": "markdown",
   "metadata": {},
   "source": [
    "## User (Tweet Author) Statistics and Analysis Summary:"
   ]
  },
  {
   "cell_type": "markdown",
   "metadata": {},
   "source": [
    "<span style=\"font-family:Papyrus; font-size:1.25em;\">\n",
    "    \n",
    "We have far fewer unique authors than we do total Tweets in the dataset.  From the stats, we see that the Twitter users that are actually news outlet or organizations are responsible for the majority of Tweets and ReTweets.<br>\n",
    "\n",
    "</span>"
   ]
  },
  {
   "cell_type": "markdown",
   "metadata": {},
   "source": [
    "[User (Tweet Author) Statistics](slo-twitter-data-analysis-user-statistics.ipynb#bookmark)"
   ]
  },
  {
   "cell_type": "markdown",
   "metadata": {},
   "source": [
    "## Character Count Statistics and Analysis Summary:"
   ]
  },
  {
   "cell_type": "markdown",
   "metadata": {},
   "source": [
    "<span style=\"font-family:Papyrus; font-size:1.25em;\">\n",
    "    \n",
    "Most Tweets are under 300 characters long but many are over 140 characters long.  We surmise this is because our \"dataset_processor_adapted_v2.py\" dataset creator adds the full ReTweeted text to the \"text_derived\" field we derive for our dataset.  It is also possible there are encoding issues for foreign Tweets.  Further analysis is necessary.<br>\n",
    "\n",
    "</span>"
   ]
  },
  {
   "cell_type": "markdown",
   "metadata": {},
   "source": [
    "[Character Count Statistics](slo-twitter-data-analysis-character-statistics.ipynb#bookmark)"
   ]
  },
  {
   "cell_type": "markdown",
   "metadata": {},
   "source": [
    "## #Hashtag Statistics and Analysis Summary:"
   ]
  },
  {
   "cell_type": "markdown",
   "metadata": {},
   "source": [
    "<span style=\"font-family:Papyrus; font-size:1.25em;\">\n",
    "\n",
    "40% of \"Adani\" Tweets do not have any hashtags while the rest have at least one hashtag.  These Tweets comprise most of our dataset so this should be significantly representative of the dataset as a whole.  As for the other companies, a not insignificant portion of their Tweets do not have any hashtags.<br>\n",
    "\n",
    "**TODO: Attempt to get remainder of Shuntaro's code for this section functional.**\n",
    "\n",
    "</span>"
   ]
  },
  {
   "cell_type": "markdown",
   "metadata": {},
   "source": [
    "[Hashtags Statistics](slo-twitter-data-analysis-hashtag-statistics.ipynb#bookmark)"
   ]
  },
  {
   "cell_type": "markdown",
   "metadata": {},
   "source": [
    "## @User Mentions Statistics and Analysis Summary:"
   ]
  },
  {
   "cell_type": "markdown",
   "metadata": {},
   "source": [
    "<span style=\"font-family:Papyrus; font-size:1.25em;\">\n",
    "    \n",
    "Placeholder.\n",
    "\n",
    "**TODO: Check associated code for correctness.**\n",
    "\n",
    "**FIXME: weird output.**\n",
    "\n",
    "</span>"
   ]
  },
  {
   "cell_type": "markdown",
   "metadata": {},
   "source": [
    "[User Mentions Statistics](slo-twitter-data-analysis-mentions-statistics.ipynb#bookmark)"
   ]
  },
  {
   "cell_type": "markdown",
   "metadata": {},
   "source": [
    "## Tweet Language Statistics and Analysis Summary:"
   ]
  },
  {
   "cell_type": "markdown",
   "metadata": {},
   "source": [
    "<span style=\"font-family:Papyrus; font-size:1.25em;\">\n",
    "    \n",
    "The \"spaCy-langdetect\" library does a decent job of identifying the language of the Tweet text in comparison to the Twitter API.  However, it is inferior to using \"textblob\", another Python library, which uses the Google Translate API to perform language detection.  Unfortunately, the Google Translate is no longer free and is now a paid service.  Thus, we are forced to find free alternatives.  In the future, we may also use the \"polyglot\" library for Tweet text language detection if we can get it working on our Windows workstation or a Linux workstation.<br>\n",
    "\n",
    "**TODO - finish implementing.**\n",
    "\n",
    "</span>"
   ]
  },
  {
   "cell_type": "markdown",
   "metadata": {},
   "source": [
    "[Language Statistics](slo-twitter-data-analysis-language-statistics.ipynb#bookmark)"
   ]
  },
  {
   "cell_type": "markdown",
   "metadata": {},
   "source": [
    "## Pandas.describe() + Nan/Non-NaN Values Statistics and Analysis Summary:"
   ]
  },
  {
   "cell_type": "markdown",
   "metadata": {},
   "source": [
    "<span style=\"font-family:Papyrus; font-size:1.25em;\">\n",
    "    \n",
    "**TODO: Refactor into just the attributes we are interested and move them to the relevant Jupyter Notebook Files covering them.**<br>\n",
    "\n",
    "</span>"
   ]
  },
  {
   "cell_type": "markdown",
   "metadata": {},
   "source": [
    "[Pandas.describe() + Nan/Non-NaN Statistics](slo-twitter-data-analysis-other-statistics.ipynb#bookmark)"
   ]
  },
  {
   "cell_type": "markdown",
   "metadata": {},
   "source": [
    "## Resources Used:"
   ]
  },
  {
   "cell_type": "markdown",
   "metadata": {},
   "source": [
    "<span style=\"font-family:Papyrus; font-size:1.25em;\">\n",
    "\n",
    "**TODO: convert to annotated bibliography**\n",
    "\n",
    "Dataset Files (obtained from Borg supercomputer):<br>\n",
    "\n",
    "dataset_slo_20100101-20180510.json<br>\n",
    "dataset_20100101-20180510.csv<br>\n",
    "\n",
    "Note: These are large files not included in the project GitHub Repository.<br>\n",
    "\n",
    "\n",
    "- [SLO-analysis.ipynb](SLO-analysis.ipynb)<br>\n",
    "    -original SLO Twitter data analysis file from Shuntaro Yada.<br>\n",
    "\n",
    "\n",
    "- https://developer.twitter.com/en/docs/tweets/data-dictionary/overview/intro-to-tweet-json<br>\n",
    "    -explanation of all data fields in JSON file format for Tweets.<br>\n",
    "\n",
    "\n",
    "- https://datatofish.com/export-dataframe-to-csv/<br>\n",
    "- https://datatofish.com/export-pandas-dataframe-json/<br>\n",
    "    -saving Pandas dataframe to CSV/JSON<br>\n",
    "    \n",
    "\n",
    "- https://pandas.pydata.org/pandas-docs/stable/reference/api/pandas.to_datetime.html<br>\n",
    "    -Pandas to_datetime() function call.<br>\n",
    "    \n",
    "\n",
    "- https://www.machinelearningplus.com/plots/matplotlib-tutorial-complete-guide-python-plot-examples/<br>\n",
    "    -plotting with matplotlib.<br>\n",
    "\n",
    "\n",
    "- https://stackoverflow.com/questions/49566007/jupyter-multiple-notebooks-using-same-data<br>\n",
    "     \n",
    "- https://stackoverflow.com/questions/16966280/reusing-code-from-different-ipython-notebooks<br>\n",
    "    -sharing kernels and code across multiple Jupyter notebook files<br>\n",
    "     \n",
    " \n",
    "- https://stackoverflow.com/questions/32370281/how-to-embed-image-or-picture-in-jupyter-notebook-either-from-a-local-machine-o\n",
    "    -displaying embedded images<br>\n",
    "    \n",
    "    \n",
    "</span>"
   ]
  },
  {
   "cell_type": "code",
   "execution_count": null,
   "metadata": {},
   "outputs": [],
   "source": []
  }
 ],
 "metadata": {
  "kernelspec": {
   "display_name": "Python 3",
   "language": "python",
   "name": "python3"
  },
  "language_info": {
   "codemirror_mode": {
    "name": "ipython",
    "version": 3
   },
   "file_extension": ".py",
   "mimetype": "text/x-python",
   "name": "python",
   "nbconvert_exporter": "python",
   "pygments_lexer": "ipython3",
   "version": "3.6.8"
  },
  "pycharm": {
   "stem_cell": {
    "cell_type": "raw",
    "metadata": {
     "collapsed": false
    },
    "source": []
   }
  }
 },
 "nbformat": 4,
 "nbformat_minor": 1
}
