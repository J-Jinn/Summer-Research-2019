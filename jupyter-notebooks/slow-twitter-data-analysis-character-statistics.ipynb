{
 "cells": [
  {
   "cell_type": "code",
   "execution_count": null,
   "metadata": {
    "collapsed": true
   },
   "outputs": [],
   "source": []
  },
  {
   "cell_type": "markdown",
   "source": [
    "### Character Count Statistics for Twitter dataset:"
   ],
   "metadata": {
    "collapsed": false
   }
  },
  {
   "cell_type": "markdown",
   "source": [
    "<span style=\"font-family:Papyrus; font-size:1.25em;\">\n",
    "\n",
    "This function provides character counts for all the Tweets associated with a given company.  We visualize this statistic by plotting a relative frequency histogram of those counts for the CSV dataset.<br>\n",
    "\n",
    "</span>"
   ],
   "metadata": {
    "collapsed": false
   }
  },
  {
   "cell_type": "code",
   "execution_count": null,
   "outputs": [],
   "source": [
    "def tweet_character_counts(tweet_dataframe):\n",
    "    \"\"\"\n",
    "    Character count for Tweet text by associated company related statistics and visualizations.\n",
    "\n",
    "    Note: The raw JSON file does not have associated \"company\" information.\n",
    "\n",
    "    :param tweet_dataframe: the Twitter dataset in a Pandas dataframe.\n",
    "    :return: None.\n",
    "    \"\"\"\n",
    "    # Select only rows with one associated company. (don't graph company combos)\n",
    "    single_company_only_df = tweet_dataframe.loc[tweet_dataframe['multiple_companies_derived_count'] == 1]\n",
    "\n",
    "    print(\"Character Count Statistics of Tweet Text for CSV dataset by Company: \")\n",
    "    print(\"Character Count Relative Frequency Histogram: \")\n",
    "    plt.figure()\n",
    "    grid = sns.FacetGrid(tweet_dataframe[['text_derived', 'company_derived_designation']],\n",
    "                         col='company_derived_designation', col_wrap=6,\n",
    "                         ylim=(0, 1))\n",
    "    grid.map_dataframe(tweet_util.relhist_proc, 'text_derived', bins=10, proc=tweet_util.char_len).set_titles(\n",
    "        '{col_name}').set_xlabels(\"# of Characters\").set_ylabels(\"Percentage of all Tweets\")\n",
    "    plt.show()\n",
    "    \n",
    "    print(\"Character Count Statistics of User Description Text for CSV dataset by Company: \")\n",
    "    print(\"Character Count Relative Frequency Histogram: \")\n",
    "    plt.figure()\n",
    "    grid = sns.FacetGrid(tweet_dataframe[['user_description', 'company_derived_designation']],\n",
    "                         col='company_derived_designation', col_wrap=6,\n",
    "                         ylim=(0, 1))\n",
    "    grid.map_dataframe(tweet_util.relhist_proc, 'user_description', bins=10, proc=tweet_util.char_len).set_titles(\n",
    "        '{col_name}').set_xlabels(\"# of Characters\").set_ylabels(\"Percentage of all Tweets\")\n",
    "    plt.show()"
   ],
   "metadata": {
    "collapsed": false,
    "pycharm": {
     "name": "#%%\n"
    }
   }
  },
  {
   "cell_type": "markdown",
   "source": [
    "<span style=\"font-family:Papyrus; font-size:1.25em;\">\n",
    "\n",
    "We call out data analysis function and pass in the CSV dataset imported into a Pandas dataframe per usual.<br>\n",
    "\n",
    "</span>"
   ],
   "metadata": {
    "collapsed": false
   }
  },
  {
   "cell_type": "code",
   "execution_count": null,
   "outputs": [],
   "source": [
    "    # Determine the # of characters in Tweets via relative frequency histogram.\n",
    "    tweet_character_counts(tweet_csv_dataframe)"
   ],
   "metadata": {
    "collapsed": false,
    "pycharm": {
     "name": "#%%\n"
    }
   }
  },
  {
   "cell_type": "markdown",
   "source": [
    "<span style=\"font-family:Papyrus; font-size:1.25em;\">\n",
    "\n",
    "The graph outputs appear to show that most Tweets for any given company are relatively long in length.<br>\n",
    "\n",
    "TODO - see if foreign (non-English) Tweets are responsible for extremely long Tweets due to encoding isdsues.<br>\n",
    "\n",
    "</span>"
   ],
   "metadata": {
    "collapsed": false
   }
  },
  {
   "cell_type": "code",
   "execution_count": null,
   "outputs": [],
   "source": [
    "    character_length = 140\n",
    "    long_tweets = tweet_csv_dataframe.loc[tweet_csv_dataframe[\"tweet_text_length_derived\"] > character_length]\n",
    "    print(f\"The number of Tweets over {character_length} is {long_tweets.shape[0]}\")\n",
    "\n",
    "    long_description = tweet_csv_dataframe.loc[tweet_csv_dataframe[\"user_description_text_length\"] > character_length]\n",
    "    print(f\"The number of user descriptions over {character_length} is {long_description.shape[0]}\")"
   ],
   "metadata": {
    "collapsed": false,
    "pycharm": {
     "name": "#%%\n"
    }
   }
  },
  {
   "cell_type": "markdown",
   "source": [
    "<span style=\"font-family:Papyrus; font-size:1.25em;\">\n",
    "    \n",
    "**TODO: refactor into function in data analysis file**\n",
    "\n",
    "</span>"
   ],
   "metadata": {
    "collapsed": false
   }
  },
  {
   "cell_type": "markdown",
   "source": [
    "### Hashtag Statistics for Twitter dataset:"
   ],
   "metadata": {
    "collapsed": false
   }
  },
  {
   "cell_type": "markdown",
   "source": [
    "<span style=\"font-family:Papyrus; font-size:1.25em;\">\n",
    "\n",
    "This funciton computes hashtag statistics.\n",
    "\n",
    "</span>"
   ],
   "metadata": {
    "collapsed": false
   }
  },
  {
   "cell_type": "code",
   "execution_count": null,
   "outputs": [],
   "source": [
    "def hashtags(tweet_dataframe):\n",
    "    \"\"\"\n",
    "    Hashtag related statistics and visualizations.\n",
    "\n",
    "    :param tweet_dataframe: the Twitter dataset in a dataframe.\n",
    "    :return: None.\n",
    "\n",
    "    FIXME - graphs function; text stats non-functional (TypeError: 'float' object is not iterable)\n",
    "    \"\"\"\n",
    "    # Select only rows with one associated company. (don't graph company combos)\n",
    "    single_company_only_df = tweet_dataframe.loc[tweet_dataframe['multiple_companies_derived_count'] == 1]\n",
    "\n",
    "    # the number of hashtags within tweets\n",
    "    print(f\"The Number of Hashtags within Tweets:\")\n",
    "    tweet_dataframe['#hashtags'] = single_company_only_df['tweet_entities_hashtags'].apply(\n",
    "        lambda x: len(x) if x is not None and not isinstance(x, float) else 0)\n",
    "    # companies = df['company']\n",
    "\n",
    "    plt.figure()\n",
    "    grid = sns.FacetGrid(tweet_dataframe[['#hashtags', 'company_derived_designation']],\n",
    "                         col='company_derived_designation', col_wrap=6,\n",
    "                         ylim=(0, 1),\n",
    "                         xlim=(-1, 10))\n",
    "    grid.map_dataframe(tweet_util.bar_plot, '#hashtags').set_titles('{col_name}') \\\n",
    "        .set_xlabels(\"# of Hashtags\").set_ylabels(\"Percentage of All Tweets?\")\n",
    "    plt.show()\n",
    "\n",
    "    # # top hashtags\n",
    "    # single_company_only_df[['company_derived', 'tweet_entities_hashtags']].groupby('company_derived') \\\n",
    "    #     .apply(lambda x: pd.Series([hashtag\n",
    "    #                                 for hashtags in x['tweet_entities_hashtags'] if hashtags is not None\n",
    "    #                                 for hashtag in hashtags]) \\\n",
    "    #            .value_counts(normalize=True) \\\n",
    "    #            .head())\n",
    "    #\n",
    "    # # top hashtags, lower-cased\n",
    "    # single_company_only_df[['company_derived', 'tweet_entities_hashtags']].groupby('company_derived') \\\n",
    "    #     .apply(lambda x: pd.Series([hashtag.lower()\n",
    "    #                                 for hashtags in x['tweet_entities_hashtags'] if hashtags is not None\n",
    "    #                                 for hashtag in hashtags]) \\\n",
    "    #            .value_counts(normalize=True) \\\n",
    "    #            .head())"
   ],
   "metadata": {
    "collapsed": false,
    "pycharm": {
     "name": "#%%\n"
    }
   }
  },
  {
   "cell_type": "markdown",
   "source": [
    "<span style=\"font-family:Papyrus; font-size:1.25em;\">\n",
    "\n",
    "Call the data analysis function.  We limit outselves to rows in our dataframe where Tweets are only associated with a single company.<br>\n",
    "\n",
    "</span>"
   ],
   "metadata": {
    "collapsed": false
   }
  },
  {
   "cell_type": "code",
   "execution_count": null,
   "outputs": [],
   "source": [
    "    # Hashtag Statistics.\n",
    "    hashtags(tweet_csv_dataframe)"
   ],
   "metadata": {
    "collapsed": false,
    "pycharm": {
     "name": "#%%\n"
    }
   }
  },
  {
   "cell_type": "markdown",
   "source": [
    "<span style=\"font-family:Papyrus; font-size:1.25em;\">\n",
    "\n",
    "TODO - understand what the output is producing.<br>\n",
    "\n",
    "</span>"
   ],
   "metadata": {
    "collapsed": false
   }
  },
  {
   "cell_type": "markdown",
   "source": [
    "### Mentions Statistics for Twitter dataset:"
   ],
   "metadata": {
    "collapsed": false
   }
  },
  {
   "cell_type": "markdown",
   "source": [
    "<span style=\"font-family:Papyrus; font-size:1.25em;\">\n",
    "\n",
    "This function computes user mentions statistics.<br>\n",
    "\n",
    "</span>"
   ],
   "metadata": {
    "collapsed": false
   }
  },
  {
   "cell_type": "code",
   "execution_count": null,
   "outputs": [],
   "source": [
    "def mentions(tweet_dataframe):\n",
    "    \"\"\"\n",
    "    Mentions related statistics and visualizations.\n",
    "\n",
    "    :param tweet_dataframe: the Twitter dataset in a dataframe.\n",
    "    :return: None.\n",
    "    \"\"\"\n",
    "    # Select only rows with one associated company. (don't graph company combos)\n",
    "    single_company_only_df = tweet_dataframe.loc[tweet_dataframe['multiple_companies_derived_count'] == 1]\n",
    "\n",
    "    print(f\"tweet_entities_user_mentions_id count divided by length of tweet_dataframe\")\n",
    "    print(tweet_dataframe['tweet_entities_user_mentions_id'].count() / len(tweet_dataframe))\n",
    "\n",
    "    print(f\"tweet_in_reply_to_status_id count divided by length of tweet_dataframe\")\n",
    "    print(tweet_dataframe['tweet_in_reply_to_status_id'].count() / len(tweet_dataframe))\n",
    "\n",
    "    # the number of mentions within tweets\n",
    "    print(f\"\\nThe number of Mentions within the Tweets:\")\n",
    "    tweet_dataframe['#mentions'] = tweet_dataframe['tweet_entities_user_mentions_id']. \\\n",
    "        apply(lambda x: len(x) if isinstance(x, list) else 0)\n",
    "\n",
    "    plt.figure()\n",
    "    grid = sns.FacetGrid(tweet_dataframe[['#mentions', 'company_derived_designation']],\n",
    "                         col='company_derived_designation', col_wrap=6,\n",
    "                         ylim=(0, 1),\n",
    "                         xlim=(-1, 10))\n",
    "    grid.map_dataframe(tweet_util.bar_plot, '#mentions').set_titles('{col_name}') \\\n",
    "        .set_xlabels(\"Number of Mentions\").set_ylabels(\"Percentage of All Tweets?\")\n",
    "    plt.show()\n",
    "\n",
    "    # top mentions\n",
    "    print(f\"Top (Most) Mentions for a Company by User Mentions ID\")\n",
    "    print(\n",
    "        tweet_dataframe[['company_derived_designation', 'tweet_entities_user_mentions_id']].groupby(\n",
    "            'company_derived_designation') \\\n",
    "            .apply(lambda x: pd.Series([mention\n",
    "                                        for mentions in x['tweet_entities_user_mentions_id'] if mentions is not None\n",
    "                                        for mention in mentions]) \\\n",
    "                   .value_counts(normalize=True) \\\n",
    "                   .head()))"
   ],
   "metadata": {
    "collapsed": false,
    "pycharm": {
     "name": "#%%\n"
    }
   }
  },
  {
   "cell_type": "markdown",
   "source": [
    "<span style=\"font-family:Papyrus; font-size:1.25em;\">\n",
    "\n",
    "Call the data analysis function.  We limit outselves to rows in our dataframe where Tweets are only associated with a single company.<br>\n",
    "\n",
    "</span>"
   ],
   "metadata": {
    "collapsed": false
   }
  },
  {
   "cell_type": "code",
   "execution_count": null,
   "outputs": [],
   "source": [
    "    # Mentions Statistics.\n",
    "    mentions(tweet_csv_dataframe)"
   ],
   "metadata": {
    "collapsed": false,
    "pycharm": {
     "name": "#%%\n"
    }
   }
  },
  {
   "cell_type": "markdown",
   "source": [
    "<span style=\"font-family:Papyrus; font-size:1.25em;\">\n",
    "\n",
    "TODO - understand what the output is producing.<br>\n",
    "\n",
    "</span>"
   ],
   "metadata": {
    "collapsed": false
   }
  },
  {
   "cell_type": "markdown",
   "source": [
    "## Resources Used:"
   ],
   "metadata": {
    "collapsed": false
   }
  },
  {
   "cell_type": "markdown",
   "source": [
    "<span style=\"font-family:Papyrus; font-size:1.25em;\">\n",
    "\n",
    "**TODO: convert to annotated bibliography**\n",
    "\n",
    "Dataset Files (obtained from Borg supercomputer):<br>\n",
    "\n",
    "dataset_slo_20100101-20180510.json<br>\n",
    "dataset_20100101-20180510.csv<br>\n",
    "\n",
    "Note: These are large fiels not included in the project GitHub Repository.<br>\n",
    "\n",
    "\n",
    "- [SLO-analysis.ipynb](SLO-analysis.ipynb)<br>\n",
    "    -original SLO Twitter data analysis file from Shuntaro Yada.<br>\n",
    "\n",
    "\n",
    "- https://developer.twitter.com/en/docs/tweets/data-dictionary/overview/intro-to-tweet-json<br>\n",
    "    -explanation of all data fields in JSON file format for Tweets.<br>\n",
    "\n",
    "\n",
    "- https://datatofish.com/export-dataframe-to-csv/<br>\n",
    "- https://datatofish.com/export-pandas-dataframe-json/<br>\n",
    "    -saving Pandas dataframe to CSV/JSON<br>\n",
    "    \n",
    "\n",
    "- https://pandas.pydata.org/pandas-docs/stable/reference/api/pandas.to_datetime.html<br>\n",
    "    -Pandas to_datetime() function call.<br>\n",
    "    \n",
    "\n",
    "- https://www.machinelearningplus.com/plots/matplotlib-tutorial-complete-guide-python-plot-examples/<br>\n",
    "    -plotting with matplotlib.<br>\n",
    "\n",
    "\n",
    "</span>"
   ],
   "metadata": {
    "collapsed": false
   }
  },
  {
   "cell_type": "markdown",
   "source": [
    "## TODO's:"
   ],
   "metadata": {
    "collapsed": false
   }
  },
  {
   "cell_type": "markdown",
   "source": [
    "<span style=\"font-family:Papyrus; font-size:1.25em;\">\n",
    "\n",
    "Implement further elements from Shuntaro Yada's SLO Twitter Dataset Analysis.<br>\n",
    "\n",
    "</span>"
   ],
   "metadata": {
    "collapsed": false
   }
  },
  {
   "cell_type": "code",
   "execution_count": null,
   "outputs": [],
   "source": [],
   "metadata": {
    "collapsed": false,
    "pycharm": {
     "name": "#%%\n"
    }
   }
  }
 ],
 "metadata": {
  "language_info": {
   "codemirror_mode": {
    "name": "ipython",
    "version": 2
   },
   "file_extension": ".py",
   "mimetype": "text/x-python",
   "name": "python",
   "nbconvert_exporter": "python",
   "pygments_lexer": "ipython2",
   "version": "2.7.6"
  },
  "kernelspec": {
   "name": "python3",
   "language": "python",
   "display_name": "Python 3"
  },
  "pycharm": {
   "stem_cell": {
    "cell_type": "raw",
    "source": [],
    "metadata": {
     "collapsed": false
    }
   }
  }
 },
 "nbformat": 4,
 "nbformat_minor": 0
}