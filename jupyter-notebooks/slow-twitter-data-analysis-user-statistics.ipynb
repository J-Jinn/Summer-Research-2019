{
 "cells": [
  {
   "cell_type": "code",
   "execution_count": null,
   "metadata": {
    "collapsed": true
   },
   "outputs": [],
   "source": []
  },
  {
   "cell_type": "markdown",
   "source": [
    "### User Statistics for Twitter dataset:"
   ],
   "metadata": {
    "collapsed": false
   }
  },
  {
   "cell_type": "markdown",
   "source": [
    "<span style=\"font-family:Papyrus; font-size:1.25em;\">\n",
    "\n",
    "This function computes statistics related to user screen-names.  Refer to the code comments in the cell below for specifics.<br>\n",
    "\n",
    "</span>"
   ],
   "metadata": {
    "collapsed": false
   }
  },
  {
   "cell_type": "code",
   "execution_count": null,
   "outputs": [],
   "source": [
    "def user_screen_name_statistics(tweet_dataframe):\n",
    "    \"\"\"\n",
    "    User screen-name by associated company related statistics and visualizations.\n",
    "\n",
    "    Note: The raw JSON file does not have associated \"company\" information.\n",
    "\n",
    "    :param tweet_dataframe: the Twitter dataset in a Pandas dataframe.\n",
    "    :return: None.\n",
    "    \"\"\"\n",
    "    # Increased limit in order to display all 5 users for all companies and combinations of companies.\n",
    "    pd.options.display.max_rows = 1000\n",
    "\n",
    "    # Select only rows with one associated company. (don't graph company combos)\n",
    "    single_company_only_df = tweet_dataframe.loc[tweet_dataframe['multiple_companies_derived_count'] == 1]\n",
    "\n",
    "    print(\"User Statistics for CSV dataset by Company: \")\n",
    "    print(\"Top Tweet counts for Unique User by Associated Company.\")\n",
    "    print(\n",
    "        tweet_dataframe[['company_derived_designation', 'user_screen_name']].groupby('company_derived_designation')\n",
    "            .apply(lambda x: x['user_screen_name'].value_counts(normalize=True).head())\n",
    "        # .value_counts(normalize=True)\\\n",
    "        # .sort_index(ascending=False).head())\n",
    "    )\n",
    "    print()\n",
    "\n",
    "    # Graph the User Statistics.\n",
    "    print(\"Number of Times a Percentage of Users Appears as Tweet Author for a Given Company: \")\n",
    "    plt.figure()\n",
    "    grid = sns.FacetGrid(tweet_dataframe[['user_screen_name', 'company_derived_designation']],\n",
    "                         col='company_derived_designation',\n",
    "                         col_wrap=6,\n",
    "                         ylim=(0, 1),\n",
    "                         xlim=(0, 10))\n",
    "    grid.map_dataframe(tweet_util.bar_plot_zipf, 'user_screen_name').set_titles('{col_name}').set_xlabels(\n",
    "        'Appearance (Tweet author) Count').set_ylabels(\"Percentage of all Users\")\n",
    "    plt.show()"
   ],
   "metadata": {
    "collapsed": false,
    "pycharm": {
     "name": "#%%\n"
    }
   }
  },
  {
   "cell_type": "markdown",
   "source": [
    "<span style=\"font-family:Papyrus; font-size:1.25em;\">\n",
    "\n",
    "Similar to the graphs above, we only graph Tweets associated with a single company.  Otherwise, the output would be lengthy from graphing all the Tweets that are associated with multiple combinations of companies.<br>\n",
    "\n",
    "</span>"
   ],
   "metadata": {
    "collapsed": false
   }
  },
  {
   "cell_type": "code",
   "execution_count": null,
   "outputs": [],
   "source": [
    "    # Determine the Tweet count for most prolific user by company.\n",
    "    user_screen_name_statistics(tweet_csv_dataframe)"
   ],
   "metadata": {
    "collapsed": false,
    "pycharm": {
     "name": "#%%\n"
    }
   }
  },
  {
   "cell_type": "markdown",
   "source": [
    "<span style=\"font-family:Papyrus; font-size:1.25em;\">\n",
    "\n",
    "The text stats show unique users that accounted for most of the Tweets associated with a given company.<br>\n",
    "\n",
    "The graphs show the number of times a percentage of all the unique users associated with a given company was the author of a Tweet associated with that company.  For example, a y-axis value of 0.4 and a x-axis value of 4 would indicate that 40% of all users associated with that given company was the author of 4 Tweets associated with that company.<br>\n",
    "\n",
    "</span>"
   ],
   "metadata": {
    "collapsed": false
   }
  },
  {
   "cell_type": "markdown",
   "source": [
    "### Unique Users (Authors):"
   ],
   "metadata": {
    "collapsed": false
   }
  },
  {
   "cell_type": "markdown",
   "source": [
    "<span style=\"font-family:Papyrus; font-size:1.25em;\">\n",
    "\n",
    "Displays all the unique user screennames in our dataset for Tweets.<br>\n",
    "\n",
    "</span>"
   ],
   "metadata": {
    "collapsed": false
   }
  },
  {
   "cell_type": "code",
   "execution_count": null,
   "outputs": [],
   "source": [
    "def unique_authors_tweet_counts(tweet_dataframe):\n",
    "    \"\"\"\n",
    "    This function provides statistics on all unique authors and their Tweet post counts in the dataset.\n",
    "\n",
    "    :param tweet_dataframe: Tweet dataframe.\n",
    "    :return: None.\n",
    "\n",
    "    TODO - implement graph of distribution of unique authors.\n",
    "    \"\"\"\n",
    "    author_series = pd.Series(tweet_dataframe[\"user_screen_name\"])\n",
    "    print(\"All Unique Authors by User Screen Name and their Tweet Post Count:\")\n",
    "    print(author_series.value_counts(sort=True, ascending=False))"
   ],
   "metadata": {
    "collapsed": false,
    "pycharm": {
     "name": "#%%\n"
    }
   }
  },
  {
   "cell_type": "markdown",
   "source": [
    "<span style=\"font-family:Papyrus; font-size:1.25em;\">\n",
    "\n",
    "Function uses \"value_counts\" Pandas built-in method.<br>\n",
    "\n",
    "</span>"
   ],
   "metadata": {
    "collapsed": false
   }
  },
  {
   "cell_type": "code",
   "execution_count": null,
   "outputs": [],
   "source": [
    "    # List all unique authors (user) and their Tweet counts.\n",
    "    unique_authors_tweet_counts(tweet_csv_dataframe)"
   ],
   "metadata": {
    "collapsed": false,
    "pycharm": {
     "name": "#%%\n"
    }
   }
  },
  {
   "cell_type": "markdown",
   "source": [
    "<span style=\"font-family:Papyrus; font-size:1.25em;\">\n",
    "    \n",
    "**TODO: visualize distribution and explain results**    \n",
    "\n",
    "</span>"
   ],
   "metadata": {
    "collapsed": false
   }
  },
  {
   "cell_type": "markdown",
   "source": [
    "## Resources Used:"
   ],
   "metadata": {
    "collapsed": false
   }
  },
  {
   "cell_type": "markdown",
   "source": [
    "<span style=\"font-family:Papyrus; font-size:1.25em;\">\n",
    "\n",
    "**TODO: convert to annotated bibliography**\n",
    "\n",
    "Dataset Files (obtained from Borg supercomputer):<br>\n",
    "\n",
    "dataset_slo_20100101-20180510.json<br>\n",
    "dataset_20100101-20180510.csv<br>\n",
    "\n",
    "Note: These are large fiels not included in the project GitHub Repository.<br>\n",
    "\n",
    "\n",
    "- [SLO-analysis.ipynb](SLO-analysis.ipynb)<br>\n",
    "    -original SLO Twitter data analysis file from Shuntaro Yada.<br>\n",
    "\n",
    "\n",
    "- https://developer.twitter.com/en/docs/tweets/data-dictionary/overview/intro-to-tweet-json<br>\n",
    "    -explanation of all data fields in JSON file format for Tweets.<br>\n",
    "\n",
    "\n",
    "- https://datatofish.com/export-dataframe-to-csv/<br>\n",
    "- https://datatofish.com/export-pandas-dataframe-json/<br>\n",
    "    -saving Pandas dataframe to CSV/JSON<br>\n",
    "    \n",
    "\n",
    "- https://pandas.pydata.org/pandas-docs/stable/reference/api/pandas.to_datetime.html<br>\n",
    "    -Pandas to_datetime() function call.<br>\n",
    "    \n",
    "\n",
    "- https://www.machinelearningplus.com/plots/matplotlib-tutorial-complete-guide-python-plot-examples/<br>\n",
    "    -plotting with matplotlib.<br>\n",
    "\n",
    "\n",
    "</span>"
   ],
   "metadata": {
    "collapsed": false
   }
  },
  {
   "cell_type": "markdown",
   "source": [
    "## TODO's:"
   ],
   "metadata": {
    "collapsed": false
   }
  },
  {
   "cell_type": "markdown",
   "source": [
    "<span style=\"font-family:Papyrus; font-size:1.25em;\">\n",
    "\n",
    "Implement further elements from Shuntaro Yada's SLO Twitter Dataset Analysis.<br>\n",
    "\n",
    "</span>"
   ],
   "metadata": {
    "collapsed": false
   }
  },
  {
   "cell_type": "code",
   "execution_count": null,
   "outputs": [],
   "source": [],
   "metadata": {
    "collapsed": false,
    "pycharm": {
     "name": "#%%\n"
    }
   }
  }
 ],
 "metadata": {
  "language_info": {
   "codemirror_mode": {
    "name": "ipython",
    "version": 2
   },
   "file_extension": ".py",
   "mimetype": "text/x-python",
   "name": "python",
   "nbconvert_exporter": "python",
   "pygments_lexer": "ipython2",
   "version": "2.7.6"
  },
  "kernelspec": {
   "name": "python3",
   "language": "python",
   "display_name": "Python 3"
  },
  "pycharm": {
   "stem_cell": {
    "cell_type": "raw",
    "source": [],
    "metadata": {
     "collapsed": false
    }
   }
  }
 },
 "nbformat": 4,
 "nbformat_minor": 0
}