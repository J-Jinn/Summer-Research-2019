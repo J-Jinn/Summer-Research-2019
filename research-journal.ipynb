{
 "cells": [
  {
   "cell_type": "markdown",
   "metadata": {
    "collapsed": true,
    "pycharm": {
     "is_executing": false
    }
   },
   "source": [
    "# Research Journal (SLO Topic Modeling)\n",
    "\n",
    "<br>\n",
    "\n",
    "### Author: Joseph Jinn"
   ]
  },
  {
   "cell_type": "markdown",
   "metadata": {},
   "source": [
    "## May 29, 2019"
   ]
  },
  {
   "cell_type": "markdown",
   "metadata": {},
   "source": [
    "<span style=\"font-family:Papyrus; font-size:1.5em;\">\n",
    "\n",
    "Project Trello Board: https://trello.com/b/tXM2NIgT/slo-stance\n",
    "<br>\n",
    "\n",
    "</span>"
   ]
  },
  {
   "cell_type": "markdown",
   "metadata": {},
   "source": [
    "<span style=\"font-family:Papyrus; font-size:1.25em;\">\n",
    "    \n",
    "Watched Calvin College Senior Project Presentations 2019 on SLO Topic Modeling and SLO Monitoring (stance analysis).\n",
    "\n",
    "Watched short promotional videos on Luminoso Daylight and Compass.\n",
    "\n",
    "Going through blogs and other tutorials on the basic concept behind LDA's.\n",
    "\n",
    "TODO - implement Scikit-Learn LDA example(s).\n",
    "  \n",
    "</span>"
   ]
  },
  {
   "cell_type": "markdown",
   "metadata": {},
   "source": [
    "<span style=\"font-family:Papyrus; font-size:1.25em;\">\n",
    "    \n",
    "URL: https://medium.com/@lettier/how-does-lda-work-ill-explain-using-emoji-108abf40fa7d\n",
    "\n",
    "Alpha - controls the mixture of topics for any given document.\n",
    "\n",
    "Beta - the distribution of words per topic.\n",
    "\n",
    "Values are typically set below one.\n",
    "\n",
    "Composites - documents.\n",
    "\n",
    "Parts - individual items to be considered for each composite.\n",
    "\n",
    "Topics - categories that determine what each part belongs to.\n",
    "\n",
    "Choose # of topics < # of documents to reduce dimensionality for further analysis using other algorithms.\n",
    "\n",
    "Phi - the parts versus the topics matrix (or topics versus parts matrix)\n",
    "\n",
    "Theta - the composites versus topics matrix.\n",
    "\n",
    "Iterations - # of times to run the LDA.\n",
    "\n",
    "Start by randomly assigning a topic to each part.\n",
    "\n",
    "Use Gibbs sampling algorithm for the iteration.\n",
    "\n",
    "Generate Phi and Theta values/matrices.\n",
    "\n",
    "</span>"
   ]
  },
  {
   "cell_type": "markdown",
   "metadata": {},
   "source": [
    "## May 30, 2019"
   ]
  },
  {
   "cell_type": "code",
   "execution_count": 0,
   "metadata": {
    "pycharm": {
     "is_executing": false
    }
   },
   "outputs": [],
   "source": []
  }
 ],
 "metadata": {
  "kernelspec": {
   "display_name": "Python 3",
   "language": "python",
   "name": "python3"
  },
  "language_info": {
   "codemirror_mode": {
    "name": "ipython",
    "version": 3
   },
   "file_extension": ".py",
   "mimetype": "text/x-python",
   "name": "python",
   "nbconvert_exporter": "python",
   "pygments_lexer": "ipython3",
   "version": "3.6.8"
  }
 },
 "nbformat": 4,
 "nbformat_minor": 1
}
